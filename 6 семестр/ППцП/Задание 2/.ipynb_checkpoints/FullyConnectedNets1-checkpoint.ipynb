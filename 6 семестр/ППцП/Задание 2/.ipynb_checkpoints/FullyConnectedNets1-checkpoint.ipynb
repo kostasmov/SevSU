{
 "cells": [
  {
   "cell_type": "markdown",
   "metadata": {},
   "source": [
    "# Полносвязанные нейронные сети\n",
    "В предыдущем задании вы реализовали полносвязанную двухслойную нейронную сеть. Реализация была простой, но не модульной, поскольку потери и градиент вычислялись в одной монолитной функции. Это допустимо для простой двухслойной сети, но не практично, если необходимо реализовать более крупные сети. В идеале мы хотим создавать сети с использованием  модульного подхода, чтобы можно было изолировать отдельные типы слоев, а затем объединять их в модели с разными архитектурами.\n",
    "\n",
    "В этом задании необходимо реализовать полносвязанные сети, используя  модульный подход. Для каждого слоя мы реализуем функции прямого `forward` и обратного `backward` распространения. Функция `forward` будет принимать входные даные, веса и другие параметры и будет возвращать как выходные значения, так и кэшированные значения, сохраняющие данные слоев, необходимые для выполнения обратного распространения, например:\n",
    "\n",
    "```\n",
    "def layer_forward(x, w):\n",
    "  \"\"\" Принимает на вход x и веса w \"\"\"\n",
    "  # Некоторые вычисления ...\n",
    "  z = # ... внутренние значения\n",
    "  # Дополнительные вычисления ...\n",
    "  out = # выход\n",
    "   \n",
    "  cache = (x, w, z, out) # Значения, которые нужны для вычисления градиентов\n",
    "    \n",
    "  return out, cache\n",
    "```\n",
    "\n",
    "Функция обратного распостранения будет получать восходящие производные и объект `cache` и будет возвращать градиенты по отношению ко входам и весам, например:\n",
    "\n",
    "```\n",
    "def layer_backward(dout, cache):\n",
    "  \"\"\"\n",
    "  Принимает dout (производная функции потерь по выходу) и кеш cache,\n",
    "  и вычисляет производные по отношению ко входам.\n",
    "  \"\"\"\n",
    "  # Извлечение значений из кэша\n",
    "  x, w, z, out = cache\n",
    "  \n",
    "  # Используем значения из кэша для вычисления производных\n",
    "  dx = # Производная потерь по x\n",
    "  dw = # Производная потерь по w\n",
    "  \n",
    "  return dx, dw\n",
    "```\n",
    "После реализации слоев расмотреным способом мы сможем легко объединять их для создания классификаторов с разными архитектурами.\n",
    "\n",
    "В дополнение к реализации полносвязанных сетей произвольной глубины мы также изучим различные правила обновления (для оптимизации), регуляризацию Dropout, нормализацию на блоке/ слое в качестве инструмента для более эффективной оптимизации глубоких сетей.  "
   ]
  },
  {
   "cell_type": "code",
   "execution_count": 2,
   "metadata": {},
   "outputs": [
    {
     "name": "stdout",
     "output_type": "stream",
     "text": [
      "The autoreload extension is already loaded. To reload it, use:\n",
      "  %reload_ext autoreload\n"
     ]
    }
   ],
   "source": [
    "# Выполните начальные установки блокнота.\n",
    "# Внимание! Блокнот работает в версии Python 3.6!\n",
    "\n",
    "from __future__ import print_function\n",
    "import time\n",
    "import numpy as np\n",
    "import matplotlib.pyplot as plt\n",
    "from dlcv.classifiers.fc_net import *\n",
    "from dlcv.data_utils import get_CIFAR10_data\n",
    "from dlcv.gradient_check import eval_numerical_gradient, eval_numerical_gradient_array\n",
    "from dlcv.solver import Solver\n",
    "\n",
    "%matplotlib inline\n",
    "plt.rcParams['figure.figsize'] = (10.0, 8.0) # установка размеров графиков по умолчанию\n",
    "plt.rcParams['image.interpolation'] = 'nearest'\n",
    "plt.rcParams['image.cmap'] = 'gray'\n",
    "\n",
    "# Для перезагрузки внешних модулей python;\n",
    "# см. http://stackoverflow.com/questions/1907993/autoreload-of-modules-in-ipython\n",
    "%load_ext autoreload\n",
    "%autoreload 2\n",
    "\n",
    "def rel_error(x, y):\n",
    "  \"\"\" возвращает относительную ошибку \"\"\"\n",
    "  return np.max(np.abs(x - y) / (np.maximum(1e-8, np.abs(x) + np.abs(y))))"
   ]
  },
  {
   "cell_type": "code",
   "execution_count": 3,
   "metadata": {},
   "outputs": [
    {
     "name": "stdout",
     "output_type": "stream",
     "text": [
      "('X_train: ', (49000, 3, 32, 32))\n",
      "('y_train: ', (49000,))\n",
      "('X_val: ', (1000, 3, 32, 32))\n",
      "('y_val: ', (1000,))\n",
      "('X_test: ', (1000, 3, 32, 32))\n",
      "('y_test: ', (1000,))\n"
     ]
    }
   ],
   "source": [
    "# Загрузка и предобработка данных CIFAR10\n",
    "\n",
    "data = get_CIFAR10_data()\n",
    "for k, v in list(data.items()):\n",
    "    print(('%s: ' % k, v.shape))"
   ]
  },
  {
   "cell_type": "markdown",
   "metadata": {},
   "source": [
    "# Афинный слой: прямое распространение\n",
    "Откройте файл `dlcv/layers.py` и реализуйте функцию `affine_forward`.\n",
    "\n",
    "Когда Вы реализуете эту функцию, Вы можете протестировать  реализацию, выполнив следующие действия:"
   ]
  },
  {
   "cell_type": "code",
   "execution_count": 4,
   "metadata": {},
   "outputs": [
    {
     "name": "stdout",
     "output_type": "stream",
     "text": [
      "Тестирование функции affine_forward:\n",
      "Относительная ошибка:  9.769849468192957e-10\n"
     ]
    }
   ],
   "source": [
    "# Тестирование функции affine_forward\n",
    "\n",
    "num_inputs = 2\n",
    "input_shape = (4, 5, 6)\n",
    "output_dim = 3\n",
    "\n",
    "input_size = num_inputs * np.prod(input_shape)\n",
    "weight_size = output_dim * np.prod(input_shape)\n",
    "\n",
    "x = np.linspace(-0.1, 0.5, num=input_size).reshape(num_inputs, *input_shape)\n",
    "w = np.linspace(-0.2, 0.3, num=weight_size).reshape(np.prod(input_shape), output_dim)\n",
    "b = np.linspace(-0.3, 0.1, num=output_dim)\n",
    "\n",
    "out, _ = affine_forward(x, w, b)\n",
    "correct_out = np.array([[ 1.49834967,  1.70660132,  1.91485297],\n",
    "                        [ 3.25553199,  3.5141327,   3.77273342]])\n",
    "\n",
    "# Сравните выход вашей функции с требуемым. Ошибка должна быть около e-9\n",
    "print('Тестирование функции affine_forward:')\n",
    "print('Относительная ошибка: ', rel_error(out, correct_out))"
   ]
  },
  {
   "cell_type": "markdown",
   "metadata": {},
   "source": [
    "# Аффинный слой: обратное распространение\n",
    "Теперь реализуем функцию `affine_backward`  в файле `dlcv/layers.py` и протестируем реализацию, выполнив сопоставление с численным градиентом."
   ]
  },
  {
   "cell_type": "code",
   "execution_count": 5,
   "metadata": {},
   "outputs": [
    {
     "name": "stdout",
     "output_type": "stream",
     "text": [
      "Тестирование функции affine_backward:\n",
      "Ошибка dx:  5.399100368651805e-11\n",
      "Ошибка dw:  9.904211865398145e-11\n",
      "Ошибка db:  2.4122867568119087e-11\n"
     ]
    }
   ],
   "source": [
    "# Тест функции affine_backward \n",
    "np.random.seed(231)\n",
    "x = np.random.randn(10, 2, 3)\n",
    "w = np.random.randn(6, 5)\n",
    "b = np.random.randn(5)\n",
    "dout = np.random.randn(10, 5)\n",
    "\n",
    "dx_num = eval_numerical_gradient_array(lambda x: affine_forward(x, w, b)[0], x, dout)\n",
    "dw_num = eval_numerical_gradient_array(lambda w: affine_forward(x, w, b)[0], w, dout)\n",
    "db_num = eval_numerical_gradient_array(lambda b: affine_forward(x, w, b)[0], b, dout)\n",
    "\n",
    "_, cache = affine_forward(x, w, b)\n",
    "dx, dw, db = affine_backward(dout, cache)\n",
    "\n",
    "# Ошибка должна быть примерно на уровне e-10 или меньше\n",
    "print('Тестирование функции affine_backward:')\n",
    "print('Ошибка dx: ', rel_error(dx_num, dx))\n",
    "print('Ошибка dw: ', rel_error(dw_num, dw))\n",
    "print('Ошибка db: ', rel_error(db_num, db))"
   ]
  },
  {
   "cell_type": "markdown",
   "metadata": {},
   "source": [
    "# Активационная функция ReLU: прямой  путь\n",
    "Реализуйте прямое распространение для  ReLU нелинейности в виде функции `relu_forward`в файле `dlcv/layers.py` и протестируйте реализацию, используя код:"
   ]
  },
  {
   "cell_type": "code",
   "execution_count": 6,
   "metadata": {},
   "outputs": [
    {
     "name": "stdout",
     "output_type": "stream",
     "text": [
      "Тестирование функции relu_forward:\n",
      "Относительная ошибка:  4.999999798022158e-08\n"
     ]
    }
   ],
   "source": [
    "# Тест функции relu_forward\n",
    "\n",
    "x = np.linspace(-0.5, 0.5, num=12).reshape(3, 4)\n",
    "\n",
    "out, _ = relu_forward(x)\n",
    "correct_out = np.array([[ 0.,          0.,          0.,          0.,        ],\n",
    "                        [ 0.,          0.,          0.04545455,  0.13636364,],\n",
    "                        [ 0.22727273,  0.31818182,  0.40909091,  0.5,       ]])\n",
    "\n",
    "# Сравните выход функции с требуемым. Ошибка должна быть порядка e-8\n",
    "print('Тестирование функции relu_forward:')\n",
    "print('Относительная ошибка: ', rel_error(out, correct_out))"
   ]
  },
  {
   "cell_type": "markdown",
   "metadata": {},
   "source": [
    "# Активационная функция ReLU: обратный путь\n",
    "Теперь реализуем обратное рапсространение для  ReLU нелинейности в виде функции `relu_backward`  в файле `dlcv/layers.py`и проверим  реализацию с помощью  численного градиента:"
   ]
  },
  {
   "cell_type": "code",
   "execution_count": 7,
   "metadata": {},
   "outputs": [
    {
     "name": "stdout",
     "output_type": "stream",
     "text": [
      "Тестирование функции relu_backward:\n",
      "Ошибка dx:  3.2756349136310288e-12\n"
     ]
    }
   ],
   "source": [
    "np.random.seed(231)\n",
    "x = np.random.randn(10, 10)\n",
    "dout = np.random.randn(*x.shape)\n",
    "\n",
    "dx_num = eval_numerical_gradient_array(lambda x: relu_forward(x)[0], x, dout)\n",
    "\n",
    "_, cache = relu_forward(x)\n",
    "dx = relu_backward(dout, cache)\n",
    "\n",
    "# Ошибка должна быть порядка e-12\n",
    "print('Тестирование функции relu_backward:')\n",
    "print('Ошибка dx: ', rel_error(dx_num, dx))"
   ]
  },
  {
   "cell_type": "markdown",
   "metadata": {},
   "source": [
    "## Вопрос 1: \n",
    "Мы просили Вас реализовать ReLU, но есть множество других функций активации, которые можно использовать в нейронных сетях, каждая из которых имеет свои плюсы и минусы. В частности, проблема, обычно встречающаяся с активационными функциями, - это получение нулевого (или близкого к нулю) градиентного потока во время обратного распространения. Для какой из следующих функций активации характерна эта проблема? Если мы рассматриваем эти функции как одномерные, то какие входные значения приведут к такому поведению?\n",
    "1. Сигмоида\n",
    "2. ReLU\n",
    "3. ReLU с утечкой"
   ]
  },
  {
   "cell_type": "markdown",
   "metadata": {},
   "source": [
    "## Ответ:\n",
    "[Отвечайте здесь]"
   ]
  },
  {
   "cell_type": "markdown",
   "metadata": {},
   "source": [
    "# \"Сэндвич\" слои\n",
    "Существуют некоторые общие шаблоны слоев, которые часто используются в нейронных сетях. Например, аффинные слои часто сопровождаются нелинейностью ReLU. Чтобы упростить решение \n",
    "задач, мы определили несколько удобных слоев в файле `dlcv/layer_utils.py`.\n",
    "\n",
    "Просмотрите функции `affine_relu_forward` и` affine_relu_backward` и выполните их проверку, используя численные вычисления  градиента:"
   ]
  },
  {
   "cell_type": "code",
   "execution_count": 8,
   "metadata": {},
   "outputs": [
    {
     "name": "stdout",
     "output_type": "stream",
     "text": [
      "Тестирование функций affine_relu_forward и  affine_relu_backward:\n",
      "ошибка dx:  2.2995909845854045e-11\n",
      "ошибка dw:  8.162011105764925e-11\n",
      "ошибка db:  7.826724021458994e-12\n"
     ]
    }
   ],
   "source": [
    "from dlcv.layer_utils import affine_relu_forward, affine_relu_backward \n",
    "np.random.seed(231)\n",
    "x = np.random.randn(2, 3, 4)\n",
    "w = np.random.randn(12, 10)\n",
    "b = np.random.randn(10)\n",
    "dout = np.random.randn(2, 10)\n",
    "\n",
    "out, cache = affine_relu_forward(x, w, b)\n",
    "dx, dw, db = affine_relu_backward(dout, cache)\n",
    "\n",
    "dx_num = eval_numerical_gradient_array(lambda x: affine_relu_forward(x, w, b)[0], x, dout)\n",
    "dw_num = eval_numerical_gradient_array(lambda w: affine_relu_forward(x, w, b)[0], w, dout)\n",
    "db_num = eval_numerical_gradient_array(lambda b: affine_relu_forward(x, w, b)[0], b, dout)\n",
    "\n",
    "# Относительная погрешность должна быть примерно на уровне e-10 или меньше\n",
    "print('Тестирование функций affine_relu_forward и  affine_relu_backward:')\n",
    "print('ошибка dx: ', rel_error(dx_num, dx))\n",
    "print('ошибка dw: ', rel_error(dw_num, dw))\n",
    "print('ошибка db: ', rel_error(db_num, db))"
   ]
  },
  {
   "cell_type": "markdown",
   "metadata": {},
   "source": [
    "# Слои функций потерь: Softmax и SVM\n",
    "Вы ранее реализовали эти функции в предыдущих заданиях, поэтому здесь  мы просто предоставим готовый код этих для этих функций. Тем не менее, вы все равно должны убедиться, что понимаете, как они работают, просмотрев реализации в `dlcv/layers.py`.\n",
    "\n",
    "Вы должны убедиться, что реализации верны, выполнив следующие действия:"
   ]
  },
  {
   "cell_type": "code",
   "execution_count": 9,
   "metadata": {},
   "outputs": [
    {
     "name": "stdout",
     "output_type": "stream",
     "text": [
      "Тестирование svm_loss:\n",
      "Потери:  8.999602749096233\n",
      "Ошибка dx:  1.4021566006651672e-09\n",
      "\n",
      "Тестирование softmax_loss:\n",
      "Потери:  2.302545844500738\n",
      "Ошибка dx:  9.384673161989355e-09\n"
     ]
    }
   ],
   "source": [
    "np.random.seed(231)\n",
    "num_classes, num_inputs = 10, 50\n",
    "x = 0.001 * np.random.randn(num_inputs, num_classes)\n",
    "y = np.random.randint(num_classes, size=num_inputs)\n",
    "\n",
    "dx_num = eval_numerical_gradient(lambda x: svm_loss(x, y)[0], x, verbose=False)\n",
    "loss, dx = svm_loss(x, y)\n",
    "\n",
    "# Тест функции svm_loss. Значение потерь должны быть около 9, ошибка dx - порядка e-9\n",
    "print('Тестирование svm_loss:')\n",
    "print('Потери: ', loss)\n",
    "print('Ошибка dx: ', rel_error(dx_num, dx))\n",
    "\n",
    "dx_num = eval_numerical_gradient(lambda x: softmax_loss(x, y)[0], x, verbose=False)\n",
    "loss, dx = softmax_loss(x, y)\n",
    "\n",
    "# Тест функции softmax_loss.Значение потерь должно быть близко 2.3, ошибка dx - порядка e-8\n",
    "print('\\nТестирование softmax_loss:')\n",
    "print('Потери: ', loss)\n",
    "print('Ошибка dx: ', rel_error(dx_num, dx))"
   ]
  },
  {
   "cell_type": "markdown",
   "metadata": {},
   "source": [
    "# Двухслойная сеть\n",
    "В предыдущем задании вы реализовали двухслойную нейронную сеть в одном монолитном классе. Теперь, когда Вы реализовали модульные версии необходимых слоев, необходимо переопределить двухслойную сеть, используя модульную реализацию.\n",
    "\n",
    "Откройте файл `dlcv/classifiers/fc_net.py` и завершите реализацию класса `TwoLayerNet`. Этот класс будет служить моделью для других сетей, которые вы реализуете в этом задании.  Выполните ячейку ниже, чтобы протестировать вашу реализацию."
   ]
  },
  {
   "cell_type": "code",
   "execution_count": 10,
   "metadata": {},
   "outputs": [
    {
     "name": "stdout",
     "output_type": "stream",
     "text": [
      "Инициализация тестирования ... \n",
      "Тестирование прямого распространения ... \n",
      "Тестирование потерь на этапе обучения (без регуляризации)\n",
      "Вычисление численного градиента с регуляризацией reg =  0.0\n",
      "W1 Относительная ошибка: 1.52e-08\n",
      "W2 Относительная ошибка: 3.21e-10\n",
      "b1 Относительная ошибка: 8.37e-09\n",
      "b2 Относительная ошибка: 4.33e-10\n",
      "Вычисление численного градиента с регуляризацией reg =  0.7\n",
      "W1 Относительная ошибка: 2.53e-07\n",
      "W2 Относительная ошибка: 2.85e-08\n",
      "b1 Относительная ошибка: 1.56e-08\n",
      "b2 Относительная ошибка: 7.76e-10\n"
     ]
    }
   ],
   "source": [
    "np.random.seed(231)\n",
    "N, D, H, C = 3, 5, 50, 7\n",
    "X = np.random.randn(N, D)\n",
    "y = np.random.randint(C, size=N)\n",
    "\n",
    "std = 1e-3\n",
    "model = TwoLayerNet(input_dim=D, hidden_dim=H, num_classes=C, weight_scale=std)\n",
    "\n",
    "print('Инициализация тестирования ... ')\n",
    "W1_std = abs(model.params['W1'].std() - std)\n",
    "b1 = model.params['b1']\n",
    "W2_std = abs(model.params['W2'].std() - std)\n",
    "b2 = model.params['b2']\n",
    "assert W1_std < std / 10, 'Веса первого слоя возможно неправильные'\n",
    "assert np.all(b1 == 0), 'Смещения первого слоя возможно неправильные'\n",
    "assert W2_std < std / 10, 'Веса второго слоя возможно неправильные'\n",
    "assert np.all(b2 == 0), 'Смещения второго слоя возможно неправильные'\n",
    "\n",
    "print('Тестирование прямого распространения ... ')\n",
    "model.params['W1'] = np.linspace(-0.7, 0.3, num=D*H).reshape(D, H)\n",
    "model.params['b1'] = np.linspace(-0.1, 0.9, num=H)\n",
    "model.params['W2'] = np.linspace(-0.3, 0.4, num=H*C).reshape(H, C)\n",
    "model.params['b2'] = np.linspace(-0.9, 0.1, num=C)\n",
    "X = np.linspace(-5.5, 4.5, num=N*D).reshape(D, N).T\n",
    "scores = model.loss(X)\n",
    "correct_scores = np.asarray(\n",
    "  [[11.53165108,  12.2917344,   13.05181771,  13.81190102,  14.57198434, 15.33206765,  16.09215096],\n",
    "   [12.05769098,  12.74614105,  13.43459113,  14.1230412,   14.81149128, 15.49994135,  16.18839143],\n",
    "   [12.58373087,  13.20054771,  13.81736455,  14.43418138,  15.05099822, 15.66781506,  16.2846319 ]])\n",
    "scores_diff = np.abs(scores - correct_scores).sum()\n",
    "assert scores_diff < 1e-6, 'Проблема со значениями scores при прямом распространении'\n",
    "\n",
    "print('Тестирование потерь на этапе обучения (без регуляризации)')\n",
    "y = np.asarray([0, 5, 1])\n",
    "loss, grads = model.loss(X, y)\n",
    "correct_loss = 3.4702243556\n",
    "assert abs(loss - correct_loss) < 1e-10, 'Проблемы со значениями потерь при прямом распространении'\n",
    "\n",
    "model.reg = 1.0\n",
    "loss, grads = model.loss(X, y)\n",
    "correct_loss = 26.5948426952\n",
    "assert abs(loss - correct_loss) < 1e-10, 'Проблемы со значениями потерь с регуляризацией  при прямом распространении'\n",
    "\n",
    "# Ошибки должны быть около e-7 или менее\n",
    "for reg in [0.0, 0.7]:\n",
    "  print('Вычисление численного градиента с регуляризацией reg = ', reg)\n",
    "  model.reg = reg\n",
    "  loss, grads = model.loss(X, y)\n",
    "\n",
    "  for name in sorted(grads):\n",
    "    f = lambda _: model.loss(X, y)[0]\n",
    "    grad_num = eval_numerical_gradient(f, model.params[name], verbose=False)\n",
    "    print('%s Относительная ошибка: %.2e' % (name, rel_error(grad_num, grads[name])))"
   ]
  },
  {
   "cell_type": "markdown",
   "metadata": {},
   "source": [
    "# Решатель\n",
    "В предыдущем задании операторы обучения моделей были включены непосредственно в саму модель. Следуя модульному подходу, в этом задании мы выделим операторы обучения моделей в отдельный класс.\n",
    "\n",
    "Откройте файл `dlcv/solver.py` и прочитайте его, чтобы ознакомиться с API. После этого используйте экземпляр объекта `Solver` для обучения объекта 2-х слойной сети `TwoLayerNet`, которая достигает точности не менее 50% на валидационном множестве."
   ]
  },
  {
   "cell_type": "code",
   "execution_count": 11,
   "metadata": {},
   "outputs": [
    {
     "name": "stdout",
     "output_type": "stream",
     "text": [
      "(Итерация 1 / 2940) потери: 2.304060\n",
      "(Эпоха 0 / 6) точность обучения: 0.116000; валидационная точность: 0.094000\n",
      "(Итерация 101 / 2940) потери: 1.829613\n",
      "(Итерация 201 / 2940) потери: 1.857390\n",
      "(Итерация 301 / 2940) потери: 1.744448\n",
      "(Итерация 401 / 2940) потери: 1.420187\n",
      "(Эпоха 1 / 6) точность обучения: 0.407000; валидационная точность: 0.422000\n",
      "(Итерация 501 / 2940) потери: 1.565913\n",
      "(Итерация 601 / 2940) потери: 1.700510\n",
      "(Итерация 701 / 2940) потери: 1.732213\n",
      "(Итерация 801 / 2940) потери: 1.688361\n",
      "(Итерация 901 / 2940) потери: 1.439529\n",
      "(Эпоха 2 / 6) точность обучения: 0.497000; валидационная точность: 0.468000\n",
      "(Итерация 1001 / 2940) потери: 1.385772\n",
      "(Итерация 1101 / 2940) потери: 1.278401\n",
      "(Итерация 1201 / 2940) потери: 1.641580\n",
      "(Итерация 1301 / 2940) потери: 1.438847\n",
      "(Итерация 1401 / 2940) потери: 1.172536\n",
      "(Эпоха 3 / 6) точность обучения: 0.490000; валидационная точность: 0.466000\n",
      "(Итерация 1501 / 2940) потери: 1.346286\n",
      "(Итерация 1601 / 2940) потери: 1.268492\n",
      "(Итерация 1701 / 2940) потери: 1.318215\n",
      "(Итерация 1801 / 2940) потери: 1.395750\n",
      "(Итерация 1901 / 2940) потери: 1.338233\n",
      "(Эпоха 4 / 6) точность обучения: 0.532000; валидационная точность: 0.497000\n",
      "(Итерация 2001 / 2940) потери: 1.343165\n",
      "(Итерация 2101 / 2940) потери: 1.393173\n",
      "(Итерация 2201 / 2940) потери: 1.276734\n",
      "(Итерация 2301 / 2940) потери: 1.287951\n",
      "(Итерация 2401 / 2940) потери: 1.352778\n",
      "(Эпоха 5 / 6) точность обучения: 0.525000; валидационная точность: 0.475000\n",
      "(Итерация 2501 / 2940) потери: 1.390234\n",
      "(Итерация 2601 / 2940) потери: 1.276361\n",
      "(Итерация 2701 / 2940) потери: 1.111768\n",
      "(Итерация 2801 / 2940) потери: 1.271688\n",
      "(Итерация 2901 / 2940) потери: 1.272039\n",
      "(Эпоха 6 / 6) точность обучения: 0.546000; валидационная точность: 0.509000\n"
     ]
    }
   ],
   "source": [
    "model = TwoLayerNet()\n",
    "solver = None\n",
    "\n",
    "##############################################################################\n",
    "# ЗАДАНИЕ: используйте экземпляр Solver для обучения TwoLayerNet,            #\n",
    "# которая достигает как минимум  50% точности на мно-ве валидации.           #\n",
    "##############################################################################\n",
    "solver = Solver(model, data,\n",
    "                    update_rule='sgd',\n",
    "                    optim_config={\n",
    "                      'learning_rate': 1e-3,\n",
    "                    },\n",
    "                    lr_decay=0.95,\n",
    "                    num_epochs=6, batch_size=100,\n",
    "                    print_every=100)\n",
    "solver.train()\n",
    "pass\n",
    "##############################################################################\n",
    "#                             КОНЕЦ ВАШЕГО КОДА                              #\n",
    "##############################################################################"
   ]
  },
  {
   "cell_type": "code",
   "execution_count": 12,
   "metadata": {},
   "outputs": [
    {
     "data": {
      "image/png": "[encoded data removed]",
      "text/plain": [
       "<Figure size 1080x864 with 2 Axes>"
      ]
     },
     "metadata": {
      "needs_background": "light"
     },
     "output_type": "display_data"
    }
   ],
   "source": [
    "# Выполните эту ячейку, чтобы визуализировать потери обучения и точности\n",
    "\n",
    "plt.subplot(2, 1, 1)\n",
    "plt.title('Потери обучения')\n",
    "plt.plot(solver.loss_history, 'o')\n",
    "plt.xlabel('Итерации')\n",
    "\n",
    "plt.subplot(2, 1, 2)\n",
    "plt.title('Точность')\n",
    "plt.plot(solver.train_acc_history, '-o', label='обучение')\n",
    "plt.plot(solver.val_acc_history, '-o', label='валидация')\n",
    "plt.plot([0.5] * len(solver.val_acc_history), 'k--')\n",
    "plt.xlabel('Эпохи')\n",
    "plt.legend(loc='lower right')\n",
    "plt.gcf().set_size_inches(15, 12)\n",
    "plt.show()"
   ]
  },
  {
   "cell_type": "markdown",
   "metadata": {},
   "source": [
    "# Многослойная сеть\n",
    "Теперь реализуем полносвязанную сеть с произвольным количеством скрытых слоев.\n",
    "\n",
    "Просмотрите класс `FullyConnectedNet` в файле `dlcv/classifiers/fc_net.py`.\n",
    "\n",
    "Реализуйте инициализацию, прямой и обратный пути. На данный момент не беспокойтесь о реализации dropout или нормализации на блоке/слое; мы добавим эти функции позже. \n"
   ]
  },
  {
   "cell_type": "markdown",
   "metadata": {},
   "source": [
    "## Начальные потери и проверка градиента #"
   ]
  },
  {
   "cell_type": "markdown",
   "metadata": {},
   "source": [
    "В качестве проверки работоспособности оцените начальные потери и значения градиентов как с регуляризацией, так и без нее. Выглядят ли первоначальные потери обоснованными?\n",
    "\n",
    "В ходе проверки значений градиентов ошибки должны быть примерно 1е-7 или меньше."
   ]
  },
  {
   "cell_type": "code",
   "execution_count": 13,
   "metadata": {},
   "outputs": [
    {
     "name": "stdout",
     "output_type": "stream",
     "text": [
      "Выполнение проверки с reg =  0\n",
      "Начальные потери:  2.3004790897684924\n",
      "W1 относительная ошибка: 1.48e-07\n",
      "W2 относительная ошибка: 2.21e-05\n",
      "W3 относительная ошибка: 3.53e-07\n",
      "b1 относительная ошибка: 5.38e-09\n",
      "b2 относительная ошибка: 2.09e-09\n",
      "b3 относительная ошибка: 5.80e-11\n",
      "Выполнение проверки с reg =  3.14\n",
      "Начальные потери:  7.052114776533016\n",
      "W1 относительная ошибка: 3.90e-09\n",
      "W2 относительная ошибка: 6.87e-08\n",
      "W3 относительная ошибка: 2.13e-08\n",
      "b1 относительная ошибка: 1.48e-08\n",
      "b2 относительная ошибка: 1.72e-09\n",
      "b3 относительная ошибка: 1.57e-10\n"
     ]
    }
   ],
   "source": [
    "np.random.seed(231)\n",
    "N, D, H1, H2, C = 2, 15, 20, 30, 10\n",
    "X = np.random.randn(N, D)\n",
    "y = np.random.randint(C, size=(N,))\n",
    "\n",
    "for reg in [0, 3.14]:\n",
    "  print('Выполнение проверки с reg = ', reg)\n",
    "  model = FullyConnectedNet([H1, H2], input_dim=D, num_classes=C,\n",
    "                            reg=reg, weight_scale=5e-2, dtype=np.float64)\n",
    "\n",
    "  loss, grads = model.loss(X, y)\n",
    "  print('Начальные потери: ', loss)\n",
    "  \n",
    "  # Большинство ошибок должно быть порядка e-7 или меньше.\n",
    "  # ПРИМЕЧАНИЕ: Допустима, однако,  ошибка для W2 порядка e-5\n",
    "  # при reg = 0.0\n",
    "  for name in sorted(grads):\n",
    "    f = lambda _: model.loss(X, y)[0]\n",
    "    grad_num = eval_numerical_gradient(f, model.params[name], verbose=False, h=1e-5)\n",
    "    print('%s относительная ошибка: %.2e' % (name, rel_error(grad_num, grads[name])))"
   ]
  },
  {
   "cell_type": "markdown",
   "metadata": {},
   "source": [
    "В качестве дополнительной проверки работоспособности убедитесь, что на небольшом наборе данных из 50 изображений происходит переобучение. Сначала мы испытаем трехслойную сеть со 100 нейронами в каждом скрытом слое. В следующей ячейке подберите скорость обучения и масштаб инициализирующих значений для достижения 100% точности в ходе обучения на 20 эпохах."
   ]
  },
  {
   "cell_type": "code",
   "execution_count": 20,
   "metadata": {
    "scrolled": false
   },
   "outputs": [
    {
     "name": "stdout",
     "output_type": "stream",
     "text": [
      "(Итерация 1 / 40) потери: 2.307416\n",
      "(Эпоха 0 / 20) точность обучения: 0.340000; валидационная точность: 0.136000\n",
      "(Эпоха 1 / 20) точность обучения: 0.300000; валидационная точность: 0.130000\n",
      "(Эпоха 2 / 20) точность обучения: 0.500000; валидационная точность: 0.157000\n",
      "(Эпоха 3 / 20) точность обучения: 0.520000; валидационная точность: 0.105000\n",
      "(Эпоха 4 / 20) точность обучения: 0.680000; валидационная точность: 0.179000\n",
      "(Эпоха 5 / 20) точность обучения: 0.660000; валидационная точность: 0.161000\n",
      "(Итерация 11 / 40) потери: 1.202709\n",
      "(Эпоха 6 / 20) точность обучения: 0.720000; валидационная точность: 0.168000\n",
      "(Эпоха 7 / 20) точность обучения: 0.820000; валидационная точность: 0.207000\n",
      "(Эпоха 8 / 20) точность обучения: 0.900000; валидационная точность: 0.192000\n",
      "(Эпоха 9 / 20) точность обучения: 0.940000; валидационная точность: 0.193000\n",
      "(Эпоха 10 / 20) точность обучения: 0.900000; валидационная точность: 0.181000\n",
      "(Итерация 21 / 40) потери: 0.246541\n",
      "(Эпоха 11 / 20) точность обучения: 0.900000; валидационная точность: 0.175000\n",
      "(Эпоха 12 / 20) точность обучения: 0.920000; валидационная точность: 0.179000\n",
      "(Эпоха 13 / 20) точность обучения: 0.980000; валидационная точность: 0.191000\n",
      "(Эпоха 14 / 20) точность обучения: 1.000000; валидационная точность: 0.198000\n",
      "(Эпоха 15 / 20) точность обучения: 1.000000; валидационная точность: 0.199000\n",
      "(Итерация 31 / 40) потери: 0.031916\n",
      "(Эпоха 16 / 20) точность обучения: 1.000000; валидационная точность: 0.202000\n",
      "(Эпоха 17 / 20) точность обучения: 1.000000; валидационная точность: 0.206000\n",
      "(Эпоха 18 / 20) точность обучения: 1.000000; валидационная точность: 0.192000\n",
      "(Эпоха 19 / 20) точность обучения: 1.000000; валидационная точность: 0.205000\n",
      "(Эпоха 20 / 20) точность обучения: 1.000000; валидационная точность: 0.210000\n"
     ]
    },
    {
     "data": {
      "image/png": "[encoded data removed]",
      "text/plain": [
       "<Figure size 720x576 with 1 Axes>"
      ]
     },
     "metadata": {
      "needs_background": "light"
     },
     "output_type": "display_data"
    }
   ],
   "source": [
    "# ЗАДАНИЕ: используйте трехслойную сеть, чтобы достичь переобучения на\n",
    "# 50 обучающих примерах при соответствующем выборе\n",
    "# скорости обучения и масштаба инициализации.\n",
    "\n",
    "num_train = 50\n",
    "small_data = {\n",
    "  'X_train': data['X_train'][:num_train],\n",
    "  'y_train': data['y_train'][:num_train],\n",
    "  'X_val': data['X_val'],\n",
    "  'y_val': data['y_val'],\n",
    "}\n",
    "\n",
    "weight_scale = 1e-2\n",
    "learning_rate = 10e-3\n",
    "model = FullyConnectedNet([100, 100],\n",
    "              weight_scale=weight_scale, dtype=np.float64)\n",
    "solver = Solver(model, small_data,\n",
    "                print_every=10, num_epochs=20, batch_size=25,\n",
    "                update_rule='sgd',\n",
    "                optim_config={\n",
    "                  'learning_rate': learning_rate,\n",
    "                }\n",
    "         )\n",
    "solver.train()\n",
    "\n",
    "plt.plot(solver.loss_history, 'o')\n",
    "plt.title('История потерь обучения')\n",
    "plt.xlabel('Итерации')\n",
    "plt.ylabel('Потери обучения')\n",
    "plt.show()\n"
   ]
  },
  {
   "cell_type": "markdown",
   "metadata": {},
   "source": [
    "Теперь попробуйте использовать пятислойную сеть со 100 нейронами на каждом слое, чтобы получить переобучение на 50 обучающих примерах. Вам снова придется корректировать скорость обучения и инициализацию весов, при этом вы должны достичь 100% точности обучения в течение 20 эпох."
   ]
  },
  {
   "cell_type": "code",
   "execution_count": 23,
   "metadata": {},
   "outputs": [
    {
     "name": "stdout",
     "output_type": "stream",
     "text": [
      "(Итерация 1 / 40) потери: 111.365305\n",
      "(Эпоха 0 / 20) точность обучения: 0.120000; валидационная точность: 0.119000\n",
      "(Эпоха 1 / 20) точность обучения: 0.180000; валидационная точность: 0.079000\n",
      "(Эпоха 2 / 20) точность обучения: 0.240000; валидационная точность: 0.100000\n",
      "(Эпоха 3 / 20) точность обучения: 0.500000; валидационная точность: 0.123000\n",
      "(Эпоха 4 / 20) точность обучения: 0.640000; валидационная точность: 0.106000\n",
      "(Эпоха 5 / 20) точность обучения: 0.660000; валидационная точность: 0.109000\n",
      "(Итерация 11 / 40) потери: 4.934712\n",
      "(Эпоха 6 / 20) точность обучения: 0.780000; валидационная точность: 0.114000\n",
      "(Эпоха 7 / 20) точность обучения: 0.860000; валидационная точность: 0.104000\n",
      "(Эпоха 8 / 20) точность обучения: 0.960000; валидационная точность: 0.107000\n",
      "(Эпоха 9 / 20) точность обучения: 0.920000; валидационная точность: 0.117000\n",
      "(Эпоха 10 / 20) точность обучения: 0.940000; валидационная точность: 0.116000\n",
      "(Итерация 21 / 40) потери: 1.399655\n",
      "(Эпоха 11 / 20) точность обучения: 0.940000; валидационная точность: 0.118000\n",
      "(Эпоха 12 / 20) точность обучения: 0.980000; валидационная точность: 0.119000\n",
      "(Эпоха 13 / 20) точность обучения: 1.000000; валидационная точность: 0.129000\n",
      "(Эпоха 14 / 20) точность обучения: 1.000000; валидационная точность: 0.128000\n",
      "(Эпоха 15 / 20) точность обучения: 1.000000; валидационная точность: 0.128000\n",
      "(Итерация 31 / 40) потери: 0.002572\n",
      "(Эпоха 16 / 20) точность обучения: 1.000000; валидационная точность: 0.127000\n",
      "(Эпоха 17 / 20) точность обучения: 1.000000; валидационная точность: 0.128000\n",
      "(Эпоха 18 / 20) точность обучения: 1.000000; валидационная точность: 0.126000\n",
      "(Эпоха 19 / 20) точность обучения: 1.000000; валидационная точность: 0.126000\n",
      "(Эпоха 20 / 20) точность обучения: 1.000000; валидационная точность: 0.127000\n"
     ]
    },
    {
     "data": {
      "image/png": "[encoded data removed]",
      "text/plain": [
       "<Figure size 720x576 with 1 Axes>"
      ]
     },
     "metadata": {
      "needs_background": "light"
     },
     "output_type": "display_data"
    }
   ],
   "source": [
    "# ЗАДАНИЕ: используйте пятислойную сеть, чтобы получить переобучение на\n",
    "# 50 обучающих примерах при соответствующем выборе\n",
    "# скорости обучения и масштаба инициализации.\n",
    "\n",
    "num_train = 50\n",
    "small_data = {\n",
    "  'X_train': data['X_train'][:num_train],\n",
    "  'y_train': data['y_train'][:num_train],\n",
    "  'X_val': data['X_val'],\n",
    "  'y_val': data['y_val'],\n",
    "}\n",
    "\n",
    "\n",
    "learning_rate = 2e-4\n",
    "weight_scale = 1e-5\n",
    "learning_rate = 2e-3\n",
    "weight_scale = 1e-1\n",
    "\n",
    "model = FullyConnectedNet([100, 100, 100, 100],\n",
    "                weight_scale=weight_scale, dtype=np.float64)\n",
    "solver = Solver(model, small_data,\n",
    "                print_every=10, num_epochs=20, batch_size=25,\n",
    "                update_rule='sgd',\n",
    "                optim_config={\n",
    "                  'learning_rate': learning_rate,\n",
    "                }\n",
    "         )\n",
    "solver.train()\n",
    "\n",
    "plt.plot(solver.loss_history, 'o')\n",
    "plt.title('История потерь обучения')\n",
    "plt.xlabel('Итерации')\n",
    "plt.ylabel('Потери обучения')\n",
    "plt.show()"
   ]
  },
  {
   "cell_type": "markdown",
   "metadata": {},
   "source": [
    "## Вопрос  2: \n",
    "Вы заметили какие-либо отличия обучения трехслойной сети по сравнению с обучением пятислойной сети? В частности, исходя из вашего опыта, какая сеть более чувствительна к масштабам инициализации? Как Вы думаете, почему?"
   ]
  },
  {
   "cell_type": "markdown",
   "metadata": {},
   "source": [
    "## Ответ:\n",
    "[Отвечайте здесь]\n"
   ]
  },
  {
   "cell_type": "markdown",
   "metadata": {},
   "source": [
    "# Правила обновления\n",
    "До сих пор мы использовали SGD для обучения (обновления) параметров. Более сложные правила обновления могут улучшить обучение глубоких сетей. Реализуем несколько наиболее часто используемых правил обновления и сравним их с простым SGD.\n"
   ]
  },
  {
   "cell_type": "markdown",
   "metadata": {},
   "source": [
    "# SGD+моменты\n",
    "Стохастический градиентный спуск с моментом является широко используемым правилом обновления, которое ускоряет схождение глубоких сетей. \n",
    "\n",
    "Откройте файл `dlcv/optim.py` и прочитайте документацию в верхней части файла, чтобы убедиться, что вы понимаете API. Реализуйте правило обновления  SGD + момент в функции `sgd_momentum`и выполните код ниже, чтобы проверить вашу реализацию. Вы должны получить ошибки меньше, чем e-8."
   ]
  },
  {
   "cell_type": "code",
   "execution_count": 26,
   "metadata": {},
   "outputs": [
    {
     "name": "stdout",
     "output_type": "stream",
     "text": [
      "Ошибка в значении нового веса next_w:  8.882347033505819e-09\n",
      "Ошибка в значении скользящего среднего градиента - velocity:  4.269287743278663e-09\n"
     ]
    }
   ],
   "source": [
    "from dlcv.optim import sgd_momentum\n",
    "\n",
    "N, D = 4, 5\n",
    "w = np.linspace(-0.4, 0.6, num=N*D).reshape(N, D)\n",
    "dw = np.linspace(-0.6, 0.4, num=N*D).reshape(N, D)\n",
    "v = np.linspace(0.6, 0.9, num=N*D).reshape(N, D)\n",
    "\n",
    "config = {'learning_rate': 1e-3, 'velocity': v}\n",
    "next_w, _ = sgd_momentum(w, dw, config=config)\n",
    "\n",
    "expected_next_w = np.asarray([\n",
    "  [ 0.1406,      0.20738947,  0.27417895,  0.34096842,  0.40775789],\n",
    "  [ 0.47454737,  0.54133684,  0.60812632,  0.67491579,  0.74170526],\n",
    "  [ 0.80849474,  0.87528421,  0.94207368,  1.00886316,  1.07565263],\n",
    "  [ 1.14244211,  1.20923158,  1.27602105,  1.34281053,  1.4096    ]])\n",
    "expected_velocity = np.asarray([\n",
    "  [ 0.5406,      0.55475789,  0.56891579, 0.58307368,  0.59723158],\n",
    "  [ 0.61138947,  0.62554737,  0.63970526,  0.65386316,  0.66802105],\n",
    "  [ 0.68217895,  0.69633684,  0.71049474,  0.72465263,  0.73881053],\n",
    "  [ 0.75296842,  0.76712632,  0.78128421,  0.79544211,  0.8096    ]])\n",
    "\n",
    "# Относительные ошибки должны быть около  e-8 или менее\n",
    "print('Ошибка в значении нового веса next_w: ', rel_error(next_w, expected_next_w))\n",
    "print('Ошибка в значении скользящего среднего градиента - velocity: ', rel_error(expected_velocity, config['velocity']))"
   ]
  },
  {
   "cell_type": "markdown",
   "metadata": {},
   "source": [
    "Теперь выполните код ниже, чтобы обучить шестислойную сеть с  SGD и  с SGD + момент. Вы должны увидеть, что правило обновления SGD + момент обеспечивает более быстрое схождение."
   ]
  },
  {
   "cell_type": "code",
   "execution_count": null,
   "metadata": {
    "collapsed": true,
    "scrolled": false
   },
   "outputs": [],
   "source": [
    "num_train = 4000\n",
    "small_data = {\n",
    "  'X_train': data['X_train'][:num_train],\n",
    "  'y_train': data['y_train'][:num_train],\n",
    "  'X_val': data['X_val'],\n",
    "  'y_val': data['y_val'],\n",
    "}\n",
    "\n",
    "solvers = {}\n",
    "\n",
    "for update_rule in ['sgd', 'sgd_momentum']:\n",
    "  print('выполнение с ', update_rule)\n",
    "  model = FullyConnectedNet([100, 100, 100, 100, 100], weight_scale=5e-2)\n",
    "\n",
    "  solver = Solver(model, small_data,\n",
    "                  num_epochs=5, batch_size=100,\n",
    "                  update_rule=update_rule,\n",
    "                  optim_config={\n",
    "                    'learning_rate': 1e-2,\n",
    "                  },\n",
    "                  verbose=True)\n",
    "  solvers[update_rule] = solver\n",
    "  solver.train()\n",
    "  print()\n",
    "\n",
    "plt.subplot(3, 1, 1)\n",
    "plt.title('Потери обучения')\n",
    "plt.xlabel('Итерации')\n",
    "\n",
    "plt.subplot(3, 1, 2)\n",
    "plt.title('Точность обучения')\n",
    "plt.xlabel('Эпохи')\n",
    "\n",
    "plt.subplot(3, 1, 3)\n",
    "plt.title('Валидационная точность')\n",
    "plt.xlabel('Эпохи')\n",
    "\n",
    "for update_rule, solver in list(solvers.items()):\n",
    "  plt.subplot(3, 1, 1)\n",
    "  plt.plot(solver.loss_history, 'o', label=update_rule)\n",
    "  \n",
    "  plt.subplot(3, 1, 2)\n",
    "  plt.plot(solver.train_acc_history, '-o', label=update_rule)\n",
    "\n",
    "  plt.subplot(3, 1, 3)\n",
    "  plt.plot(solver.val_acc_history, '-o', label=update_rule)\n",
    "  \n",
    "for i in [1, 2, 3]:\n",
    "  plt.subplot(3, 1, i)\n",
    "  plt.legend(loc='upper center', ncol=4)\n",
    "plt.gcf().set_size_inches(15, 15)\n",
    "plt.show()"
   ]
  },
  {
   "cell_type": "markdown",
   "metadata": {},
   "source": [
    "# RMSProp и Adam\n",
    "RMSProp и Adam [1] - это правила обновления, которые адаптируют скорости обучения для каждого параметра, используя среднее значение вторых моментов градиентов.\n",
    "\n",
    "В файле `dlcv/optim.py`, реализуйте правило обновления RMSProp в функции` rmsprop` и реализуйте правило обновления Adam в функции `adam` и проверьте свои реализации, используя приведенные ниже тесты.\n",
    "\n",
    "**ПРИМЕЧАНИЕ:** реализуйте  правило обновления _complete_ Adam (с механизмом коррекции смещения), а не упрощенную версию.\n",
    "\n",
    "[1] Diederik Kingma and Jimmy Ba, \"Adam: A Method for Stochastic Optimization\", ICLR 2015."
   ]
  },
  {
   "cell_type": "code",
   "execution_count": null,
   "metadata": {
    "collapsed": true
   },
   "outputs": [],
   "source": [
    "# Тест для  RMSProp\n",
    "from dlcv.optim import rmsprop\n",
    "\n",
    "N, D = 4, 5\n",
    "w = np.linspace(-0.4, 0.6, num=N*D).reshape(N, D)\n",
    "dw = np.linspace(-0.6, 0.4, num=N*D).reshape(N, D)\n",
    "cache = np.linspace(0.6, 0.9, num=N*D).reshape(N, D)\n",
    "\n",
    "config = {'learning_rate': 1e-2, 'cache': cache}\n",
    "next_w, _ = rmsprop(w, dw, config=config)\n",
    "\n",
    "expected_next_w = np.asarray([\n",
    "  [-0.39223849, -0.34037513, -0.28849239, -0.23659121, -0.18467247],\n",
    "  [-0.132737,   -0.08078555, -0.02881884,  0.02316247,  0.07515774],\n",
    "  [ 0.12716641,  0.17918792,  0.23122175,  0.28326742,  0.33532447],\n",
    "  [ 0.38739248,  0.43947102,  0.49155973,  0.54365823,  0.59576619]])\n",
    "expected_cache = np.asarray([\n",
    "  [ 0.5976,      0.6126277,   0.6277108,   0.64284931,  0.65804321],\n",
    "  [ 0.67329252,  0.68859723,  0.70395734,  0.71937285,  0.73484377],\n",
    "  [ 0.75037008,  0.7659518,   0.78158892,  0.79728144,  0.81302936],\n",
    "  [ 0.82883269,  0.84469141,  0.86060554,  0.87657507,  0.8926    ]])\n",
    "\n",
    "# Относительные ошибки должны быть около  e-7 или менее\n",
    "print('Ошибка next_w: ', rel_error(expected_next_w, next_w))\n",
    "print('Ошибка cache: ', rel_error(expected_cache, config['cache']))"
   ]
  },
  {
   "cell_type": "code",
   "execution_count": null,
   "metadata": {
    "collapsed": true
   },
   "outputs": [],
   "source": [
    "# Тест для  Adam\n",
    "from dlcv.optim import adam\n",
    "\n",
    "N, D = 4, 5\n",
    "w = np.linspace(-0.4, 0.6, num=N*D).reshape(N, D)\n",
    "dw = np.linspace(-0.6, 0.4, num=N*D).reshape(N, D)\n",
    "m = np.linspace(0.6, 0.9, num=N*D).reshape(N, D)\n",
    "v = np.linspace(0.7, 0.5, num=N*D).reshape(N, D)\n",
    "\n",
    "config = {'learning_rate': 1e-2, 'm': m, 'v': v, 't': 5}\n",
    "next_w, _ = adam(w, dw, config=config)\n",
    "\n",
    "expected_next_w = np.asarray([\n",
    "  [-0.40094747, -0.34836187, -0.29577703, -0.24319299, -0.19060977],\n",
    "  [-0.1380274,  -0.08544591, -0.03286534,  0.01971428,  0.0722929],\n",
    "  [ 0.1248705,   0.17744702,  0.23002243,  0.28259667,  0.33516969],\n",
    "  [ 0.38774145,  0.44031188,  0.49288093,  0.54544852,  0.59801459]])\n",
    "expected_v = np.asarray([\n",
    "  [ 0.69966,     0.68908382,  0.67851319,  0.66794809,  0.65738853,],\n",
    "  [ 0.64683452,  0.63628604,  0.6257431,   0.61520571,  0.60467385,],\n",
    "  [ 0.59414753,  0.58362676,  0.57311152,  0.56260183,  0.55209767,],\n",
    "  [ 0.54159906,  0.53110598,  0.52061845,  0.51013645,  0.49966,   ]])\n",
    "expected_m = np.asarray([\n",
    "  [ 0.48,        0.49947368,  0.51894737,  0.53842105,  0.55789474],\n",
    "  [ 0.57736842,  0.59684211,  0.61631579,  0.63578947,  0.65526316],\n",
    "  [ 0.67473684,  0.69421053,  0.71368421,  0.73315789,  0.75263158],\n",
    "  [ 0.77210526,  0.79157895,  0.81105263,  0.83052632,  0.85      ]])\n",
    "\n",
    "# Относительные ошибки должны быть около  e-7 или менее\n",
    "print('Ошибка next_w: ', rel_error(expected_next_w, next_w))\n",
    "print('Ошибка v: ', rel_error(expected_v, config['v']))\n",
    "print('Ошибка m: ', rel_error(expected_m, config['m']))"
   ]
  },
  {
   "cell_type": "markdown",
   "metadata": {},
   "source": [
    "После того как вы отладите реализации RMSProp и Adam, запустите код ниже, чтобы обучить две глубокие сети, используя эти новые правила обновления:"
   ]
  },
  {
   "cell_type": "code",
   "execution_count": null,
   "metadata": {
    "collapsed": true
   },
   "outputs": [],
   "source": [
    "learning_rates = {'rmsprop': 1e-4, 'adam': 1e-3}\n",
    "for update_rule in ['adam', 'rmsprop']:\n",
    "  print('Выполнение', update_rule)\n",
    "  model = FullyConnectedNet([100, 100, 100, 100, 100], weight_scale=5e-2)\n",
    "\n",
    "  solver = Solver(model, small_data,\n",
    "                  num_epochs=5, batch_size=100,\n",
    "                  update_rule=update_rule,\n",
    "                  optim_config={\n",
    "                    'learning_rate': learning_rates[update_rule]\n",
    "                  },\n",
    "                  verbose=True)\n",
    "  solvers[update_rule] = solver\n",
    "  solver.train()\n",
    "  print()\n",
    "\n",
    "plt.subplot(3, 1, 1)\n",
    "plt.title('Потери обучения')\n",
    "plt.xlabel('Итерации')\n",
    "\n",
    "plt.subplot(3, 1, 2)\n",
    "plt.title('Точность обучения')\n",
    "plt.xlabel('Эпохи')\n",
    "\n",
    "plt.subplot(3, 1, 3)\n",
    "plt.title('Валидационная точность')\n",
    "plt.xlabel('Эпохи')\n",
    "\n",
    "for update_rule, solver in list(solvers.items()):\n",
    "  plt.subplot(3, 1, 1)\n",
    "  plt.plot(solver.loss_history, 'o', label=update_rule)\n",
    "  \n",
    "  plt.subplot(3, 1, 2)\n",
    "  plt.plot(solver.train_acc_history, '-o', label=update_rule)\n",
    "\n",
    "  plt.subplot(3, 1, 3)\n",
    "  plt.plot(solver.val_acc_history, '-o', label=update_rule)\n",
    "  \n",
    "for i in [1, 2, 3]:\n",
    "  plt.subplot(3, 1, i)\n",
    "  plt.legend(loc='upper center', ncol=4)\n",
    "plt.gcf().set_size_inches(15, 15)\n",
    "plt.show()"
   ]
  },
  {
   "cell_type": "markdown",
   "metadata": {},
   "source": [
    "## Вопрос 3:\n",
    "AdaGrad, подобно Adam, является методом оптимизации для каждого параметра, который использует следующее правило обновления:\n",
    "\n",
    "`` \n",
    "cache + = dw ** 2\n",
    "w + = - learning_rate * dw / (np.sqrt (cache) + eps)\n",
    "`` \n",
    "\n",
    "Замечено, что когда сеть обучается с AdaGrad, обновления могут стать очень маленькими, и сеть начинает обучаться медленно. Почему, по вашему мнению, обновления становятся очень маленькими? У Adam  есть такая проблема?\n"
   ]
  },
  {
   "cell_type": "markdown",
   "metadata": {},
   "source": [
    "## Ответ:\n"
   ]
  },
  {
   "cell_type": "markdown",
   "metadata": {},
   "source": [
    "## Постройте  хорошую модель!\n",
    "Получите путем обучения на базе CIFAR-10 наилучшую полносвязанную модель,  сохраняя лучшую модель в переменной best_model. Вы должны получить точность не хуже 50% на валидационном множестве.\n",
    "\n",
    "При тщательной настройке, вы должны  получить точность выше 55%, но мы не требуем этого в этой части задания. Позже Вы обучите сверточную сеть и мы предпочли бы, чтобы вы тратили свои усилия на сверточные сети.\n",
    "\n",
    "Вам будет полезно заполнить блокноты BatchNormalization.ipynb и Dropout.ipynb, прежде чем завершить эту часть, поскольку эти методы помогут вам получить более эффективные модели."
   ]
  },
  {
   "cell_type": "code",
   "execution_count": null,
   "metadata": {
    "collapsed": true,
    "scrolled": false
   },
   "outputs": [],
   "source": [
    "best_model = None\n",
    "################################################################################\n",
    "# ЗАДАНИЕ: Постройте лучшую FullyConnectedNet на мно-ве CIFAR-10. Можно        #\n",
    "# использовать нормализацию на блоке/слое и dropout. Сохраните свою лучшую     #\n",
    "# модель в переменной  best_model.                                             #\n",
    "################################################################################\n",
    "#learning_rates = {'rmsprop': 1e-4, 'adam': 1e-3}\n",
    "#for update_rule in ['adam', 'rmsprop']:\n",
    "print('running with ', 'adam')\n",
    "best_model = FullyConnectedNet([100, 100, 100, 100, 100], weight_scale=5e-2)\n",
    "#best_model = FullyConnectedNet([100, 100, 100], weight_scale=5e-2)\n",
    "\n",
    "solver = Solver(best_model, data,\n",
    "                  num_epochs=6, batch_size=100,\n",
    "                  update_rule='adam',\n",
    "                  optim_config={\n",
    "                    'learning_rate': 1e-3\n",
    "                  },\n",
    "                  print_every=100) \n",
    "#solvers[update_rule] = solver\n",
    "solver.train()\n",
    "print()\n",
    "\n",
    "plt.subplot(3, 1, 1)\n",
    "plt.title('Training loss')\n",
    "plt.xlabel('Iteration')\n",
    "\n",
    "plt.subplot(3, 1, 2)\n",
    "plt.title('Training accuracy')\n",
    "plt.xlabel('Epoch')\n",
    "\n",
    "plt.subplot(3, 1, 3)\n",
    "plt.title('Validation accuracy')\n",
    "plt.xlabel('Epoch')\n",
    "\n",
    "#for update_rule, solver in list(solvers.items()):\n",
    "plt.subplot(3, 1, 1)\n",
    "plt.plot(solver.loss_history) # 'o', label=update_rule)\n",
    "  \n",
    "plt.subplot(3, 1, 2)\n",
    "plt.plot(solver.train_acc_history) # '-o', label=update_rule)\n",
    "\n",
    "plt.subplot(3, 1, 3)\n",
    "plt.plot(solver.val_acc_history) #, '-o', label=update_rule)\n",
    "  \n",
    "#for i in [1, 2, 3]:\n",
    "#  plt.subplot(3, 1, i)\n",
    "#  plt.legend(loc='upper center', ncol=4)\n",
    "plt.gcf().set_size_inches(15, 15)\n",
    "plt.show()\n",
    "\n",
    "pass\n",
    "################################################################################\n",
    "#                              КОНЕЦ ВАШЕГО  КОДА                              #\n",
    "################################################################################"
   ]
  },
  {
   "cell_type": "markdown",
   "metadata": {},
   "source": [
    "# Проверьте свою модель!\n",
    "Запустите свою лучшую модель на валидационном и тестовом множествах. Вы должны получить точность более 50% на валидационном мможестве."
   ]
  },
  {
   "cell_type": "code",
   "execution_count": null,
   "metadata": {
    "collapsed": true
   },
   "outputs": [],
   "source": [
    "y_test_pred = np.argmax(best_model.loss(data['X_test']), axis=1)\n",
    "y_val_pred = np.argmax(best_model.loss(data['X_val']), axis=1)\n",
    "print('Точность на вадидационном множестве: ', (y_val_pred == data['y_val']).mean())\n",
    "print('Точность на тестовом множестве: ', (y_test_pred == data['y_test']).mean())"
   ]
  }
 ],
 "metadata": {
  "kernelspec": {
   "display_name": "Python 3",
   "language": "python",
   "name": "python3"
  },
  "language_info": {
   "codemirror_mode": {
    "name": "ipython",
    "version": 3
   },
   "file_extension": ".py",
   "mimetype": "text/x-python",
   "name": "python",
   "nbconvert_exporter": "python",
   "pygments_lexer": "ipython3",
   "version": "3.6.13"
  }
 },
 "nbformat": 4,
 "nbformat_minor": 2
}
