{
 "cells": [
  {
   "cell_type": "code",
   "execution_count": null,
   "metadata": {},
   "outputs": [],
   "source": [
    "p=0.5 # вероятность сохранения активности нейрона\n",
    "def train_step(X):\n",
    "    \"\"\" X массив данных \"\"\"\n",
    "    #прямой путь на примере 3-х слойной сети\n",
    "    H1=np.maximum(0,np.dot(W1,X)+b1)\n",
    "    U1=np.random.rand(*H1.shape)<p #1-ая маска dropout\n",
    "    H1*=U1 # просеивание\n",
    "    H2=np.maximum(0,np.dot(W2,H1)+b2)\n",
    "    U2=np.random.rand(*H2.shape)<p #2-ая маска dropout\n",
    "    H2*=U2 # просеивание\n",
    "    out=np.dot(W3,H2)+b3\n",
    "    \n",
    "    # обратное распространение градиентов...\n",
    "    # обновление параметров сети\n",
    "    \n"
   ]
  },
  {
   "cell_type": "code",
   "execution_count": 1,
   "metadata": {},
   "outputs": [
    {
     "data": {
      "text/plain": [
       "True"
      ]
     },
     "execution_count": 1,
     "metadata": {},
     "output_type": "execute_result"
    }
   ],
   "source": [
    "1<3"
   ]
  },
  {
   "cell_type": "code",
   "execution_count": 2,
   "metadata": {},
   "outputs": [
    {
     "data": {
      "text/plain": [
       "True"
      ]
     },
     "execution_count": 2,
     "metadata": {},
     "output_type": "execute_result"
    }
   ],
   "source": [
    "x=1<3\n",
    "x"
   ]
  },
  {
   "cell_type": "code",
   "execution_count": null,
   "metadata": {},
   "outputs": [],
   "source": [
    "def predict(X):\n",
    "    \"\"\" X массив данных \"\"\"\n",
    "    #прямой путь \n",
    "    H1=np.maximum(0,np.dot(W1,X)+b1)*p  # масштабирование активаций\n",
    "    H2=np.maximum(0,np.dot(W2,H1)+b2)*p # масштабирование активаций\n",
    "    out=np.dot(W3,H2)+b3"
   ]
  },
  {
   "cell_type": "code",
   "execution_count": null,
   "metadata": {},
   "outputs": [],
   "source": [
    "p=0.5 # вероятность сохранения активности нейрона\n",
    "def train_step(X):\n",
    "    \"\"\" X массив данных \"\"\"\n",
    "    #прямой путь на примере 3-х слойной сети\n",
    "    H1=np.maximum(0,np.dot(W1,X)+b1)\n",
    "    U1=(np.random.rand(*H1.shape)<p)/p # деление маски1 на p\n",
    "    H1*=U1 # просеивание\n",
    "    H2=np.maximum(0,np.dot(W2,H1)+b2)\n",
    "    U2=(np.random.rand(*H2.shape)<p)/p # деление маски2 на p\n",
    "    H2*=U2 # просеивание\n",
    "    out=np.dot(W3,H2)+b3\n",
    "    \n",
    "    # обратное распространение градиентов...\n",
    "    # обновление параметров сети\n",
    "\n",
    "def predict(X):\n",
    "    \"\"\" X массив данных \"\"\"\n",
    "    #прямой путь \n",
    "    H1=np.maximum(0,np.dot(W1,X)+b1)  # без масштабирования \n",
    "    H2=np.maximum(0,np.dot(W2,H1)+b2) # без масштабирования\n",
    "    out=np.dot(W3,H2)+b3\n",
    "    "
   ]
  }
 ],
 "metadata": {
  "kernelspec": {
   "display_name": "Python 3",
   "language": "python",
   "name": "python3"
  },
  "language_info": {
   "codemirror_mode": {
    "name": "ipython",
    "version": 3
   },
   "file_extension": ".py",
   "mimetype": "text/x-python",
   "name": "python",
   "nbconvert_exporter": "python",
   "pygments_lexer": "ipython3",
   "version": "3.6.5"
  }
 },
 "nbformat": 4,
 "nbformat_minor": 2
}
