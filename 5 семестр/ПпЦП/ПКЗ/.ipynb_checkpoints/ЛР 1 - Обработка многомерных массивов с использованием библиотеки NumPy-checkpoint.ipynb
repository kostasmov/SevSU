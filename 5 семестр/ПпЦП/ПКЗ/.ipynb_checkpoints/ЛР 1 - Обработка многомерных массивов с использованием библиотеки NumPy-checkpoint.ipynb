{
 "cells": [
  {
   "cell_type": "markdown",
   "metadata": {},
   "source": [
    "# Глубокие нейросети в компьютерном зрении. Дополнительная профессиональная программа профессиональной переподготовки.\n",
    "# Модуль 1.  Программирование компьютерного зрения на языке Python.\n",
    "\n",
    "## Лабораторная работа №1 \"Обработка многомерных массивов с использованием  библиотеки NumPy\""
   ]
  },
  {
   "cell_type": "markdown",
   "metadata": {},
   "source": [
    "Выполнил студент Мовенко К.М. группы ИС/б-21-2-о."
   ]
  },
  {
   "cell_type": "markdown",
   "metadata": {},
   "source": [
    "### Интерпретатор IPython и оболочка Jupyter"
   ]
  },
  {
   "cell_type": "markdown",
   "metadata": {},
   "source": [
    "Интерпретатор **IPython** позволяет работать с кодом на языке Python в интерактивном режиме. Среди функций, которые предоставляет IPython, наиболее интересны следующие:\n",
    "\tдинамический анализ объектов;\n",
    "\tдоступ к оболочке системы через командную строку;\n",
    "\tпрямая поддержка профилирования;\n",
    "\tработа с отладочными средствами.\n",
    "IPython является частью более крупного проекта под названием Jupyter, предоставляющего возможность интерактивной работы через интернет-браузер. \n",
    "\n",
    "**Jupyter** - веб-оболочка для интерпретатора IPython, позволяющая объединить код, текст, формулы и диаграммы в единый документ (*блокнот Jupyter*) и распространять их для других пользователей.\n",
    "\n",
    "Пример работы с разметкой среды Jupyter можно посмотреть в этом блокноте и в [блокноте с разнообразными примерами использования символов и тегов разметки](https://github.com/jupyter/notebook/blob/master/docs/source/examples/Notebook/Working%20With%20Markdown%20Cells.ipynb)"
   ]
  },
  {
   "cell_type": "markdown",
   "metadata": {},
   "source": [
    "Для быстрого доступа к документации и другой соответствующей информации в IPython используется знак `?`. Например справку по команде `len` можно поучить так:"
   ]
  },
  {
   "cell_type": "code",
   "execution_count": 1,
   "metadata": {},
   "outputs": [],
   "source": [
    "len?"
   ]
  },
  {
   "cell_type": "markdown",
   "metadata": {},
   "source": [
    "Такой подход можно применять к любым функциям и методам в IPython."
   ]
  },
  {
   "cell_type": "code",
   "execution_count": 2,
   "metadata": {},
   "outputs": [],
   "source": [
    "L = [1,2,3]\n",
    "L.insert?"
   ]
  },
  {
   "cell_type": "markdown",
   "metadata": {},
   "source": [
    "#### \"Магические\" команды IPython\n",
    "\"Магические\" команды позволяют организовывать выполнение подпрограмм в среде IPython, а также их профилирование, отладку и другие операции, не связанные непосредственно с языком Python.\n",
    "\n",
    "Например, команда `%run <скрипт>` запускает в интерактивной оболочке IPython скрипт на Python,\n",
    "а `%timeit`автоматически определяет время выполнения следующего за ней однострочного оператора. \n",
    "\n",
    "Эта команда будет выполнять множественные запуски с целью получения максимально надежных результатов. "
   ]
  },
  {
   "cell_type": "code",
   "execution_count": 3,
   "metadata": {},
   "outputs": [
    {
     "name": "stdout",
     "output_type": "stream",
     "text": [
      "86.1 µs ± 18.5 µs per loop (mean ± std. dev. of 7 runs, 10,000 loops each)\n"
     ]
    }
   ],
   "source": [
    "%timeit L = [n ** 2 for n in range(1000)]"
   ]
  },
  {
   "cell_type": "markdown",
   "metadata": {},
   "source": [
    "Справку по магическим функциям можно получить при помощи знака `?`. Например:"
   ]
  },
  {
   "cell_type": "code",
   "execution_count": 4,
   "metadata": {},
   "outputs": [],
   "source": [
    "%timeit?"
   ]
  },
  {
   "cell_type": "markdown",
   "metadata": {},
   "source": [
    "Для доступа к общему описанию доступных «магических» функций введите команду:"
   ]
  },
  {
   "cell_type": "code",
   "execution_count": 5,
   "metadata": {},
   "outputs": [],
   "source": [
    "%magic"
   ]
  },
  {
   "cell_type": "markdown",
   "metadata": {},
   "source": [
    "Для быстрого получения простого списка всех доступных «магических» функций:"
   ]
  },
  {
   "cell_type": "code",
   "execution_count": 6,
   "metadata": {},
   "outputs": [
    {
     "data": {
      "application/json": {
       "cell": {
        "!": "OSMagics",
        "HTML": "Other",
        "SVG": "Other",
        "bash": "Other",
        "capture": "ExecutionMagics",
        "cmd": "Other",
        "debug": "ExecutionMagics",
        "file": "Other",
        "html": "DisplayMagics",
        "javascript": "DisplayMagics",
        "js": "DisplayMagics",
        "latex": "DisplayMagics",
        "markdown": "DisplayMagics",
        "perl": "Other",
        "prun": "ExecutionMagics",
        "pypy": "Other",
        "python": "Other",
        "python2": "Other",
        "python3": "Other",
        "ruby": "Other",
        "script": "ScriptMagics",
        "sh": "Other",
        "svg": "DisplayMagics",
        "sx": "OSMagics",
        "system": "OSMagics",
        "time": "ExecutionMagics",
        "timeit": "ExecutionMagics",
        "writefile": "OSMagics"
       },
       "line": {
        "alias": "OSMagics",
        "alias_magic": "BasicMagics",
        "autoawait": "AsyncMagics",
        "autocall": "AutoMagics",
        "automagic": "AutoMagics",
        "autosave": "KernelMagics",
        "bookmark": "OSMagics",
        "cd": "OSMagics",
        "clear": "KernelMagics",
        "cls": "KernelMagics",
        "colors": "BasicMagics",
        "conda": "PackagingMagics",
        "config": "ConfigMagics",
        "connect_info": "KernelMagics",
        "copy": "Other",
        "ddir": "Other",
        "debug": "ExecutionMagics",
        "dhist": "OSMagics",
        "dirs": "OSMagics",
        "doctest_mode": "BasicMagics",
        "echo": "Other",
        "ed": "Other",
        "edit": "KernelMagics",
        "env": "OSMagics",
        "gui": "BasicMagics",
        "hist": "Other",
        "history": "HistoryMagics",
        "killbgscripts": "ScriptMagics",
        "ldir": "Other",
        "less": "KernelMagics",
        "load": "CodeMagics",
        "load_ext": "ExtensionMagics",
        "loadpy": "CodeMagics",
        "logoff": "LoggingMagics",
        "logon": "LoggingMagics",
        "logstart": "LoggingMagics",
        "logstate": "LoggingMagics",
        "logstop": "LoggingMagics",
        "ls": "Other",
        "lsmagic": "BasicMagics",
        "macro": "ExecutionMagics",
        "magic": "BasicMagics",
        "matplotlib": "PylabMagics",
        "mkdir": "Other",
        "more": "KernelMagics",
        "notebook": "BasicMagics",
        "page": "BasicMagics",
        "pastebin": "CodeMagics",
        "pdb": "ExecutionMagics",
        "pdef": "NamespaceMagics",
        "pdoc": "NamespaceMagics",
        "pfile": "NamespaceMagics",
        "pinfo": "NamespaceMagics",
        "pinfo2": "NamespaceMagics",
        "pip": "PackagingMagics",
        "popd": "OSMagics",
        "pprint": "BasicMagics",
        "precision": "BasicMagics",
        "prun": "ExecutionMagics",
        "psearch": "NamespaceMagics",
        "psource": "NamespaceMagics",
        "pushd": "OSMagics",
        "pwd": "OSMagics",
        "pycat": "OSMagics",
        "pylab": "PylabMagics",
        "qtconsole": "KernelMagics",
        "quickref": "BasicMagics",
        "recall": "HistoryMagics",
        "rehashx": "OSMagics",
        "reload_ext": "ExtensionMagics",
        "ren": "Other",
        "rep": "Other",
        "rerun": "HistoryMagics",
        "reset": "NamespaceMagics",
        "reset_selective": "NamespaceMagics",
        "rmdir": "Other",
        "run": "ExecutionMagics",
        "save": "CodeMagics",
        "sc": "OSMagics",
        "set_env": "OSMagics",
        "store": "StoreMagics",
        "sx": "OSMagics",
        "system": "OSMagics",
        "tb": "ExecutionMagics",
        "time": "ExecutionMagics",
        "timeit": "ExecutionMagics",
        "unalias": "OSMagics",
        "unload_ext": "ExtensionMagics",
        "who": "NamespaceMagics",
        "who_ls": "NamespaceMagics",
        "whos": "NamespaceMagics",
        "xdel": "NamespaceMagics",
        "xmode": "BasicMagics"
       }
      },
      "text/plain": [
       "Available line magics:\n",
       "%alias  %alias_magic  %autoawait  %autocall  %automagic  %autosave  %bookmark  %cd  %clear  %cls  %colors  %conda  %config  %connect_info  %copy  %ddir  %debug  %dhist  %dirs  %doctest_mode  %echo  %ed  %edit  %env  %gui  %hist  %history  %killbgscripts  %ldir  %less  %load  %load_ext  %loadpy  %logoff  %logon  %logstart  %logstate  %logstop  %ls  %lsmagic  %macro  %magic  %matplotlib  %mkdir  %more  %notebook  %page  %pastebin  %pdb  %pdef  %pdoc  %pfile  %pinfo  %pinfo2  %pip  %popd  %pprint  %precision  %prun  %psearch  %psource  %pushd  %pwd  %pycat  %pylab  %qtconsole  %quickref  %recall  %rehashx  %reload_ext  %ren  %rep  %rerun  %reset  %reset_selective  %rmdir  %run  %save  %sc  %set_env  %store  %sx  %system  %tb  %time  %timeit  %unalias  %unload_ext  %who  %who_ls  %whos  %xdel  %xmode\n",
       "\n",
       "Available cell magics:\n",
       "%%!  %%HTML  %%SVG  %%bash  %%capture  %%cmd  %%debug  %%file  %%html  %%javascript  %%js  %%latex  %%markdown  %%perl  %%prun  %%pypy  %%python  %%python2  %%python3  %%ruby  %%script  %%sh  %%svg  %%sx  %%system  %%time  %%timeit  %%writefile\n",
       "\n",
       "Automagic is ON, % prefix IS NOT needed for line magics."
      ]
     },
     "execution_count": 6,
     "metadata": {},
     "output_type": "execute_result"
    }
   ],
   "source": [
    "%lsmagic"
   ]
  },
  {
   "cell_type": "markdown",
   "metadata": {},
   "source": [
    "С помощью «магической» функции %xmode (сокращение от exception mode — режим отображения исключений) мы можем управлять тем, какая информация будет выведена.\n",
    "Функция %xmode принимает на входе один аргумент, режим, для которого есть три значения: Plain (Простой), Context (По контексту) и Verbose (Расширенный)."
   ]
  },
  {
   "cell_type": "markdown",
   "metadata": {},
   "source": [
    "#### Отладка и профилирование."
   ]
  },
  {
   "cell_type": "markdown",
   "metadata": {},
   "source": [
    "Отладчик в оболочке IPython называется ipdb (сокращение от IPython Debugger — «отладчик IPython»)."
   ]
  },
  {
   "cell_type": "markdown",
   "metadata": {},
   "source": [
    "Интерфейс для отладки в IPython — «магическая» команда `%debug`. Если ее вызвать после столкновения с исключением, она автоматически откроет интерактивную командную строку откладки в точке возникновения исключения. Командная строка ipdb позволяет изучать текущее состояние стека, доступные переменные и даже выполнять команды Python.\n",
    "Для подробной информации воспользуйтесь командой help в отладчике или загляните в [онлайн-документацию по ipdb](https://github.com/gotcha/ipdb)"
   ]
  },
  {
   "cell_type": "markdown",
   "metadata": {},
   "source": [
    "Оболочка IPython предоставляет широкий выбор функциональности для выполнения подобного мониторинга скорости выполнения кода и его профилирования. Для этого применяются следующие \"магические команды\":\n",
    "\n",
    "* `%time` — длительность выполнения отдельного оператора;\n",
    "* `%timeit` — длительность выполнения отдельного оператора при неоднократном повторе, для большей точности;\n",
    "* `%prun` — выполнение кода с использованием профилировщика;\n",
    "* `%lprun` — пошаговое выполнение кода с применением профилировщика;\n",
    "* `%memit` — оценка использования оперативной памяти для отдельного оператора;\n",
    "* `%mprun` — пошаговое выполнение кода с применением профилировщика памяти.\n"
   ]
  },
  {
   "cell_type": "markdown",
   "metadata": {},
   "source": [
    "Пример работы команды `%timeit` рассмотрен выше. Он позволяет оценивать время выполнения однострочных инструкций, выполняя многократный их запуск."
   ]
  },
  {
   "cell_type": "code",
   "execution_count": 7,
   "metadata": {},
   "outputs": [
    {
     "name": "stdout",
     "output_type": "stream",
     "text": [
      "671 ns ± 137 ns per loop (mean ± std. dev. of 7 runs, 1,000,000 loops each)\n"
     ]
    }
   ],
   "source": [
    "%timeit sum(range(100))"
   ]
  },
  {
   "cell_type": "markdown",
   "metadata": {},
   "source": [
    "Если же нужно оценить время, которое затрачивается на выполнение нескольких строк кода, нужно использовать команду с двумя знаками `%` - `%%timeit`:"
   ]
  },
  {
   "cell_type": "code",
   "execution_count": 8,
   "metadata": {},
   "outputs": [
    {
     "name": "stdout",
     "output_type": "stream",
     "text": [
      "151 ms ± 678 µs per loop (mean ± std. dev. of 7 runs, 10 loops each)\n"
     ]
    }
   ],
   "source": [
    "%%timeit\n",
    "    total = 0\n",
    "    for i in range(1000):\n",
    "        for j in range(1000):\n",
    "            total += i * (-1) ** j"
   ]
  },
  {
   "cell_type": "markdown",
   "metadata": {},
   "source": [
    "Для некоторых фрагментов кода будет полезно оценивать их длительность работы только по одному запуску. Для этого можно применять команду `%time` или `%%time` для многострочного фрагмента:"
   ]
  },
  {
   "cell_type": "code",
   "execution_count": 9,
   "metadata": {},
   "outputs": [
    {
     "name": "stdout",
     "output_type": "stream",
     "text": [
      "CPU times: total: 234 ms\n",
      "Wall time: 248 ms\n"
     ]
    }
   ],
   "source": [
    "%%time\n",
    "    total = 0\n",
    "    for i in range(1000):\n",
    "        for j in range(1000):\n",
    "            total += i * (-1) ** j"
   ]
  },
  {
   "cell_type": "markdown",
   "metadata": {},
   "source": [
    "Программы состоят из множества отдельных операторов, и иногда оценка времени их выполнения в контексте важнее, чем по отдельности. В языке Python имеется встроенный профилировщик кода (о котором можно прочитать в документации \n",
    "языка Python), но оболочка IPython предоставляет намного более удобный способ его использования в виде «магической» функции `%prun`. Для пошагового профилирования может использоваться функция `%lprun`. Аналогично для профилирования объема используемой оперативной памяти могут применяться команды  `%memit` и `%mprun`. Подробную информацию о них можно узнать воспользовавшись справкой по этим командам."
   ]
  },
  {
   "cell_type": "markdown",
   "metadata": {},
   "source": [
    "### Основы Python"
   ]
  },
  {
   "cell_type": "markdown",
   "metadata": {},
   "source": [
    "#### Введение"
   ]
  },
  {
   "cell_type": "markdown",
   "metadata": {},
   "source": [
    "Python - популярный язык программирования общего назначения, а с помощью нескольких  библиотек numpy, scipy, matplotlib он становится мощной средой для научных вычислений.\n",
    "\n",
    "Мы ожидаем, что у многих из вас уже есть некоторый опыт работы с Python и numpy; для остальных этот блокнот будет служить как быстрым введением в язык программирования Python, так и введением в использование Python для научных вычислений."
   ]
  },
  {
   "cell_type": "markdown",
   "metadata": {},
   "source": [
    "Будут рассмотрены:\n",
    "* Основы языка Python: основные типы данных (контейнеры: списки, словари, множества, кортежи), функции, классы\n",
    "* Библиотека Numpy: массивы, индексирование массивов, типы данных, математика массивов, трансляция"
   ]
  },
  {
   "cell_type": "markdown",
   "metadata": {},
   "source": [
    "#### Основы языка Python"
   ]
  },
  {
   "cell_type": "markdown",
   "metadata": {},
   "source": [
    "Python - высокоуровневый, динамически типизированный язык программирования. Код на Python часто сравнивают с псевдокодом, поскольку он позволяет вам выражать мощные алгоритмы в нескольких строках кода, оставаясь очень читабельным.\n",
    "\n",
    "Рассмотрите как в Python выполняют определение и вызов функций, на примере классической рекурсивной функции быстрой сортировки:"
   ]
  },
  {
   "cell_type": "code",
   "execution_count": 10,
   "metadata": {},
   "outputs": [
    {
     "name": "stdout",
     "output_type": "stream",
     "text": [
      "[1, 2, 3, 5, 6, 7, 8, 10]\n"
     ]
    }
   ],
   "source": [
    "# определение функции\n",
    "def quicksort(arr):                                   # заголовок функции - def имя (входной аргумент):\n",
    "    if len(arr) <= 1:                                 # условие завершения рекурсии\n",
    "        return arr                                    # return - оператор, возвращающий результат в точку вызова функции\n",
    "    pivot = arr[len(arr) // 2]                        # значение серединного эл-та входного списка\n",
    "    left = [x for x in arr if x < pivot]              # формирование левого подсписка со значениями меньше серединного эл-та\n",
    "    middle = [x for x in arr if x == pivot]           # формирование среднего подсписка со значениями равными серединному эл-ту\n",
    "    right = [x for x in arr if x > pivot]             # формирование подсписка со значениями больше серединного эл-та \n",
    "    return quicksort(left) + middle + quicksort(right)# рекурсивная сортировка левого и правого подсписков и объединение рез-тов\n",
    "\n",
    "# вызов функции\n",
    "print(quicksort([3,6,8,10,1,2,5,7]))"
   ]
  },
  {
   "cell_type": "markdown",
   "metadata": {},
   "source": [
    "#### Версия Python"
   ]
  },
  {
   "cell_type": "markdown",
   "metadata": {},
   "source": [
    "В лабораторных работах рекомендуется использовать дистрибутив Anaconda Python, отличающийся простотой установки. В него входит практически всё необходимое для выполнения лабораторных работ, в том числе:\n",
    "- интерпретатор IPython; \n",
    "- большинство библиотек Python;\n",
    "- локальный сервер Jupyter Notebook для загрузки и выполнения блокнотов.\n",
    "\n",
    "Все задания из лабораторных работ протестированы в версии Python 3.6. Предоставляемый код ряда модулей лабораторных работ не поддерживается в версиях выше Python 3.6. \n",
    "\n",
    "Вы можете проверить свою версию Python в командной строке, запустив `python -V`.\n",
    "\n",
    "Если в вашей системе уже была установлена версия выше, чем Python 3.6, то рекомендуется создать отдельную среду для работы с Python 3.6, введя в командном окне conda команду:\n",
    "\n",
    "conda create --name env-name python=3.6\n",
    "    \n",
    "Здесь env-name - название среды, например, python36. Чтобы войти в среду, которая была только что создана, активируйте её:\n",
    "\n",
    "\tconda activate python36\n",
    "\n",
    "Для выхода из среды python36 выполните команду деактивации\n",
    "\n",
    "\tconda deactivate \n",
    "\n",
    "Вы вернетесь к версии Python, которая была ранее установлена в системе. \n"
   ]
  },
  {
   "cell_type": "markdown",
   "metadata": {},
   "source": [
    "#### Основные типы данных"
   ]
  },
  {
   "cell_type": "markdown",
   "metadata": {},
   "source": [
    "##### Числа"
   ]
  },
  {
   "cell_type": "markdown",
   "metadata": {},
   "source": [
    "Работа с целыми и вещественными числами выполняется аналогично другим высокоуровневым языкам. Примеры:"
   ]
  },
  {
   "cell_type": "code",
   "execution_count": 11,
   "metadata": {},
   "outputs": [
    {
     "name": "stdout",
     "output_type": "stream",
     "text": [
      "Python 3.11.4\n",
      "7 <class 'int'>\n"
     ]
    }
   ],
   "source": [
    "!python -V          #проверка версии Пайтон\n",
    "x = 7\n",
    "print(x, type(x))   #вывод значения и типа переменной"
   ]
  },
  {
   "cell_type": "code",
   "execution_count": 12,
   "metadata": {},
   "outputs": [
    {
     "name": "stdout",
     "output_type": "stream",
     "text": [
      "8\n",
      "6\n",
      "14\n",
      "49\n",
      "3.5\n",
      "3\n",
      "1\n"
     ]
    }
   ],
   "source": [
    "print(x + 1)   # Сложение;\n",
    "print(x - 1)   # Вычитание;\n",
    "print(x * 2)   # Умножение;\n",
    "print(x ** 2)  # Возведение в степень;\n",
    "print(x/2)     # Деление\n",
    "print(x//2)    # Целочисленное деление\n",
    "print(x%2)     # Остаток от деления"
   ]
  },
  {
   "cell_type": "code",
   "execution_count": 13,
   "metadata": {},
   "outputs": [
    {
     "name": "stdout",
     "output_type": "stream",
     "text": [
      "8\n",
      "16\n"
     ]
    }
   ],
   "source": [
    "x += 1    # x=x+1\n",
    "print(x)  \n",
    "x *= 2    # x=x*2\n",
    "print(x) "
   ]
  },
  {
   "cell_type": "code",
   "execution_count": 14,
   "metadata": {},
   "outputs": [
    {
     "name": "stdout",
     "output_type": "stream",
     "text": [
      "<class 'float'>\n",
      "0.5 1.5 1.0 0.25\n"
     ]
    }
   ],
   "source": [
    "y = 0.5\n",
    "print(type(y)) # Печатает \"<type 'float'>\"\n",
    "print(y, y + 1, y * 2, y ** 2) "
   ]
  },
  {
   "cell_type": "markdown",
   "metadata": {},
   "source": [
    "Обратите внимание: в отличие от многих языков Python не имеет унарных инкрементов (x++) или декрементов (x--).\n",
    "Python также имеет встроенные типы для работы с длинными целыми чиселами и комплексных числами."
   ]
  },
  {
   "cell_type": "markdown",
   "metadata": {},
   "source": [
    "#### Получение ввода от пользователя\n",
    "\n",
    "Встроенная функция input вводит данные с клавиатуры и всегда возвращает их в виде строки, например:"
   ]
  },
  {
   "cell_type": "code",
   "execution_count": 15,
   "metadata": {},
   "outputs": [
    {
     "name": "stdout",
     "output_type": "stream",
     "text": [
      "Введите Ваше имя?Константин\n"
     ]
    },
    {
     "data": {
      "text/plain": [
       "'Константин'"
      ]
     },
     "execution_count": 15,
     "metadata": {},
     "output_type": "execute_result"
    }
   ],
   "source": [
    "name = input(\"Введите Ваше имя?\")\n",
    "name"
   ]
  },
  {
   "cell_type": "markdown",
   "metadata": {},
   "source": [
    "Если Вам необходимо, например, запросить у пользователя целое число, то преобразуйте строку, возращаемую функцией input в число функцией int:"
   ]
  },
  {
   "cell_type": "code",
   "execution_count": 16,
   "metadata": {},
   "outputs": [
    {
     "name": "stdout",
     "output_type": "stream",
     "text": [
      "Введите целое число: 20\n"
     ]
    },
    {
     "data": {
      "text/plain": [
       "20"
      ]
     },
     "execution_count": 16,
     "metadata": {},
     "output_type": "execute_result"
    }
   ],
   "source": [
    "value = int(input('Введите целое число: '))\n",
    "value"
   ]
  },
  {
   "cell_type": "markdown",
   "metadata": {},
   "source": [
    "Если строка, переданная int, не может быть преобразована в целое число, то происходит ошибка ValueError.\n",
    "Для преобразования строк в числа с плавающей точкой используется встроенная функция float."
   ]
  },
  {
   "cell_type": "markdown",
   "metadata": {},
   "source": [
    "##### Логические переменные и операции"
   ]
  },
  {
   "cell_type": "markdown",
   "metadata": {},
   "source": [
    "Python реализует все обычные операции булевой логики. Для обозначения таких операций используются английские слова, а не символы (`&&`, `||` и т. д.)."
   ]
  },
  {
   "cell_type": "code",
   "execution_count": 17,
   "metadata": {},
   "outputs": [
    {
     "name": "stdout",
     "output_type": "stream",
     "text": [
      "<class 'bool'>\n"
     ]
    }
   ],
   "source": [
    "t, f = True, False # Логические константы\n",
    "print(type(t))     # Выводит \"<type 'bool'>\""
   ]
  },
  {
   "cell_type": "markdown",
   "metadata": {},
   "source": [
    "Логические операции:"
   ]
  },
  {
   "cell_type": "code",
   "execution_count": 18,
   "metadata": {},
   "outputs": [
    {
     "name": "stdout",
     "output_type": "stream",
     "text": [
      "False\n",
      "True\n",
      "False\n",
      "True\n"
     ]
    }
   ],
   "source": [
    "print(t and f) # Логическое И;\n",
    "print(t or f)  # Логическое ИЛИ;\n",
    "print(not t)   # Логическое отрицание;\n",
    "print(t != f)  # Исключающее ИЛИ;"
   ]
  },
  {
   "cell_type": "markdown",
   "metadata": {},
   "source": [
    "##### Строки"
   ]
  },
  {
   "cell_type": "markdown",
   "metadata": {},
   "source": [
    "Python имеет встроенный строковый тип (класс) str. Сроковая константа заключается в одинарные или двойные кавычки: ‘hellow’, “hellow”. Оператор  “+” позволяет выполнить конкатенацию строк:"
   ]
  },
  {
   "cell_type": "code",
   "execution_count": 19,
   "metadata": {},
   "outputs": [
    {
     "name": "stdout",
     "output_type": "stream",
     "text": [
      "hellow 6\n"
     ]
    }
   ],
   "source": [
    "hello = 'hellow'   \n",
    "world = \"world\"   \n",
    "print(hello, len(hello))"
   ]
  },
  {
   "cell_type": "code",
   "execution_count": 20,
   "metadata": {},
   "outputs": [
    {
     "name": "stdout",
     "output_type": "stream",
     "text": [
      "hellow world\n"
     ]
    }
   ],
   "source": [
    "hw = hello + ' ' + world  # Конкатенация\n",
    "print(hw)  # Выводит \"hello world\""
   ]
  },
  {
   "cell_type": "markdown",
   "metadata": {},
   "source": [
    "Python позволяет сохранять не только строки, но и целые строковые выражения в переменных. Например, можно сохранить в строковой переменной строку, определяющую формат печати переменных:"
   ]
  },
  {
   "cell_type": "code",
   "execution_count": 21,
   "metadata": {},
   "outputs": [
    {
     "name": "stdout",
     "output_type": "stream",
     "text": [
      "hellow world 12\n"
     ]
    }
   ],
   "source": [
    "hw12 = '%s %s %d' % (hello, world, 12)  # строка форматирования в духе функции sprintf языка Си: %s,%d - специкаторы формата\n",
    "print(hw12)  # выводит \"hello world 12\""
   ]
  },
  {
   "cell_type": "markdown",
   "metadata": {},
   "source": [
    "Строковые объекты имеют множество полезных методов. Вызов метода выполняется с помощью составного оператора, состоящего из имени объекта, точки и имени метода,  например:"
   ]
  },
  {
   "cell_type": "code",
   "execution_count": 22,
   "metadata": {},
   "outputs": [
    {
     "name": "stdout",
     "output_type": "stream",
     "text": [
      "Hellow\n",
      "HELLOW\n",
      "  hellow\n",
      " hellow \n",
      "he(ell)(ell)ow\n",
      "world\n"
     ]
    }
   ],
   "source": [
    "s = \"hellow\"\n",
    "print(s.capitalize())  # Преобразование первой буквы в заглавную\n",
    "print(s.upper())       # Преобразование всех букв строки в заглавные\n",
    "print(s.rjust(8))      # Выравнивание строки по правому краю поля (длина поля 8 позиций), дополнение пробелами слева\n",
    "print(s.center(8))     # Центрирование строки, дополнение пробелами\n",
    "print(s.replace('l', '(ell)'))  # Замена всех экземпляров одной подстроки другой подстрокой\n",
    "                                # выводит \"he(ell)(ell)o\"\n",
    "print('  world '.strip())  # Удаление ведущих и концевых пробелов строки"
   ]
  },
  {
   "cell_type": "markdown",
   "metadata": {},
   "source": [
    "Cтроки являются неизменяемыми — это означает, что их нельзя модифицировать в программе. Вы можете прочитать отдельные символы в строке, но при попытке присвоить новое значение одному из символов строки будет ошибка TypeError:"
   ]
  },
  {
   "cell_type": "code",
   "execution_count": 23,
   "metadata": {},
   "outputs": [
    {
     "name": "stdout",
     "output_type": "stream",
     "text": [
      "h\n"
     ]
    },
    {
     "ename": "TypeError",
     "evalue": "'str' object does not support item assignment",
     "output_type": "error",
     "traceback": [
      "\u001b[1;31m---------------------------------------------------------------------------\u001b[0m",
      "\u001b[1;31mTypeError\u001b[0m                                 Traceback (most recent call last)",
      "Cell \u001b[1;32mIn[23], line 3\u001b[0m\n\u001b[0;32m      1\u001b[0m s \u001b[38;5;241m=\u001b[39m \u001b[38;5;124m'\u001b[39m\u001b[38;5;124mhello\u001b[39m\u001b[38;5;124m'\u001b[39m\n\u001b[0;32m      2\u001b[0m \u001b[38;5;28mprint\u001b[39m(s[\u001b[38;5;241m0\u001b[39m]) \u001b[38;5;66;03m# Вывод первого символа строки\u001b[39;00m\n\u001b[1;32m----> 3\u001b[0m s[\u001b[38;5;241m0\u001b[39m] \u001b[38;5;241m=\u001b[39m \u001b[38;5;124m'\u001b[39m\u001b[38;5;124mH\u001b[39m\u001b[38;5;124m'\u001b[39m\n",
      "\u001b[1;31mTypeError\u001b[0m: 'str' object does not support item assignment"
     ]
    }
   ],
   "source": [
    "s = 'hello'\n",
    "print(s[0]) # Вывод первого символа строки\n",
    "s[0] = 'H'  # Попытка записи символа в строку"
   ]
  },
  {
   "cell_type": "markdown",
   "metadata": {},
   "source": [
    "Python предоставляет возможности форматирования выводимых значений с использованием форматных строк (f - строк). "
   ]
  },
  {
   "cell_type": "code",
   "execution_count": 24,
   "metadata": {},
   "outputs": [
    {
     "name": "stdout",
     "output_type": "stream",
     "text": [
      "Cреднее равно 15.67\n"
     ]
    }
   ],
   "source": [
    "average = 15.6666\n",
    "print(f'Cреднее равно {average:.2f}')"
   ]
  },
  {
   "cell_type": "markdown",
   "metadata": {},
   "source": [
    "Буква f перед открывающей кавычкой строки означает, что это форматная строка. Чтобы указать, куда с выводимой строке должно вставляться значение, используйте поля в фигурных скобках {  }. Поле с переменной {average} преобразует значение переменной average в строковое представление, а затем меняет {average} на заменяющий текст. В форматной строке за переменной (выражением) может следовать двоеточие (:) и форматный спецификатор, который описывает, как должен форматироваться заменяющий текст. Форматный спецификатор .2f форматирует average  при выводе как число с плавающей точкой (f) с двумя цифрами в дробной части (.2). Выражения в фигурных скобках (в поле) могут содержать значения, переменные или другие выражения (например, вычисления или вызовы функций).\n",
    "\n",
    "В приведенном примере спецификатор ‘.2f’ определял тип представления переменной. Существуют и другие типы представлений (b, o, x и X), форматирующие целые числа для представления в двоичной, восьмеричной и шестнадцатеричной системах счисления. "
   ]
  },
  {
   "cell_type": "markdown",
   "metadata": {},
   "source": [
    "Чтобы узнать, какие методы Python предоставляет для работы с тем или иным типом данных, используйте команду dir. Например, перечень методов для работы со строками можно получить, напечатав:\n",
    "\n",
    "s=’abc’\n",
    "dir(s)\n",
    "\n",
    "Чтобы получить описание того или иного метода используйте help, например: "
   ]
  },
  {
   "cell_type": "code",
   "execution_count": 25,
   "metadata": {},
   "outputs": [
    {
     "name": "stdout",
     "output_type": "stream",
     "text": [
      "Help on built-in function find:\n",
      "\n",
      "find(...) method of builtins.str instance\n",
      "    S.find(sub[, start[, end]]) -> int\n",
      "    \n",
      "    Return the lowest index in S where substring sub is found,\n",
      "    such that sub is contained within S[start:end].  Optional\n",
      "    arguments start and end are interpreted as in slice notation.\n",
      "    \n",
      "    Return -1 on failure.\n",
      "\n"
     ]
    }
   ],
   "source": [
    "help(s.find)"
   ]
  },
  {
   "cell_type": "markdown",
   "metadata": {},
   "source": [
    "#### Контейнеры"
   ]
  },
  {
   "cell_type": "markdown",
   "metadata": {},
   "source": [
    "Python включает несколько встроенных типов контейнеров: списки, словари, множества и кортежи."
   ]
  },
  {
   "cell_type": "markdown",
   "metadata": {},
   "source": [
    "##### Списки"
   ]
  },
  {
   "cell_type": "markdown",
   "metadata": {},
   "source": [
    "В списках (класс list) хранится последовательность изменяемых элементов. Он может изменять размер и может содержать элементы разных типов. Обращение к элементам списков выполняется с помощью индексов в квадратных скобках, например fruits[0] – первый элемент списка. "
   ]
  },
  {
   "cell_type": "code",
   "execution_count": 26,
   "metadata": {},
   "outputs": [
    {
     "data": {
      "text/plain": [
       "'apple'"
      ]
     },
     "execution_count": 26,
     "metadata": {},
     "output_type": "execute_result"
    }
   ],
   "source": [
    "fruits = ['apple', 'orange', 'pear', 'banana']  # создание списка\n",
    "fruits[0]                                       # обращение по индексу \n"
   ]
  },
  {
   "cell_type": "markdown",
   "metadata": {},
   "source": [
    "Python также допускает использование отрицательных индексов для обращения к элементам с конца списка. Например,  обращение к последнему и предпоследнему элементам списка: "
   ]
  },
  {
   "cell_type": "code",
   "execution_count": 27,
   "metadata": {},
   "outputs": [
    {
     "name": "stdout",
     "output_type": "stream",
     "text": [
      "banana\n",
      "pear\n"
     ]
    }
   ],
   "source": [
    "print(fruits[-1])  #1-ый с конца\n",
    "print(fruits[-2])  #2-ой с конца"
   ]
  },
  {
   "cell_type": "markdown",
   "metadata": {},
   "source": [
    "Можно индексировать несколько смежных элементов списка одновременно с помощью операторов среза (сегментирования). Например, fruits[1:3] возвращает список, содержащий элементы в позициях 1 и 2. В общем, fruits[start: stop] вернет элементы в позициях start, start + 1, ..., stop-1. Обращение fruits[start:] вернет все элементы списка, начиная с индекса start. Также fruits[:end] вернет все элементы c начала списка и до элемента в позиции end. Примеры:"
   ]
  },
  {
   "cell_type": "code",
   "execution_count": 28,
   "metadata": {},
   "outputs": [
    {
     "name": "stdout",
     "output_type": "stream",
     "text": [
      "['apple', 'orange']\n",
      "['apple', 'orange', 'pear']\n",
      "['pear', ' banana']\n",
      "['apple', 'orange', 'pear']\n",
      "['apple', 'orange', 'pear', ' banana']\n",
      "['apple', 'appricot', 'peach', ' banana']\n"
     ]
    },
    {
     "data": {
      "text/plain": [
       "4"
      ]
     },
     "execution_count": 28,
     "metadata": {},
     "output_type": "execute_result"
    }
   ],
   "source": [
    "fruits=['apple', 'orange', 'pear', ' banana']\n",
    "print(fruits[0:2])  #['apple', 'orange']\n",
    "print(fruits[:3])   #['apple', 'orange', 'pear']\n",
    "print(fruits[2:])   #['pear', 'banana']\n",
    "print(fruits[0:-1]) #['apple', 'orange', 'pear']\n",
    "print(fruits[:])    #['apple', 'orange', 'pear', ' banana']\n",
    "fruits[1:3]=['appricot', 'peach'] #замена нескольких значений в сегменте\n",
    "print(fruits)\n",
    "len(fruits)  #4"
   ]
  },
  {
   "cell_type": "markdown",
   "metadata": {},
   "source": [
    "Можно создать список из целых чисел с помощью функций range() и list(). При этом вызов функции range(5) создает итерируемый объект, который формирует последовательность целых чисел от 0 и до значения аргумента 5, не включая последний, в данном случае 0, 1, 2, 3, 4. Функция list создает из этой последовательности чисел список:"
   ]
  },
  {
   "cell_type": "code",
   "execution_count": 29,
   "metadata": {},
   "outputs": [
    {
     "name": "stdout",
     "output_type": "stream",
     "text": [
      "[0, 1, 2, 3, 4]\n"
     ]
    }
   ],
   "source": [
    "nums=list(range(5)) #range формирует последовательность от 0 до 4\n",
    "print(nums)"
   ]
  },
  {
   "cell_type": "markdown",
   "metadata": {},
   "source": [
    "Для работы со списками в Python имеется большой набор встроенных методов. Например:"
   ]
  },
  {
   "cell_type": "code",
   "execution_count": 30,
   "metadata": {},
   "outputs": [
    {
     "name": "stdout",
     "output_type": "stream",
     "text": [
      "['apple', 'appricot', 'peach', ' banana']\n",
      " banana\n",
      "['apple', 'appricot', 'peach']\n",
      "['apple', 'appricot', 'peach', 'grapefruit']\n",
      "['apple', 'appricot', 'peach', 'pineapple']\n",
      "['grapefruit', 'apple', 'appricot', 'peach', 'pineapple']\n",
      "['apple', 'appricot', 'grapefruit', 'peach', 'pineapple']\n",
      "['pineapple', 'peach', 'grapefruit', 'appricot', 'apple']\n"
     ]
    }
   ],
   "source": [
    "print(fruits)\n",
    "print(fruits.pop())\t\t\t\t        #удаляет последний эл-т и возвращает его\n",
    "print(fruits)\t\t\t\t\t        #состояние списка после pop\n",
    "fruits.append('grapefruit')\t\t        # добавляет в конец спиcка\n",
    "print(fruits)    \t                    #состояние списка после добавления\n",
    "fruits[-1] = 'pineapple'\t\t\t    #заменить последний эл-т\n",
    "print(fruits)                       \t#состояние после замены\n",
    "fruits. insert(0, 'grapefruit')\t        #вставка эл-та в заданную позицию\n",
    "print(fruits)\n",
    "fruits.sort()                           #сортировка по возрастанию\n",
    "print(fruits)\n",
    "fruits.sort(reverse=True)               #сортировка по убыванию\n",
    "print(fruits)"
   ]
  },
  {
   "cell_type": "markdown",
   "metadata": {},
   "source": [
    "Часто бывает нужно определить, содержит ли список (последовательность) значение, соответствующее заданному ключу поиска. У списков имеется метод index, которому передается ключ поиска в качестве аргумента. Метод начинает поиск с индекса 0 и возвращает индекс первого элемента, который равен ключу поиска. Если искомое значение отсутствует в списке, то происходит ошибка ValueError. "
   ]
  },
  {
   "cell_type": "code",
   "execution_count": 31,
   "metadata": {},
   "outputs": [
    {
     "data": {
      "text/plain": [
       "6"
      ]
     },
     "execution_count": 31,
     "metadata": {},
     "output_type": "execute_result"
    }
   ],
   "source": [
    "numbers = [3, 7, 1, 4, 2, 8, 5, 6]\n",
    "numbers.index(5)\t\t\t           # 5 – ключ поиска"
   ]
  },
  {
   "cell_type": "markdown",
   "metadata": {},
   "source": [
    "Оператор in проверяет, содержит ли итерируемый объект, каковым является список, заданное значение:"
   ]
  },
  {
   "cell_type": "code",
   "execution_count": 32,
   "metadata": {},
   "outputs": [
    {
     "name": "stdout",
     "output_type": "stream",
     "text": [
      "False\n"
     ]
    },
    {
     "data": {
      "text/plain": [
       "True"
      ]
     },
     "execution_count": 32,
     "metadata": {},
     "output_type": "execute_result"
    }
   ],
   "source": [
    "print(1000 in numbers)\n",
    "5 in numbers"
   ]
  },
  {
   "cell_type": "markdown",
   "metadata": {},
   "source": [
    "Элементы, хранящиеся в списках, могут быть любого типа. Так, например, элементами списка могут быть списки:"
   ]
  },
  {
   "cell_type": "code",
   "execution_count": 33,
   "metadata": {},
   "outputs": [
    {
     "name": "stdout",
     "output_type": "stream",
     "text": [
      "3\n",
      "c\n"
     ]
    },
    {
     "data": {
      "text/plain": [
       "[['a', 'b'], [1, 2, 3], ['one', 'two', 'three']]"
      ]
     },
     "execution_count": 33,
     "metadata": {},
     "output_type": "execute_result"
    }
   ],
   "source": [
    "lstOfLsts = [['a', 'b', 'c'], [1, 2, 3], ['one', 'two', 'three']]\n",
    "print(lstOfLsts[1][2])      # выведет 3\n",
    "print(lstOfLsts[0].pop())   # выведет 'с'\n",
    "lstOfLsts"
   ]
  },
  {
   "cell_type": "markdown",
   "metadata": {},
   "source": [
    "Как обычно, вы можете получить детальные сведения о методах обработки списков с использованием команд dir и help."
   ]
  },
  {
   "cell_type": "markdown",
   "metadata": {},
   "source": [
    "##### Циклы"
   ]
  },
  {
   "cell_type": "markdown",
   "metadata": {},
   "source": [
    "Вы можете перебирать элементы списка, используя цикл. Например:"
   ]
  },
  {
   "cell_type": "code",
   "execution_count": 34,
   "metadata": {},
   "outputs": [
    {
     "name": "stdout",
     "output_type": "stream",
     "text": [
      "cat\n",
      "dog\n",
      "monkey\n",
      "horse\n"
     ]
    }
   ],
   "source": [
    "animals = ['cat', 'dog', 'monkey','horse']\n",
    "for animal in animals:\n",
    "    print(animal)"
   ]
  },
  {
   "cell_type": "markdown",
   "metadata": {},
   "source": [
    "Если вы хотите получить доступ к индексу каждого элемента в теле цикла, используйте встроенную функцию `enumerate`:"
   ]
  },
  {
   "cell_type": "code",
   "execution_count": 35,
   "metadata": {},
   "outputs": [
    {
     "name": "stdout",
     "output_type": "stream",
     "text": [
      "#1: cat\n",
      "#2: dog\n",
      "#3: monkey\n",
      "#4: horse\n"
     ]
    }
   ],
   "source": [
    "#animals = ['cat', 'dog', 'monkey']\n",
    "for idx, animal in enumerate(animals):\n",
    "    print('#%d: %s' % (idx + 1, animal))"
   ]
  },
  {
   "cell_type": "markdown",
   "metadata": {},
   "source": [
    "##### Списковое включение"
   ]
  },
  {
   "cell_type": "markdown",
   "metadata": {},
   "source": [
    "При программировании часто необходимо выполнять преобразование (**отображение**) одиного списка в другой. В качестве простого примера рассмотрим следующий код, который на основе списка чисел формирует список квадратов этих чисел:"
   ]
  },
  {
   "cell_type": "code",
   "execution_count": 36,
   "metadata": {},
   "outputs": [
    {
     "name": "stdout",
     "output_type": "stream",
     "text": [
      "[0, 1, 4, 9, 16, 25]\n"
     ]
    }
   ],
   "source": [
    "nums = [0, 1, 2, 3, 4, 5]\n",
    "squares = []\n",
    "for x in nums:\n",
    "    squares.append(x ** 2)\n",
    "print(squares)"
   ]
  },
  {
   "cell_type": "markdown",
   "metadata": {},
   "source": [
    "Для отображения одного списка в другой в Python используют более эффективноную конструкцию **спискового включения** (list comprehensions), которая обеспечивает компактную замену конструкции с for:"
   ]
  },
  {
   "cell_type": "code",
   "execution_count": 37,
   "metadata": {},
   "outputs": [
    {
     "name": "stdout",
     "output_type": "stream",
     "text": [
      "[0, 1, 4, 9, 16, 49]\n"
     ]
    }
   ],
   "source": [
    "nums = [0, 1, 2, 3, 4, 7]\n",
    "squares = [x ** 2 for x in nums]  # списковое включение\n",
    "print(squares)"
   ]
  },
  {
   "cell_type": "markdown",
   "metadata": {},
   "source": [
    "Другая распространенная операция со списками — это **фильтрация** элементов списка и отбор только тех элементов, которые удовле-творяют заданному условию. Как правило, при этом строится список с меньшим количеством элементов, чем в исходном списке. Чтобы выполнить подобную операцию с использованием спискового включения, используйте секцию if. Следующий фрагмент кода демонстрирует простое отображение и фильтрацию с помощью спискового включения:"
   ]
  },
  {
   "cell_type": "code",
   "execution_count": 38,
   "metadata": {},
   "outputs": [
    {
     "name": "stdout",
     "output_type": "stream",
     "text": [
      "[0, 4, 16, 64]\n"
     ]
    }
   ],
   "source": [
    "nums = [0, 1, 2, 3, 4, 7, 8]\n",
    "even_squares = [x ** 2 for x in nums if x % 2 == 0] # создание списка квадратов четных элементов\n",
    "print(even_squares)"
   ]
  },
  {
   "cell_type": "markdown",
   "metadata": {},
   "source": [
    "##### Словари"
   ]
  },
  {
   "cell_type": "markdown",
   "metadata": {},
   "source": [
    "Словарь (класс dict) хранит пары *ключ:значение*, заключаемые в фигурные скобки. Ключ должен быть неизменяемым типом (строка, число или кортеж). Значение может быть любым типом данных Python. Примеры основных операций со словарями:"
   ]
  },
  {
   "cell_type": "code",
   "execution_count": 39,
   "metadata": {},
   "outputs": [
    {
     "name": "stdout",
     "output_type": "stream",
     "text": [
      "cute\n",
      "True\n"
     ]
    }
   ],
   "source": [
    "d = {'cat': 'cute', 'dog': 'furry'}  # Создание словаря\n",
    "print(d['cat'])       # Поиск значения по ключу 'cat' в словаре d и печать найденного значения 'cute'\n",
    "print('cat' in d)     # Проверка вхождения заданного ключа в словарь и печать True"
   ]
  },
  {
   "cell_type": "code",
   "execution_count": 40,
   "metadata": {},
   "outputs": [
    {
     "name": "stdout",
     "output_type": "stream",
     "text": [
      "wet\n"
     ]
    }
   ],
   "source": [
    "d['fish'] = 'wet'    # Добавление пары 'fish':'wet' в словарь d\n",
    "print(d['fish'])    # Поиск значения ключа fish и печать результата 'wet'"
   ]
  },
  {
   "cell_type": "code",
   "execution_count": 41,
   "metadata": {},
   "outputs": [
    {
     "ename": "KeyError",
     "evalue": "'monkey'",
     "output_type": "error",
     "traceback": [
      "\u001b[1;31m---------------------------------------------------------------------------\u001b[0m",
      "\u001b[1;31mKeyError\u001b[0m                                  Traceback (most recent call last)",
      "Cell \u001b[1;32mIn[41], line 1\u001b[0m\n\u001b[1;32m----> 1\u001b[0m \u001b[38;5;28mprint\u001b[39m(d[\u001b[38;5;124m'\u001b[39m\u001b[38;5;124mmonkey\u001b[39m\u001b[38;5;124m'\u001b[39m])\n",
      "\u001b[1;31mKeyError\u001b[0m: 'monkey'"
     ]
    }
   ],
   "source": [
    "print(d['monkey'])  # Ошибка KeyError, если ключ отсутствует в словаре"
   ]
  },
  {
   "cell_type": "code",
   "execution_count": 42,
   "metadata": {},
   "outputs": [
    {
     "name": "stdout",
     "output_type": "stream",
     "text": [
      "N/A\n",
      "wet\n"
     ]
    }
   ],
   "source": [
    "print(d.get('monkey', 'N/A'))  # Извлечение значения по ключу, если ключ отсутвует то печать 'N/A'\n",
    "print(d.get('fish', 'N/A'))    "
   ]
  },
  {
   "cell_type": "code",
   "execution_count": 43,
   "metadata": {},
   "outputs": [
    {
     "name": "stdout",
     "output_type": "stream",
     "text": [
      "N/A\n"
     ]
    }
   ],
   "source": [
    "del d['fish']        # Удаление элемента (ключ:значение) из словаря\n",
    "print(d.get('fish', 'N/A')) # \"fish\" больше не является ключом; печать \"N/A\""
   ]
  },
  {
   "cell_type": "markdown",
   "metadata": {},
   "source": [
    "Пример поиска значений в словаре с перебором ключей в цикле:"
   ]
  },
  {
   "cell_type": "code",
   "execution_count": 44,
   "metadata": {},
   "outputs": [
    {
     "name": "stdout",
     "output_type": "stream",
     "text": [
      "человек имеет 2 ног(и)\n",
      "кошка имеет 4 ног(и)\n",
      "паук имеет 8 ног(и)\n"
     ]
    }
   ],
   "source": [
    "d = {'человек': 2, 'кошка': 4, 'паук': 8}\n",
    "for animal in d:\n",
    "    legs = d[animal]\n",
    "    print('%s имеет %d ног(и)' % (animal, legs))"
   ]
  },
  {
   "cell_type": "markdown",
   "metadata": {},
   "source": [
    "Если вы хотите получить одновременный доступ к ключам и соответствующим значениям, используйте метод items. Обратите внимание, что метод items возвращает пары ключ:значение – в форме списка кортежей:"
   ]
  },
  {
   "cell_type": "code",
   "execution_count": 45,
   "metadata": {},
   "outputs": [
    {
     "name": "stdout",
     "output_type": "stream",
     "text": [
      "dict_items([('человек', 2), ('кошка', 4), ('паук', 8)])\n",
      "человек имеет 2 ног(и)\n",
      "кошка имеет 4 ног(и)\n",
      "паук имеет 8 ног(и)\n"
     ]
    }
   ],
   "source": [
    "d = {'человек': 2, 'кошка': 4, 'паук': 8}\n",
    "print(d.items())\n",
    "for animal, legs in d.items():\n",
    "    print('%s имеет %d ног(и)' % (animal, legs))"
   ]
  },
  {
   "cell_type": "markdown",
   "metadata": {},
   "source": [
    "При работе со словарями можно использовать **словарные включения**, которые похожи на списковые включения. Например:"
   ]
  },
  {
   "cell_type": "code",
   "execution_count": 46,
   "metadata": {},
   "outputs": [
    {
     "name": "stdout",
     "output_type": "stream",
     "text": [
      "{0: 0, 2: 4, 4: 16}\n"
     ]
    }
   ],
   "source": [
    "nums = [0, 1, 2, 3, 4, 5]\n",
    "even_num_to_square = {x: x ** 2 for x in nums if x % 2 == 0}\n",
    "print(even_num_to_square)"
   ]
  },
  {
   "cell_type": "markdown",
   "metadata": {},
   "source": [
    "##### Множества"
   ]
  },
  {
   "cell_type": "markdown",
   "metadata": {},
   "source": [
    "Множество в Python (класс set) – это неупорядоченная последовательность неповторяющихся элементов, разделяемых запятыми и заключаемыми в фигурные скобки:"
   ]
  },
  {
   "cell_type": "code",
   "execution_count": 47,
   "metadata": {},
   "outputs": [
    {
     "name": "stdout",
     "output_type": "stream",
     "text": [
      "{'cat', 'dog'}\n"
     ]
    },
    {
     "data": {
      "text/plain": [
       "set"
      ]
     },
     "execution_count": 47,
     "metadata": {},
     "output_type": "execute_result"
    }
   ],
   "source": [
    "animals = {'cat', 'dog'}  # Создание множества\n",
    "print(animals) \n",
    "type(animals)"
   ]
  },
  {
   "cell_type": "markdown",
   "metadata": {},
   "source": [
    "Множество можно также создать из списка с помощью функции set:"
   ]
  },
  {
   "cell_type": "code",
   "execution_count": 48,
   "metadata": {},
   "outputs": [
    {
     "name": "stdout",
     "output_type": "stream",
     "text": [
      "{'square', 'circle', 'triangle'}\n"
     ]
    }
   ],
   "source": [
    "shapes = ['circle', 'square', 'triangle', 'circle']  # список элементов\n",
    "setOfShapes = set(shapes)                            # создание множества из списка                     \n",
    "print(setOfShapes)"
   ]
  },
  {
   "cell_type": "markdown",
   "metadata": {},
   "source": [
    "Ниже представлены примеры, как добавлять/удалять элементы  множества, проверять, входит ли элемент во множество, и выполнять операции над множествами (разность, пересечение, объединение):"
   ]
  },
  {
   "cell_type": "code",
   "execution_count": 49,
   "metadata": {},
   "outputs": [
    {
     "name": "stdout",
     "output_type": "stream",
     "text": [
      "Рез-т добавления мн-во 1: {'polygon', 'square', 'circle', 'triangle'}\n",
      "Круг входит: True\n",
      "Ромб входит: False\n",
      "Мно-во 2: {'hexagon', 'circle', 'triangle'}\n",
      "Разность: {'square', 'polygon'}\n",
      "Пересечение: {'circle', 'triangle'}\n",
      "Объединение: {'polygon', 'square', 'triangle', 'hexagon', 'circle'}\n",
      "Удаление из мно-ва 1 элемента \"polygon\":\n",
      "{'square', 'circle', 'triangle'}\n"
     ]
    }
   ],
   "source": [
    "setOfShapes.add('polygon')\t\t\t\t                        # добавление элемента\n",
    "print('Рез-т добавления мн-во 1:', setOfShapes)\n",
    "print('Круг входит:','circle' in setOfShapes)\t\t\t\t\t# проверка принадлежности\n",
    "print('Ромб входит:','rhombus' in setOfShapes)\n",
    "favoriteShapes = ['circle', 'triangle', 'hexagon']               \n",
    "setOfFavoriteShapes = set(favoriteShapes)                       # создание мно-ва 2\n",
    "print('Мно-во 2:', setOfFavoriteShapes)\n",
    "print('Разность:', setOfShapes - setOfFavoriteShapes)\t\t\t# разность множеств\n",
    "print('Пересечение:', setOfShapes & setOfFavoriteShapes)\t\t# пересечение множеств\n",
    "print('Объединение:',setOfShapes | setOfFavoriteShapes)\t\t\t# объединение множеств\n",
    "print('Удаление из мно-ва 1 элемента \"polygon\":')\n",
    "setOfShapes.remove('polygon')                                   # удаление элемента\n",
    "print(setOfShapes)"
   ]
  },
  {
   "cell_type": "markdown",
   "metadata": {},
   "source": [
    "*Циклы*: Итерация по множеству имеет тот же синтаксис, что и итерация по списку; однако, поскольку множества неупорядочены, вы не можете знать о порядке, в котором вы выбираете элементы множества:"
   ]
  },
  {
   "cell_type": "code",
   "execution_count": 50,
   "metadata": {},
   "outputs": [
    {
     "name": "stdout",
     "output_type": "stream",
     "text": [
      "#1: fish\n",
      "#2: cat\n",
      "#3: dog\n"
     ]
    }
   ],
   "source": [
    "animals = {'cat', 'dog', 'fish'}\n",
    "for idx, animal in enumerate(animals):\n",
    "    print('#%d: %s' % (idx + 1, animal))       # Печатает \"#1: fish\", \"#2: dog\", \"#3: cat\""
   ]
  },
  {
   "cell_type": "markdown",
   "metadata": {},
   "source": [
    "**Включения множества**. Подобно спискам и словарям, мы можем легко создавать множества с использованием влючения множества:"
   ]
  },
  {
   "cell_type": "code",
   "execution_count": 51,
   "metadata": {},
   "outputs": [
    {
     "name": "stdout",
     "output_type": "stream",
     "text": [
      "{0, 1, 2, 3, 4, 5, 6}\n"
     ]
    }
   ],
   "source": [
    "from math import sqrt\n",
    "print({int(sqrt(x)) for x in range(37)})   # множество целочисленных корней чисел из диапазона 1..37"
   ]
  },
  {
   "cell_type": "markdown",
   "metadata": {},
   "source": [
    "##### Кортежи"
   ]
  },
  {
   "cell_type": "markdown",
   "metadata": {},
   "source": [
    "Кортеж (класс tuple) – упорядоченный список значений, отличающийся от списка тем, что может быть использован в качестве ключа в словаре и в качестве элемента множества. Чтобы создать пустой кортеж, используйте пустые круглые скобки. Для упаковки элементов в кортеж можно просто перечислить их, разделяя запятыми. При создании элементы кортежа также можно заключать в круглые скобки (хотя это и не обязательно). Когда Python выводит кортеж, он всегда отображает его содержимое в круглых скобках. Примеры:"
   ]
  },
  {
   "cell_type": "code",
   "execution_count": 52,
   "metadata": {},
   "outputs": [
    {
     "name": "stdout",
     "output_type": "stream",
     "text": [
      "('John', 'Green', 3.3)\n",
      "John\n",
      "3 5\n"
     ]
    }
   ],
   "source": [
    "student_tuple = ()                       # пустой кортеж\n",
    "len(student_tuple)\n",
    "\n",
    "student_tuple = 'John', 'Green', 3.3\t# создание кортежа\n",
    "print(student_tuple)\n",
    "print(student_tuple[0])\t\t\t\t    # обращение по индексу к элементу кортежа\n",
    "\n",
    "pair = (3, 5)  \t\t                    # упаковка значений в кортеж\n",
    "x, y = pair \t\t                    # распаковка (извлечение) кортежа\n",
    "print(x, y)\n",
    "\n"
   ]
  },
  {
   "cell_type": "code",
   "execution_count": 53,
   "metadata": {},
   "outputs": [
    {
     "name": "stdout",
     "output_type": "stream",
     "text": [
      "<class 'tuple'>\n",
      "5\n",
      "1\n"
     ]
    }
   ],
   "source": [
    "d = {(x, x + 1): x for x in range(10)}  # Создание словаря с ключами в виде кортежей\n",
    "t = (5, 6)                              # Прямое создание кортежа\n",
    "print(type(t))\n",
    "print(d[t])                             # Поиск в словаре по ключу (5,6)     \n",
    "print(d[(1, 2)])                        # Поиск в словаре по ключу (1,2)"
   ]
  },
  {
   "cell_type": "markdown",
   "metadata": {},
   "source": [
    "Кортеж похож на список, за исключением того, что это неизменяемая структура. Попытка изменить неизменяемую структуру вызывает исключение:"
   ]
  },
  {
   "cell_type": "code",
   "execution_count": 54,
   "metadata": {},
   "outputs": [
    {
     "ename": "TypeError",
     "evalue": "'tuple' object does not support item assignment",
     "output_type": "error",
     "traceback": [
      "\u001b[1;31m---------------------------------------------------------------------------\u001b[0m",
      "\u001b[1;31mTypeError\u001b[0m                                 Traceback (most recent call last)",
      "Cell \u001b[1;32mIn[54], line 1\u001b[0m\n\u001b[1;32m----> 1\u001b[0m student_tuple[\u001b[38;5;241m0\u001b[39m]\u001b[38;5;241m=\u001b[39m\u001b[38;5;124m'\u001b[39m\u001b[38;5;124mNick\u001b[39m\u001b[38;5;124m'\u001b[39m\n",
      "\u001b[1;31mTypeError\u001b[0m: 'tuple' object does not support item assignment"
     ]
    }
   ],
   "source": [
    "student_tuple[0]='Nick'"
   ]
  },
  {
   "cell_type": "markdown",
   "metadata": {},
   "source": [
    "Тем не менее, можно добавлять элементы в кортеж, кортежи могут содержать изменяемые объекты: "
   ]
  },
  {
   "cell_type": "code",
   "execution_count": 55,
   "metadata": {},
   "outputs": [
    {
     "name": "stdout",
     "output_type": "stream",
     "text": [
      "Кортеж 1: (10, 20, 30)\n",
      "Кортеж 2: (10, 20, 30)\n",
      "Кортеж 1: (10, 20, 30, 40, 50)\n",
      "Кортеж 2: (10, 20, 30)\n"
     ]
    },
    {
     "data": {
      "text/plain": [
       "('Amanda', 'Blue', [98, 85, 87])"
      ]
     },
     "execution_count": 55,
     "metadata": {},
     "output_type": "execute_result"
    }
   ],
   "source": [
    "tuple1 = (10, 20, 30)\n",
    "print('Кортеж 1:',tuple1)\n",
    "tuple2 = tuple1\t\t                   # tuple 2 и tulple 1 ссылаются на один и тот же кортеж\n",
    "print('Кортеж 2:',tuple2)\n",
    "# добавление элементов в кортеж\n",
    "tuple1 += (40, 50)\t                   # справа от += должен быть кортеж\n",
    "print('Кортеж 1:',tuple1)\n",
    "print('Кортеж 2:',tuple2)\n",
    "# изменение списка в составе кортежа\n",
    "student_tuple = ('Amanda', 'Blue', [98, 75, 87])\n",
    "student_tuple[2][1] = 85               # элемент-список может изменяться\n",
    "student_tuple"
   ]
  },
  {
   "cell_type": "markdown",
   "metadata": {},
   "source": [
    "#### Функции"
   ]
  },
  {
   "cell_type": "markdown",
   "metadata": {},
   "source": [
    "Функции Python определяются с помощью ключевого слова `def`. Например:"
   ]
  },
  {
   "cell_type": "code",
   "execution_count": 56,
   "metadata": {},
   "outputs": [
    {
     "name": "stdout",
     "output_type": "stream",
     "text": [
      "negative\n",
      "zero\n",
      "positive\n"
     ]
    }
   ],
   "source": [
    "# определение функции\n",
    "def sign(x):\n",
    "    if x > 0:\n",
    "        return 'positive'\n",
    "    elif x < 0:\n",
    "        return 'negative'\n",
    "    else:\n",
    "        return 'zero'\n",
    "\n",
    "for x in [-1, 0, 1]:\n",
    "    print(sign(x))             # вызов функции"
   ]
  },
  {
   "cell_type": "markdown",
   "metadata": {},
   "source": [
    "Часто определяют функции с необязательными аргументами, например:"
   ]
  },
  {
   "cell_type": "code",
   "execution_count": 57,
   "metadata": {},
   "outputs": [
    {
     "name": "stdout",
     "output_type": "stream",
     "text": [
      "Hello, Bob\n",
      "HELLO, FRED!\n"
     ]
    }
   ],
   "source": [
    "def hello(name, loud=False):                # loud - необязательный аргумент, по умолчанию loud=False\n",
    "    if loud:\n",
    "        print('HELLO, %s!' % name.upper())\n",
    "    else:\n",
    "        print('Hello, %s' % name)\n",
    "\n",
    "hello('Bob')\n",
    "hello('Fred', loud=True)"
   ]
  },
  {
   "cell_type": "markdown",
   "metadata": {},
   "source": [
    "#### Классы"
   ]
  },
  {
   "cell_type": "markdown",
   "metadata": {},
   "source": [
    "\n",
    "Класс инкапсулирует данные и функции для взаимодействия с этими данными. Пример определения класса:"
   ]
  },
  {
   "cell_type": "code",
   "execution_count": 58,
   "metadata": {},
   "outputs": [
    {
     "name": "stdout",
     "output_type": "stream",
     "text": [
      "Hello, Fred\n",
      "HELLO, FRED!\n"
     ]
    }
   ],
   "source": [
    "class Greeter:\n",
    "\n",
    "    # Конструктор\n",
    "    def __init__(self, name):\n",
    "        self.name = name  # Атрибут класса\n",
    "\n",
    "    # Метод класса\n",
    "    # печатает приветствие строчными или заглавными буквами\n",
    "    def greet(self, loud=False):\n",
    "        if loud:\n",
    "            print('HELLO, %s!' % self.name.upper())\n",
    "        else:\n",
    "            print('Hello, %s' % self.name)\n",
    "\n",
    "g = Greeter('Fred')  # Создание объекта (экземпляра класса) путем вызова конструктура класса Greeter\n",
    "g.greet()            # Вызов метода объекта, печать \"Hello, Fred\"\n",
    "g.greet(loud=True)   # Вызов метода объекта, печать \"HELLO, FRED!\""
   ]
  },
  {
   "cell_type": "markdown",
   "metadata": {},
   "source": [
    "Возможна работа  с иерархией классов. В этом случае метод-конструктор __init__ каждого подкласса должен явно вызвать метод __init__ своего базового класса, чтобы инициализировать атрибуты данных, унаследованные от базового класса. Этот вызов должен быть первой командой в методе __init__ определяемого подкласса. Для такого вызова используется обязательная запись super().__init__ , которая применяет встроенную функцию super для поиска и вызова метода __init__ базового класса. Пример определения заголовка класса наследника Greeter:"
   ]
  },
  {
   "cell_type": "code",
   "execution_count": 59,
   "metadata": {},
   "outputs": [
    {
     "data": {
      "text/plain": [
       "'\\nclass СolorGreeter(Greeter):        # Базовым классом является Greeter\\n    # Конструктор\\n    def __init__(self,name, color):\\n        super().__init__(name)      # вызов конструктора базового класса\\n'"
      ]
     },
     "execution_count": 59,
     "metadata": {},
     "output_type": "execute_result"
    }
   ],
   "source": [
    "\"\"\"\n",
    "class СolorGreeter(Greeter):        # Базовым классом является Greeter\n",
    "    # Конструктор\n",
    "    def __init__(self,name, color):\n",
    "        super().__init__(name)      # вызов конструктора базового класса\n",
    "\"\"\""
   ]
  },
  {
   "cell_type": "markdown",
   "metadata": {},
   "source": [
    "##### <font color='red'>Задание</font>\n",
    "\n",
    "Создать класс, реализующий функционал учета рейтинга студентов **StudentsRating**. Класс должен иметь конструктор, который будет принимать список студентов с результатами сданных экзаменов, реализованый в виде словаря с ключем \"ФИО студента\" и оценками по экзаменам по 4 предметам (Программирование, Дискретная математика, Иностранный язык, Философия), представленными в виде кортежа. Например:\n",
    "\n",
    "`{\"Иванов Петр Николаевич\":(3,3,5,4), \"Петров Иван Константинович\":(5,4,5,4)}`\n",
    "\n",
    "Релизовать методы: \n",
    "- добавления студента с экзаменационными оценками;\n",
    "- удаления студента из рейтинга; \n",
    "- получениe списка студентов с рейтингом выше порогового;\n",
    "- демонстрации работы методов класса с выводом результатов на печать в виде текстовой таблицы.\n",
    "\n",
    "Примечание:\n",
    "Рейтинг - сумма баллов по всем предметам."
   ]
  },
  {
   "cell_type": "code",
   "execution_count": 60,
   "metadata": {},
   "outputs": [],
   "source": [
    "class StudentsRating():\n",
    "    \n",
    "    # Конструктор класс\n",
    "    def __init__(self, students):\n",
    "        self.students = students\n",
    "\n",
    "    # Добавление студента\n",
    "    def add_student(self, name, scores):\n",
    "        self.students[name] = scores\n",
    "\n",
    "    # Удаление студента\n",
    "    def remove_student(self, name):\n",
    "        del self.students[name]\n",
    "\n",
    "    # Получение списка студентов с рейтингом выше порогового\n",
    "    def get_higher_scores(self, threshold):\n",
    "        return [name for name, scores in self.students.items() if sum(scores) > threshold]\n",
    "\n",
    "    # Печать таблицы с рейтингом студентов\n",
    "    def print_rating_table(self):\n",
    "        print(\"Рейтинг студентов:\")\n",
    "        \n",
    "        print(\"{:<30} {:<12} {:<12} {:<10} {:<10} {:<10}\".format(\n",
    "            \"Имя\", \"Програм-ние\", \"Дискр. мат.\", \"Ин. язык\", \"Философия\", \"Всего\")\n",
    "        )\n",
    "\n",
    "        for name, scores in self.students.items():\n",
    "            total_score = sum(scores)\n",
    "            print(\"{:<30} {:<12} {:<12} {:<10} {:<10} {:<10}\".format(\n",
    "                name, scores[0], scores[1], scores[2], scores[3], total_score)\n",
    "            )  "
   ]
  },
  {
   "cell_type": "code",
   "execution_count": 61,
   "metadata": {},
   "outputs": [
    {
     "name": "stdout",
     "output_type": "stream",
     "text": [
      "Иванов Петр Николаевич\n",
      "Васин Илья Никитич\n",
      "\n",
      "Рейтинг студентов:\n",
      "Имя                            Програм-ние  Дискр. мат.  Ин. язык   Философия  Всего     \n",
      "Иванов Петр Николаевич         3            3            5          4          15        \n",
      "Васин Илья Никитич             5            5            5          5          20        \n",
      "Брахназаров Святан Кузнеевич   2            2            3          5          12        \n"
     ]
    }
   ],
   "source": [
    "d = {\"Иванов Петр Николаевич\": (3, 3, 5, 4), \"Петров Иван Константинович\": (5, 4, 5, 4)}\n",
    "rating = StudentsRating(d)\n",
    "\n",
    "rating.add_student(\"Васин Илья Никитич\", (5, 5, 5, 5))\n",
    "rating.add_student(\"Брахназаров Святан Кузнеевич\", (2, 2, 3, 5))\n",
    "rating.remove_student(\"Петров Иван Константинович\")\n",
    "\n",
    "print(*rating.get_higher_scores(12), sep='\\n', end='\\n\\n')\n",
    "rating.print_rating_table()"
   ]
  },
  {
   "cell_type": "markdown",
   "metadata": {},
   "source": [
    "### Библиотека NumPy"
   ]
  },
  {
   "cell_type": "markdown",
   "metadata": {},
   "source": [
    "NumPy - это основная библиотека для научных вычислений на Python. Она предоставляет высокопроизводительный объект многомерных массивов и инструменты для работы с этими массивами. "
   ]
  },
  {
   "cell_type": "markdown",
   "metadata": {},
   "source": [
    "Чтобы использовать Numpy, сначала нужно импортировать пакет `numpy`:"
   ]
  },
  {
   "cell_type": "code",
   "execution_count": 2,
   "metadata": {},
   "outputs": [],
   "source": [
    "import numpy as np"
   ]
  },
  {
   "cell_type": "markdown",
   "metadata": {},
   "source": [
    "#### Массивы"
   ]
  },
  {
   "cell_type": "markdown",
   "metadata": {},
   "source": [
    "Массив NumPy представляет собой сетку элементов одного типа. Эта структура данных является ключевым компонентом библиотеки NumPy. Элементы массива NumPy индексируются кортежем целых неотрицательных чисел. Массивы NumPy похожи на списки Python, за исключением того, что они требуют меньше памяти и обычно быстрее, поскольку используют оптимизированный,прекомпилированный код на языке C\n",
    "\n",
    "Число измерений - это ранг массива; форма массива представляет собой набор целых чисел, дающий размер массива вдоль каждого измерения."
   ]
  },
  {
   "cell_type": "markdown",
   "metadata": {},
   "source": [
    "Мы можем инициализировать массивы numpy, используя списки Python, и обращаться к элементам массивов с использованием индексов в квадратных скобках, индексация начинается с нуля:"
   ]
  },
  {
   "cell_type": "code",
   "execution_count": 63,
   "metadata": {},
   "outputs": [
    {
     "name": "stdout",
     "output_type": "stream",
     "text": [
      "<class 'numpy.ndarray'> (3,) 1 2 3\n",
      "[5 2 3]\n"
     ]
    }
   ],
   "source": [
    "a = np.array([1, 2, 3])                     # создание массива ранга 1 (вектора)\n",
    "print(type(a), a.shape, a[0], a[1], a[2])   # вывод типа данных, формы массива, значений отдельных элементов массива\n",
    "a[0] = 5                                    # Изменение значения элемента массива по индексу\n",
    "print(a)                  "
   ]
  },
  {
   "cell_type": "code",
   "execution_count": 64,
   "metadata": {},
   "outputs": [
    {
     "name": "stdout",
     "output_type": "stream",
     "text": [
      "[[1 2 3]\n",
      " [4 5 6]]\n"
     ]
    }
   ],
   "source": [
    "b = np.array([[1, 2, 3], [4, 5, 6]])             # Создание массива ранга 2 (матрицы)\n",
    "print(b)"
   ]
  },
  {
   "cell_type": "code",
   "execution_count": 65,
   "metadata": {},
   "outputs": [
    {
     "name": "stdout",
     "output_type": "stream",
     "text": [
      "(2, 3)\n",
      "1 2 4\n"
     ]
    }
   ],
   "source": [
    "print(b.shape)                     # вывод формы массива --> кортеж (2, 3)               \n",
    "print(b[0, 0], b[0, 1], b[1, 0])   # вывод элементов матрицы: первая цифра - номер строки, вторая - номер столбца"
   ]
  },
  {
   "cell_type": "markdown",
   "metadata": {},
   "source": [
    "Numpy также предоставляет множество функций для создания массивов:\n"
   ]
  },
  {
   "cell_type": "code",
   "execution_count": 66,
   "metadata": {},
   "outputs": [
    {
     "name": "stdout",
     "output_type": "stream",
     "text": [
      "[[0. 0.]\n",
      " [0. 0.]]\n"
     ]
    }
   ],
   "source": [
    "a = np.zeros((2, 2))  # Создание массива со всеми нулями\n",
    "print(a)"
   ]
  },
  {
   "cell_type": "code",
   "execution_count": 67,
   "metadata": {},
   "outputs": [
    {
     "name": "stdout",
     "output_type": "stream",
     "text": [
      "[[1. 1.]]\n"
     ]
    }
   ],
   "source": [
    "b = np.ones((1, 2))   # Создание массива со всеми единицами\n",
    "print(b)"
   ]
  },
  {
   "cell_type": "code",
   "execution_count": 68,
   "metadata": {},
   "outputs": [
    {
     "name": "stdout",
     "output_type": "stream",
     "text": [
      "[[7 7]\n",
      " [7 7]]\n"
     ]
    }
   ],
   "source": [
    "c = np.full((2, 2), 7) # Создание массива с заполнением заданными константами\n",
    "print(c)"
   ]
  },
  {
   "cell_type": "code",
   "execution_count": 69,
   "metadata": {},
   "outputs": [
    {
     "name": "stdout",
     "output_type": "stream",
     "text": [
      "[[1. 0.]\n",
      " [0. 1.]]\n"
     ]
    }
   ],
   "source": [
    "d = np.eye(2)        # Создание единичной матрицы, размером 2x2 \n",
    "print(d)"
   ]
  },
  {
   "cell_type": "code",
   "execution_count": 3,
   "metadata": {},
   "outputs": [
    {
     "name": "stdout",
     "output_type": "stream",
     "text": [
      "[[0.4214139  0.51422886]\n",
      " [0.34047453 0.24837819]]\n"
     ]
    }
   ],
   "source": [
    "e = np.random.random((2, 2)) # Создание массива из вещественных случайных чисел в диапазоне [0,1) с равномерным распределением\n",
    "print(e)"
   ]
  },
  {
   "cell_type": "markdown",
   "metadata": {},
   "source": [
    "#### Типы данных"
   ]
  },
  {
   "cell_type": "markdown",
   "metadata": {},
   "source": [
    "Каждый массив numpy представляет собой набор элементов одного типа. Numpy предоставляет большой набор числовых типов данных, которые можно использовать для построения массивов. Numpy пытается угадать тип данных при создании массива, но функции, которые строят массивы, обычно также включают необязательный аргумент, чтобы явно указать тип данных. Например:"
   ]
  },
  {
   "cell_type": "code",
   "execution_count": 71,
   "metadata": {},
   "outputs": [
    {
     "name": "stdout",
     "output_type": "stream",
     "text": [
      "int32 float64 int64\n"
     ]
    }
   ],
   "source": [
    "x = np.array([1, 2])      # numpy определяет тип элемента по форме его записи (int32 - целый тип 32 бита)\n",
    "y = np.array([1.0, 2.0])  # numpy определяет тип элемента по форме его записи (float64 - вещественный тип 64 бита)\n",
    "z = np.array([1, 2], dtype=np.int64)  # Тип данных указан явно (int64 - целый тип 64 бита)\n",
    "\n",
    "print(x.dtype, y.dtype, z.dtype)"
   ]
  },
  {
   "cell_type": "markdown",
   "metadata": {},
   "source": [
    "Вы можете прочитать все о типах данных numpy в [документации](http://docs.scipy.org/doc/numpy/reference/arrays.dtypes.html)."
   ]
  },
  {
   "cell_type": "markdown",
   "metadata": {},
   "source": [
    "#### Атрибуты массивов"
   ]
  },
  {
   "cell_type": "markdown",
   "metadata": {},
   "source": [
    "При работе с массивами библиотеки NumPy можно получить полезную информацию о форме, размерностях массива, о типах данных элементов и занимаемом объеме данных. Примеры:"
   ]
  },
  {
   "cell_type": "code",
   "execution_count": 72,
   "metadata": {},
   "outputs": [
    {
     "name": "stdout",
     "output_type": "stream",
     "text": [
      "x1= [5 0 3 3 7 9]\n",
      "x2= [[3 5 2 4]\n",
      " [7 6 8 8]\n",
      " [1 6 7 7]]\n"
     ]
    }
   ],
   "source": [
    "# создание массивов\n",
    "np.random.seed(0)  # начальное значение генератора случайных чисел для целей воспроизводимости\n",
    "x1 = np.random.randint(10, size=6)          # одномерный случайный целочисленный массив с равномерным распределением [0,10)\n",
    "print('x1=', x1)\n",
    "x2 = np.random.randint(10, size=(3, 4))     # аналогичный двумерный массив\n",
    "print('x2=',x2)\n",
    "x3 = np.random.randint(10, size=(3, 4, 5))  # аналогичный трехмерный массив"
   ]
  },
  {
   "cell_type": "code",
   "execution_count": 73,
   "metadata": {
    "scrolled": true
   },
   "outputs": [
    {
     "name": "stdout",
     "output_type": "stream",
     "text": [
      "x3 ndim:  3\n",
      "x3 shape: (3, 4, 5)\n",
      "x3 size:  60\n"
     ]
    }
   ],
   "source": [
    "# вывод атрибутов массива x3\n",
    "print(\"x3 ndim: \", x3.ndim)  # число измерений - ранг 3\n",
    "print(\"x3 shape:\", x3.shape) # форма массива    - (3,4,5)\n",
    "print(\"x3 size: \", x3.size)  # число элементов - 3х4х5=60"
   ]
  },
  {
   "cell_type": "code",
   "execution_count": 74,
   "metadata": {},
   "outputs": [
    {
     "name": "stdout",
     "output_type": "stream",
     "text": [
      "dtype: int32\n"
     ]
    }
   ],
   "source": [
    "print(\"dtype:\", x3.dtype) # тип элемента массива"
   ]
  },
  {
   "cell_type": "code",
   "execution_count": 75,
   "metadata": {},
   "outputs": [
    {
     "name": "stdout",
     "output_type": "stream",
     "text": [
      "itemsize: 4 bytes\n"
     ]
    }
   ],
   "source": [
    "print(\"itemsize:\", x3.itemsize, \"bytes\") # размер элемента массива в байтах "
   ]
  },
  {
   "cell_type": "code",
   "execution_count": 76,
   "metadata": {},
   "outputs": [
    {
     "name": "stdout",
     "output_type": "stream",
     "text": [
      "nbytes: 240 bytes\n"
     ]
    }
   ],
   "source": [
    "print(\"nbytes:\", x3.nbytes, \"bytes\") # кол-во байтов, занимаемых массивом"
   ]
  },
  {
   "cell_type": "markdown",
   "metadata": {},
   "source": [
    "##### <font color=red>Задание</font>\n",
    "Создать массив значений типа int32 размером 10х10, состоящий из равномерно распределенных случайных чисел от 0 до 100. Получить 4 копии этого массива со значениями типов: uint32,int64,uint64,float64. Преобразования типов выполняйте с помощью вызовов соответсвующих функций библиотеки NumPY, например: np.float64. Для каждого из массивов вывести сведения: число размерностей, форма, число элементов, тип данных, размер каждого элемента в байтах и размер всего массива в байтах."
   ]
  },
  {
   "cell_type": "code",
   "execution_count": 77,
   "metadata": {},
   "outputs": [
    {
     "name": "stdout",
     "output_type": "stream",
     "text": [
      "Тип данных: int32\n",
      "Число размерностей: 2\n",
      "Форма: (10, 10)\n",
      "Число элементов: 100\n",
      "Размер элемента (в байтах): 4\n",
      "Размер массива (в байтах): 400\n",
      "\n",
      "Тип данных: uint32\n",
      "Число размерностей: 2\n",
      "Форма: (10, 10)\n",
      "Число элементов: 100\n",
      "Размер элемента (в байтах): 4\n",
      "Размер массива (в байтах): 400\n",
      "\n",
      "Тип данных: int64\n",
      "Число размерностей: 2\n",
      "Форма: (10, 10)\n",
      "Число элементов: 100\n",
      "Размер элемента (в байтах): 8\n",
      "Размер массива (в байтах): 800\n",
      "\n",
      "Тип данных: uint64\n",
      "Число размерностей: 2\n",
      "Форма: (10, 10)\n",
      "Число элементов: 100\n",
      "Размер элемента (в байтах): 8\n",
      "Размер массива (в байтах): 800\n",
      "\n",
      "Тип данных: float64\n",
      "Число размерностей: 2\n",
      "Форма: (10, 10)\n",
      "Число элементов: 100\n",
      "Размер элемента (в байтах): 8\n",
      "Размер массива (в байтах): 800\n",
      "\n"
     ]
    }
   ],
   "source": [
    "import numpy as np\n",
    "\n",
    "# Основной массив\n",
    "int32_array = np.random.randint(0, 101, size=(10, 10), dtype=np.int32)\n",
    "\n",
    "# Создание копий массива с другими типами данных\n",
    "uint32_array = int32_array.astype(np.uint32)\n",
    "int64_array = int32_array.astype(np.int64)\n",
    "uint64_array = int32_array.astype(np.uint64)\n",
    "float64_array = int32_array.astype(np.float64)\n",
    "\n",
    "# Список созданных массивов\n",
    "arrays = [int32_array, uint32_array, int64_array, uint64_array, float64_array]\n",
    "\n",
    "# Перебор списка массивов и вывод сообщений\n",
    "for array in arrays:\n",
    "    print(\"Тип данных:\", array.dtype)\n",
    "    print(\"Число размерностей:\", array.ndim)\n",
    "    print(\"Форма:\", array.shape)\n",
    "    print(\"Число элементов:\", array.size)\n",
    "    print(\"Размер элемента (в байтах):\", array.itemsize)\n",
    "    print(\"Размер массива (в байтах):\", array.nbytes)\n",
    "    print()"
   ]
  },
  {
   "cell_type": "markdown",
   "metadata": {},
   "source": [
    "#### Индексация массивов"
   ]
  },
  {
   "cell_type": "markdown",
   "metadata": {},
   "source": [
    "Numpy предоставляет несколько способов индексации  массивов"
   ]
  },
  {
   "cell_type": "markdown",
   "metadata": {},
   "source": [
    "**Индексация срезами** (сегментированием). Иногда для обозначения этого способа индексации массивов используют англоязычное слово  слайсинг(slising). Подобно спискам Python, при обращении к массивам numpy можно использовать срезы. Поскольку массивы могут быть многомерными, вы должны указать срез (сегмент) для каждого измерения массива:"
   ]
  },
  {
   "cell_type": "code",
   "execution_count": 78,
   "metadata": {},
   "outputs": [
    {
     "name": "stdout",
     "output_type": "stream",
     "text": [
      "[[2 3]\n",
      " [6 7]]\n"
     ]
    }
   ],
   "source": [
    "import numpy as np\n",
    "\n",
    "# Создание 2D массива с формой (3, 4)\n",
    "# [[1  2  3  4]\n",
    "#  [5  6  7  8]\n",
    "#  [9 10 11 12]]\n",
    "a = np.array([[1, 2, 3, 4], [5, 6, 7, 8], [9, 10, 11, 12]])\n",
    "\n",
    "# Использование сегментирования для обращения к подмассиву, содержащему выборку элементов \n",
    "# из первых 2-х строк и столбцов 1 и 2; подмассив b будет иметь форму (2, 2):\n",
    "# [[2 3]\n",
    "#  [6 7]]\n",
    "b = a[:2, 1:3]\n",
    "print(b)"
   ]
  },
  {
   "cell_type": "markdown",
   "metadata": {},
   "source": [
    "Срез является некоторым **представлением** (видом) исходного массива, поэтому его изменение изменит исходный массив."
   ]
  },
  {
   "cell_type": "code",
   "execution_count": 79,
   "metadata": {},
   "outputs": [
    {
     "name": "stdout",
     "output_type": "stream",
     "text": [
      "2\n",
      "77\n"
     ]
    }
   ],
   "source": [
    "print(a[0, 1])  # печатает 2\n",
    "b[0, 0] = 77    # b[0, 0] это на самом деле элемент a[0, 1] исходного массива \n",
    "print(a[0, 1])  # изменение b[0, 0] приводит к изменению a[0, 1], поэтому печатает 77"
   ]
  },
  {
   "cell_type": "markdown",
   "metadata": {},
   "source": [
    "\n",
    "Вы также можете комбинировать индексирование целыми числами и индексацию срезами. Однако при этом будет получен массив меньшего ранга, чем исходный массив:"
   ]
  },
  {
   "cell_type": "code",
   "execution_count": 80,
   "metadata": {},
   "outputs": [
    {
     "name": "stdout",
     "output_type": "stream",
     "text": [
      "[[ 1  2  3  4]\n",
      " [ 5  6  7  8]\n",
      " [ 9 10 11 12]]\n"
     ]
    }
   ],
   "source": [
    "# Создание 2D массива с формой (3, 4)\n",
    "a = np.array([[1, 2, 3, 4], [5, 6, 7, 8], [9, 10, 11, 12]])\n",
    "print(a)"
   ]
  },
  {
   "cell_type": "markdown",
   "metadata": {},
   "source": [
    "Два способа доступа к данным в средней строке массива.\n",
    "Комбинирование целых индексов с индексацией срезами дает массив более низкого ранга,\n",
    "в то время как использование только срезов дает массив того же ранга, что и\n",
    "исходный массив:"
   ]
  },
  {
   "cell_type": "code",
   "execution_count": 81,
   "metadata": {},
   "outputs": [
    {
     "name": "stdout",
     "output_type": "stream",
     "text": [
      "[5 6 7 8] (4,)\n",
      "[[5 6 7 8]] (1, 4)\n",
      "[[5 6 7 8]] (1, 4)\n"
     ]
    }
   ],
   "source": [
    "row_r1 = a[1, :]    # Представление ранга 1 для второй строки матрицы a  \n",
    "row_r2 = a[1:2, :]  # Представление ранга 2 для второй строки матрицы a \n",
    "row_r3 = a[[1], :]  # Представление ранга 2 для второй строки матрицы a \n",
    "print(row_r1, row_r1.shape) \n",
    "print(row_r2, row_r2.shape)\n",
    "print(row_r3, row_r3.shape)"
   ]
  },
  {
   "cell_type": "markdown",
   "metadata": {},
   "source": [
    "##### <font color=red>Задание</font>\n",
    "Выполнить следующий код и объяснить результаты."
   ]
  },
  {
   "cell_type": "code",
   "execution_count": 82,
   "metadata": {},
   "outputs": [
    {
     "name": "stdout",
     "output_type": "stream",
     "text": [
      "[ 2  6 10] (3,)\n",
      "\n",
      "[[ 2]\n",
      " [ 6]\n",
      " [10]] (3, 1)\n"
     ]
    }
   ],
   "source": [
    "col_r1 = a[:, 1]            # комбинирование видов индексации\n",
    "col_r2 = a[:, 1:2]          # индексация срезами\n",
    "print(col_r1, col_r1.shape) \n",
    "print()                     \n",
    "print(col_r2, col_r2.shape) "
   ]
  },
  {
   "cell_type": "markdown",
   "metadata": {},
   "source": [
    "*Написать обьяснение:*\n",
    "\n",
    "В переменной col_r1 расположен массив, полученный из исходного комбинированием индексации целым числом и индексации срезами, поэтому его ранг ниже, чем у исходного.\n",
    "\n",
    "Массив в переменной col_r2 был получен исключительно индексацией срезами, поэтому, несмотря на то, что он содержит те же элементы исходного массива, его ранг остался неизменен."
   ]
  },
  {
   "cell_type": "markdown",
   "metadata": {},
   "source": [
    "**Индексирование целочисленным массивом**: при индексировании массивов numpy с использованием срезов (сегментирования) результирующее представление массива всегда будет подмассивом исходного массива. \n",
    "Напротив, индексирование с помощью целочисленного массива позволяет создавать произвольные массивы с использованием данных из другого массива. Например:"
   ]
  },
  {
   "cell_type": "code",
   "execution_count": 83,
   "metadata": {},
   "outputs": [
    {
     "name": "stdout",
     "output_type": "stream",
     "text": [
      "[1 4 5]\n",
      "[1 4 5]\n"
     ]
    }
   ],
   "source": [
    "a = np.array([[1, 2], [3, 4], [5, 6]])\n",
    "\n",
    "# Пример индексации с помощью массива из целых чисел.\n",
    "# Форма возвращаемого массива будет равна (3,)  \n",
    "print(a[[0, 1, 2], [0, 1, 0]])\n",
    "\n",
    "# Вышеприведенный пример индексации целочисленным массивом эквивалентен следующему:\n",
    "print(np.array([a[0, 0], a[1, 1], a[2, 0]]))"
   ]
  },
  {
   "cell_type": "code",
   "execution_count": 84,
   "metadata": {},
   "outputs": [
    {
     "name": "stdout",
     "output_type": "stream",
     "text": [
      "[2 2]\n",
      "[2 2]\n"
     ]
    }
   ],
   "source": [
    "# Если используется индексация целочисленным массовом, то \n",
    "# можно повторно использовать элементы исходного массива:\n",
    "print(a[[0, 0], [1, 1]])\n",
    "\n",
    "# Это эквивалентно повторному обращению элементу:\n",
    "print(np.array([a[0, 1], a[0, 1]]))"
   ]
  },
  {
   "cell_type": "markdown",
   "metadata": {},
   "source": [
    "Один полезный трюк с использованием индексированиия в виде целочисленного массива - это выбор или изменение элемента массива в каждой его строке:"
   ]
  },
  {
   "cell_type": "code",
   "execution_count": 85,
   "metadata": {},
   "outputs": [
    {
     "name": "stdout",
     "output_type": "stream",
     "text": [
      "[[ 1  2  3]\n",
      " [ 4  5  6]\n",
      " [ 7  8  9]\n",
      " [10 11 12]]\n"
     ]
    }
   ],
   "source": [
    "# Создание нового массива, из которого будем выбирать элементы\n",
    "a = np.array([[1, 2, 3], [4, 5, 6], [7, 8, 9], [10, 11, 12]])\n",
    "print(a)"
   ]
  },
  {
   "cell_type": "code",
   "execution_count": 86,
   "metadata": {},
   "outputs": [
    {
     "name": "stdout",
     "output_type": "stream",
     "text": [
      "[ 1  6  7 11]\n"
     ]
    }
   ],
   "source": [
    "# Создание массива индексов\n",
    "b = np.array([0, 2, 0, 1])\n",
    "\n",
    "# Выбор одного элемента из каждой строки массива \"a\" с помощью индексов из массива \"b\"\n",
    "print(a[np.arange(4), b])  # Печатает \"[ 1  6  7 11]\""
   ]
  },
  {
   "cell_type": "code",
   "execution_count": 87,
   "metadata": {},
   "outputs": [
    {
     "name": "stdout",
     "output_type": "stream",
     "text": [
      "[[11  2  3]\n",
      " [ 4  5 16]\n",
      " [17  8  9]\n",
      " [10 21 12]]\n"
     ]
    }
   ],
   "source": [
    "# Изменение элемента в каждой строке массива \"a\" в позициях с индексами из массива \"b\"\n",
    "a[np.arange(4), b] += 10\n",
    "print(a)"
   ]
  },
  {
   "cell_type": "markdown",
   "metadata": {},
   "source": [
    "Иногда при индексации при помощи срезов бывает полезно работать не с представлением исходного массива, а иметь новый независимый подмассив из данных исходного массива. Тогда нужно скопировать представление массива при помощи метода `copy`."
   ]
  },
  {
   "cell_type": "code",
   "execution_count": 88,
   "metadata": {},
   "outputs": [
    {
     "name": "stdout",
     "output_type": "stream",
     "text": [
      "[[9 8]\n",
      " [5 9]]\n"
     ]
    }
   ],
   "source": [
    "x = np.random.randint(10, size=(3, 4))\n",
    "x_sub_copy = x[:2, :2].copy()\n",
    "print(x_sub_copy)"
   ]
  },
  {
   "cell_type": "markdown",
   "metadata": {},
   "source": [
    "**Индексирование при помощи булевых массивов**: индексирование при помощи булевых массивов позволяет выбирать произвольные элементы массива. Часто этот тип индексации используют для выбора элементов массива, которые удовлетворяют некоторому условию. Вот пример:"
   ]
  },
  {
   "cell_type": "code",
   "execution_count": 89,
   "metadata": {},
   "outputs": [
    {
     "name": "stdout",
     "output_type": "stream",
     "text": [
      "[[False False]\n",
      " [ True  True]\n",
      " [ True  True]]\n"
     ]
    }
   ],
   "source": [
    "import numpy as np\n",
    "\n",
    "a = np.array([[1, 2], [3, 4], [5, 6]])\n",
    "\n",
    "bool_idx = (a > 2)  # Находит элементы больше, чем 2\n",
    "                    # и возвращает numpy массив логических значений \n",
    "                    # той же формы, что и массив \"a\", при этом каждая позиция bool_idx сообщает\n",
    "                    # действительно ли тот или иной элемент массива \"а\"  >  2.\n",
    "\n",
    "print(bool_idx)     # печать массива логических значений"
   ]
  },
  {
   "cell_type": "code",
   "execution_count": 90,
   "metadata": {},
   "outputs": [
    {
     "name": "stdout",
     "output_type": "stream",
     "text": [
      "[3 4 5 6]\n",
      "[3 4 5 6]\n"
     ]
    }
   ],
   "source": [
    "# Выполним индексацию с помощью логического массива и созданим массив ранга 1, \n",
    "# который будет состоять из элементов исходного массива, в позициях которых\n",
    "# логический  массив bool_idx содержит значения True\n",
    "print(a[bool_idx])\n",
    "\n",
    "# Можно также все это выполнить весьма лаконично в одном выражении:\n",
    "print(a[a > 2])"
   ]
  },
  {
   "cell_type": "markdown",
   "metadata": {},
   "source": [
    "##### <font color=red>Задание</font>\n",
    "Создать массив случайных целочисленных значений (от -100 до 100) размером 8x8. Используя индексацию булевыми (логическими) массивами получить:\n",
    "1. Все элементы, значения которых являются четными числами. Вывести их маску в виде логического массива.\n",
    "2. Все элементы, значения которых попадают в диапазон от 10 до 50. Вывести их маску в виде логического массива.\n",
    "3. Все элементы, значения которых являются четными числами и попадают в диапазон от 10 до 50. Вывести их маску в виде логического массива.\n",
    "4. Все элементы, значения которых являются нечетными числами и модуль значения которых из диапазона от 10 до 50. Вывести их маску в виде логического массива.\n",
    "5. Все элементы, значения которых являются нечетными числами или отрицательными.\n",
    "\n",
    "При необходимости выполнения логических операций над булевыми массивами NumPy используйте соответсвующие логические функции этой библиотеки: np.logical_not, np.logical_and, np.logical_or, np.logical_xor."
   ]
  },
  {
   "cell_type": "code",
   "execution_count": 91,
   "metadata": {},
   "outputs": [
    {
     "name": "stdout",
     "output_type": "stream",
     "text": [
      "Массив:\n",
      "[[  4  60  21 -30 -69 -87 -29  84]\n",
      " [ 52 -21 -59 -82 -60  82 -89  66]\n",
      " [ 11  -7  29  18 -56  25 -76 -33]\n",
      " [-97 -65  89  97 -57 -68 -89   4]\n",
      " [ 38  82  65  25  56  11 -98 -73]\n",
      " [ 51 -47 -49  74  48  81 -71 -33]\n",
      " [-65 -61  37 -27 -59  51  31 -54]\n",
      " [ 78   8 -97 -69 -91  38 -73  73]]\n",
      "\n",
      "Маска чётных чисел:\n",
      "[[ True  True False  True False False False  True]\n",
      " [ True False False  True  True  True False  True]\n",
      " [False False False  True  True False  True False]\n",
      " [False False False False False  True False  True]\n",
      " [ True  True False False  True False  True False]\n",
      " [False False False  True  True False False False]\n",
      " [False False False False False False False  True]\n",
      " [ True  True False False False  True False False]]\n",
      "\n",
      "Маска чисел в диапазоне [10; 50]:\n",
      "[[False False  True False False False False False]\n",
      " [False False False False False False False False]\n",
      " [ True False  True  True False  True False False]\n",
      " [False False False False False False False False]\n",
      " [ True False False  True False  True False False]\n",
      " [False False False False  True False False False]\n",
      " [False False  True False False False  True False]\n",
      " [False False False False False  True False False]]\n",
      "\n",
      "Маска чётных чисел в диапазоне [10; 50]:\n",
      "[[False False False False False False False False]\n",
      " [False False False False False False False False]\n",
      " [False False False  True False False False False]\n",
      " [False False False False False False False False]\n",
      " [ True False False False False False False False]\n",
      " [False False False False  True False False False]\n",
      " [False False False False False False False False]\n",
      " [False False False False False  True False False]]\n",
      "\n",
      "Маска нечётных чисел с модулем в диапазоне [10; 50]:\n",
      "[[False False  True False False False  True False]\n",
      " [False  True False False False False False False]\n",
      " [ True False  True False False  True False  True]\n",
      " [False False False False False False False False]\n",
      " [False False False  True False  True False False]\n",
      " [False  True  True False False False False  True]\n",
      " [False False  True  True False False  True False]\n",
      " [False False False False False False False False]]\n",
      "\n",
      "Нечётные или отрицательные числа:\n",
      "[ 21 -30 -69 -87 -29 -21 -59 -82 -60 -89  11  -7  29 -56  25 -76 -33 -97\n",
      " -65  89  97 -57 -68 -89  65  25  11 -98 -73  51 -47 -49  81 -71 -33 -65\n",
      " -61  37 -27 -59  51  31 -54 -97 -69 -91 -73  73]\n"
     ]
    }
   ],
   "source": [
    "# Выполнение задания\n",
    "import numpy as np\n",
    "\n",
    "# Создание массива\n",
    "arr = np.random.randint(-100, 101, size=(8, 8))\n",
    "print(\"Массив:\")\n",
    "print(arr, end='\\n\\n')\n",
    "\n",
    "# Маска чётных чисел\n",
    "mask1 = np.mod(arr, 2) == 0\n",
    "print(\"Маска чётных чисел:\")\n",
    "print(mask1, end='\\n\\n')\n",
    "\n",
    "# Маска диапазона [10; 50]\n",
    "mask2 = np.logical_and(arr >= 10, arr <= 50)\n",
    "print(\"Маска чисел в диапазоне [10; 50]:\")\n",
    "print(mask2, end='\\n\\n')\n",
    "\n",
    "# Маска чётных чисел, в диапазоне [10; 50]\n",
    "mask3 = np.logical_and(mask1, mask2)\n",
    "print(\"Маска чётных чисел в диапазоне [10; 50]:\")\n",
    "print(mask3, end='\\n\\n')\n",
    "\n",
    "# Маска нечётных чисел, модуль в диапазоне [10; 50]\n",
    "mask4 = np.logical_and(np.logical_not(mask1), np.logical_and(np.abs(arr) >= 10, np.abs(arr) <= 50))\n",
    "print(\"Маска нечётных чисел с модулем в диапазоне [10; 50]:\")\n",
    "print(mask4, end='\\n\\n')\n",
    "\n",
    "# Нечётные или отрицательные числа\n",
    "mask5 = np.logical_or(np.logical_not(mask1), arr < 0)\n",
    "print(\"Нечётные или отрицательные числа:\")\n",
    "print(arr[mask5])"
   ]
  },
  {
   "cell_type": "markdown",
   "metadata": {},
   "source": [
    "Для краткости мы пропустили много деталей о индексации массива numpy; если вы хотите узнать больше, прочитайте документацию."
   ]
  },
  {
   "cell_type": "markdown",
   "metadata": {},
   "source": [
    "#### Изменение формы массивов"
   ]
  },
  {
   "cell_type": "markdown",
   "metadata": {},
   "source": [
    "Часто требуется изменить форму массива (количество измерений и их значения), не изменяя самих элементов массива. Для этого используется специальный метод `reshape`."
   ]
  },
  {
   "cell_type": "code",
   "execution_count": 92,
   "metadata": {},
   "outputs": [
    {
     "name": "stdout",
     "output_type": "stream",
     "text": [
      "[1 2 3 4 5 6 7 8 9]\n",
      "[[1 2 3]\n",
      " [4 5 6]\n",
      " [7 8 9]]\n"
     ]
    }
   ],
   "source": [
    "grid = np.arange(1, 10)   # создание одномерного массива  [1 2 3 4 5 6 7 8 9]\n",
    "print(grid)\n",
    "grid = grid.reshape((3, 3)) # преобразование одномерного массива в двумерный с формой (3,3)\n",
    "print(grid)"
   ]
  },
  {
   "cell_type": "markdown",
   "metadata": {},
   "source": [
    "Часто требуется добавлять измерение в  массив. Например, когда необходимо привести одномерный массива к виду двумерной матрицы-строки или матрицы-столбца. Для этого можно применить метод reshape, но лучше воспользоваться специальным объектом np.newaxis, добавляющим новое измерение при выполнении операции среза. Примеры:"
   ]
  },
  {
   "cell_type": "code",
   "execution_count": 93,
   "metadata": {},
   "outputs": [
    {
     "name": "stdout",
     "output_type": "stream",
     "text": [
      "Исходная форма x: (3,)\n"
     ]
    },
    {
     "data": {
      "text/plain": [
       "array([[1, 2, 3]])"
      ]
     },
     "execution_count": 93,
     "metadata": {},
     "output_type": "execute_result"
    }
   ],
   "source": [
    "x = np.array([1, 2, 3]) \n",
    "print('Исходная форма x:', x.shape)\n",
    "# Реформатирование в вектор-строку с помощью reshape\n",
    "x.reshape((1, 3))   # форма (1, 3)"
   ]
  },
  {
   "cell_type": "code",
   "execution_count": 94,
   "metadata": {},
   "outputs": [
    {
     "data": {
      "text/plain": [
       "array([[1, 2, 3]])"
      ]
     },
     "execution_count": 94,
     "metadata": {},
     "output_type": "execute_result"
    }
   ],
   "source": [
    "# Реформатирование в вектор-строку c помощью np.newaxis\n",
    "x[np.newaxis, :]   # форма (1, 3)"
   ]
  },
  {
   "cell_type": "code",
   "execution_count": 95,
   "metadata": {},
   "outputs": [
    {
     "data": {
      "text/plain": [
       "array([[1],\n",
       "       [2],\n",
       "       [3]])"
      ]
     },
     "execution_count": 95,
     "metadata": {},
     "output_type": "execute_result"
    }
   ],
   "source": [
    "# Реформатирование в вектор-столбец с помощью reshape\n",
    "x.reshape((3, 1))   # форма (3, 1)"
   ]
  },
  {
   "cell_type": "code",
   "execution_count": 96,
   "metadata": {},
   "outputs": [
    {
     "data": {
      "text/plain": [
       "array([[1],\n",
       "       [2],\n",
       "       [3]])"
      ]
     },
     "execution_count": 96,
     "metadata": {},
     "output_type": "execute_result"
    }
   ],
   "source": [
    "# Реформатирование в вектор-столбец с помощью np.newaxis\n",
    "x[:, np.newaxis]   # форма (3, 1)"
   ]
  },
  {
   "cell_type": "markdown",
   "metadata": {},
   "source": [
    "#### Объединение массивов"
   ]
  },
  {
   "cell_type": "markdown",
   "metadata": {},
   "source": [
    "Для объединения массивов можно использовать функции `np.vstack` (вертикальное объединение) и `np.hstack` (горизонтальное объединение):"
   ]
  },
  {
   "cell_type": "code",
   "execution_count": 97,
   "metadata": {},
   "outputs": [
    {
     "data": {
      "text/plain": [
       "array([[1, 2, 3],\n",
       "       [9, 8, 7],\n",
       "       [6, 5, 4]])"
      ]
     },
     "execution_count": 97,
     "metadata": {},
     "output_type": "execute_result"
    }
   ],
   "source": [
    "x = np.array([1, 2, 3])                  # форма (3,)\n",
    "grid = np.array([[9, 8, 7], [6, 5, 4]])  # форма (2,3)\n",
    "# Создания стека массивов в вертикальном направлении\n",
    "np.vstack([x, grid])"
   ]
  },
  {
   "cell_type": "code",
   "execution_count": 98,
   "metadata": {},
   "outputs": [
    {
     "data": {
      "text/plain": [
       "array([[ 9,  8,  7, 99],\n",
       "       [ 6,  5,  4, 99]])"
      ]
     },
     "execution_count": 98,
     "metadata": {},
     "output_type": "execute_result"
    }
   ],
   "source": [
    "y = np.array([[99], [99]])              # форма (2,1)\n",
    "# Создания стека массивов в горизотальном направлении\n",
    "np.hstack([grid, y])\n"
   ]
  },
  {
   "cell_type": "markdown",
   "metadata": {},
   "source": [
    "Функция `np.dstack` аналогично объединяет массивы по третьей оси (глубине)."
   ]
  },
  {
   "cell_type": "markdown",
   "metadata": {},
   "source": [
    "#### Разбиение массивов\n",
    "Разбиение массивов, выполняется с помощью функций np.split, np.hsplit и np.vsplit. Каждой из них необходимо передавать список индексов, задающих точки разбиения:"
   ]
  },
  {
   "cell_type": "code",
   "execution_count": 99,
   "metadata": {},
   "outputs": [
    {
     "name": "stdout",
     "output_type": "stream",
     "text": [
      "[1 2 3] [99 99] [3 2 1]\n"
     ]
    }
   ],
   "source": [
    "x = [1, 2, 3, 99, 99, 3, 2, 1]\n",
    "x1, x2, x3 = np.split(x, [3, 5])  # 3 и 5 индексы элементов, относительно которых происходит разбиения\n",
    "print(x1, x2, x3)"
   ]
  },
  {
   "cell_type": "markdown",
   "metadata": {},
   "source": [
    "Функции `np.hsplit` и `np.vsplit` выполняют аналогичную работу с учетом направления разбиения:"
   ]
  },
  {
   "cell_type": "code",
   "execution_count": 100,
   "metadata": {},
   "outputs": [
    {
     "data": {
      "text/plain": [
       "array([[ 0,  1,  2,  3],\n",
       "       [ 4,  5,  6,  7],\n",
       "       [ 8,  9, 10, 11],\n",
       "       [12, 13, 14, 15]])"
      ]
     },
     "execution_count": 100,
     "metadata": {},
     "output_type": "execute_result"
    }
   ],
   "source": [
    "grid = np.arange(16).reshape((4, 4))\n",
    "grid"
   ]
  },
  {
   "cell_type": "code",
   "execution_count": 101,
   "metadata": {},
   "outputs": [
    {
     "name": "stdout",
     "output_type": "stream",
     "text": [
      "Исходная форма grid: (4, 4)\n",
      "[[0 1 2 3]\n",
      " [4 5 6 7]]\n",
      "[[ 8  9 10 11]\n",
      " [12 13 14 15]]\n"
     ]
    }
   ],
   "source": [
    "print('Исходная форма grid:', grid.shape)\n",
    "upper, lower = np.vsplit(grid, [2]) # разбиение массива по вертикали относительно строки 2\n",
    "print(upper)                        # верхняя часть массива - строки 0 и 1\n",
    "print(lower)                        # нижняя часть массива  - строки 2 и 3"
   ]
  },
  {
   "cell_type": "code",
   "execution_count": 102,
   "metadata": {},
   "outputs": [
    {
     "name": "stdout",
     "output_type": "stream",
     "text": [
      "[[ 0  1]\n",
      " [ 4  5]\n",
      " [ 8  9]\n",
      " [12 13]]\n",
      "[[ 2  3]\n",
      " [ 6  7]\n",
      " [10 11]\n",
      " [14 15]]\n"
     ]
    }
   ],
   "source": [
    "left, right = np.hsplit(grid, [2])  # разбиение массива по горизонтали относительно столбца 2\n",
    "print(left)                         # левая часть массива - столбцы 0 и 1\n",
    "print(right)                        # правая часть массива - столбцы 2 и 3"
   ]
  },
  {
   "cell_type": "markdown",
   "metadata": {},
   "source": [
    "##### <font color=red>Задание</font>\n",
    "Написать функцию, которая из исходного массива размером 8х8 получает (при помощи операций разбиения и объединения) массив, в котором переставлены квадранты 1-й с 3-м, 2-й с 4-м по сравнению с исходным массивом. Продемонстрировать работу функции, все шаги алгоритма сопроводить подробными комментариями и отладочным выводом промежуточных результатов.\n",
    "\n",
    "Т.е. например из массива\n",
    "\n",
    "`[[49  5 49  1 28 27 31 35]\n",
    " [21 12 34  3 20  2 42 48]\n",
    " [21 22 39 23 28 31 47 34]\n",
    " [37  6 24 22 19 32 27 20]\n",
    " [12  0  1 40  2 30 42 47]\n",
    " [33 40 10  8 29 48 24  8]\n",
    " [14 49  8 46 23 18 10 49]\n",
    " [15 20 49 30  9 18 42  5]]`\n",
    " \n",
    "должен получиться массив \n",
    "\n",
    " `[[ 2 30 42 47 12  0  1 40]\n",
    " [29 48 24  8 33 40 10  8]\n",
    " [23 18 10 49 14 49  8 46]\n",
    " [ 9 18 42  5 15 20 49 30]\n",
    " [28 27 31 35 49  5 49  1]\n",
    " [20  2 42 48 21 12 34  3]\n",
    " [28 31 47 34 21 22 39 23]\n",
    " [19 32 27 20 37  6 24 22]]`"
   ]
  },
  {
   "cell_type": "code",
   "execution_count": 103,
   "metadata": {},
   "outputs": [
    {
     "name": "stdout",
     "output_type": "stream",
     "text": [
      "Исходный массив:\n",
      "[[ 1  2  3  4  5  6  7  8]\n",
      " [ 9 10 11 12 13 14 15 16]\n",
      " [17 18 19 20 21 22 23 24]\n",
      " [25 26 27 28 29 30 31 32]\n",
      " [33 34 35 36 37 38 39 40]\n",
      " [41 42 43 44 45 46 47 48]\n",
      " [49 50 51 52 53 54 55 56]\n",
      " [57 58 59 60 61 62 63 64]]\n",
      "\n",
      "Квадрант 1:\n",
      "[[ 1  2  3  4]\n",
      " [ 9 10 11 12]\n",
      " [17 18 19 20]\n",
      " [25 26 27 28]]\n",
      "\n",
      "Квадрант 2:\n",
      "[[ 5  6  7  8]\n",
      " [13 14 15 16]\n",
      " [21 22 23 24]\n",
      " [29 30 31 32]]\n",
      "\n",
      "Квадрант 3:\n",
      "[[37 38 39 40]\n",
      " [45 46 47 48]\n",
      " [53 54 55 56]\n",
      " [61 62 63 64]]\n",
      "\n",
      "Квадрант 4:\n",
      "[[33 34 35 36]\n",
      " [41 42 43 44]\n",
      " [49 50 51 52]\n",
      " [57 58 59 60]]\n",
      "\n",
      "Результирующий массив:\n",
      "[[37 38 39 40 33 34 35 36]\n",
      " [45 46 47 48 41 42 43 44]\n",
      " [53 54 55 56 49 50 51 52]\n",
      " [61 62 63 64 57 58 59 60]\n",
      " [ 5  6  7  8  1  2  3  4]\n",
      " [13 14 15 16  9 10 11 12]\n",
      " [21 22 23 24 17 18 19 20]\n",
      " [29 30 31 32 25 26 27 28]]\n"
     ]
    }
   ],
   "source": [
    "# Выполнение задания\n",
    "import numpy as np\n",
    "\n",
    "def swap_quadrants(arr):\n",
    "    \n",
    "    # Разделение массива на квадранты\n",
    "    quadrants = np.split(arr, 2)\n",
    "    quadrant1, quadrant2 = np.hsplit(quadrants[0], 2)\n",
    "    quadrant4, quadrant3 = np.hsplit(quadrants[1], 2)\n",
    "\n",
    "    # Вывод промежуточных результатов\n",
    "    print(\"Квадрант 1:\", quadrant1, sep='\\n', end='\\n\\n')\n",
    "    print(\"Квадрант 2:\", quadrant2, sep='\\n', end='\\n\\n')\n",
    "    print(\"Квадрант 3:\", quadrant3, sep='\\n', end='\\n\\n')\n",
    "    print(\"Квадрант 4:\", quadrant4, sep='\\n', end='\\n\\n')\n",
    "\n",
    "    # Объединение квадрантов в новом порядке\n",
    "    new_arr = np.vstack((np.hstack((quadrant3, quadrant4)),\n",
    "                         np.hstack((quadrant2, quadrant1))))\n",
    "\n",
    "    return new_arr\n",
    "\n",
    "# Пример использования функции\n",
    "arr = np.arange(1, 65).reshape(8, 8)\n",
    "\n",
    "# Вывод исходного массива\n",
    "print(\"Исходный массив:\")\n",
    "print(arr, end='\\n\\n')\n",
    "\n",
    "# Вывод результирующего массива\n",
    "result = swap_quadrants(arr)\n",
    "print(\"Результирующий массив:\")\n",
    "print(result)"
   ]
  },
  {
   "cell_type": "markdown",
   "metadata": {},
   "source": [
    "#### Вычисления с массивами"
   ]
  },
  {
   "cell_type": "markdown",
   "metadata": {},
   "source": [
    "Основные математические функции выполняют поэлементную обработку массивов и доступны для вызовов как в форме перегруженных операторов, так и  в виде функций модуля numpy:"
   ]
  },
  {
   "cell_type": "code",
   "execution_count": 104,
   "metadata": {},
   "outputs": [
    {
     "name": "stdout",
     "output_type": "stream",
     "text": [
      "[[ 6.  8.]\n",
      " [10. 12.]]\n",
      "[[ 6.  8.]\n",
      " [10. 12.]]\n"
     ]
    }
   ],
   "source": [
    "import numpy as np\n",
    "x = np.array([[1, 2], [3, 4]], dtype=np.float64)\n",
    "y = np.array([[5, 6], [7, 8]], dtype=np.float64)\n",
    "\n",
    "# Поэлементное сложение массивов одинаковой формы; оба вызова ниже возвращают массив \n",
    "print(x + y)         # вызов в форме пергруженного оператора суммирования \n",
    "print(np.add(x, y))  # вызов в  виде функции (метода) сложения"
   ]
  },
  {
   "cell_type": "code",
   "execution_count": 105,
   "metadata": {},
   "outputs": [
    {
     "name": "stdout",
     "output_type": "stream",
     "text": [
      "[[-4. -4.]\n",
      " [-4. -4.]]\n",
      "[[-4. -4.]\n",
      " [-4. -4.]]\n"
     ]
    }
   ],
   "source": [
    "# Поэлементное вычитание массивов одинаковой формы; оба вызова ниже возвращают массив \n",
    "print(x - y)\n",
    "print(np.subtract(x, y))"
   ]
  },
  {
   "cell_type": "code",
   "execution_count": 106,
   "metadata": {},
   "outputs": [
    {
     "name": "stdout",
     "output_type": "stream",
     "text": [
      "[[ 5. 12.]\n",
      " [21. 32.]]\n",
      "[[ 5. 12.]\n",
      " [21. 32.]]\n"
     ]
    }
   ],
   "source": [
    "# Поэлементное произведение массивов одинаковой формы; оба вызова ниже возвращают массив \n",
    "print(x * y)\n",
    "print(np.multiply(x, y))"
   ]
  },
  {
   "cell_type": "code",
   "execution_count": 107,
   "metadata": {},
   "outputs": [
    {
     "name": "stdout",
     "output_type": "stream",
     "text": [
      "[[0.2        0.33333333]\n",
      " [0.42857143 0.5       ]]\n",
      "[[0.2        0.33333333]\n",
      " [0.42857143 0.5       ]]\n"
     ]
    }
   ],
   "source": [
    "# Поэлементное деление массивов одинаковой формы; оба вызова ниже возвращают массив \n",
    "# [[ 0.2         0.33333333]\n",
    "#  [ 0.42857143  0.5       ]]\n",
    "print(x / y)\n",
    "print(np.divide(x, y))"
   ]
  },
  {
   "cell_type": "code",
   "execution_count": 108,
   "metadata": {},
   "outputs": [
    {
     "name": "stdout",
     "output_type": "stream",
     "text": [
      "[[1.         1.41421356]\n",
      " [1.73205081 2.        ]]\n"
     ]
    }
   ],
   "source": [
    "# Поэлементное вычисление квадратного корня массива \n",
    "# [[ 1.          1.41421356]\n",
    "#  [ 1.73205081  2.        ]]\n",
    "print(np.sqrt(x))"
   ]
  },
  {
   "cell_type": "markdown",
   "metadata": {},
   "source": [
    "Обратите внимание, что в отличие от MATLAB, оператор произведения * выполняет поэлементное умножение, а не векторно-матричное умножение. Для вычисления скалярных произведений векторов, умножения матрицы на вектор и умножения матрицы на матрицу используют функцию (метод) dot. Вызов этой функции доступен в 2-х формах: 1) в виде вызова метода экземпляра класса массива; 2) в виде вызова функции модуля numpy:"
   ]
  },
  {
   "cell_type": "code",
   "execution_count": 109,
   "metadata": {},
   "outputs": [
    {
     "name": "stdout",
     "output_type": "stream",
     "text": [
      "Формы массивов: x= (2, 2) y= (2, 2) v= (2,) w= (2,)\n",
      "Скалярное произведение векторов v*w:\n",
      "219\n",
      "219\n"
     ]
    }
   ],
   "source": [
    "# Создание массивов-матриц\n",
    "x = np.array([[1, 2], [3, 4]])\n",
    "y = np.array([[5, 6], [7, 8]])\n",
    "\n",
    "# Создание массивов-векторов\n",
    "v = np.array([9, 10])\n",
    "w = np.array([11, 12])\n",
    "\n",
    "print('Формы массивов:', 'x=', x.shape, 'y=', y.shape, 'v=', v.shape, 'w=', w.shape)\n",
    "\n",
    "# Скалярное произведение векторов v*w равно сумме произведений их элементов: 9*11+10*12=219\n",
    "print('Скалярное произведение векторов v*w:')\n",
    "print(v.dot(w))      # 1) вызов метода dot объекта v (экземпляра класса массив)\n",
    "print(np.dot(v, w))  # 2) вызов функции dot модуля numpy"
   ]
  },
  {
   "cell_type": "code",
   "execution_count": 110,
   "metadata": {},
   "outputs": [
    {
     "name": "stdout",
     "output_type": "stream",
     "text": [
      "[29 67]\n",
      "[29 67]\n"
     ]
    }
   ],
   "source": [
    "# Произведение матрицы на вектор X*v, оба вызова ниже вернут вектор:  [1*9+2*10; 3*9+4*10]=[29 67]\n",
    "print(x.dot(v))      # 1) вызов метода dot объекта x (экземпляра класса массив)\n",
    "print(np.dot(x, v))  # 2) вызов функции dot модуля numpy"
   ]
  },
  {
   "cell_type": "code",
   "execution_count": 111,
   "metadata": {},
   "outputs": [
    {
     "name": "stdout",
     "output_type": "stream",
     "text": [
      "[[19 22]\n",
      " [43 50]]\n",
      "[[19 22]\n",
      " [43 50]]\n"
     ]
    }
   ],
   "source": [
    "# Произведение матрицы X на матрицу Y, оба вызова ниже вернут матрицу ранга 2:\n",
    "# [[19 22]\n",
    "#  [43 50]]\n",
    "print(x.dot(y))\n",
    "print(np.dot(x, y))"
   ]
  },
  {
   "cell_type": "markdown",
   "metadata": {},
   "source": [
    "Numpy предоставляет множество полезных функций для выполнения вычислений с массивами; одна из часто используемых - это функция суммирования `sum`:"
   ]
  },
  {
   "cell_type": "code",
   "execution_count": 112,
   "metadata": {},
   "outputs": [
    {
     "name": "stdout",
     "output_type": "stream",
     "text": [
      "10\n",
      "[4 6]\n",
      "[3 7]\n"
     ]
    }
   ],
   "source": [
    "x = np.array([[1, 2], [3, 4]])\n",
    "\n",
    "print(np.sum(x))          # вычисляет сумму всех элеентов x ; печатает \"10\"\n",
    "print(np.sum(x, axis=0))  # вычисляет сумму элементов вдоль оси 0 (каждого столбца х); печатает \"[4 6]\"\n",
    "print(np.sum(x, axis=1))  # вычисляет сумму элементов вдоль оси 1 (каждой строки х); печатает \"[3 7]\""
   ]
  },
  {
   "cell_type": "markdown",
   "metadata": {},
   "source": [
    "Полный список математических функций, предоставляемых numpy, содержится в [документации](http://docs.scipy.org/doc/numpy/reference/routines.math.html).\n",
    "\n",
    "Помимо вычисления математических функций с использованием массивов, нам часто приходится изменять форму массива или иным образом манипулировать данными в массивах. Простейшим примером такой операции является транспонирование матрицы; для транспонирования матрицы просто используйте атрибут T объекта массива:"
   ]
  },
  {
   "cell_type": "code",
   "execution_count": 113,
   "metadata": {},
   "outputs": [
    {
     "name": "stdout",
     "output_type": "stream",
     "text": [
      "[[1 2]\n",
      " [3 4]]\n",
      "[[1 3]\n",
      " [2 4]]\n"
     ]
    }
   ],
   "source": [
    "# Транспонирование матрицы\n",
    "print(x)    # печать исходной матрицы\n",
    "print(x.T)  # печать транспонированной матрицы"
   ]
  },
  {
   "cell_type": "code",
   "execution_count": 114,
   "metadata": {},
   "outputs": [
    {
     "name": "stdout",
     "output_type": "stream",
     "text": [
      "(3,) [1 2 3]\n",
      "(3,) [1 2 3]\n"
     ]
    }
   ],
   "source": [
    "# Обратим внимание, что транспонирование массива ранга 1 ни к чему не приводит\n",
    "v1 = np.array([1, 2, 3])\n",
    "print(v1.shape, v1)    # печатает (3,) [1 2 3]\n",
    "v2=v1.T.copy()         # транспонирование v1 и копирование в v2\n",
    "print(v2.shape, v2)    # печатает (3,) [1 2 3]"
   ]
  },
  {
   "cell_type": "markdown",
   "metadata": {},
   "source": [
    "#### Транслирование"
   ]
  },
  {
   "cell_type": "markdown",
   "metadata": {},
   "source": [
    "**Транслирование** (broadcasting) - один из механизмов NumPy, предназначенный для векторизации операций, а следовательно устранения медленных стандартных циклов языка Python при работе с массивами. Транслирование представляет собой набор правил по применению бинарных универсальных функций (сложение, вычитание, умножение и т. д.) к массивам разных форм. \n",
    "\n",
    "Например, требуется выполнить сложение некоторого вектора с каждой строкой матрицы. Мы могли бы сделать это, используя явный цикл по строкам матрицы:"
   ]
  },
  {
   "cell_type": "code",
   "execution_count": 115,
   "metadata": {},
   "outputs": [
    {
     "name": "stdout",
     "output_type": "stream",
     "text": [
      "[[ 2  2  4]\n",
      " [ 5  5  7]\n",
      " [ 8  8 10]\n",
      " [11 11 13]]\n"
     ]
    }
   ],
   "source": [
    "# Сложение вектора v с каждой строкой матрицы x,\n",
    "# сохранение результата в матрице y\n",
    "x = np.array([[1, 2, 3], [4, 5, 6], [7, 8, 9], [10, 11, 12]]) \n",
    "v = np.array([1, 0, 1])\n",
    "y = np.empty_like(x)   # создание пустой матрицы у; той же формы, что и x\n",
    "\n",
    "# Сложение вектора v с каждой строкой матрицы x с помощью явного цикла\n",
    "for i in range(4):\n",
    "    y[i, :] = x[i, :] + v\n",
    "\n",
    "print(y)"
   ]
  },
  {
   "cell_type": "markdown",
   "metadata": {},
   "source": [
    "Это работает; однако, когда матрица x очень велика, вычисление явного цикла в Python может быть медленным. Заметим, что добавление вектора v в каждую строку матрицы x эквивалентно выполнению двух шагов: 1) формированию некоторой промежуточной матрицы vv путем складирования нескольких копий v одна поверх другой; 2) выполнение поэлементного сложения двух матриц x и vv. Мы могли бы реализовать этот подход следующим образом:"
   ]
  },
  {
   "cell_type": "code",
   "execution_count": 116,
   "metadata": {},
   "outputs": [
    {
     "name": "stdout",
     "output_type": "stream",
     "text": [
      "[[1 0 1]\n",
      " [1 0 1]\n",
      " [1 0 1]\n",
      " [1 0 1]]\n"
     ]
    }
   ],
   "source": [
    "vv = np.tile(v, (4, 1))  # Складирование 4-х копий вектора v: одна поверх другой\n",
    "print(vv)                # Печатает \"[[1 0 1]\n",
    "                         #           [1 0 1]\n",
    "                         #           [1 0 1]\n",
    "                         #           [1 0 1]]\""
   ]
  },
  {
   "cell_type": "code",
   "execution_count": 117,
   "metadata": {},
   "outputs": [
    {
     "name": "stdout",
     "output_type": "stream",
     "text": [
      "[[ 2  2  4]\n",
      " [ 5  5  7]\n",
      " [ 8  8 10]\n",
      " [11 11 13]]\n"
     ]
    }
   ],
   "source": [
    "y = x + vv  # Поэдементное сложение матриц одного размера x и vv \n",
    "print(y)"
   ]
  },
  {
   "cell_type": "markdown",
   "metadata": {},
   "source": [
    "Транслирование позволяет нам выполнять эти вычисления без фактического создания нескольких копий v. Рассмотрим вариант решения задачи, использующий транслирование:"
   ]
  },
  {
   "cell_type": "code",
   "execution_count": 118,
   "metadata": {},
   "outputs": [
    {
     "name": "stdout",
     "output_type": "stream",
     "text": [
      "[[ 2  2  4]\n",
      " [ 5  5  7]\n",
      " [ 8  8 10]\n",
      " [11 11 13]]\n"
     ]
    }
   ],
   "source": [
    "import numpy as np\n",
    "\n",
    "# Использование механизма транслирования\n",
    "\n",
    "# Сложение вектора v с каждой строкой матрицы x,\n",
    "# сохранение результата в матрице y\n",
    "x = np.array([[1, 2, 3], [4, 5, 6], [7, 8, 9], [10, 11, 12]])\n",
    "v = np.array([1, 0, 1])\n",
    "y = x + v  #  Сложение вектора v с каждой строкой матрицы x путем транслирования\n",
    "print(y)"
   ]
  },
  {
   "cell_type": "markdown",
   "metadata": {},
   "source": [
    "При транслировании строка кода `y = x + v` работает, даже если` x` имеет форму `(4, 3)` и `v` имеет форму` (3,)` ; эта строка кода работает так, как если бы переменная `v` фактически имела форму `(4, 3)`, где каждая строка была копией `v`, а сложение вычислялось поэлементно.\n",
    "\n",
    "**Транслирование** двух массивов выполняется в соответствии с правилами:\n",
    "\n",
    "1. Если массивы не одного ранга, то к форме массива меньшего ранга добавляется одно измерение слева до тех пор, пока формы массивов не будут иметь одинаковую длину.\n",
    "2. Два массива, как говорят, совместимы в некотором измерении, если они имеют одинаковый размер в этом измерении, или если один из массивов имеет размер 1 в этом измерении.\n",
    "3. Массивы могут транслироваться один в другой, если они совместимы во всех измерениях.\n",
    "4. После трансляции каждый массив ведет себя так, как если бы он имел форму, равную поэлементному максимуму форм двух входных массивов.\n",
    "5. В любом измерении, где один массив имел размер 1, а другой массив имел размер больше 1, первый массив ведет себя так, как если бы он был скопирован вдоль этого измерения.\n",
    "\n",
    "В книге  `Плас Дж. Вандер Python для сложных задач: наука о данных и машинное обучение. — СПб.: Питер, 2018.-576c.`\n",
    "транслирование массивов описывается тремя правилами:\n",
    "1. Если размерность двух массивов отличается, форма массива с меньшей размерностью дополняется единицами с ведущей (левой) стороны.\n",
    "2. Если форма двух массивов не совпадает в каком-то измерении, массив с формой, равной 1 в данном измерении, растягивается вплоть до соответствия форме другого массива.\n",
    "3. Если в каком-либо измерении размеры массивов различаются и ни один не равен 1, генерируется ошибка.\n",
    "\n",
    "Вот некоторые примеры использования трансляции:"
   ]
  },
  {
   "cell_type": "code",
   "execution_count": 119,
   "metadata": {},
   "outputs": [
    {
     "name": "stdout",
     "output_type": "stream",
     "text": [
      "[[ 4  5]\n",
      " [ 8 10]\n",
      " [12 15]]\n"
     ]
    }
   ],
   "source": [
    "# Вычисление внешнего произведения векторов v*w\n",
    "v = np.array([1, 2, 3])  # форма v : (3,)\n",
    "w = np.array([4, 5])     # форма w : (2,)\n",
    "\n",
    "# Чтобы вычислить внешнее произведение. реформатируем сначала v в вектор-столбец с формой (3, 1);\n",
    "# a затем выполняем транслирование с учетом формы w, чтобы получить массив формы (3, 2), \n",
    "# которую будет иметь внешнее произведение v и w:\n",
    "print(np.reshape(v, (3, 1)) * w)"
   ]
  },
  {
   "cell_type": "code",
   "execution_count": 120,
   "metadata": {},
   "outputs": [
    {
     "name": "stdout",
     "output_type": "stream",
     "text": [
      "[[2 4 6]\n",
      " [5 7 9]]\n"
     ]
    }
   ],
   "source": [
    "# Сложение вектора с каждой строкой матрицы\n",
    "x = np.array([[1, 2, 3], [4, 5, 6]])\n",
    "# форма x: (2, 3) , форма v: (3,), следовательно они транслируются в форму (2, 3),\n",
    "# формируя следующую матрицу-результат:\n",
    "# [[2 4 6]\n",
    "# [5 7 9]]\n",
    "\n",
    "print(x + v)"
   ]
  },
  {
   "cell_type": "code",
   "execution_count": 121,
   "metadata": {},
   "outputs": [
    {
     "name": "stdout",
     "output_type": "stream",
     "text": [
      "[[ 5  6  7]\n",
      " [ 9 10 11]]\n"
     ]
    }
   ],
   "source": [
    "# Сложение вектора с каждым столбцом матрицы, где\n",
    "# форма матрицы x: (2, 3) , форма вектора w: (2,).\n",
    "# Если мы транспонируем x, то она будет иметь форму (3, 2) и будет возможно транслирование\n",
    "# с учетом формы w, чтобы получить результат формы (3, 2); транспонирование этого результата\n",
    "# дает окончательный результат формы (2, 3), который представляет собой матрицу x \n",
    "# в каждый столбец, которой добавлен вектор w:\n",
    "# [[ 5  6  7]\n",
    "#  [ 9 10 11]]\n",
    "print((x.T + w).T)"
   ]
  },
  {
   "cell_type": "code",
   "execution_count": 122,
   "metadata": {},
   "outputs": [
    {
     "name": "stdout",
     "output_type": "stream",
     "text": [
      "[[ 5  6  7]\n",
      " [ 9 10 11]]\n"
     ]
    }
   ],
   "source": [
    "# Другое решение — реформатировать w в вектор-строку формы (2, 1);\n",
    "# затем можно будет транслировать его непосредственно на x, чтобы получить тот же выход\n",
    "print(x + np.reshape(w, (2, 1)))"
   ]
  },
  {
   "cell_type": "code",
   "execution_count": 123,
   "metadata": {},
   "outputs": [
    {
     "name": "stdout",
     "output_type": "stream",
     "text": [
      "[[ 2  4  6]\n",
      " [ 8 10 12]]\n"
     ]
    }
   ],
   "source": [
    "# Умножение матрицу на константу:\n",
    "# форма x : (2, 3). Numpy рассматривает скалярные значения как массивы формы ();\n",
    "# их можно транслировать в форму (2, 3), чтобы получить результирующий массив:\n",
    "print(x * 2)"
   ]
  },
  {
   "cell_type": "markdown",
   "metadata": {},
   "source": [
    "Транслирование обычно делает ваш код более кратким и быстрым, поэтому вы должны стремиться использовать его там, где это возможно."
   ]
  },
  {
   "cell_type": "markdown",
   "metadata": {},
   "source": [
    "##### Трансляция. Пример 1.\n",
    "\n",
    "Рассмотрим сложение двумерного массива с одномерным:\n",
    "``` \n",
    "M = np.ones((2, 3))\n",
    "a = np.arange(3)\n",
    "```\n",
    "Рассмотрим эту операцию подробнее. Формы массивов следующие:\n",
    "```\n",
    "M.shape = (2, 3)\n",
    "a.shape = (3,)\n",
    "```\n",
    "По правилу 1, поскольку размерность массива `a` меньше, мы дополняем его измерением слева:\n",
    "```\n",
    "M.shape -> (2, 3)\n",
    "a.shape -> (1, 3)\n",
    "```\n",
    "По правилу 2 мы видим, что первое измерение массивов различается, так что мы \n",
    "растягиваем размер `a` его вплоть до совпадения:\n",
    "```\n",
    "M.shape -> (2, 3)\n",
    "a.shape -> (2, 3)\n",
    "```\n",
    "Формы совпадают, и мы видим, что итоговая форма будет (2, 3). Проверим:"
   ]
  },
  {
   "cell_type": "code",
   "execution_count": 124,
   "metadata": {},
   "outputs": [
    {
     "name": "stdout",
     "output_type": "stream",
     "text": [
      "M= [[1. 1. 1.]\n",
      " [1. 1. 1.]]\n",
      "a= [0 1 2]\n"
     ]
    },
    {
     "data": {
      "text/plain": [
       "array([[1., 2., 3.],\n",
       "       [1., 2., 3.]])"
      ]
     },
     "execution_count": 124,
     "metadata": {},
     "output_type": "execute_result"
    }
   ],
   "source": [
    "M = np.ones((2, 3))\n",
    "print('M=', M)\n",
    "a = np.arange(3)\n",
    "print('a=', a)\n",
    "M+a"
   ]
  },
  {
   "cell_type": "markdown",
   "metadata": {},
   "source": [
    "##### Транслирование. Пример 2\n",
    "Рассмотрим пример, в котором необходимо транслировать оба массива:\n",
    "```\n",
    "a = np.arange(3).reshape((3, 1))\n",
    "a=[0\n",
    "   1\n",
    "   2]\n",
    "b = np.arange(3)\n",
    "b=[0 1 2]\n",
    "```\n",
    "Начнем с записи формы наших массивов:\n",
    "```\n",
    "a.shape = (3, 1)\n",
    "b.shape = (3,)\n",
    "```\n",
    "Правило 1 гласит, что мы должны дополнить форму массива b измерением слева:\n",
    "```\n",
    "a.shape -> (3, 1)\n",
    "b.shape -> (1, 3)\n",
    "```\n",
    "Правило 2 говорит, что нужно увеличивать размеры измерений вплоть до совпадения \n",
    "с размерами измерений другого массива:\n",
    "```\n",
    "a.shape -> (3, 3)\n",
    "a=[0 0 0\n",
    "   1 1 1\n",
    "   2 2 2]\n",
    "\n",
    "b.shape -> (3, 3)\n",
    "b=[0 1 2\n",
    "   0 1 2\n",
    "   0 1 2]\n",
    "\n",
    "\n",
    "```\n",
    "Поскольку формы совпадают, массивы совместимы. Суммируя `a+b`, получаем:\n"
   ]
  },
  {
   "cell_type": "code",
   "execution_count": 125,
   "metadata": {},
   "outputs": [
    {
     "name": "stdout",
     "output_type": "stream",
     "text": [
      "a= [[0]\n",
      " [1]\n",
      " [2]]\n",
      "b= [0 1 2]\n"
     ]
    },
    {
     "data": {
      "text/plain": [
       "array([[0, 1, 2],\n",
       "       [1, 2, 3],\n",
       "       [2, 3, 4]])"
      ]
     },
     "execution_count": 125,
     "metadata": {},
     "output_type": "execute_result"
    }
   ],
   "source": [
    "a = np.arange(3).reshape((3, 1))\n",
    "print('a=', a)\n",
    "b = np.arange(3)\n",
    "print('b=', b)\n",
    "a+b"
   ]
  },
  {
   "cell_type": "markdown",
   "metadata": {},
   "source": [
    "##### Транслирование. Пример 3\n",
    "Рассмотрим пример, в котором два массива несовместимы:\n",
    "```\n",
    "M = np.ones((3, 2))\n",
    "a = np.arange(3)\n",
    "```\n",
    "Эта ситуация лишь немного отличается от примера 1: матрица M транспонирована. Какое же влияние это окажет на вычисления? Формы массивов следующие:\n",
    "```\n",
    "M.shape = (3, 2)\n",
    "a.shape = (3,)\n",
    "```\n",
    "Правило 1 при транслировании дополняет форму массива `a` измерением слева:\n",
    "```\n",
    "M.shape -> (3, 2)\n",
    "a.shape -> (1, 3)\n",
    "```\n",
    "Согласно правилу 2 первое измерение массива `a` растягивается, чтобы соответствовать таковому массива M:\n",
    "```\n",
    "M.shape -> (3, 2)\n",
    "a.shape -> (3, 3)\n",
    "```\n",
    "Теперь вступает в действие правило 3 — итоговые формы не совпадают, так что массивы несовместимы, что мы и видим, попытавшись выполнить данную операцию:"
   ]
  },
  {
   "cell_type": "code",
   "execution_count": 126,
   "metadata": {},
   "outputs": [
    {
     "ename": "ValueError",
     "evalue": "operands could not be broadcast together with shapes (3,2) (3,) ",
     "output_type": "error",
     "traceback": [
      "\u001b[1;31m---------------------------------------------------------------------------\u001b[0m",
      "\u001b[1;31mValueError\u001b[0m                                Traceback (most recent call last)",
      "Cell \u001b[1;32mIn[126], line 3\u001b[0m\n\u001b[0;32m      1\u001b[0m M \u001b[38;5;241m=\u001b[39m np\u001b[38;5;241m.\u001b[39mones((\u001b[38;5;241m3\u001b[39m, \u001b[38;5;241m2\u001b[39m))\n\u001b[0;32m      2\u001b[0m a \u001b[38;5;241m=\u001b[39m np\u001b[38;5;241m.\u001b[39marange(\u001b[38;5;241m3\u001b[39m)\n\u001b[1;32m----> 3\u001b[0m M\u001b[38;5;241m+\u001b[39ma\n",
      "\u001b[1;31mValueError\u001b[0m: operands could not be broadcast together with shapes (3,2) (3,) "
     ]
    }
   ],
   "source": [
    "M = np.ones((3, 2))\n",
    "a = np.arange(3)\n",
    "M+a"
   ]
  },
  {
   "cell_type": "markdown",
   "metadata": {},
   "source": [
    "Обратите внимание на имеющийся потенциальный источник ошибки: можно было бы сделать массивы a и M совместимыми, скажем путем дополнения формы `a` единицами справа, а не слева. Но правила транслирования работают не так! \n",
    "Если вам необходимо применить правостороннее дополнение формы, можно сделать это явным образом, поменяв форму массива. Для этого воспользуемся специальным объектом `np.newaxis`:"
   ]
  },
  {
   "cell_type": "code",
   "execution_count": 127,
   "metadata": {},
   "outputs": [
    {
     "data": {
      "text/plain": [
       "(3, 1)"
      ]
     },
     "execution_count": 127,
     "metadata": {},
     "output_type": "execute_result"
    }
   ],
   "source": [
    "a[:, np.newaxis].shape"
   ]
  },
  {
   "cell_type": "code",
   "execution_count": 128,
   "metadata": {},
   "outputs": [
    {
     "data": {
      "text/plain": [
       "array([[1., 1.],\n",
       "       [2., 2.],\n",
       "       [3., 3.]])"
      ]
     },
     "execution_count": 128,
     "metadata": {},
     "output_type": "execute_result"
    }
   ],
   "source": [
    "M + a[:, np.newaxis]"
   ]
  },
  {
   "cell_type": "markdown",
   "metadata": {},
   "source": [
    "Этот краткий обзор затронул многие важные вещи, которые вам нужно знать о NumPy, но далеко не всё. Чтобы узнать больше о NumPy смотрите [документацию по numpy](http://docs.scipy.org/doc/numpy/reference/)."
   ]
  },
  {
   "cell_type": "markdown",
   "metadata": {},
   "source": [
    "##### <font color=red>Задание</font>\n",
    "Возможна ли совместная трансляция массивов с формами:\n",
    "1. (100,100,4) и (3) ?\n",
    "2. (15,1,6,5) и (7,1,5) ?\n",
    "3. (12,3,8) и (3,1) ?\n",
    "4. (10,4,1,6) и (3,1,6) ?\n",
    "5. (10,1) и (1,10,3) ?\n",
    "\n",
    "Дать подробные ответы (аналогично примерам, приведенным выше) со ссылками на правила трансляции и сопроводить примерами с вычислениями и комментариями."
   ]
  },
  {
   "cell_type": "markdown",
   "metadata": {},
   "source": [
    "###### Задание 1\n",
    "Формы массивов следующие:\n",
    "```\n",
    "a.shape = (100, 100, 4)\n",
    "b.shape = (3)\n",
    "```\n",
    "Правило 1: при транслировании дополняем форму массива `b` измерениями слева:\n",
    "```\n",
    "a.shape -> (100, 100, 4)\n",
    "b.shape -> (1, 1, 3)\n",
    "```\n",
    "Правило 2: первое и второе измерения массива `b` растягиваются, чтобы соответствовать таковому массива `a`:\n",
    "```\n",
    "a.shape -> (100, 100, 4)\n",
    "b.shape -> (100, 100, 3)\n",
    "```\n",
    "Правило 3: формы не совпадают, трансляция невозможна."
   ]
  },
  {
   "cell_type": "code",
   "execution_count": 129,
   "metadata": {},
   "outputs": [
    {
     "ename": "ValueError",
     "evalue": "operands could not be broadcast together with shapes (100,100,4) (3,) ",
     "output_type": "error",
     "traceback": [
      "\u001b[1;31m---------------------------------------------------------------------------\u001b[0m",
      "\u001b[1;31mValueError\u001b[0m                                Traceback (most recent call last)",
      "Cell \u001b[1;32mIn[129], line 3\u001b[0m\n\u001b[0;32m      1\u001b[0m a \u001b[38;5;241m=\u001b[39m np\u001b[38;5;241m.\u001b[39mones((\u001b[38;5;241m100\u001b[39m, \u001b[38;5;241m100\u001b[39m, \u001b[38;5;241m4\u001b[39m))\n\u001b[0;32m      2\u001b[0m b \u001b[38;5;241m=\u001b[39m np\u001b[38;5;241m.\u001b[39mones(\u001b[38;5;241m3\u001b[39m)\n\u001b[1;32m----> 3\u001b[0m \u001b[38;5;28mprint\u001b[39m((a \u001b[38;5;241m+\u001b[39m b)\u001b[38;5;241m.\u001b[39mshape)\n",
      "\u001b[1;31mValueError\u001b[0m: operands could not be broadcast together with shapes (100,100,4) (3,) "
     ]
    }
   ],
   "source": [
    "a = np.ones((100, 100, 4))\n",
    "b = np.ones(3)\n",
    "print((a + b).shape)"
   ]
  },
  {
   "cell_type": "markdown",
   "metadata": {},
   "source": [
    "###### Задание 2\n",
    "Формы массивов следующие:\n",
    "```\n",
    "a.shape = (15, 1, 6, 5)\n",
    "b.shape = (7, 1, 5)\n",
    "```\n",
    "Правило 1: при транслировании дополняем форму массива `b` измерением слева:\n",
    "```\n",
    "a.shape -> (15, 1, 6, 5)\n",
    "b.shape -> (1, 7, 1, 5)\n",
    "```\n",
    "Правило 2: растягиваются второе измерение массива `a` и первое и третье измерение массива `b`:\n",
    "```\n",
    "a.shape -> (15, 7, 6, 5)\n",
    "b.shape -> (15, 7, 6, 5)\n",
    "```\n",
    "Формы совпадают, трансляция возможна. Итоговая форма - (15, 7, 6, 5):"
   ]
  },
  {
   "cell_type": "code",
   "execution_count": 130,
   "metadata": {},
   "outputs": [
    {
     "name": "stdout",
     "output_type": "stream",
     "text": [
      "(15, 7, 6, 5)\n"
     ]
    }
   ],
   "source": [
    "a = np.ones((15, 1, 6, 5))\n",
    "b = np.ones((7, 1, 5))\n",
    "print((a + b).shape)"
   ]
  },
  {
   "cell_type": "markdown",
   "metadata": {},
   "source": [
    "###### Задание 3\n",
    "Формы массивов следующие:\n",
    "```\n",
    "a.shape = (12, 3, 8)\n",
    "b.shape = (3, 1)\n",
    "```\n",
    "Правило 1: при транслировании дополняем форму массива `b` измерением слева:\n",
    "```\n",
    "a.shape -> (12, 3, 8)\n",
    "b.shape -> (1, 3, 1)\n",
    "```\n",
    "Правило 2: растягиваются первое и третье измерения массива `b`:\n",
    "```\n",
    "a.shape -> (12, 3, 8)\n",
    "b.shape -> (12, 3, 8)\n",
    "```\n",
    "Формы совпадают, трансляция возможна. Итоговая форма - (12, 3, 8):"
   ]
  },
  {
   "cell_type": "code",
   "execution_count": 131,
   "metadata": {},
   "outputs": [
    {
     "name": "stdout",
     "output_type": "stream",
     "text": [
      "(12, 3, 8)\n"
     ]
    }
   ],
   "source": [
    "a = np.ones((12, 3, 8))\n",
    "b = np.ones((3, 1))\n",
    "print((a + b).shape)"
   ]
  },
  {
   "cell_type": "markdown",
   "metadata": {},
   "source": [
    "###### Задание 4\n",
    "Формы массивов следующие:\n",
    "```\n",
    "a.shape = (10, 4, 1, 6)\n",
    "b.shape = (3, 1, 6)\n",
    "```\n",
    "Правило 1: при транслировании дополняем форму массива `b` измерением слева:\n",
    "```\n",
    "a.shape = (10, 4, 1, 6)\n",
    "b.shape = (1, 3, 1, 6)\n",
    "```\n",
    "Правило 2: растягивается первое измерение массива `b`:\n",
    "```\n",
    "a.shape = (10, 4, 1, 6)\n",
    "b.shape = (10, 3, 1, 6)\n",
    "```\n",
    "Формы не совпадают, трансляция невозможна."
   ]
  },
  {
   "cell_type": "code",
   "execution_count": 132,
   "metadata": {},
   "outputs": [
    {
     "ename": "ValueError",
     "evalue": "operands could not be broadcast together with shapes (10,4,1,6) (3,1,6) ",
     "output_type": "error",
     "traceback": [
      "\u001b[1;31m---------------------------------------------------------------------------\u001b[0m",
      "\u001b[1;31mValueError\u001b[0m                                Traceback (most recent call last)",
      "Cell \u001b[1;32mIn[132], line 3\u001b[0m\n\u001b[0;32m      1\u001b[0m a \u001b[38;5;241m=\u001b[39m np\u001b[38;5;241m.\u001b[39mones((\u001b[38;5;241m10\u001b[39m, \u001b[38;5;241m4\u001b[39m, \u001b[38;5;241m1\u001b[39m, \u001b[38;5;241m6\u001b[39m))\n\u001b[0;32m      2\u001b[0m b \u001b[38;5;241m=\u001b[39m np\u001b[38;5;241m.\u001b[39mones((\u001b[38;5;241m3\u001b[39m, \u001b[38;5;241m1\u001b[39m, \u001b[38;5;241m6\u001b[39m))\n\u001b[1;32m----> 3\u001b[0m \u001b[38;5;28mprint\u001b[39m((a \u001b[38;5;241m+\u001b[39m b)\u001b[38;5;241m.\u001b[39mshape)\n",
      "\u001b[1;31mValueError\u001b[0m: operands could not be broadcast together with shapes (10,4,1,6) (3,1,6) "
     ]
    }
   ],
   "source": [
    "a = np.ones((10, 4, 1, 6))\n",
    "b = np.ones((3, 1, 6))\n",
    "print((a + b).shape)"
   ]
  },
  {
   "cell_type": "markdown",
   "metadata": {},
   "source": [
    "###### Задание 5\n",
    "Формы массивов следующие:\n",
    "```\n",
    "a.shape = (10, 1)\n",
    "b.shape = (1, 10, 3)\n",
    "```\n",
    "Правило 1: при транслировании дополняем форму массива `a` измерением слева:\n",
    "```\n",
    "a.shape -> (1, 10, 1)\n",
    "b.shape -> (1, 10, 3)\n",
    "```\n",
    "Правило 2: третье измерение массива `a` растягивается, чтобы соответствовать таковому массива `b`:\n",
    "```\n",
    "a.shape -> (1, 10, 3)\n",
    "b.shape -> (1, 10, 3)\n",
    "```\n",
    "Формы совпадают, трансляция возможна. Итоговая форма - (1, 10, 3)."
   ]
  },
  {
   "cell_type": "code",
   "execution_count": 133,
   "metadata": {},
   "outputs": [
    {
     "name": "stdout",
     "output_type": "stream",
     "text": [
      "(1, 10, 3)\n"
     ]
    }
   ],
   "source": [
    "a = np.ones((10, 1))\n",
    "b = np.ones((1, 10, 3))\n",
    "print((a + b).shape)"
   ]
  },
  {
   "cell_type": "markdown",
   "metadata": {},
   "source": [
    "#### Универсальные функции"
   ]
  },
  {
   "cell_type": "markdown",
   "metadata": {},
   "source": [
    "Функции, поддерживающие трансляцию, известны как **универсальные функции**. Вы можете найти список всех универсальных функций в [документации](http://docs.scipy.org/doc/numpy/reference/ufuncs.html#available-ufuncs)."
   ]
  },
  {
   "cell_type": "markdown",
   "metadata": {},
   "source": [
    "**<font color=blue>Вычисления с применением векторизации посредством универсальных функций практически всегда более эффективны, чем их эквиваленты, реализованные с помощью циклов Python, особенно при больших размерах массивов.</font>**"
   ]
  },
  {
   "cell_type": "markdown",
   "metadata": {},
   "source": [
    "* Арифметические функции над массивами"
   ]
  },
  {
   "cell_type": "code",
   "execution_count": 134,
   "metadata": {},
   "outputs": [
    {
     "name": "stdout",
     "output_type": "stream",
     "text": [
      "x     = [0 1 2 3]\n",
      "x + 5 = [5 6 7 8]\n",
      "x - 5 = [-5 -4 -3 -2]\n",
      "x * 2 = [0 2 4 6]\n",
      "x / 2 = [0.  0.5 1.  1.5]\n",
      "x // 2 = [0 0 1 1]\n",
      "-x     =  [ 0 -1 -2 -3]\n",
      "x ** 2 =  [0 1 4 9]\n",
      "x % 2  =  [0 1 0 1]\n"
     ]
    }
   ],
   "source": [
    "x = np.arange(4)\n",
    "print(\"x     =\", x)\n",
    "print(\"x + 5 =\", x + 5)\n",
    "print(\"x - 5 =\", x - 5)\n",
    "print(\"x * 2 =\", x * 2)\n",
    "print(\"x / 2 =\", x / 2)\n",
    "print(\"x // 2 =\", x // 2)  # деление с округлением в меньшую сторону\n",
    "print(\"-x     = \", -x)\n",
    "print(\"x ** 2 = \", x ** 2) # возведение в степень\n",
    "print(\"x % 2  = \", x % 2)  # остаток от деления"
   ]
  },
  {
   "cell_type": "markdown",
   "metadata": {},
   "source": [
    "Дополнительно эти операции можно комбинировать любыми способами с соблюдением стандартного приоритета выполнения операций:\n"
   ]
  },
  {
   "cell_type": "code",
   "execution_count": 135,
   "metadata": {},
   "outputs": [
    {
     "data": {
      "text/plain": [
       "array([-1.  , -2.25, -4.  , -6.25])"
      ]
     },
     "execution_count": 135,
     "metadata": {},
     "output_type": "execute_result"
    }
   ],
   "source": [
    "-(0.5*x + 1) ** 2"
   ]
  },
  {
   "cell_type": "markdown",
   "metadata": {},
   "source": [
    "* Абсолютное значение."
   ]
  },
  {
   "cell_type": "markdown",
   "metadata": {},
   "source": [
    "Используется универсальная функция библиотеки NumPy — `np.absolute`, доступная также под псевдонимом `np.abs`:"
   ]
  },
  {
   "cell_type": "code",
   "execution_count": 136,
   "metadata": {},
   "outputs": [
    {
     "data": {
      "text/plain": [
       "array([0, 1, 2, 3])"
      ]
     },
     "execution_count": 136,
     "metadata": {},
     "output_type": "execute_result"
    }
   ],
   "source": [
    "x = np.array([0, -1, 2, -3])\n",
    "np.absolute(x)"
   ]
  },
  {
   "cell_type": "code",
   "execution_count": 137,
   "metadata": {},
   "outputs": [
    {
     "data": {
      "text/plain": [
       "array([0, 1, 2, 3])"
      ]
     },
     "execution_count": 137,
     "metadata": {},
     "output_type": "execute_result"
    }
   ],
   "source": [
    "np.abs(x)"
   ]
  },
  {
   "cell_type": "code",
   "execution_count": 138,
   "metadata": {},
   "outputs": [
    {
     "data": {
      "text/plain": [
       "array([5., 5., 2., 1.])"
      ]
     },
     "execution_count": 138,
     "metadata": {},
     "output_type": "execute_result"
    }
   ],
   "source": [
    "x = np.array([3 - 4j, 4 - 3j, 2 + 0j, 0 + 1j]) # массив комплексных чисел\n",
    "np.abs(x)                                      # модуль комплексных чисел"
   ]
  },
  {
   "cell_type": "markdown",
   "metadata": {},
   "source": [
    "#### Указание массива для вывода результата\n",
    "При  вычислениях c помощью универсальных функций удобно задать аргумент-массив, в котором будет сохранен результат вычислений, вместо того чтобы создавать временный массив в памяти в ходе вычислений. Сделать это для любой универсальной функции можно с помощью ключевого аргумента out:"
   ]
  },
  {
   "cell_type": "code",
   "execution_count": 139,
   "metadata": {},
   "outputs": [
    {
     "name": "stdout",
     "output_type": "stream",
     "text": [
      "[ 0. 10. 20. 30. 40.]\n"
     ]
    }
   ],
   "source": [
    "x = np.arange(5)\n",
    "y = np.empty(5)\n",
    "np.multiply(x, 10, out=y)\n",
    "print(y)"
   ]
  },
  {
   "cell_type": "markdown",
   "metadata": {},
   "source": [
    "Эту возможность можно использовать даже вместе с представлениями массивов. Например, можно записать результаты вычислений в каждый второй элемент выходного массива:"
   ]
  },
  {
   "cell_type": "code",
   "execution_count": 140,
   "metadata": {},
   "outputs": [
    {
     "name": "stdout",
     "output_type": "stream",
     "text": [
      "[ 1.  0.  2.  0.  4.  0.  8.  0. 16.  0.]\n"
     ]
    }
   ],
   "source": [
    "y = np.zeros(10)\n",
    "np.power(2, x, out=y[::2])\n",
    "print(y)"
   ]
  },
  {
   "cell_type": "markdown",
   "metadata": {},
   "source": [
    "Если бы мы вместо этого написали `y[::2] = 2 ** x`, был бы создан временный массив для хранения результатов операции `2 ** x` с последующим копированием этих значений в массив y. Для столь незначительных объемов вычислений особой разницы нет, но для очень больших массивов экономия памяти за счет аккуратного использования аргумента out может оказаться значительной."
   ]
  },
  {
   "cell_type": "markdown",
   "metadata": {},
   "source": [
    "##### <font color=red>Задание</font>\n",
    "Создать класс наследник от класса учета рейтинга студентов (**StudentsRaiting**) и расширить его методами рассчета статистики по предметам (средний балл, максимальный балл, минимальный балл). Для этого нужно преобразовать данные об оценках из словаря в массив и использовать функции библиотеки Numpy.\n",
    "\n",
    "Примечание: Использовать универсальные функции для работы с массивами numpy."
   ]
  },
  {
   "cell_type": "code",
   "execution_count": 141,
   "metadata": {},
   "outputs": [],
   "source": [
    "# Выполнение задания\n",
    "class StudentsRatingPro(StudentsRating):\n",
    "    \n",
    "    # Конструктор\n",
    "    def __init__(self, students):\n",
    "        super().__init__(students)\n",
    "        self.scores = np.array(list(self.students.values()))\n",
    "\n",
    "    # Расчет среднего балла по каждому предмету\n",
    "    def get_averages(self): \n",
    "        return np.mean(self.scores, axis=0)\n",
    "    \n",
    "    # Расчет максимального балла по каждому предмету\n",
    "    def get_maxes(self):\n",
    "        return np.max(self.scores, axis=0)\n",
    "        \n",
    "    # Расчет минимального балла по каждому предмету\n",
    "    def get_mins(self):\n",
    "        return np.min(self.scores, axis=0)"
   ]
  },
  {
   "cell_type": "code",
   "execution_count": 144,
   "metadata": {},
   "outputs": [
    {
     "name": "stdout",
     "output_type": "stream",
     "text": [
      "\n",
      "Статистика по предметам:\n",
      "Средние баллы: 4.0 3.5 5.0 4.0\n",
      "Максимальные баллы: 5 4 5 4\n",
      "Минимальные баллы: 3 3 5 4\n"
     ]
    }
   ],
   "source": [
    "d = {\"Иванов Петр Николаевич\": (3, 3, 5, 4), \n",
    "     \"Петров Иван Константинович\": (5, 4, 5, 4)}\n",
    "rating = StudentsRatingPro(d)\n",
    "\n",
    "averages = rating.get_averages()\n",
    "maxes = rating.get_maxes()\n",
    "mins = rating.get_mins()\n",
    "\n",
    "print(\"\\nСтатистика по предметам:\")\n",
    "print(\"Средние баллы:\", *averages)\n",
    "print(\"Максимальные баллы:\", *maxes)\n",
    "print(\"Минимальные баллы:\", *mins)"
   ]
  },
  {
   "cell_type": "markdown",
   "metadata": {},
   "source": [
    "##### <font color=red>Задание</font>\n",
    "0. Создать функцию `Function1(x)`, возвращающую вектор `y`, размер которого равен размеру вектора `x` и выполняющую поэлементное вычисление по формуле `y=1/(1+exp(-x)`. Создать функцию `Function2(x)`, возвращающую вектор `y`, размер которого равен размеру вектора `x` и выполняющую поэлементное вычисление по формуле `y=max(0,x)`.\n",
    "1. Написать функцию `LinearTransform(M,x,b)`, где `M` - матрица, `x` - вектор, `b` - число. Функция должна ввозвращать вектор `y`, размер которого равен размеру вектора `x`, где `y` рассчитывается по формуле `y=M*x+b`, здесь под операцией `*` понимается операция скалярного произведения (dot product) матрицы на вектор.\n",
    "2. Написать функцию `Transform(M1,M2,x,b1,b2)`, где `M1`,`M2` - матрицы, `x` - вектор, `b1`,`b2` - числа. Функция должна ввозвращать вектор `y`, размер которого равен размеру вектора `x`, где `y` рассчитывается по формуле `y=Function2(LinearTransform(M2,x2,b2))`, а `x2=Function1(LinearTransform(M1,x,b1))`.\n",
    "3. Задать матрицы M1,M2 размером MxN, вектор размером N, и числа b1,b2 и выполнить вычисления `Transform(M1,M2,x,b1,b2)`, производя замеры времени выполнения функции. **Значения M и N нужно узнать у преподавателя.** \n",
    "\n",
    "Все функции задания нужно реализовать с использованием универсальных функций, выполняющих векторизованные операции."
   ]
  },
  {
   "cell_type": "code",
   "execution_count": 149,
   "metadata": {},
   "outputs": [
    {
     "name": "stdout",
     "output_type": "stream",
     "text": [
      "Результат: [61. 61. 61. 61. 61. 61. 61. 61. 61. 61. 61. 61. 61. 61. 61. 61. 61. 61.\n",
      " 61. 61. 61. 61. 61. 61. 61. 61. 61. 61. 61. 61. 61. 61. 61. 61. 61. 61.\n",
      " 61. 61. 61. 61. 61. 61. 61. 61. 61. 61. 61. 61. 61. 61. 61. 61. 61. 61.\n",
      " 61. 61. 61. 61. 61. 61.] \n",
      "\n",
      "21.7 µs ± 1.05 µs per loop (mean ± std. dev. of 7 runs, 10,000 loops each)\n"
     ]
    }
   ],
   "source": [
    "# Выполнение задания\n",
    "import numpy as np\n",
    "\n",
    "def Function1(x):\n",
    "    return 1 / (1 + np.exp(-x))\n",
    "\n",
    "def Function2(x):\n",
    "    return np.maximum(0, x)\n",
    "\n",
    "def LinearTransform(M, x, b):\n",
    "    return np.dot(M, x) + b\n",
    "\n",
    "def Transform(M1, M2, x, b1, b2):\n",
    "    x2 = Function1(LinearTransform(M1, x, b1))\n",
    "    return Function2(LinearTransform(M2, x2, b2))\n",
    "\n",
    "M = 60\n",
    "N = 60\n",
    "M1 = np.ones((M, N))\n",
    "M2 = np.ones((M, N))\n",
    "x = np.ones(N)\n",
    "b1 = 0.5\n",
    "b2 = 1.0\n",
    "\n",
    "y = Transform(M1, M2, x, b1, b2)\n",
    "print(\"Результат:\", y, '\\n')\n",
    "\n",
    "%timeit y = Transform(M1, M2, x, b1, b2)"
   ]
  }
 ],
 "metadata": {
  "kernelspec": {
   "display_name": "Python 3 (ipykernel)",
   "language": "python",
   "name": "python3"
  },
  "language_info": {
   "codemirror_mode": {
    "name": "ipython",
    "version": 3
   },
   "file_extension": ".py",
   "mimetype": "text/x-python",
   "name": "python",
   "nbconvert_exporter": "python",
   "pygments_lexer": "ipython3",
   "version": "3.11.4"
  }
 },
 "nbformat": 4,
 "nbformat_minor": 2
}
