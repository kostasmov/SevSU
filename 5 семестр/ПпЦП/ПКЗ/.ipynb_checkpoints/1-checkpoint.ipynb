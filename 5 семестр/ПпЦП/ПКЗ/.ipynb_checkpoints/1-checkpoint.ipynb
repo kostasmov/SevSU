{
 "cells": [
  {
   "cell_type": "markdown",
   "id": "99102a30",
   "metadata": {},
   "source": [
    "# Глубокие нейросети в компьютерном зрении. Дополнительная профессиональная программа профессиональной переподготовки.\n",
    "# Модуль 1.  Программирование компьютерного зрения на языке Python.\n",
    "\n",
    "## Лабораторная работа №2  \"Обработка изображений в библиотеках Pillow, Matplotlib\"."
   ]
  },
  {
   "cell_type": "markdown",
   "id": "99a72a9f",
   "metadata": {},
   "source": [
    "Выполнил студент __________________________ группы _____."
   ]
  },
  {
   "cell_type": "markdown",
   "id": "cc6a2724",
   "metadata": {},
   "source": [
    "### Matplotlib"
   ]
  },
  {
   "cell_type": "markdown",
   "id": "76d99812",
   "metadata": {},
   "source": [
    "Matplotlib - это графическая библиотека. В этом разделе дается краткое введение в модуль matplotlib.pyplot, который предоставляет систему построения графиков, аналогичную системе MATLAB."
   ]
  },
  {
   "cell_type": "code",
   "execution_count": null,
   "id": "3410d680",
   "metadata": {},
   "outputs": [],
   "source": [
    "import matplotlib.pyplot as plt"
   ]
  },
  {
   "cell_type": "code",
   "execution_count": null,
   "id": "e753446b",
   "metadata": {},
   "outputs": [],
   "source": [
    "import numpy as np"
   ]
  },
  {
   "cell_type": "markdown",
   "id": "16069e69",
   "metadata": {},
   "source": [
    "Запустив эту специальную команду iPython,графики будут встроены в документ:"
   ]
  },
  {
   "cell_type": "code",
   "execution_count": null,
   "id": "a6b40af4",
   "metadata": {},
   "outputs": [],
   "source": [
    "%matplotlib inline"
   ]
  },
  {
   "cell_type": "markdown",
   "id": "848d7160",
   "metadata": {},
   "source": [
    "#### Графики"
   ]
  },
  {
   "cell_type": "markdown",
   "id": "e111a310",
   "metadata": {},
   "source": [
    "Самая важная функция в `matplotlib` - это `plot`, которая позволяет вам строить графики для двумерных данные. Вот простой пример:"
   ]
  },
  {
   "cell_type": "code",
   "execution_count": null,
   "id": "1d7d09a1",
   "metadata": {},
   "outputs": [],
   "source": [
    "# Вычислим координаты точек графика синуса.\n",
    "x = np.arange(0, 3 * np.pi, 0.1)\n",
    "y = np.sin(x)\n",
    "\n",
    "# Построим график с использованием matplotlib\n",
    "plt.plot(x, y)"
   ]
  },
  {
   "cell_type": "markdown",
   "id": "0da37268",
   "metadata": {},
   "source": [
    "Немного усложнив пример мы можем легко построить несколько строк одновременно и добавить метки заголовка, легенды и оси:"
   ]
  },
  {
   "cell_type": "code",
   "execution_count": null,
   "id": "889a1a7d",
   "metadata": {},
   "outputs": [],
   "source": [
    "y_sin = np.sin(x)\n",
    "y_cos = np.cos(x)\n",
    "\n",
    "# Построим графики с применением matplotlib\n",
    "plt.plot(x, y_sin)\n",
    "plt.plot(x, y_cos)\n",
    "# Добавим подписи по осям\n",
    "plt.xlabel('x axis label')\n",
    "plt.ylabel('y axis label')\n",
    "# подпись графика\n",
    "plt.title('Sine and Cosine')\n",
    "# и легенду\n",
    "plt.legend(['Sine', 'Cosine'])"
   ]
  },
  {
   "cell_type": "markdown",
   "id": "cc9789d5",
   "metadata": {},
   "source": [
    "#### <font color=red>Задание</font>\n",
    "Построить графики функций: $y=\\sin(x)$,$y=\\cos(x)$, $y=tg(x)$, $y=ctg(x)$. \n",
    "Требования к графикам:\n",
    "- все графики в одной системе координат\n",
    "- значения по оси x должны меняться от $-\\pi$ до $\\pi$.\n",
    "- подписи по осям координат \n",
    "- название графика\n",
    "- координатная сетка\n",
    "- легенда."
   ]
  },
  {
   "cell_type": "code",
   "execution_count": null,
   "id": "a7548665",
   "metadata": {},
   "outputs": [],
   "source": [
    "# Выполнение задания."
   ]
  },
  {
   "cell_type": "markdown",
   "id": "c131b545",
   "metadata": {},
   "source": [
    "#### Подграфики "
   ]
  },
  {
   "cell_type": "markdown",
   "id": "74c9cd54",
   "metadata": {},
   "source": [
    "Вы можете изображать разные графики на том же рисунке, используя функцию `subplot`. /пример:"
   ]
  },
  {
   "cell_type": "code",
   "execution_count": null,
   "id": "fbecc11b",
   "metadata": {},
   "outputs": [],
   "source": [
    "# Вычислим координаты точек для графиков синуса и косинуса.\n",
    "x = np.arange(0, 3 * np.pi, 0.1)\n",
    "y_sin = np.sin(x)\n",
    "y_cos = np.cos(x)\n",
    "\n",
    "# Установим сетку для подграфиков по высоте 2, по ширине 1\n",
    "# и установим активной ячейку 1.\n",
    "plt.subplot(2, 1, 1)\n",
    "\n",
    "# Построим график синуса в активной ячейке.\n",
    "plt.plot(x, y_sin)\n",
    "plt.title('Sine')\n",
    "\n",
    "# Установим активной ячейку 2 и построим в ней график косинуса.\n",
    "plt.subplot(2, 1, 2)\n",
    "plt.plot(x, y_cos)\n",
    "plt.title('Cosine')\n",
    "\n",
    "# Отобразим фигуру.\n",
    "plt.show()"
   ]
  },
  {
   "cell_type": "markdown",
   "id": "c636fff7",
   "metadata": {},
   "source": [
    "Вы можете больше узнать о функции `subplot` в [документации](http://matplotlib.org/api/pyplot_api.html#matplotlib.pyplot.subplot)."
   ]
  },
  {
   "cell_type": "markdown",
   "id": "9de84b04",
   "metadata": {},
   "source": [
    "#### <font color=red>Задание</font>\n",
    "Построить графики функций: $y=2\\cdot x^2$, $y=-2\\cdot x^2$, $x=2\\cdot y^2$, $x=-2\\cdot y^2$\n",
    "Требования к графикам:\n",
    "- каждый график построить в своей системе координат, разделив лист на 4 равные части 2х2.\n",
    "- значения по осям x и y должны меняться от 5 до 5.\n",
    "- подписи по осям координат \n",
    "- названия графиков\n",
    "- координатная сетка."
   ]
  },
  {
   "cell_type": "code",
   "execution_count": null,
   "id": "19b2ad09",
   "metadata": {},
   "outputs": [],
   "source": [
    "# Выполнение задания."
   ]
  },
  {
   "cell_type": "markdown",
   "id": "7d8898f1",
   "metadata": {},
   "source": [
    "#### Гистограммы\n",
    "Для построения гистограмм в IPython можно использовать разные способы. Расчет гистограммы оптимизированный для массивов с большим количеством элементов выполняется при помощи функции `np.histogram` из библиотеки NumPy. Например:"
   ]
  },
  {
   "cell_type": "code",
   "execution_count": null,
   "id": "689aced0",
   "metadata": {},
   "outputs": [],
   "source": [
    "np.histogram([1, 2, 1, 1, 2, 0], bins=[0, 1, 2, 3])"
   ]
  },
  {
   "cell_type": "markdown",
   "id": "94006526",
   "metadata": {},
   "source": [
    "Для вычисления относительных значений в гистограмме можно использовать параметр `density=True`"
   ]
  },
  {
   "cell_type": "code",
   "execution_count": null,
   "id": "f8db40b7",
   "metadata": {},
   "outputs": [],
   "source": [
    "np.histogram([1, 2, 1, 1, 2, 0], bins=[0, 1, 2, 3],density=True)"
   ]
  },
  {
   "cell_type": "markdown",
   "id": "6607a6f3",
   "metadata": {},
   "source": [
    "Для построения графика гистограммы в Matplotlib есть соответствующая, функция, которая основана на функции библиотеки NumPy: "
   ]
  },
  {
   "cell_type": "code",
   "execution_count": null,
   "id": "300f3db9",
   "metadata": {},
   "outputs": [],
   "source": [
    "plt.hist([1, 2, 1, 1, 2, 0], bins=[0, 1, 2, 3])"
   ]
  },
  {
   "cell_type": "code",
   "execution_count": null,
   "id": "895fa443",
   "metadata": {},
   "outputs": [],
   "source": [
    "plt.hist([1, 2, 1, 1, 2, 0], bins=[0, 1, 2, 3],density=True)"
   ]
  },
  {
   "cell_type": "markdown",
   "id": "b28b9989",
   "metadata": {},
   "source": [
    "#### <font color=red>Задание</font>\n",
    "Сгенерировать 1000 случайных значений выбранного распределения (вид уточнить у преподавателя) и построить гистограмму частот и гистограмму относительных частот. \n",
    "Требования к графикам:\n",
    "- графики расположить горизонтально\n",
    "- подписи по осям координат \n",
    "- названия графиков."
   ]
  },
  {
   "cell_type": "code",
   "execution_count": null,
   "id": "271e6920",
   "metadata": {},
   "outputs": [],
   "source": [
    "# Выполнение задания."
   ]
  },
  {
   "cell_type": "markdown",
   "id": "7186d446",
   "metadata": {},
   "source": [
    "#### Диаграммы рассеивания (Scatter plot)\n",
    "Диаграмма рассеивания представляет собой график, в котором точки не соединяются отрезками линий, а представлены по отдельности точками, кругами или другими фигурами на графике.\n",
    "\n",
    "Пример построения диаграммы рассеивания с использованием функции `plot` библиотеки `matplotlib`:"
   ]
  },
  {
   "cell_type": "code",
   "execution_count": null,
   "id": "6350fd2e",
   "metadata": {},
   "outputs": [],
   "source": [
    "x = np.linspace(0, 10, 30)\n",
    "y = np.sin(x)\n",
    "plt.plot(x, y, 'o', color='black');"
   ]
  },
  {
   "cell_type": "markdown",
   "id": "6275f5dd",
   "metadata": {},
   "source": [
    "Используя функцию `plot` можно совместить диаграмму рассеивания и линейный график:"
   ]
  },
  {
   "cell_type": "code",
   "execution_count": null,
   "id": "c17ea53b",
   "metadata": {},
   "outputs": [],
   "source": [
    " plt.plot(x, y, '-ok');  # линия (-), маркер круга (o), черный цвет (k)"
   ]
  },
  {
   "cell_type": "markdown",
   "id": "78ee32aa",
   "metadata": {},
   "source": [
    "Также диаграммы рассеивания могут быть построены с использованием функции `scatter` библиотеки `matplotlib`:"
   ]
  },
  {
   "cell_type": "code",
   "execution_count": null,
   "id": "bee601e0",
   "metadata": {
    "scrolled": true
   },
   "outputs": [],
   "source": [
    " plt.scatter(x, y, marker='o');"
   ]
  },
  {
   "cell_type": "markdown",
   "id": "20818b6e",
   "metadata": {},
   "source": [
    "Основное различие между функциями `plt.scatter` и `plt.plot` состоит в том, что с помощью первой можно создавать диаграммы рассеяния с индивидуально задаваемыми (или выбираемыми в соответствии с данными) свойствами каждой точки (размер, цвет заливки, цвет рамки и т. д.).\n",
    "\n",
    "Продемонстрируем это, создав случайную диаграмму рассеяния с точками различных цветов и размеров. Чтобы лучше видеть перекрывающиеся результаты, воспользуемся ключевым словом `alpha` для настройки уровня прозрачности:"
   ]
  },
  {
   "cell_type": "code",
   "execution_count": null,
   "id": "3e8f8056",
   "metadata": {},
   "outputs": [],
   "source": [
    "rng = np.random.RandomState(0)\n",
    "x = rng.randn(100)\n",
    "y = rng.randn(100)\n",
    "colors = rng.rand(100)\n",
    "sizes = 1000 * rng.rand(100)\n",
    "plt.scatter(x, y, c=colors, s=sizes, alpha=0.3)\n",
    "plt.colorbar();  # Отображаем цветовую шкалу"
   ]
  },
  {
   "cell_type": "markdown",
   "id": "33abe123",
   "metadata": {},
   "source": [
    "#### <font color=red>Задание</font>\n",
    "Повторить крайний пример, изменив вид распределений, используемый для генерации массивов x и y (вид распределений уточнить у преподавателя)."
   ]
  },
  {
   "cell_type": "markdown",
   "id": "9df0db22",
   "metadata": {},
   "source": [
    "### Обработка изображений в Pillow\n",
    "\n",
    "Рассмотрим примеры обработки изображений с помощью Pillow (форка библиотеки PIL). Обработка изображений интересна сама по себе, но она также дает возможность визуально рассматривать массивы NumPy, включая трехмерные массивы NumPy. (До сих пор мы работали только с одномерными и двумерными массивами NumPy, которые мы воспринимаем как векторы и матрицы соответственно.)"
   ]
  },
  {
   "cell_type": "markdown",
   "id": "b8b2c908",
   "metadata": {},
   "source": [
    "#### Открытие изображения"
   ]
  },
  {
   "cell_type": "markdown",
   "id": "44fe48d2",
   "metadata": {},
   "source": [
    "Помимо импорта Pillow, мы также импортируем модуль `os` (который является частью стандартной библиотеки Python, поэтому его не нужно устанавливать)."
   ]
  },
  {
   "cell_type": "code",
   "execution_count": null,
   "id": "aded0e2e",
   "metadata": {},
   "outputs": [],
   "source": [
    "import os\n",
    "from PIL import Image"
   ]
  },
  {
   "cell_type": "markdown",
   "id": "b45a1387",
   "metadata": {},
   "source": [
    "В этом разделе мы не будем много делать с библиотекой Pillow, но вот краткий пример использования Pillow для открытия файла изображения. Чтобы эта команда работала так, как написано, файл `penguins.jpg` должен находиться в той же папке, что и файл блокнота Jupyter."
   ]
  },
  {
   "cell_type": "code",
   "execution_count": null,
   "id": "aafc4d77",
   "metadata": {},
   "outputs": [],
   "source": [
    "Image.open(\"images\\penguins.png\")"
   ]
  },
  {
   "cell_type": "markdown",
   "id": "edd68f1a",
   "metadata": {},
   "source": [
    "Если вам нужно получить доступ к большому количеству файлов, неудобно хранить их все в одной папке. В оставшейся части этого раздела мы увидим некоторые способы использования модуля `os` для поиска файлов.\n",
    "\n",
    "В качестве первого примера, связанного с `os`, мы можем использовать его функцию `getcwd`, ​​чтобы узнать местоположение текущей папки (т. е. местоположение папки, в которой находится ваш файл Jupyter Notebook)."
   ]
  },
  {
   "cell_type": "code",
   "execution_count": null,
   "id": "2d8b1c05",
   "metadata": {},
   "outputs": [],
   "source": [
    "os.getcwd()"
   ]
  },
  {
   "cell_type": "markdown",
   "id": "1216c52f",
   "metadata": {},
   "source": [
    "Другая полезная функция os — `listdir`, принимает на вход строку, указывающую каталог, и возвращает список всех файлов и каталогов во входном каталоге."
   ]
  },
  {
   "cell_type": "code",
   "execution_count": null,
   "id": "c4784fbd",
   "metadata": {},
   "outputs": [],
   "source": [
    "os.listdir(\"images\")"
   ]
  },
  {
   "cell_type": "markdown",
   "id": "b2083adf",
   "metadata": {},
   "source": [
    "Если мы не передаем аргумент listdir, то на выходе будет список, содержащий все файлы и папки в текущей папке. Например, мы видим имя этого блокнота. Мы также видим папку изображений."
   ]
  },
  {
   "cell_type": "code",
   "execution_count": null,
   "id": "7b64027a",
   "metadata": {},
   "outputs": [],
   "source": [
    "os.listdir()"
   ]
  },
  {
   "cell_type": "markdown",
   "id": "84f2cb92",
   "metadata": {},
   "source": [
    "Один из файлов в папке изображений назывался «sevsu.jpg». Давайте попробуем открыть его."
   ]
  },
  {
   "cell_type": "code",
   "execution_count": null,
   "id": "8eefce2d",
   "metadata": {},
   "outputs": [],
   "source": [
    "Image.open(\"sevsu.jpg\")"
   ]
  },
  {
   "cell_type": "markdown",
   "id": "8f045cb5",
   "metadata": {},
   "source": [
    "Возникает ошибка, поскольку Pillow не знает, где найти файл `sevsu.jpg`. На Linux я можно решить эту проблему, введя `\"images/sevsu.jpg\"`, но если бы я вместо этого мы работаем под Windows, нужно ввести `\"images\\sevsu.jpg\"`. Это особенно раздражает, если вы делитесь кодом с кем-то в другой системе. К счастью, в `os.path` есть функция, которая автоматически выбирает правильный разделитель."
   ]
  },
  {
   "cell_type": "code",
   "execution_count": null,
   "id": "84ebb078",
   "metadata": {},
   "outputs": [],
   "source": [
    "os.path.join(\"images\", \"sevsu.jpg\")"
   ]
  },
  {
   "cell_type": "code",
   "execution_count": null,
   "id": "4f71883c",
   "metadata": {},
   "outputs": [],
   "source": [
    "s = os.path.join(\"images\", \"sevsu.jpg\")"
   ]
  },
  {
   "cell_type": "markdown",
   "id": "dad76496",
   "metadata": {},
   "source": [
    "Эта переменная `s` теперь определяет путь к файлу «sevsu.jpg» относительно нашего текущего местоположения. Этот путь необходим для открытия файла с помощью Pillow."
   ]
  },
  {
   "cell_type": "code",
   "execution_count": null,
   "id": "5124c4fc",
   "metadata": {},
   "outputs": [],
   "source": [
    "Image.open(s)"
   ]
  },
  {
   "cell_type": "markdown",
   "id": "37c91836",
   "metadata": {},
   "source": [
    "В качестве последнего примера давайте рассмотрим два способа найти все файлы PNG в папке изображений. Вот напоминание обо всех файлах в этой папке."
   ]
  },
  {
   "cell_type": "code",
   "execution_count": null,
   "id": "4483b9fe",
   "metadata": {},
   "outputs": [],
   "source": [
    "os.listdir(\"images\")"
   ]
  },
  {
   "cell_type": "markdown",
   "id": "66956391",
   "metadata": {},
   "source": [
    "Оба наших подхода будут включать в себя понимание списков. Первый подход использует срезы, чтобы указать, что нам нужны все строки, последние 3 символа которых — «png»."
   ]
  },
  {
   "cell_type": "code",
   "execution_count": null,
   "id": "7cd9c5e8",
   "metadata": {},
   "outputs": [],
   "source": [
    "[x for x in os.listdir(\"images\") if x[-3:] == \"png\"]"
   ]
  },
  {
   "cell_type": "markdown",
   "id": "4bc65070",
   "metadata": {},
   "source": [
    "Второй подход использует строковый метод `endswith`. Оба этих подхода имеют свои преимущества. Этот подход `endswith` удобен тем, что вам не нужно указывать длину «png». Подход срезов удобен тем, что вы, скорее всего, знаете о срезах, чем об этом очень специфическом методе `endswith`."
   ]
  },
  {
   "cell_type": "code",
   "execution_count": null,
   "id": "b9edb3ba",
   "metadata": {},
   "outputs": [],
   "source": [
    "[x for x in os.listdir(\"images\") if x.endswith(\"png\")]"
   ]
  },
  {
   "cell_type": "markdown",
   "id": "539d8fcd",
   "metadata": {},
   "source": [
    "Мы еще не обрабатывали изображения. До сих пор мы использовали библиотеку Pillow только как повод поговорить о работе с файлами в Python. В оставшейся части этой записной книжки мы будем более тесно работать с библиотекой Pillow."
   ]
  },
  {
   "cell_type": "markdown",
   "id": "d0760aed",
   "metadata": {},
   "source": [
    "#### Изображения и массивы NumPy\n",
    "Библиотека Pillow предоставляет нам визуальный способ работы с массивами NumPy, который может помочь сделать некоторые из предыдущих тем более понятными. Например, в этом разделе мы увидим *срезы* в контексте изображений Pillow."
   ]
  },
  {
   "cell_type": "code",
   "execution_count": null,
   "id": "f23a4be7",
   "metadata": {},
   "outputs": [],
   "source": [
    "from PIL import Image\n",
    "import numpy as np"
   ]
  },
  {
   "cell_type": "markdown",
   "id": "1269d8eb",
   "metadata": {},
   "source": [
    "Выше мы использовали Image.open для отображения изображения в блокноте Jupyter. Обычно мы не будем использовать Image.open. Обычно мы сохраняем полученный объект, в данном случае JpegImageFile, чтобы можно было выполнить обработку изображения."
   ]
  },
  {
   "cell_type": "code",
   "execution_count": null,
   "id": "cb63abeb",
   "metadata": {},
   "outputs": [],
   "source": [
    "img = Image.open(\"images\\\\penguins.png\")"
   ]
  },
  {
   "cell_type": "code",
   "execution_count": null,
   "id": "5b0c811b",
   "metadata": {},
   "outputs": [],
   "source": [
    "type(img)"
   ]
  },
  {
   "cell_type": "markdown",
   "id": "bd93148a",
   "metadata": {},
   "source": [
    "Сам объект img не является массивом NumPy, но его можно преобразовать в массив NumPy. Есть несколько разных способов сделать это преобразование. Возможно, мы поговорим о различиях позже, а сейчас мы воспользуемся рекомендуемым способом — np.asarray."
   ]
  },
  {
   "cell_type": "code",
   "execution_count": null,
   "id": "871c1c17",
   "metadata": {},
   "outputs": [],
   "source": [
    "arr = np.asarray(img)"
   ]
  },
  {
   "cell_type": "markdown",
   "id": "e8a4b2c1",
   "metadata": {},
   "source": [
    "Результирующий объект arr представляет собой массив NumPy."
   ]
  },
  {
   "cell_type": "code",
   "execution_count": null,
   "id": "b24ede0f",
   "metadata": {},
   "outputs": [],
   "source": [
    "type(arr)"
   ]
  },
  {
   "cell_type": "markdown",
   "id": "3db890d3",
   "metadata": {},
   "source": [
    "Фактическая переменная image сама по себе не привязана; это по-прежнему объект изображения подушки."
   ]
  },
  {
   "cell_type": "code",
   "execution_count": null,
   "id": "fa672b4b",
   "metadata": {
    "tags": []
   },
   "outputs": [],
   "source": [
    "img"
   ]
  },
  {
   "cell_type": "markdown",
   "id": "ca3cb8cc",
   "metadata": {},
   "source": [
    "Поскольку `arr` — это массив NumPy, `arr` имеет все обычные атрибуты и методы массивов NumPy. Например, вот его атрибут `shape`. Обратите внимание, что указаны три разных числа. Это пример трехмерного массива NumPy. Число `225` относится к количеству строк, число `399` относится к количеству столбцов (обратите внимание, что изображение в ширину превышает высоту), а число `3` относится к RGB (Red Green Blue) значениям, которые определяют цвет данного пикселя."
   ]
  },
  {
   "cell_type": "code",
   "execution_count": null,
   "id": "df4bf689",
   "metadata": {},
   "outputs": [],
   "source": [
    "arr.shape"
   ]
  },
  {
   "cell_type": "markdown",
   "id": "e01dfaa7",
   "metadata": {},
   "source": [
    "`arr` можно представить как матрицу с 225 строками и 399 столбцами. Каждое значение в этой матрице представляет собой не одно число, а тройку чисел, представляющих значения RGB. Например, самый верхний левый пиксель имеет значение красного 178, значение зеленого 190 и значение синего 206. Чем больше число, тем больше этого цвета присутствует в данном пикселе. Обратите внимание, что `dtype` указан как `uint8`, что означает *беззнаковые* 8-битные целые числа. Необходимо преобразовать массивы в `dtype=np.uint8`, чтобы Pillow смог корректно обрабатывать тип данных."
   ]
  },
  {
   "cell_type": "code",
   "execution_count": null,
   "id": "366bf1d1",
   "metadata": {},
   "outputs": [],
   "source": [
    "arr[0,0]"
   ]
  },
  {
   "cell_type": "markdown",
   "id": "0a81c3db",
   "metadata": {},
   "source": [
    "Что в данном случае означает число типа «178»? Это большое значение? Возможны различные нормализации (использование действительных чисел от 0 до 1 является еще одним распространенным выбором нормализации), но нормализация, которую использует Pillow, представляет собой целочисленные значения от 0 (включительно) до 256 (исключая). Это означает, что для каждого значения имеется ровно 256 вариантов, что соответствует 8 битам или 1 байту.\n",
    "\n",
    "Когда мы вычисляем `arr.min()`, NumPy перебирает все числа $225 \\cdot 399 \\cdot 3$ в массиве и проверяет, какое минимальное значение встречается."
   ]
  },
  {
   "cell_type": "code",
   "execution_count": null,
   "id": "7ebbfa64",
   "metadata": {},
   "outputs": [],
   "source": [
    "arr.min()"
   ]
  },
  {
   "cell_type": "code",
   "execution_count": null,
   "id": "2a1461f6",
   "metadata": {},
   "outputs": [],
   "source": [
    "arr.max()"
   ]
  },
  {
   "cell_type": "markdown",
   "id": "378fc056",
   "metadata": {},
   "source": [
    "Вот пример среза по изображению. Возьмем каждую строку и столбцы с 300-го направо. (И поскольку мы не указываем срез в третьем измерении, в измерении RGB будут включены все значения RGB.)"
   ]
  },
  {
   "cell_type": "code",
   "execution_count": null,
   "id": "8004f8b4",
   "metadata": {},
   "outputs": [],
   "source": [
    "(arr[:, 300:]).shape"
   ]
  },
  {
   "cell_type": "markdown",
   "id": "6d708dd8",
   "metadata": {},
   "source": [
    "Вот так выглядело наше исходное изображение."
   ]
  },
  {
   "cell_type": "code",
   "execution_count": null,
   "id": "c30f6e8b",
   "metadata": {},
   "outputs": [],
   "source": [
    "img"
   ]
  },
  {
   "cell_type": "markdown",
   "id": "67efb27e",
   "metadata": {},
   "source": [
    "Мы можем преобразовать массив NumPy (если он имеет подходящую форму и тип dtype) в изображение Pillow, используя `Image.fromarray`. Здесь мы создаем изображение Pillow из нашего среза массива NumPy. Обратите внимание, что это самая правая часть изображения по столбцам, но со всеми строками и с неизмененными цветами."
   ]
  },
  {
   "cell_type": "code",
   "execution_count": null,
   "id": "0b5e3377",
   "metadata": {},
   "outputs": [],
   "source": [
    "Image.fromarray(arr[:, 300:])"
   ]
  },
  {
   "cell_type": "markdown",
   "id": "3b1fbc70",
   "metadata": {},
   "source": [
    "#### Настройка цветов\n",
    "Выше мы видели, как получить часть изображения Pillow. Здесь мы увидим, как изменить часть этого изображения."
   ]
  },
  {
   "cell_type": "code",
   "execution_count": null,
   "id": "252c4cbc",
   "metadata": {},
   "outputs": [],
   "source": [
    "from PIL import Image\n",
    "import numpy as np"
   ]
  },
  {
   "cell_type": "code",
   "execution_count": null,
   "id": "0c71d6ba",
   "metadata": {},
   "outputs": [],
   "source": [
    "img = Image.open(\"images\\penguins.png\")\n",
    "arr = np.asarray(img)"
   ]
  },
  {
   "cell_type": "code",
   "execution_count": null,
   "id": "5384b786",
   "metadata": {},
   "outputs": [],
   "source": [
    "img"
   ]
  },
  {
   "cell_type": "markdown",
   "id": "d0618436",
   "metadata": {},
   "source": [
    "Допустим, мы хотим изменить горизонтальную полосу от строки 100 до строки 150 на черный цвет, который представлен в значениях RGB как `[0,0,0]`."
   ]
  },
  {
   "cell_type": "code",
   "execution_count": null,
   "id": "0c12cd71",
   "metadata": {},
   "outputs": [],
   "source": [
    "Image.fromarray(arr[100:150])"
   ]
  },
  {
   "cell_type": "markdown",
   "id": "b868fea5",
   "metadata": {},
   "source": [
    "Следующее выражение почти работает, но мы получаем ошибку, в которой говорится, что `arr` доступен только для чтения."
   ]
  },
  {
   "cell_type": "code",
   "execution_count": null,
   "id": "4952f1b7",
   "metadata": {},
   "outputs": [],
   "source": [
    "arr[100:150] = 0"
   ]
  },
  {
   "cell_type": "markdown",
   "id": "cd284390",
   "metadata": {},
   "source": [
    "Чтобы это исправить, мы можем сделать копию `arr`, используя метод `copy` массива."
   ]
  },
  {
   "cell_type": "code",
   "execution_count": null,
   "id": "241d0dba",
   "metadata": {},
   "outputs": [],
   "source": [
    "B = arr.copy()"
   ]
  },
  {
   "cell_type": "markdown",
   "id": "88a789b9",
   "metadata": {},
   "source": [
    "Чтобы понять разницу между `arr` и его копией `B`, давайте посмотрим на размер этих двух объектов. Не размер в пикселях, а размер в смысле того, сколько места они занимают в памяти. Мы будем использовать модуль `sys`, который является частью стандартной библиотеки Python."
   ]
  },
  {
   "cell_type": "code",
   "execution_count": null,
   "id": "f06a3a2d",
   "metadata": {},
   "outputs": [],
   "source": [
    "import sys"
   ]
  },
  {
   "cell_type": "markdown",
   "id": "914b1c11",
   "metadata": {},
   "source": [
    "Ниже представлен размер img в байтах. Обратите внимание, какой он маленький, хотя сама картинка выглядит относительно качественной. Размер `img` значительно меньше даже килобайта."
   ]
  },
  {
   "cell_type": "code",
   "execution_count": null,
   "id": "ba77f646",
   "metadata": {},
   "outputs": [],
   "source": [
    "sys.getsizeof(img)"
   ]
  },
  {
   "cell_type": "markdown",
   "id": "eb8621b3",
   "metadata": {},
   "source": [
    "Переменная `arr` также очень мала по сравнению с объемом данных, которые она содержит; это всего лишь 144 байта."
   ]
  },
  {
   "cell_type": "code",
   "execution_count": null,
   "id": "9a3118c3",
   "metadata": {},
   "outputs": [],
   "source": [
    "sys.getsizeof(arr)"
   ]
  },
  {
   "cell_type": "markdown",
   "id": "ec26bb04",
   "metadata": {},
   "source": [
    "Для сравнения, размер копии «B», которую мы сделали, превышает 200 Кб. Фундаментальное различие между `img` и `arr`, с одной стороны, и `B`, с другой, заключается в том, что `img` и `arr` лишь указывают, откуда взять данные на компьютере (например, местоположение файла изображения с данными), тогда как `B` фактически содержит копию всех этих данных."
   ]
  },
  {
   "cell_type": "code",
   "execution_count": null,
   "id": "dc173f44",
   "metadata": {},
   "outputs": [],
   "source": [
    "sys.getsizeof(B)"
   ]
  },
  {
   "cell_type": "markdown",
   "id": "02428203",
   "metadata": {},
   "source": [
    "Таким образом, `B` занимает в тысячи раз больше места, чем `arr`, но преимущество `B` в том, что `B` не доступен только для чтения. Поскольку `B` не доступен только для чтения, следующее присваивание работает без возникновения ошибки."
   ]
  },
  {
   "cell_type": "code",
   "execution_count": null,
   "id": "4c855fed",
   "metadata": {},
   "outputs": [],
   "source": [
    "B[100:150] = 0"
   ]
  },
  {
   "cell_type": "markdown",
   "id": "4e29de5a",
   "metadata": {},
   "source": [
    "Теперь мы изменили многие пиксели в `B`, чтобы они соответствовали черному цвету. Мы можем просмотреть изображение, соответствующее `B`, используя `Image.fromarray`."
   ]
  },
  {
   "cell_type": "code",
   "execution_count": null,
   "id": "08312c57",
   "metadata": {},
   "outputs": [],
   "source": [
    "Image.fromarray(B)"
   ]
  },
  {
   "cell_type": "markdown",
   "id": "6c441002",
   "metadata": {},
   "source": [
    "Установка белого цвета практически идентична. Белый соответствует максимальному значению в каждом из красных, зеленых и синих слотов. При нормализации Pillow это максимальное значение равно «255»."
   ]
  },
  {
   "cell_type": "code",
   "execution_count": null,
   "id": "4b24d206",
   "metadata": {},
   "outputs": [],
   "source": [
    "B[100:150] = 255"
   ]
  },
  {
   "cell_type": "code",
   "execution_count": null,
   "id": "c7e4a196",
   "metadata": {},
   "outputs": [],
   "source": [
    "Image.fromarray(B)"
   ]
  },
  {
   "cell_type": "markdown",
   "id": "61ef1952",
   "metadata": {},
   "source": [
    "Давайте теперь попробуем установить зеленый цвет этой горизонтальной полосы, что в значениях RGB соответствует `[0,255,0]`. Для того чтобы выполнить это задание, давайте вспомним правила трансляции."
   ]
  },
  {
   "cell_type": "code",
   "execution_count": null,
   "id": "5fd09d95",
   "metadata": {},
   "outputs": [],
   "source": [
    "B[100:150].shape"
   ]
  },
  {
   "cell_type": "code",
   "execution_count": null,
   "id": "ed41ea4b",
   "metadata": {},
   "outputs": [],
   "source": [
    "color = np.array([0, 255, 0])"
   ]
  },
  {
   "cell_type": "code",
   "execution_count": null,
   "id": "8fdc09c7",
   "metadata": {},
   "outputs": [],
   "source": [
    "color.shape"
   ]
  },
  {
   "cell_type": "markdown",
   "id": "ed5dd529",
   "metadata": {},
   "source": [
    "Формы `B[100:150]` и `color` совместимы в отношении трансляции, если, начиная с крайнего правого измерения, размеры измерения либо равны, либо одно из этих измерений равно 1. В этом `В` этом случае крайние правые размеры `B[100:150]` и `color` равны `3`, а поскольку у `color` нет дополнительных измерений, эти фигуры совместимы.\n",
    "\n",
    "Следующая команда устанавливает зеленый цвет каждого из 50 пикселей в этой горизонтальной полосе. Единственная причина, по которой это присвоение работает, заключается в том, что формы `B[100:150]` и `color` транслируемы."
   ]
  },
  {
   "cell_type": "code",
   "execution_count": null,
   "id": "f50c8d38",
   "metadata": {},
   "outputs": [],
   "source": [
    "B[100:150] = color"
   ]
  },
  {
   "cell_type": "code",
   "execution_count": null,
   "id": "3806c478",
   "metadata": {},
   "outputs": [],
   "source": [
    "Image.fromarray(B)"
   ]
  },
  {
   "cell_type": "markdown",
   "id": "0a451120",
   "metadata": {},
   "source": [
    "#### Создание изображений\n",
    "До сих пор мы перешли от изображения к массиву NumPy, а затем внесли изменения в массив NumPy и отобразили полученное изображение. Попробуем начать с массива NumPy и попытаемся превратить его в объект Pillow Image."
   ]
  },
  {
   "cell_type": "code",
   "execution_count": null,
   "id": "8eec87ab",
   "metadata": {},
   "outputs": [],
   "source": [
    "from PIL import Image\n",
    "import numpy as np"
   ]
  },
  {
   "cell_type": "markdown",
   "id": "12b2e582",
   "metadata": {},
   "source": [
    "Представим следующей массив как изображение размером 2 на 2 пикселя. Верхний левый пиксель будет красным, верхний правый пиксель — зеленым, а нижний левый пиксель — синим. Не совсем ясно, какого цвета должен быть нижний правый пиксель, но этот пиксель будет максимально красным и максимально зеленым вместе взятым."
   ]
  },
  {
   "cell_type": "code",
   "execution_count": null,
   "id": "efe8d12e",
   "metadata": {},
   "outputs": [],
   "source": [
    "arr = np.array([[[255,0,0], [0,255,0]],\n",
    "                [[0,0,255], [255,255,0]]])"
   ]
  },
  {
   "cell_type": "markdown",
   "id": "eca20153",
   "metadata": {
    "tags": []
   },
   "source": [
    "Когда мы пытаемся преобразовать arr в изображение Pillow, мы получаем следующую ошибку. Ошибка сообщает нам, что `dtype` неверен."
   ]
  },
  {
   "cell_type": "code",
   "execution_count": null,
   "id": "d95a5112",
   "metadata": {
    "scrolled": true,
    "tags": []
   },
   "outputs": [],
   "source": [
    "Image.fromarray(arr)"
   ]
  },
  {
   "cell_type": "code",
   "execution_count": null,
   "id": "f4831a8b",
   "metadata": {},
   "outputs": [],
   "source": [
    "arr.dtype"
   ]
  },
  {
   "cell_type": "markdown",
   "id": "8c3cc093",
   "metadata": {},
   "source": [
    "Выше мы видели, что когда мы загружаем изображение из файла и преобразуем его в массив NumPy, результирующий dtype представляет собой 8-битные целые числа без знака. Мы явно присвоим нашему массиву NumPy этот dtype."
   ]
  },
  {
   "cell_type": "code",
   "execution_count": null,
   "id": "318d5edf",
   "metadata": {},
   "outputs": [],
   "source": [
    "arr = np.array([[[255,0,0], [0,255,0]],\n",
    "                [[0,0,255], [255,255,0]]], dtype=np.uint8)"
   ]
  },
  {
   "cell_type": "markdown",
   "id": "ee18850d",
   "metadata": {},
   "source": [
    "Теперь мы можем успешно преобразовать этот массив NumPy в изображение подушки, но поскольку его общая длина составляет всего четыре пикселя, результирующее изображение будет крошечным. Если вы увеличите следующий результат, возможно, вы увидите четыре пикселя."
   ]
  },
  {
   "cell_type": "code",
   "execution_count": null,
   "id": "b7ec2df6",
   "metadata": {},
   "outputs": [],
   "source": [
    "Image.fromarray(arr)"
   ]
  },
  {
   "cell_type": "markdown",
   "id": "50ed3af4",
   "metadata": {},
   "source": [
    "Вместо того, чтобы просто отображать изображение, давайте присвоим ему имя переменной img."
   ]
  },
  {
   "cell_type": "code",
   "execution_count": null,
   "id": "8e233a81",
   "metadata": {},
   "outputs": [],
   "source": [
    "img = Image.fromarray(arr)"
   ]
  },
  {
   "cell_type": "markdown",
   "id": "0d163f75",
   "metadata": {},
   "source": [
    "Объекты Pillow Image имеют метод resize, который можно использовать в этом случае. Мы вызываем resize с аргументом (100,100), который будет размером результирующего изображения."
   ]
  },
  {
   "cell_type": "code",
   "execution_count": null,
   "id": "80bb4d21",
   "metadata": {
    "tags": []
   },
   "outputs": [],
   "source": [
    "img.resize((100, 100))"
   ]
  },
  {
   "cell_type": "markdown",
   "id": "ddedb15d",
   "metadata": {},
   "source": [
    "Если мы проверим документацию по img.resize, то увидим, что существует аргумент ключевого слова resample, который можно использовать для влияния на эти переходы."
   ]
  },
  {
   "cell_type": "code",
   "execution_count": null,
   "id": "a79c1152",
   "metadata": {
    "tags": [
     "output_scroll"
    ]
   },
   "outputs": [],
   "source": [
    "help(img.resize)"
   ]
  },
  {
   "cell_type": "markdown",
   "id": "9db1e049",
   "metadata": {},
   "source": [
    "Обратите внимание, что в приведенной выше документации все параметры повторной выборки имеют имена типа `PIL.Image.Resampling.LANCZOS`. Это означает, что, например, `LANCZOS` является атрибутом `PIL.Image.Resampling`. (Мы уже импортировали `Image` из `PIL`, поэтому мы будем просто называть это `Image.Resampling` вместо `PIL.Image.Resampling`.) Мы можем просмотреть все атрибуты, используя функцию Python `dir`.\n",
    "\n",
    "Трудно предсказать, сколько атрибутов будет, но в данном случае есть только те значения, которые мы видели в документации, а также некоторые так называемые методы «dunder» (сокращение от \"double underscore\", потому что в именах есть два подчеркивание в начале и в конце)."
   ]
  },
  {
   "cell_type": "code",
   "execution_count": null,
   "id": "557bbbf9",
   "metadata": {},
   "outputs": [],
   "source": [
    "dir(Image.Resampling)"
   ]
  },
  {
   "cell_type": "markdown",
   "id": "fd89a8ce",
   "metadata": {},
   "source": [
    "Результатом команды `dir` является список, и здесь мы перебираем элементы в списке."
   ]
  },
  {
   "cell_type": "code",
   "execution_count": null,
   "id": "0a2b5670",
   "metadata": {},
   "outputs": [],
   "source": [
    "for s in dir(Image.Resampling):\n",
    "    print(s)"
   ]
  },
  {
   "cell_type": "markdown",
   "id": "719be995",
   "metadata": {},
   "source": [
    "Здесь нас интересуют только атрибуты, которые не начинаются с подчеркивания."
   ]
  },
  {
   "cell_type": "code",
   "execution_count": null,
   "id": "814ba59b",
   "metadata": {},
   "outputs": [],
   "source": [
    "for s in dir(Image.Resampling):\n",
    "    if s[0] != \"_\" and s[0] > \"A\" and s[0] < \"Z\":\n",
    "        print(s)"
   ]
  },
  {
   "cell_type": "markdown",
   "id": "5b6bf96d",
   "metadata": {},
   "source": [
    "Было бы заманчиво использовать обозначение типа `resample=Image.Resampling.s`, но откуда Python узнает, что это `s` — переменная, а не строка?"
   ]
  },
  {
   "cell_type": "code",
   "execution_count": null,
   "id": "e56dfd35",
   "metadata": {},
   "outputs": [],
   "source": [
    "for s in dir(Image.Resampling):\n",
    "    if s[0] != \"_\" and s[0] > \"A\" and s[0] < \"Z\":\n",
    "        print(s)\n",
    "        display(img.resize((100, 100), resample=Image.Resampling.s))"
   ]
  },
  {
   "cell_type": "markdown",
   "id": "428d57f4",
   "metadata": {},
   "source": [
    "Можно использовать встроенную в Python функцию `getattr` (сокращение от «get attribute»). Здесь мы можем увидеть эффект каждого из этих вариантов передискретизации."
   ]
  },
  {
   "cell_type": "code",
   "execution_count": null,
   "id": "f35211dc",
   "metadata": {},
   "outputs": [],
   "source": [
    "for s in dir(Image.Resampling):\n",
    "    if s[0] != \"_\" and s[0] > \"A\" and s[0] < \"Z\":\n",
    "        print(s)\n",
    "        display(img.resize((100, 100), resample=getattr(Image.Resampling, s)))"
   ]
  },
  {
   "cell_type": "markdown",
   "id": "f55d54fe",
   "metadata": {},
   "source": [
    "Другой подход более привычен в данном случае (но кажется, не всегда будет работать) заключается в использовании индексной записи, например `resample=Image.Resampling[s]`."
   ]
  },
  {
   "cell_type": "code",
   "execution_count": null,
   "id": "703b778a",
   "metadata": {},
   "outputs": [],
   "source": [
    "for s in dir(Image.Resampling):\n",
    "    if s[0] != \"_\" and s[0] > \"A\" and s[0] < \"Z\":\n",
    "        print(s)\n",
    "        display(img.resize((100, 100), resample=Image.Resampling[s]))"
   ]
  },
  {
   "cell_type": "markdown",
   "id": "3dae9f1e",
   "metadata": {},
   "source": [
    "#### Замена двух цветовых каналов\n",
    "\n",
    "* Поменяем местами зеленый и синий цветовые каналы изображения пингвинов."
   ]
  },
  {
   "cell_type": "code",
   "execution_count": null,
   "id": "af84bf67",
   "metadata": {},
   "outputs": [],
   "source": [
    "from PIL import Image\n",
    "import numpy as np"
   ]
  },
  {
   "cell_type": "code",
   "execution_count": null,
   "id": "2add812e",
   "metadata": {},
   "outputs": [],
   "source": [
    "img = Image.open(\"images\\penguins.png\")\n",
    "arr = np.asarray(img)"
   ]
  },
  {
   "cell_type": "markdown",
   "id": "913ea1f6",
   "metadata": {},
   "source": [
    "Вспомним, что содержит `arr`."
   ]
  },
  {
   "cell_type": "code",
   "execution_count": null,
   "id": "d9751fed",
   "metadata": {
    "tags": [
     "output_scroll"
    ]
   },
   "outputs": [],
   "source": [
    "arr"
   ]
  },
  {
   "cell_type": "markdown",
   "id": "a1ba6474",
   "metadata": {},
   "source": [
    "Возьмем верхний левый пиксель и попытаемся поменять его местами зеленый и синий каналы. (Для простоты мы рассмотрим списочную версию этого массива NumPy длиной 3.) "
   ]
  },
  {
   "cell_type": "code",
   "execution_count": null,
   "id": "3268ff73",
   "metadata": {},
   "outputs": [],
   "source": [
    "mylist = [178, 190, 206]\n",
    "temp = mylist[1]\n",
    "mylist[1] = mylist[2]\n",
    "mylist[2] = temp"
   ]
  },
  {
   "cell_type": "markdown",
   "id": "b200315b",
   "metadata": {},
   "source": [
    "Здесь мы видим, что мы успешно поменяли местами зеленый и синий каналы для этого пикселя."
   ]
  },
  {
   "cell_type": "code",
   "execution_count": null,
   "id": "4beef343",
   "metadata": {},
   "outputs": [],
   "source": [
    "mylist"
   ]
  },
  {
   "cell_type": "markdown",
   "id": "387ec901",
   "metadata": {},
   "source": [
    "Давайте попробуем сделать это для всего массива NumPy. Если нам нужен зеленый канал для каждой строки и каждого столбца, мы можем использовать `arr[:,:,1]`. Мы сохраняем эти зеленые значения во временной переменной и используем ту же процедуру, что и выше.\n",
    "\n",
    "Первая ошибка — попытка присваивать значения `arr`. Строка `temp = arr[:,:,1]` выполнится, но следующие строки `arr[:,:,1] = arr[:,:,2]` вызывыют ошибку. Поскольку `arr` доступен только для чтения, нам нужно использовать его копию `B`."
   ]
  },
  {
   "cell_type": "code",
   "execution_count": null,
   "id": "cff54284",
   "metadata": {},
   "outputs": [],
   "source": [
    "B = arr.copy()\n",
    "temp = arr[:,:,1]\n",
    "arr[:,:,1] = arr[:,:,2]\n",
    "arr[:,:,2] = temp"
   ]
  },
  {
   "cell_type": "markdown",
   "id": "881aa329",
   "metadata": {},
   "source": [
    "Теперь мы заменяем `arr` на `B`."
   ]
  },
  {
   "cell_type": "code",
   "execution_count": null,
   "id": "810cda14",
   "metadata": {},
   "outputs": [],
   "source": [
    "B = arr.copy()\n",
    "temp = B[:,:,1]\n",
    "B[:,:,1] = B[:,:,2]\n",
    "B[:,:,2] = temp"
   ]
  },
  {
   "cell_type": "markdown",
   "id": "d186a55a",
   "metadata": {},
   "source": [
    "Если мы посмотрим на самый верхний левый пиксель, мы увидим ту же самую проблему, которую мы видели выше в версии списка, хотя кажется, что мы уже применили исправление."
   ]
  },
  {
   "cell_type": "code",
   "execution_count": null,
   "id": "2d73ed39",
   "metadata": {},
   "outputs": [],
   "source": [
    "B[0,0]"
   ]
  },
  {
   "cell_type": "markdown",
   "id": "51950f44",
   "metadata": {},
   "source": [
    "Чтобы понять, что не так, давайте посмотрим на размер памяти temp."
   ]
  },
  {
   "cell_type": "code",
   "execution_count": null,
   "id": "d48b8770",
   "metadata": {},
   "outputs": [],
   "source": [
    "from sys import getsizeof"
   ]
  },
  {
   "cell_type": "markdown",
   "id": "f80b67fb",
   "metadata": {},
   "source": [
    "Мы видим, что `temp` составляет `128` байт."
   ]
  },
  {
   "cell_type": "code",
   "execution_count": null,
   "id": "9e95ea07",
   "metadata": {},
   "outputs": [],
   "source": [
    "getsizeof(temp)"
   ]
  },
  {
   "cell_type": "markdown",
   "id": "a0d707c7",
   "metadata": {},
   "source": [
    "Вот содержимое `temp`."
   ]
  },
  {
   "cell_type": "code",
   "execution_count": null,
   "id": "d1c0543f",
   "metadata": {},
   "outputs": [],
   "source": [
    "temp"
   ]
  },
  {
   "cell_type": "markdown",
   "id": "afd6a2f3",
   "metadata": {},
   "source": [
    "А вот форма «temp». Неужели кажется, что массив целых чисел размером 225х399 можно хранить в 128 байтах?"
   ]
  },
  {
   "cell_type": "code",
   "execution_count": null,
   "id": "f24e75b3",
   "metadata": {},
   "outputs": [],
   "source": [
    "temp.shape"
   ]
  },
  {
   "cell_type": "markdown",
   "id": "96dc695b",
   "metadata": {},
   "source": [
    "Проблема в том, что когда мы вычисляем `temp = B[:,:,1]`, содержимое `B[:,:,1]` не копируется в `temp`. Вместо этого `temp` запоминает только место, откуда оно должно получить свое содержимое. Это может быть удобно при работе с очень большими массивами NumPy, но в данном случае это нарушает наш код, поскольку присвоение `B[:,:,1] = B[:,:,2]` не только меняет `B[ ::,:,1]`, но также меняет `temp`.\n",
    "\n",
    "Одним обходных путей является вызов метода `copy` для `B[:,:,1]`, чтобы его содержимое было скопировано в temp."
   ]
  },
  {
   "cell_type": "code",
   "execution_count": null,
   "id": "e58834b0",
   "metadata": {},
   "outputs": [],
   "source": [
    "B = arr.copy()\n",
    "temp = B[:,:,1].copy()\n",
    "B[:,:,1] = B[:,:,2]\n",
    "B[:,:,2] = temp"
   ]
  },
  {
   "cell_type": "markdown",
   "id": "11a747b5",
   "metadata": {},
   "source": [
    "Обратите внимание, что в этом случае `B[0,0]`, представляющий самый левый верхний пиксель, действительно имеет три разных значения канала."
   ]
  },
  {
   "cell_type": "code",
   "execution_count": null,
   "id": "bb6af7fe",
   "metadata": {},
   "outputs": [],
   "source": [
    "B[0,0]"
   ]
  },
  {
   "cell_type": "markdown",
   "id": "69898fa6",
   "metadata": {},
   "source": [
    "В нашей конкретной ситуации, вероятно, есть более простое решение, поскольку у нас уже есть копия всех сохраненных значений в массиве NumPy `arr`."
   ]
  },
  {
   "cell_type": "code",
   "execution_count": null,
   "id": "49ba7bbe",
   "metadata": {},
   "outputs": [],
   "source": [
    "B = arr.copy()\n",
    "B[:,:,1] = arr[:,:,2]\n",
    "B[:,:,2] = arr[:,:,1]"
   ]
  },
  {
   "cell_type": "markdown",
   "id": "495a83a8",
   "metadata": {},
   "source": [
    "Здесь мы получаем тот же самый верхний левый пиксель, что и в нашем решении «копировать»."
   ]
  },
  {
   "cell_type": "code",
   "execution_count": null,
   "id": "5cf4c0ad",
   "metadata": {},
   "outputs": [],
   "source": [
    "B[0,0]"
   ]
  },
  {
   "cell_type": "markdown",
   "id": "68328c2a",
   "metadata": {},
   "source": [
    "В заключение этого раздела мы увидим, как меняется изображение, когда его зеленый и синий цветовые каналы меняются местами.\n",
    "\n",
    "Вот исходное изображение."
   ]
  },
  {
   "cell_type": "code",
   "execution_count": null,
   "id": "6c02b1d8",
   "metadata": {},
   "outputs": [],
   "source": [
    "img"
   ]
  },
  {
   "cell_type": "markdown",
   "id": "1523b9cd",
   "metadata": {},
   "source": [
    "Вот новое изображение. Обратите внимание, как синие цвета были заменены зелеными. Какие еще изменения вы заметили?"
   ]
  },
  {
   "cell_type": "code",
   "execution_count": null,
   "id": "4c18988f",
   "metadata": {},
   "outputs": [],
   "source": [
    "Image.fromarray(B)"
   ]
  },
  {
   "cell_type": "markdown",
   "id": "184ed57c",
   "metadata": {},
   "source": [
    "#### Уникальные цвета\n",
    "\n",
    "В этом разделе мы посчитаем количество уникальных цветов в изображении. Как обычно, дело не в важности метода обработки изображения. Вместо этого стоит попрактиковаться с NumPy (в данном случае функция NumPy `unique` вместе с аргументом ключевого слова `axis`)."
   ]
  },
  {
   "cell_type": "code",
   "execution_count": null,
   "id": "e266e4aa",
   "metadata": {},
   "outputs": [],
   "source": [
    "from PIL import Image\n",
    "import numpy as np"
   ]
  },
  {
   "cell_type": "markdown",
   "id": "c006791a",
   "metadata": {},
   "source": [
    "Изображение пингвинов, с которым мы работали выше, имеет тысячи цветов. Здесь мы будем работать с более простым изображением, состоящим всего из трех цветов."
   ]
  },
  {
   "cell_type": "code",
   "execution_count": null,
   "id": "be5ca251",
   "metadata": {},
   "outputs": [],
   "source": [
    "img = Image.open(\"images/test_grid.png\")\n",
    "arr = np.asarray(img)"
   ]
  },
  {
   "cell_type": "markdown",
   "id": "0cc1c49a",
   "metadata": {},
   "source": [
    "Кажется, что на этом изображении всего три цвета, но иногда цветов гораздо больше, чем можно было бы ожидать, особенно на границе между цветами. В этом случае мы проверим, что цветов действительно ровно три."
   ]
  },
  {
   "cell_type": "code",
   "execution_count": null,
   "id": "564c36c3",
   "metadata": {},
   "outputs": [],
   "source": [
    "img"
   ]
  },
  {
   "cell_type": "markdown",
   "id": "86b42133",
   "metadata": {},
   "source": [
    "Несмотря на то, что это более простое изображение, чем фотография пингвинов выше, эта сетка представляет собой значительно большее изображение с точки зрения пикселей."
   ]
  },
  {
   "cell_type": "code",
   "execution_count": null,
   "id": "f017bd87",
   "metadata": {},
   "outputs": [],
   "source": [
    "arr.shape"
   ]
  },
  {
   "cell_type": "markdown",
   "id": "8d87d08f",
   "metadata": {},
   "source": [
    "Если мы посмотрим на соответствующий массив NumPy, то увидим, что самый верхний ряд пикселей начинается с трех пикселей со значениями RGB `[180, 153, 12]` и заканчивается тремя пикселями со значениями RGB `[12, 153, 152] `."
   ]
  },
  {
   "cell_type": "code",
   "execution_count": null,
   "id": "f4545a01",
   "metadata": {
    "tags": [
     "output_scroll"
    ]
   },
   "outputs": [],
   "source": [
    "arr"
   ]
  },
  {
   "cell_type": "markdown",
   "id": "65a2e15b",
   "metadata": {},
   "source": [
    "Мы хотим использовать функцию `np.unique`, но если мы вызовем эту функцию непосредственно в arr, мы узнаем, сколько уникальных чисел появляется в arr, тогда как мы хотим знать, сколько уникальных троек чисел RGB."
   ]
  },
  {
   "cell_type": "code",
   "execution_count": null,
   "id": "5ddb1b64",
   "metadata": {},
   "outputs": [],
   "source": [
    "np.unique(arr)"
   ]
  },
  {
   "cell_type": "markdown",
   "id": "f6c7dd70",
   "metadata": {},
   "source": [
    "Первым шагом к успешному применению `np.unique` в этом контексте является изменение формы массива, чтобы он стал двумерным, и где каждая строка соответствовала одному значению RGB, которое встречается в изображении."
   ]
  },
  {
   "cell_type": "code",
   "execution_count": null,
   "id": "ba2beb6f",
   "metadata": {},
   "outputs": [],
   "source": [
    "B = arr.reshape(-1,3)"
   ]
  },
  {
   "cell_type": "markdown",
   "id": "343d50fc",
   "metadata": {},
   "source": [
    "Например, вверху массива `B` мы видим те же значения RGB, которые мы заметили в исходном трехмерном массиве NumPy."
   ]
  },
  {
   "cell_type": "code",
   "execution_count": null,
   "id": "23887e9d",
   "metadata": {},
   "outputs": [],
   "source": [
    "B"
   ]
  },
  {
   "cell_type": "markdown",
   "id": "f5e9806b",
   "metadata": {},
   "source": [
    "Напомним, что `arr` имел размер $2000\\times 2000\\times 3$. После изменения формы `B` имеет размер $4000000\\times 3$. Одним из вариантов представить это заключается в том, что нас не волнует, в каких строках и столбцах находятся пиксели; все, что нас волнует, это то, какие цвета встречаются у пикселей."
   ]
  },
  {
   "cell_type": "code",
   "execution_count": null,
   "id": "e9f5521b",
   "metadata": {},
   "outputs": [],
   "source": [
    "B.shape"
   ]
  },
  {
   "cell_type": "markdown",
   "id": "a18e75f0",
   "metadata": {},
   "source": [
    "Если мы вызовем `np.unique(B)`, мы получим тот же результат, что и `np.unique(arr)`. Если мы не укажем аргумент ключевого слова `axis` для `np.unique`, то форма входного массива не имеет значения."
   ]
  },
  {
   "cell_type": "code",
   "execution_count": null,
   "id": "6d347946",
   "metadata": {},
   "outputs": [],
   "source": [
    "np.unique(B)"
   ]
  },
  {
   "cell_type": "markdown",
   "id": "b1675d2d",
   "metadata": {},
   "source": [
    "Ключевым моментом является вызов функции unique с `axis=0`. То есть сравниваются все строки друг с другом и сохраняются по одной копии каждой уникальной строки. \n",
    "В этом случае мы переходим от 4 миллионов строк к 3 строкам (что соответствует 3 цветам). Мы видим, что 0-я ось меняется, потому что `B.shape[0]` равен `4000000`, а `C.shape[0]` равен `3`, тогда как `B.shape[1]` и `C.shape[1]`  оба имеют значение `3`, поэтому размерность 1-го измерения или размера столбца не меняется."
   ]
  },
  {
   "cell_type": "code",
   "execution_count": null,
   "id": "55b5bb84",
   "metadata": {},
   "outputs": [],
   "source": [
    "C = np.unique(B, axis=0)"
   ]
  },
  {
   "cell_type": "code",
   "execution_count": null,
   "id": "f2d60868",
   "metadata": {},
   "outputs": [],
   "source": [
    "C.shape"
   ]
  },
  {
   "cell_type": "markdown",
   "id": "cd43667d",
   "metadata": {},
   "source": [
    "Используя `C`, мы можем подтвердить наше подозрение, что в нашем изображении сетки было ровно три цвета. Мы уже видели две из этих троек RGB, и последняя из них, `[12, 12, 12]`, очень близка к черному, `[0, 0, 0]`, так что это темный цвет, который используется для написания букв и цифр."
   ]
  },
  {
   "cell_type": "code",
   "execution_count": null,
   "id": "96a16941",
   "metadata": {},
   "outputs": [],
   "source": [
    "C"
   ]
  },
  {
   "cell_type": "markdown",
   "id": "9d4640ab",
   "metadata": {},
   "source": [
    "Мы можем сказать, что цвета меняются между `[12, 153, 152]` и `[180, 153, 12]` через очень равные промежутки времени. В оставшейся части этого раздела наша цель — определить, где происходят эти изменения."
   ]
  },
  {
   "cell_type": "code",
   "execution_count": null,
   "id": "b59c260e",
   "metadata": {},
   "outputs": [],
   "source": [
    "img"
   ]
  },
  {
   "cell_type": "markdown",
   "id": "4908b6cf",
   "metadata": {},
   "source": [
    "Достаточно просто посмотреть на самую верхнюю строку. Если мы знаем, где меняются цвета в верхнем ряду, мы также будем знать, где они меняются в каждой строке."
   ]
  },
  {
   "cell_type": "code",
   "execution_count": null,
   "id": "fcc22eaf",
   "metadata": {},
   "outputs": [],
   "source": [
    "arr[0]"
   ]
  },
  {
   "cell_type": "markdown",
   "id": "325b1f3d",
   "metadata": {},
   "source": [
    "Форма верхнего ряда равна $2000 \\times 3$, что соответствует 2000 пикселям."
   ]
  },
  {
   "cell_type": "code",
   "execution_count": null,
   "id": "db3f5a41",
   "metadata": {},
   "outputs": [],
   "source": [
    "arr[0].shape"
   ]
  },
  {
   "cell_type": "markdown",
   "id": "084c290d",
   "metadata": {},
   "source": [
    "Первое предположение о том, как проверить цвета, — это оценить следующее выражение, но `==` передается широковещательно. Например, здесь мы предполагаем, что `[180, 153, 12] == [12, 153, 152]` будет оцениваться как `[ False, True, False]`."
   ]
  },
  {
   "cell_type": "code",
   "execution_count": null,
   "id": "7eedaddf",
   "metadata": {
    "tags": []
   },
   "outputs": [],
   "source": [
    "arr[0] == [ 12, 153, 152]"
   ]
  },
  {
   "cell_type": "markdown",
   "id": "ab2f978a",
   "metadata": {},
   "source": [
    "Хитрость заключается в том, чтобы затем применить `all(axis=1)`. Например, это преобразует `[False, True, False]` в `False`, а `[True, True, True]` в `True`.  (Можно предположить, что надо использвать `axis=2`, т.к. RGB цвета обычно используются 3 измерении, но мы рассматриваем только верхнюю строчку, поэтому измерения уменьшаются на 1.)"
   ]
  },
  {
   "cell_type": "code",
   "execution_count": null,
   "id": "692996c0",
   "metadata": {},
   "outputs": [],
   "source": [
    "(arr[0] == [ 12, 153, 152]).all(axis=1)"
   ]
  },
  {
   "cell_type": "markdown",
   "id": "4c6f2608",
   "metadata": {},
   "source": [
    "В качестве признака того, что это работает правильно, если мы проверим форму этого логического массива, мы увидим, что это одномерный массив NumPy длиной 2000. Это, как мы и ожидали, потому что он представляет 2000 пикселей в верхний ряд изображения."
   ]
  },
  {
   "cell_type": "code",
   "execution_count": null,
   "id": "f7979376",
   "metadata": {},
   "outputs": [],
   "source": [
    "(arr[0] == [ 12, 153, 152]).all(axis=1).shape"
   ]
  },
  {
   "cell_type": "markdown",
   "id": "a7fdba01",
   "metadata": {},
   "source": [
    "Давайте сохраним этот логический массив длиной 2000 как `BM`, в качестве логической \"маски\"."
   ]
  },
  {
   "cell_type": "code",
   "execution_count": null,
   "id": "bd61f96b",
   "metadata": {},
   "outputs": [],
   "source": [
    "BM = (arr[0] == [ 12, 153, 152]).all(axis=1)"
   ]
  },
  {
   "cell_type": "markdown",
   "id": "fd831c46",
   "metadata": {},
   "source": [
    "Где `BM` изменяется с `False` на `True`? В качестве первого шага давайте просто проверим, где находится значение `True`. Мы можем найти эти индексы, используя `np.nonzero`. Напомним, что `np.nonzero` возвращает кортеж."
   ]
  },
  {
   "cell_type": "code",
   "execution_count": null,
   "id": "f68d4d32",
   "metadata": {
    "tags": [
     "output_scroll"
    ]
   },
   "outputs": [],
   "source": [
    "np.nonzero(BM)"
   ]
  },
  {
   "cell_type": "markdown",
   "id": "95bbb8c5",
   "metadata": {},
   "source": [
    "Нас не так интересует этот кортеж длины один; вместо этого нас интересует массив NumPy, который он содержит. Этот массив NumPy содержит индексы, где BM имеет значение `True`."
   ]
  },
  {
   "cell_type": "code",
   "execution_count": null,
   "id": "8156f262",
   "metadata": {
    "tags": [
     "output_scroll"
    ]
   },
   "outputs": [],
   "source": [
    "np.nonzero(BM)[0]"
   ]
  },
  {
   "cell_type": "markdown",
   "id": "2b70b494",
   "metadata": {},
   "source": [
    "Давайте сохраним этот массив NumPy с именем переменной inds для «индексов»."
   ]
  },
  {
   "cell_type": "code",
   "execution_count": null,
   "id": "b67739a2",
   "metadata": {},
   "outputs": [],
   "source": [
    "inds = np.nonzero(BM)[0]"
   ]
  },
  {
   "cell_type": "markdown",
   "id": "3e9b668f",
   "metadata": {},
   "source": [
    "Мы хотим знать все индексы `x` в `inds`, такие, что `x-1` не находится в `inds`, потому что это означает, что по индексу `x` мы переключались между цветами. Мы можем получить эти индексы, используя списковое включение. Если вы просмотрите предыдущий массив индексов, вы заметите, что `600` есть в массиве, а `599` в массиве нет, поэтому пиксели с индексами `599` и `600` имеют разные цвета."
   ]
  },
  {
   "cell_type": "code",
   "execution_count": null,
   "id": "c8444f92",
   "metadata": {},
   "outputs": [],
   "source": [
    "[x for x in inds if x-1 not in inds]"
   ]
  },
  {
   "cell_type": "markdown",
   "id": "d6fb6d06",
   "metadata": {},
   "source": [
    "Если вы посмотрите на img, зная, что его общая ширина составляет 2000 пикселей, поэтому каждый квадрат может иметь ширину 200, имеет смысл, что цвета переключаются с желтоватого на зеленоватый цвет в позициях 200, 600. , 1000, 1400, 1800. Приведенный выше список чисел подтверждает это."
   ]
  },
  {
   "cell_type": "code",
   "execution_count": null,
   "id": "44018e2a",
   "metadata": {},
   "outputs": [],
   "source": [
    "img"
   ]
  },
  {
   "cell_type": "markdown",
   "id": "fd5eaf4e",
   "metadata": {},
   "source": [
    "#### Изменение цвета с помощью логической маски\n",
    "\n",
    "Изменить тройки значений в массиве NumPy значительно сложнее, чем изменить отдельные значения.\n",
    "\n",
    "* Заменим все тройки RGB `[12, 12, 12]` на `[0, 255, 255]`, используя логическую маску."
   ]
  },
  {
   "cell_type": "code",
   "execution_count": null,
   "id": "80a87441",
   "metadata": {},
   "outputs": [],
   "source": [
    "from PIL import Image\n",
    "import numpy as np"
   ]
  },
  {
   "cell_type": "markdown",
   "id": "43405f22",
   "metadata": {},
   "source": [
    "Мы будем использовать ту же сетку, что и в предыдущем разделе."
   ]
  },
  {
   "cell_type": "code",
   "execution_count": null,
   "id": "eef32610",
   "metadata": {},
   "outputs": [],
   "source": [
    "img = Image.open(\"images/test_grid.png\")\n",
    "arr = np.asarray(img)"
   ]
  },
  {
   "cell_type": "markdown",
   "id": "a93bf27d",
   "metadata": {},
   "source": [
    "Начнем с примера меньшего размера."
   ]
  },
  {
   "cell_type": "code",
   "execution_count": null,
   "id": "6ca4a10c",
   "metadata": {},
   "outputs": [],
   "source": [
    "A = np.array([9,2,4,5,1,1,1,0,2,10,5,8])"
   ]
  },
  {
   "cell_type": "markdown",
   "id": "53f31588",
   "metadata": {},
   "source": [
    "Вспомните, как работает *логическое маскирование* (*логическое индексирование*). Например, если мы хотим получить именно те значения `A`, которые строго больше `5`, мы можем сначала сформировать следующий логический массив."
   ]
  },
  {
   "cell_type": "code",
   "execution_count": null,
   "id": "47f35805",
   "metadata": {},
   "outputs": [],
   "source": [
    "A > 5"
   ]
  },
  {
   "cell_type": "markdown",
   "id": "057d1fb1",
   "metadata": {},
   "source": [
    "И тогда мы можем применить эту логическую маску, вычислив `A[A > 5]`. Это сохранит те значения `A`, которые находятся в ячейках, содержащих `True` в нашей логической маске."
   ]
  },
  {
   "cell_type": "code",
   "execution_count": null,
   "id": "d891c8c0",
   "metadata": {},
   "outputs": [],
   "source": [
    "A[A > 5]"
   ]
  },
  {
   "cell_type": "markdown",
   "id": "34bc6864",
   "metadata": {},
   "source": [
    "Если вместо этого мы хотим сохранить пары, удовлетворяющие определенному условию, ситуация будет немного сложнее.\n",
    "\n",
    "\n",
    "\n",
    "Представим B в виде матрицы из 2 строк и 3 столбцов, каждая запись в которой представляет собой пару чисел(в нашем примере часть «пара чисел» будет заменена тройкой RGB):\n",
    "\n",
    "$$\n",
    "\\begin{pmatrix}\n",
    "[9,2] & [4,5] & [1,1] \\\\\n",
    "[1,0] & [2,10] & [5,8]\n",
    "\\end{pmatrix}\n",
    "$$"
   ]
  },
  {
   "cell_type": "code",
   "execution_count": null,
   "id": "5b4e5d04",
   "metadata": {},
   "outputs": [],
   "source": [
    "B = A.reshape((2,3,2))\n",
    "B"
   ]
  },
  {
   "cell_type": "markdown",
   "id": "98987243",
   "metadata": {},
   "source": [
    "Допустим, мы хотим найти все пары чисел, сумма которых строго больше 5. Если мы просто вызовем `B.sum()`, это суммирует все числа в `B`, а это не то, что нам нужно."
   ]
  },
  {
   "cell_type": "code",
   "execution_count": null,
   "id": "7427a1aa",
   "metadata": {},
   "outputs": [],
   "source": [
    "B.sum()"
   ]
  },
  {
   "cell_type": "markdown",
   "id": "66ef94d0",
   "metadata": {},
   "source": [
    "Как обычно, мы можем включить аргумент ключевого слова `axis`. В данном случае мы хотим сложить вдоль последнюей оси `axis=2`."
   ]
  },
  {
   "cell_type": "code",
   "execution_count": null,
   "id": "d1589979",
   "metadata": {},
   "outputs": [],
   "source": [
    "B.sum(axis=2)"
   ]
  },
  {
   "cell_type": "markdown",
   "id": "39687cd3",
   "metadata": {},
   "source": [
    "Отсюда мы можем создать логический массив, как и раньше."
   ]
  },
  {
   "cell_type": "code",
   "execution_count": null,
   "id": "eb9b69ea",
   "metadata": {},
   "outputs": [],
   "source": [
    "B.sum(axis=2) > 5"
   ]
  },
  {
   "cell_type": "markdown",
   "id": "4faafcfb",
   "metadata": {},
   "source": [
    "Но каким должен быть результат индексации с использованием этой логической маски? Оказывается, форма `B` 2х3 полностью потеряна, и пары, удовлетворяющие условию, перечислены в виде строк, одна поверх другой."
   ]
  },
  {
   "cell_type": "code",
   "execution_count": null,
   "id": "a8f6b1aa",
   "metadata": {
    "tags": []
   },
   "outputs": [],
   "source": [
    "B[B.sum(axis=2) > 5]"
   ]
  },
  {
   "cell_type": "markdown",
   "id": "435c04c5",
   "metadata": {},
   "source": [
    "Если мы хотим изменить элементы, удовлетворяющие этому условию, а не отображать элементы, то форму можно сохранить. (Старые значения в слотах «False» остаются неизменными.) Например, здесь мы заменяем все пары, сумма которых строго больше «5», на пару «[-4,-5]»."
   ]
  },
  {
   "cell_type": "code",
   "execution_count": null,
   "id": "cf3b6525",
   "metadata": {},
   "outputs": [],
   "source": [
    "B[B.sum(axis=2) > 5] = [-4,-5]"
   ]
  },
  {
   "cell_type": "markdown",
   "id": "7fbb9635",
   "metadata": {},
   "source": [
    "Форма немного скрыта из-за того, как ее отображает NumPy. Вот более четкая визуализация формы:\n",
    "\n",
    "$$\n",
    "\\begin{pmatrix}\n",
    "[-4,-5] & [-4,-5] & [1,1] \\\\\n",
    "[1,0] & [-4,-5] & [-4,-5]\n",
    "\\end{pmatrix}\n",
    "$$"
   ]
  },
  {
   "cell_type": "code",
   "execution_count": null,
   "id": "0de727d4",
   "metadata": {},
   "outputs": [],
   "source": [
    "B"
   ]
  },
  {
   "cell_type": "markdown",
   "id": "179dc4e4",
   "metadata": {},
   "source": [
    "Как только приведенный выше пример станет понятным, следовать нашему примеру обработки изображений будет намного проще. Напомним нашу цель:\n",
    "\n",
    "* Замените все тройки RGB `[12, 12, 12]` на `[0, 255, 255]`, используя логическую маску.\n",
    "\n",
    "На следующей распечатке мы не видим троек `[12, 12, 12]`, поэтому ни один из следующих отображаемых пикселей не должен быть изменен."
   ]
  },
  {
   "cell_type": "code",
   "execution_count": null,
   "id": "bb614625",
   "metadata": {
    "tags": [
     "output_scroll"
    ]
   },
   "outputs": [],
   "source": [
    "arr"
   ]
  },
  {
   "cell_type": "markdown",
   "id": "a081dbc6",
   "metadata": {},
   "source": [
    "Мы создаем двумерную логическую маску, используя `all(axis=2)`, как и в предыдущем разделе. Опять же, все отображаемые значения имеют значение `False`, поэтому ни один из отображаемых пикселей не должен быть изменен."
   ]
  },
  {
   "cell_type": "code",
   "execution_count": null,
   "id": "354605e4",
   "metadata": {},
   "outputs": [],
   "source": [
    "(arr == [12, 12, 12]).all(axis=2)"
   ]
  },
  {
   "cell_type": "markdown",
   "id": "66e20f98",
   "metadata": {},
   "source": [
    "Если мы используем логическую индексацию, мы получаем тройки, которые удовлетворяют условию, указанному друг над другом, точно так же, как выше, когда мы использовали логическую индексацию с `B`."
   ]
  },
  {
   "cell_type": "code",
   "execution_count": null,
   "id": "6e3e1abc",
   "metadata": {},
   "outputs": [],
   "source": [
    "arr[(arr == [12, 12, 12]).all(axis=2)]"
   ]
  },
  {
   "cell_type": "markdown",
   "id": "5f1f1de7",
   "metadata": {},
   "source": [
    "Сколько пикселей имеют значения RGB `[12, 12, 12]`? Очень много, почти 500 000."
   ]
  },
  {
   "cell_type": "code",
   "execution_count": null,
   "id": "cc81647f",
   "metadata": {},
   "outputs": [],
   "source": [
    "arr[(arr == [12, 12, 12]).all(axis=2)].shape"
   ]
  },
  {
   "cell_type": "markdown",
   "id": "ca1ef238",
   "metadata": {},
   "source": [
    "В этом контексте проявляется наша обычная ошибка «только для чтения», но сама наша стратегия NumPy верна."
   ]
  },
  {
   "cell_type": "code",
   "execution_count": null,
   "id": "d3149827",
   "metadata": {},
   "outputs": [],
   "source": [
    "arr[(arr == [12, 12, 12]).all(axis=2)] = [0, 255, 255]"
   ]
  },
  {
   "cell_type": "markdown",
   "id": "e66077c4",
   "metadata": {},
   "source": [
    "Как обычно, мы создаем массив NumPy, который не доступен только для чтения, используя метод копирования."
   ]
  },
  {
   "cell_type": "code",
   "execution_count": null,
   "id": "86636c22",
   "metadata": {},
   "outputs": [],
   "source": [
    "C = arr.copy()"
   ]
  },
  {
   "cell_type": "code",
   "execution_count": null,
   "id": "01e9bc26",
   "metadata": {},
   "outputs": [],
   "source": [
    "C[(C == [12, 12, 12]).all(axis=2)] = [0, 255, 255]"
   ]
  },
  {
   "cell_type": "markdown",
   "id": "34a7140f",
   "metadata": {},
   "source": [
    "Самое интересное в использовании обработки изображений в качестве нашего примера заключается в том, что мы можем визуально отобразить результаты в конце. Вот результат замены всех пикселей `[12, 12, 12]`, близких к чёрному, на пиксели `[0, 255, 255]`."
   ]
  },
  {
   "cell_type": "code",
   "execution_count": null,
   "id": "e411ca05",
   "metadata": {},
   "outputs": [],
   "source": [
    "Image.fromarray(C)"
   ]
  },
  {
   "cell_type": "markdown",
   "id": "5ca8e535",
   "metadata": {},
   "source": [
    "#### Изменение цвета с помощью `np.where`\n",
    "В предыдущем разделе мы заменили черный текст одним синим цветом. Здесь мы собираемся заменить квадратные фоны разными случайными цветами. В предыдущем разделе мы использовали логическую индексацию. Здесь мы будем использовать np.where.\n",
    "\n",
    "* Замените квадратные фоны случайными цветами."
   ]
  },
  {
   "cell_type": "code",
   "execution_count": null,
   "id": "0e187372",
   "metadata": {},
   "outputs": [],
   "source": [
    "from PIL import Image\n",
    "import numpy as np"
   ]
  },
  {
   "cell_type": "code",
   "execution_count": null,
   "id": "4ca1fafb",
   "metadata": {},
   "outputs": [],
   "source": [
    "img = Image.open(\"images/test_grid.png\")\n",
    "arr = np.asarray(img)"
   ]
  },
  {
   "cell_type": "markdown",
   "id": "1bd94723",
   "metadata": {},
   "source": [
    "Мы собираемся использовать функцию np.where для замены цветов фона квадратов. Эта функция немного сложна, но она также очень мощная. Давайте начнем с рассмотрения базового применения этой функции к одномерному массиву NumPy."
   ]
  },
  {
   "cell_type": "code",
   "execution_count": null,
   "id": "91813494",
   "metadata": {},
   "outputs": [],
   "source": [
    "A = np.array([9,2,4,5,1,1,1,0,2,10,5,8])"
   ]
  },
  {
   "cell_type": "markdown",
   "id": "6c8d9b49",
   "metadata": {},
   "source": [
    "Рассмотрим следующий пример. Первый аргумент `np.where` — это логический массив, а следующие два аргумента — числа: `-20` и `3`. При этом каждое значение `True` в логическом массиве заменяется на `-20`, а каждое значение `False` в логическом массиве заменяется на `3`."
   ]
  },
  {
   "cell_type": "code",
   "execution_count": null,
   "id": "2f363913",
   "metadata": {},
   "outputs": [],
   "source": [
    "np.where(A > 5, -20, 3)"
   ]
  },
  {
   "cell_type": "markdown",
   "id": "45f37b0c",
   "metadata": {},
   "source": [
    "Это кажется достаточно простым; вот более сложный пример. Вместо того, чтобы передавать `-20` в качестве замены `True`, мы передаем весь массив `A`. Обратите внимание, что `A > 5` и `A` имеют одинаковую форму. В этом случае значения True заменяются соответствующим значением A."
   ]
  },
  {
   "cell_type": "code",
   "execution_count": null,
   "id": "5042bc4a",
   "metadata": {},
   "outputs": [],
   "source": [
    "np.where(A > 5, A, 3)"
   ]
  },
  {
   "cell_type": "markdown",
   "id": "0342f7e1",
   "metadata": {},
   "source": [
    "В предыдущем примере не было ничего особенного в использовании самого `A`. Любой массив такой формы работал бы точно так же. Например, здесь мы используем `100*A`, поэтому начальное `True` заменяется на $900 = 100 \\cdot 9$."
   ]
  },
  {
   "cell_type": "code",
   "execution_count": null,
   "id": "f9cc9081",
   "metadata": {
    "tags": []
   },
   "outputs": [],
   "source": [
    "np.where(A > 5, 100*A, 3)"
   ]
  },
  {
   "cell_type": "markdown",
   "id": "24de6d40",
   "metadata": {},
   "source": [
    "Мы также можем заменить замену False массивом. Здесь мы используем `np.arange`. Обратите внимание, как мы гарантируем, что он имеет ту же длину, что и `A`."
   ]
  },
  {
   "cell_type": "code",
   "execution_count": null,
   "id": "856449d6",
   "metadata": {},
   "outputs": [],
   "source": [
    "np.where(A > 5, 100*A, np.arange(len(A)))"
   ]
  },
  {
   "cell_type": "markdown",
   "id": "1bd5ff14",
   "metadata": {},
   "source": [
    "Это большая часть (но не вся) информация, которая нам нужна о np.where для замены квадратных фоновых изображений. Давайте напомним себе, как выглядит исходное изображение."
   ]
  },
  {
   "cell_type": "code",
   "execution_count": null,
   "id": "4e1b8368",
   "metadata": {},
   "outputs": [],
   "source": [
    "img"
   ]
  },
  {
   "cell_type": "markdown",
   "id": "b3b342f2",
   "metadata": {},
   "source": [
    "Чтобы использовать np.where, первым аргументом должен быть некоторый логический массив. Кажется, что найти черные цвета проще, чем найти цвета фона (потому что существует только один черный цвет, но есть два цвета фона). Поскольку `np.where` заменяет как значения `True`, так и `False`, на самом деле не имеет значения, используем ли мы в дальнейшем `mask` или `~mask`; нам просто нужно будет поменять местами следующие входные данные."
   ]
  },
  {
   "cell_type": "code",
   "execution_count": null,
   "id": "21a6c93d",
   "metadata": {},
   "outputs": [],
   "source": [
    "mask = (arr == [12, 12, 12]).all(axis=2)"
   ]
  },
  {
   "cell_type": "markdown",
   "id": "32e985c5",
   "metadata": {},
   "source": [
    "В предварительном просмотре маски в NumPy все значения имеют значение False. Это потому, что ни в верхних 3 строках, ни в нижних 3 строках изображения «img» нет черных пикселей."
   ]
  },
  {
   "cell_type": "code",
   "execution_count": null,
   "id": "8247d956",
   "metadata": {},
   "outputs": [],
   "source": [
    "mask"
   ]
  },
  {
   "cell_type": "markdown",
   "id": "c8d63384",
   "metadata": {},
   "source": [
    "Давайте попробуем что-нибудь простое (без замены цветов). Давайте просто передадим `arr` как для замены `True`, так и для замены `False`. Попробуйте прочитать полученное сообщение об ошибке и посмотрите, сможете ли вы определить, в чем проблема."
   ]
  },
  {
   "cell_type": "code",
   "execution_count": null,
   "id": "3e821b23",
   "metadata": {},
   "outputs": [],
   "source": [
    "np.where(mask, arr, arr)"
   ]
  },
  {
   "cell_type": "markdown",
   "id": "bf7cefbf",
   "metadata": {},
   "source": [
    "В нашем предыдущем примере `A > 5` имел ту же форму, что и `100*A` и `np.arange(len(A))`. В нашем примере «маска» не имеет той же формы, что и «arr». Нельзя использовать `reshape` для `mask`, чтобы придать ей форму (2000, 2000, 3), но на самом деле нам не нужно, чтобы они имели одинаковую форму. Вместо этого нам просто нужно, чтобы они были *транслируемыми* в одну и ту же форму.\n",
    "\n",
    "В нынешнем виде последние (самые правые) измерения (2000 и 3) несовместимы с точки зрения трансляции, но мы можем легко это исправить, добавив новое измерение размера «1» в конце `mask`. Добавим третье измерение, используя `reshape`."
   ]
  },
  {
   "cell_type": "code",
   "execution_count": null,
   "id": "1aebb532",
   "metadata": {},
   "outputs": [],
   "source": [
    "mask = (arr == [12, 12, 12]).all(axis=2).reshape(2000, 2000, 1)"
   ]
  },
  {
   "cell_type": "markdown",
   "id": "03be6e10",
   "metadata": {},
   "source": [
    "Результат следующего не так важен. (Вывод должен быть идентичен `arr`; можете ли вы проверить это, используя `all`?) Следующее не вызывает ошибки, поэтому формы действительно совместимы."
   ]
  },
  {
   "cell_type": "code",
   "execution_count": null,
   "id": "a55b9829",
   "metadata": {
    "tags": [
     "output_scroll"
    ]
   },
   "outputs": [],
   "source": [
    "np.where(mask, arr, arr)"
   ]
  },
  {
   "cell_type": "markdown",
   "id": "8c00545f",
   "metadata": {},
   "source": [
    "Теперь, когда у нас есть шаблон, давайте поработаем над «ложными» заменами (т. е. заменой цвета фона). Нам нужны случайные цвета фона, поэтому давайте начнем с создания генератора случайных чисел NumPy."
   ]
  },
  {
   "cell_type": "code",
   "execution_count": null,
   "id": "f27a2eeb",
   "metadata": {},
   "outputs": [],
   "source": [
    "rng = np.random.default_rng()"
   ]
  },
  {
   "cell_type": "markdown",
   "id": "9ce65e22",
   "metadata": {},
   "source": [
    "Наши цвета соответствуют тройкам RGB с целыми числами от 0 до 255 (включительно). Нам нужна сетка случайных цветов размером 10 на 10, поэтому мы будем использовать фигуру `(10,10,3)`; думайте об этом как о матрице случайных значений RGB размером 10х10."
   ]
  },
  {
   "cell_type": "code",
   "execution_count": null,
   "id": "ff89cda8",
   "metadata": {},
   "outputs": [],
   "source": [
    "colors = rng.integers(256, size=(10,10,3))"
   ]
  },
  {
   "cell_type": "markdown",
   "id": "82e14cfb",
   "metadata": {},
   "source": [
    "Длина стороны каждого квадрата равна 200, поэтому мы собираемся повторить каждый цвет «200» раз. Мы будем использовать метод повторения, который принимает аргумент оси, чтобы указать, по какой оси повторяться; мы повторим как по оси = 0, так и по оси = 1.\n",
    "\n",
    "Другой способ подумать об этом: в конечном итоге мы хотим, чтобы что-то транслируемое имело форму `(2000, 2000, 3)`, а наша переменная `colors` имеет форму `(10, 10, 3)`, поэтому естественно повторять `200` раз в размерах строк и столбцов."
   ]
  },
  {
   "cell_type": "code",
   "execution_count": null,
   "id": "d1e61efa",
   "metadata": {},
   "outputs": [],
   "source": [
    "Y = colors.repeat(200, axis=0).repeat(200, axis=1)"
   ]
  },
  {
   "cell_type": "markdown",
   "id": "7d236821",
   "metadata": {},
   "source": [
    "Обратите внимание, как мы видим, что цвета теперь повторяются."
   ]
  },
  {
   "cell_type": "code",
   "execution_count": null,
   "id": "2bf06a8a",
   "metadata": {
    "tags": [
     "output_scroll"
    ]
   },
   "outputs": [],
   "source": [
    "Y"
   ]
  },
  {
   "cell_type": "markdown",
   "id": "fad1ecb4",
   "metadata": {},
   "source": [
    "Напомним, что «цвета» имели форму «(10, 10, 3)»; мы явно передали этот кортеж в rng.integers."
   ]
  },
  {
   "cell_type": "code",
   "execution_count": null,
   "id": "d7afd3ca",
   "metadata": {},
   "outputs": [],
   "source": [
    "colors.shape"
   ]
  },
  {
   "cell_type": "markdown",
   "id": "272cb25f",
   "metadata": {},
   "source": [
    "После наших повторений `Y` теперь имеет форму `(2000, 2000, 3)`."
   ]
  },
  {
   "cell_type": "code",
   "execution_count": null,
   "id": "e67201a0",
   "metadata": {},
   "outputs": [],
   "source": [
    "Y.shape"
   ]
  },
  {
   "cell_type": "markdown",
   "id": "e10da39f",
   "metadata": {},
   "source": [
    "Массив NumPy `Y` содержит то, что мы собираемся использовать для замены значений `False` на (`True` соответствует черным цветам, а `False` соответствует двум другим цветам). Таким образом, `Y` является последним аргументом `np.where`. Единственное, что нам нужно сделать, чтобы получить из этого изображение, — это убедиться, что оно имеет правильный dtype для беззнаковых 8-битных целых чисел. Мы делаем это здесь, используя аргумент astype. (Другой вариант, который мы использовали ранее, — сделать это в два этапа, где вторым шагом является установка dtype.)\n",
    "\n",
    "Вот полученное изображение."
   ]
  },
  {
   "cell_type": "code",
   "execution_count": null,
   "id": "26cc84c1",
   "metadata": {},
   "outputs": [],
   "source": [
    "Image.fromarray(np.where(mask, arr, Y).astype(np.uint8))"
   ]
  },
  {
   "cell_type": "markdown",
   "id": "94e376be",
   "metadata": {},
   "source": [
    "#### <font color=red>Задание</font>\n",
    "1. Выбрать изображение из доступных изображений города Севастополь в папке images.\n",
    "2. Сформировать на базе исходного изображения 6 изображений путем уменьшения размера исходного изображения в 3 раза по ширине, и в 2 раза по высоте (с использоваем разных режимов ресэмплинга). Каждое полученное изображение отобразить в блокноте.\n",
    "3. 6 изображений (полученных в п.2) объединить в одно изображение, разместив эти изображения в 2 строки и 3 столбца. Итоговое изображение отобразить в блокноте."
   ]
  },
  {
   "cell_type": "markdown",
   "id": "8259d731",
   "metadata": {},
   "source": [
    "#### <font color=red>Задание</font>\n",
    "1. Выбрать изображение из доступных цветных изображений города Севастополь в папке images.\n",
    "2. Определить самый часто встречающийся цвет изображения.\n",
    "3. Заменить часый часто встречающийся цвет на случайный цвет."
   ]
  }
 ],
 "metadata": {
  "kernelspec": {
   "display_name": "Python 3 (ipykernel)",
   "language": "python",
   "name": "python3"
  },
  "language_info": {
   "codemirror_mode": {
    "name": "ipython",
    "version": 3
   },
   "file_extension": ".py",
   "mimetype": "text/x-python",
   "name": "python",
   "nbconvert_exporter": "python",
   "pygments_lexer": "ipython3",
   "version": "3.11.4"
  }
 },
 "nbformat": 4,
 "nbformat_minor": 5
}
