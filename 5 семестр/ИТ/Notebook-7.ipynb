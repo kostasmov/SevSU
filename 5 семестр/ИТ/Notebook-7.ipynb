{
 "cells": [
  {
   "cell_type": "markdown",
   "id": "d4611fc9",
   "metadata": {},
   "source": [
    "# Notebook №7. Information systems"
   ]
  },
  {
   "cell_type": "markdown",
   "id": "ed67ba95",
   "metadata": {},
   "source": [
    "Performed by Movenko Konstantin, IS/b-21-2-o"
   ]
  },
  {
   "cell_type": "markdown",
   "id": "03c12ea8",
   "metadata": {},
   "source": [
    "## Features of working with mutable data types"
   ]
  },
  {
   "cell_type": "markdown",
   "id": "8e4a2357",
   "metadata": {},
   "source": [
    "First, I'd like to discuss some of the subtleties when working with lists, dictionaries and other mutable data types. Let's consider a simple example of a function call."
   ]
  },
  {
   "cell_type": "code",
   "execution_count": 1,
   "id": "27afb973",
   "metadata": {},
   "outputs": [],
   "source": [
    "# function which increments its argument and returns result\n",
    "def my_func(x):\n",
    "    x = x + 1\n",
    "    return x"
   ]
  },
  {
   "cell_type": "markdown",
   "id": "734fbc73",
   "metadata": {},
   "source": [
    "This function increments its argument by one and returns whatever the result is"
   ]
  },
  {
   "cell_type": "code",
   "execution_count": 2,
   "id": "915fcb50",
   "metadata": {},
   "outputs": [
    {
     "name": "stdout",
     "output_type": "stream",
     "text": [
      "Function returns 6\n",
      "y = 5\n"
     ]
    }
   ],
   "source": [
    "y = 5                                   # assign new variable y\n",
    "print(\"Function returns\", my_func(y))   # print result of prev. function with y\n",
    "print(\"y =\", y)                         # print current value of y"
   ]
  },
  {
   "cell_type": "markdown",
   "id": "332469fd",
   "metadata": {},
   "source": [
    "Nothing unexpected. The function did not change the variable `y` and wasn't supposed to. Let's now try to do something similar with the list."
   ]
  },
  {
   "cell_type": "code",
   "execution_count": 3,
   "id": "17313473",
   "metadata": {},
   "outputs": [],
   "source": [
    "# function which appends number 1 to the list\n",
    "def other_func(my_list):\n",
    "    my_list.append(1)\n",
    "    return my_list"
   ]
  },
  {
   "cell_type": "markdown",
   "id": "83dab5a2",
   "metadata": {},
   "source": [
    "This function takes a list as an argument, appends element 1 to the end of it and returns the result. Let's try calling it:"
   ]
  },
  {
   "cell_type": "code",
   "execution_count": 4,
   "id": "9a1e7a57",
   "metadata": {},
   "outputs": [
    {
     "name": "stdout",
     "output_type": "stream",
     "text": [
      "this_list before function: [6, 9, 33]\n",
      "function returns: [6, 9, 33, 1]\n",
      "this_list after function: [6, 9, 33, 1]\n"
     ]
    }
   ],
   "source": [
    "this_list = [6, 9, 33]                             # create a list\n",
    "print(\"this_list before function:\", this_list)     # list before working with the function\n",
    "print(\"function returns:\", other_func(this_list))  # result of the function with a list\n",
    "print(\"this_list after function:\", this_list)      # list after working with the function"
   ]
  },
  {
   "cell_type": "markdown",
   "id": "ba3e86f2",
   "metadata": {},
   "source": [
    "Oh. Something strange has happened. The function `other_func` modified the list that was passed to it, although it was created outside this function and was not defined as global inside the function (in general, it was working with a different variable inside the function).\n",
    "\n",
    "Why did this happen? To understand this issue, the easiest way is to look at the visualization."
   ]
  },
  {
   "cell_type": "code",
   "execution_count": 5,
   "id": "54ffac7e",
   "metadata": {},
   "outputs": [],
   "source": [
    "%load_ext tutormagic"
   ]
  },
  {
   "cell_type": "code",
   "execution_count": 6,
   "id": "3fa2ffca",
   "metadata": {},
   "outputs": [
    {
     "data": {
      "text/html": [
       "\n",
       "        <iframe\n",
       "            width=\"100%\"\n",
       "            height=\"350\"\n",
       "            src=\"http://pythontutor.com/iframe-embed.html#code=%0A%23%20function%20which%20appends%20number%201%20to%20the%20list%0Adef%20other_func%28my_list%29%3A%0A%20%20%20%20my_list.append%281%29%0A%20%20%20%20return%20%0A%0Athis_list%20%3D%20%5B6%2C%209%2C%2033%5D%20%20%23%20create%20a%20new%20list%0Aother_func%28this_list%29%20%20%20%23%20call%20the%20function%20with%20the%20created%20list%0A&origin=opt-frontend.js&cumulative=false&heapPrimitives=false&textReferences=false&curInstr=0&&verticalStack=false&py=3&rawInputLstJSON=%5B%5D&codeDivWidth=50%25&codeDivHeight=100%25\"\n",
       "            frameborder=\"0\"\n",
       "            allowfullscreen\n",
       "            \n",
       "        ></iframe>\n",
       "        "
      ],
      "text/plain": [
       "<IPython.lib.display.IFrame at 0x1a886574110>"
      ]
     },
     "metadata": {},
     "output_type": "display_data"
    }
   ],
   "source": [
    "%%tutor --lang python3\n",
    "\n",
    "# function which appends number 1 to the list\n",
    "def other_func(my_list):\n",
    "    my_list.append(1)\n",
    "    return \n",
    "\n",
    "this_list = [6, 9, 33]  # create a new list\n",
    "other_func(this_list)   # call the function with the created list"
   ]
  },
  {
   "cell_type": "markdown",
   "id": "ca21a1ae",
   "metadata": {},
   "source": [
    "## Two sorts"
   ]
  },
  {
   "cell_type": "markdown",
   "id": "5a06d39f",
   "metadata": {},
   "source": [
    "Let's look at two more examples that show the difference between the two scenarios - these will again involve lists. Do the two visualizations and find what the difference is. After that, read on."
   ]
  },
  {
   "cell_type": "code",
   "execution_count": 7,
   "id": "baf497be",
   "metadata": {},
   "outputs": [
    {
     "data": {
      "text/html": [
       "\n",
       "        <iframe\n",
       "            width=\"100%\"\n",
       "            height=\"350\"\n",
       "            src=\"http://pythontutor.com/iframe-embed.html#code=%0A%23%20function%20for%20sorting%20a%20list%20%28with%20%22sorted%22%20function%29%0Adef%20return_sorted%28my_list%29%3A%0A%20%20%20%20my_list%20%3D%20sorted%28my_list%29%0A%20%20%20%20return%20my_list%0A%0Athis_list%20%3D%20%5B33%2C%201%2C%2055%5D%20%20%20%20%20%20%20%20%20%20%20%20%20%20%20%20%20%20%20%20%20%20%20%20%20%20%20%20%20%20%20%20%20%20%23%20create%20a%20list%0Aprint%28%22this_list%20before%20function%3A%22%2C%20this_list%29%20%20%20%20%20%20%20%20%20%20%20%23%20list%20before%20working%20with%20the%20function%20%0Aprint%28%22function%20returned%3A%22%2C%20return_sorted%28this_list%29%29%20%20%20%20%23%20result%20of%20the%20function%20with%20a%20list%0Aprint%28%22this_list%20after%20function%3A%22%2C%20this_list%29%20%20%20%20%20%20%20%20%20%20%20%20%23%20list%20after%20working%20with%20the%20function%0A&origin=opt-frontend.js&cumulative=false&heapPrimitives=false&textReferences=false&curInstr=0&&verticalStack=false&py=3&rawInputLstJSON=%5B%5D&codeDivWidth=50%25&codeDivHeight=100%25\"\n",
       "            frameborder=\"0\"\n",
       "            allowfullscreen\n",
       "            \n",
       "        ></iframe>\n",
       "        "
      ],
      "text/plain": [
       "<IPython.lib.display.IFrame at 0x1a8865bf310>"
      ]
     },
     "metadata": {},
     "output_type": "display_data"
    }
   ],
   "source": [
    "%%tutor --lang python3\n",
    "\n",
    "# function for sorting a list (with \"sorted\" function)\n",
    "def return_sorted(my_list):\n",
    "    my_list = sorted(my_list)\n",
    "    return my_list\n",
    "\n",
    "this_list = [33, 1, 55]                                  # create a list\n",
    "print(\"this_list before function:\", this_list)           # list before working with the function \n",
    "print(\"function returned:\", return_sorted(this_list))    # result of the function with a list\n",
    "print(\"this_list after function:\", this_list)            # list after working with the function"
   ]
  },
  {
   "cell_type": "code",
   "execution_count": 8,
   "id": "6e17fdf9",
   "metadata": {},
   "outputs": [
    {
     "name": "stdout",
     "output_type": "stream",
     "text": [
      "this_list before function: [33, 1, 55]\n"
     ]
    },
    {
     "ename": "NameError",
     "evalue": "name 'return_sorted' is not defined",
     "output_type": "error",
     "traceback": [
      "\u001b[1;31m---------------------------------------------------------------------------\u001b[0m",
      "\u001b[1;31mNameError\u001b[0m                                 Traceback (most recent call last)",
      "Cell \u001b[1;32mIn[8], line 10\u001b[0m\n\u001b[0;32m      8\u001b[0m this_list \u001b[38;5;241m=\u001b[39m [\u001b[38;5;241m33\u001b[39m, \u001b[38;5;241m1\u001b[39m, \u001b[38;5;241m55\u001b[39m]                                  \u001b[38;5;66;03m# create a list\u001b[39;00m\n\u001b[0;32m      9\u001b[0m \u001b[38;5;28mprint\u001b[39m(\u001b[38;5;124m\"\u001b[39m\u001b[38;5;124mthis_list before function:\u001b[39m\u001b[38;5;124m\"\u001b[39m, this_list)           \u001b[38;5;66;03m# list before working with the function \u001b[39;00m\n\u001b[1;32m---> 10\u001b[0m \u001b[38;5;28mprint\u001b[39m(\u001b[38;5;124m\"\u001b[39m\u001b[38;5;124mfunction returned:\u001b[39m\u001b[38;5;124m\"\u001b[39m, return_sorted(this_list))    \u001b[38;5;66;03m# result of the function with a list\u001b[39;00m\n\u001b[0;32m     11\u001b[0m \u001b[38;5;28mprint\u001b[39m(\u001b[38;5;124m\"\u001b[39m\u001b[38;5;124mthis_list after function:\u001b[39m\u001b[38;5;124m\"\u001b[39m, this_list)\n",
      "\u001b[1;31mNameError\u001b[0m: name 'return_sorted' is not defined"
     ]
    }
   ],
   "source": [
    "#%%tutor --lang python3\n",
    "\n",
    "# function for sorting a list (with \"sort\" method)\n",
    "def sort_and_return(my_list):\n",
    "    my_list.sort()\n",
    "    return my_list\n",
    "\n",
    "this_list = [33, 1, 55]                                  # create a list\n",
    "print(\"this_list before function:\", this_list)           # list before working with the function \n",
    "print(\"function returned:\", return_sorted(this_list))    # result of the function with a list\n",
    "print(\"this_list after function:\", this_list)            # list after working with the function"
   ]
  },
  {
   "cell_type": "markdown",
   "id": "3315e3c6",
   "metadata": {},
   "source": [
    "So, what's the difference?\n",
    "\n",
    "The functions `return_sorted()` and `sort_and_return()` do approximately the same job: take a list as input, sort it and return. At the moment when the input to the function happens (Step 5) the situation in both fragments is identical: outside the function there is the variable `this_list`, inside the function there is a variable `my_list`, they both point to the same list. The key difference occurs in the next step. The `return_sorted()` function uses the `sorted()` function, which creates a new list. Then it assigns (`=`) the result of executing `sorted()` to the variable `my_list`. This causes the variable with this name to refer to the the new object (Step 7), while the old one (which is still referenced by `this_list`) remains intact. `sort_and_return()` works quite differently - it uses the `sort()` method, which sorts the list *in place*, within itself. In this case, no new object is created, no assignment operation is used and the `my_list` variable continues to refer to the same list as before. It just turns out to be sorted.\n",
    "\n",
    "Note the similarity between `return_sorted()` and `my_func()` from the example above: both use the assignment operator. The difference is that in the case of a numeric variable, there is no other way to deal with it because numbers are immutable, while in the case of a list, the developer has a choice: he can create a new object and assign it to the old variable, or he can modify an existing object without creating a new one."
   ]
  },
  {
   "cell_type": "markdown",
   "id": "495da020",
   "metadata": {},
   "source": [
    "## Creating a copy"
   ]
  },
  {
   "cell_type": "markdown",
   "id": "b3bacf24",
   "metadata": {},
   "source": [
    "Now suppose that we want to write a function that takes a list as input, returns the same list, but with one added element, and does not change the original list itself. This can be done, for example, like this:"
   ]
  },
  {
   "cell_type": "code",
   "execution_count": 9,
   "id": "78831215",
   "metadata": {},
   "outputs": [],
   "source": [
    "# function which appends variable to the copy of the list\n",
    "def return_append(L, a):\n",
    "    new_L = L.copy()\n",
    "    new_L.append(a)\n",
    "    return new_L"
   ]
  },
  {
   "cell_type": "code",
   "execution_count": 10,
   "id": "c8197f22",
   "metadata": {},
   "outputs": [
    {
     "name": "stdout",
     "output_type": "stream",
     "text": [
      "outer_list before funciton [7, 54, 69]\n",
      "function returned [7, 54, 69, 55]\n",
      "outer_list after function [7, 54, 69]\n"
     ]
    }
   ],
   "source": [
    "outer_list = [7, 54, 69]                                   # create a list\n",
    "print(\"outer_list before funciton\", outer_list)            # list before working with the function\n",
    "print(\"function returned\", return_append(outer_list, 55))  # result of the function with a list as argument\n",
    "print(\"outer_list after function\", outer_list)             # original list after working with the function"
   ]
  },
  {
   "cell_type": "markdown",
   "id": "4dca19b3",
   "metadata": {},
   "source": [
    "The main trick here is to use `L.copy()` - recall that this method creates a copy of the of the existing list. Then we perform the assignment operation again (that is, now `new_L` is the name for the copy of the list `L`, not the list `L` itself) and we can do whatever we want with this `new_L`. The old list will not change."
   ]
  },
  {
   "cell_type": "markdown",
   "id": "a5da9553",
   "metadata": {},
   "source": [
    "## Not just function calls"
   ]
  },
  {
   "cell_type": "markdown",
   "id": "c1ca7c12",
   "metadata": {},
   "source": [
    "Problems similar to those discussed above do not occur only when calling functions. Let's start with simple example with a loop."
   ]
  },
  {
   "cell_type": "code",
   "execution_count": 11,
   "id": "4ec5bdbe",
   "metadata": {},
   "outputs": [
    {
     "name": "stdout",
     "output_type": "stream",
     "text": [
      "[7, 9, 11]\n"
     ]
    }
   ],
   "source": [
    "some_list = [7, 9, 11] # create a list\n",
    "for x in some_list:    # attempt to change the list in a loop\n",
    "    x = x + 1    \n",
    "print(some_list)       # print the list after loop"
   ]
  },
  {
   "cell_type": "markdown",
   "id": "3d2ebaf0",
   "metadata": {},
   "source": [
    "The `some_list` list hasn't changed, and that's no surprise. But now let's take a look a slightly more complicated situation with the list of lists."
   ]
  },
  {
   "cell_type": "code",
   "execution_count": 12,
   "id": "964da7e2",
   "metadata": {},
   "outputs": [
    {
     "name": "stdout",
     "output_type": "stream",
     "text": [
      "[[1, 5, 77], [7, 9, 77]]\n"
     ]
    }
   ],
   "source": [
    "table = [[1, 5], [7, 9]]  # create a list of lists (matrix)\n",
    "for row in table:         # attempt to change inner lists in a loop\n",
    "    row.append(77)\n",
    "print(table)              # print the list after loop"
   ]
  },
  {
   "cell_type": "markdown",
   "id": "e71317c3",
   "metadata": {},
   "source": [
    "And \"oh\" again. What happened? Let's take a look at the visualizer."
   ]
  },
  {
   "cell_type": "code",
   "execution_count": 13,
   "id": "aef5083a",
   "metadata": {},
   "outputs": [
    {
     "data": {
      "text/html": [
       "\n",
       "        <iframe\n",
       "            width=\"100%\"\n",
       "            height=\"350\"\n",
       "            src=\"http://pythontutor.com/iframe-embed.html#code=%0Atable%20%3D%20%5B%5B1%2C%205%5D%2C%20%5B7%2C%209%5D%5D%20%20%23%20create%20a%20list%20of%20lists%20%28matrix%29%0Afor%20row%20in%20table%3A%20%20%20%20%20%20%20%20%20%23%20attempt%20to%20change%20inner%20lists%20in%20a%20loop%0A%20%20%20%20row.append%2877%29%0Aprint%28table%29%20%20%20%20%20%20%20%20%20%20%20%20%20%20%23%20print%20the%20list%20after%20loop%0A&origin=opt-frontend.js&cumulative=false&heapPrimitives=false&textReferences=false&curInstr=0&&verticalStack=false&py=3&rawInputLstJSON=%5B%5D&codeDivWidth=50%25&codeDivHeight=100%25\"\n",
       "            frameborder=\"0\"\n",
       "            allowfullscreen\n",
       "            \n",
       "        ></iframe>\n",
       "        "
      ],
      "text/plain": [
       "<IPython.lib.display.IFrame at 0x1a88725fb90>"
      ]
     },
     "metadata": {},
     "output_type": "display_data"
    }
   ],
   "source": [
    "%%tutor --lang python3\n",
    "\n",
    "table = [[1, 5], [7, 9]]  # create a list of lists (matrix)\n",
    "for row in table:         # attempt to change inner lists in a loop\n",
    "    row.append(77)\n",
    "print(table)              # print the list after loop"
   ]
  },
  {
   "cell_type": "markdown",
   "id": "73658afc",
   "metadata": {},
   "source": [
    "When the first step of the loop (Step 3) is executed, the first element of the  `table` list is written to the `row` variable. However, this element is itself a list - or rather a reference to a list. The next step (Step 4) adds an element `77` to the list. Then `row` becomes a reference to the second element of the list `table`. Element `77` is added to it as well.\n",
    "\n",
    "Pay attention to the parallel with the previous plot: here, too, a call to the list method is involved, which changes this list *in place*."
   ]
  },
  {
   "cell_type": "markdown",
   "id": "7990c48f",
   "metadata": {},
   "source": [
    "## Puzzle"
   ]
  },
  {
   "cell_type": "markdown",
   "id": "296866bb",
   "metadata": {},
   "source": [
    "What do you think will happen if you execute the following code? Try to execute it, look at the result and try to explain it."
   ]
  },
  {
   "cell_type": "code",
   "execution_count": 14,
   "id": "bb6315c1",
   "metadata": {},
   "outputs": [
    {
     "name": "stdout",
     "output_type": "stream",
     "text": [
      "[[1], [1], [1], [1], [1]]\n"
     ]
    }
   ],
   "source": [
    "# create a list with 5 inner empty lists, having the same refence\n",
    "A = [[]]*5\n",
    "\n",
    "# append number 1 to the list referenced in A[0]\n",
    "A[0].append(1)\n",
    "\n",
    "# number 1 was appended to each list with this reference\n",
    "print(A)"
   ]
  },
  {
   "cell_type": "markdown",
   "id": "416694d8",
   "metadata": {},
   "source": [
    "## Changing an iterated object in a loop"
   ]
  },
  {
   "cell_type": "markdown",
   "id": "9cc77adf",
   "metadata": {},
   "source": [
    "In the example above, we changed the contents of the \"inner\" lists, but the `table` list itself remained unchanged: it did not change the number of elements and the elements remained references to the same list-rows as before. But is it possible to change the list itself during iterations? As it turns out, you can. Although in most cases it is better not to do it. Before we look at the example, let us remind you of how the `pop()` method works."
   ]
  },
  {
   "cell_type": "code",
   "execution_count": 15,
   "id": "2f126469",
   "metadata": {},
   "outputs": [
    {
     "name": "stdout",
     "output_type": "stream",
     "text": [
      "8\n",
      "[6, 9, 44]\n"
     ]
    }
   ],
   "source": [
    "L = [6, 9, 44, 8]   # create a list\n",
    "print(L.pop())      # remove thye last item from the list and print it\n",
    "print(L)            # print the updated list"
   ]
  },
  {
   "cell_type": "markdown",
   "id": "particular-mortgage",
   "metadata": {},
   "source": [
    "It removes the last item from the list and returns the same. Let's apply it now as follows:"
   ]
  },
  {
   "cell_type": "code",
   "execution_count": 16,
   "id": "10a1cd9c",
   "metadata": {},
   "outputs": [
    {
     "name": "stdout",
     "output_type": "stream",
     "text": [
      "Pop element 10\n",
      "7\n",
      "Pop element 9\n",
      "8\n",
      "[7, 8]\n"
     ]
    }
   ],
   "source": [
    "L = [7, 8, 9, 10]                  # create a list\n",
    "for x in L:                        # loop which makes list 1 item shorter with each iteration (removing half of the items)\n",
    "    print(\"Pop element\", L.pop())  \n",
    "    print(x)                       \n",
    "print(L)                           # print updated list"
   ]
  },
  {
   "cell_type": "markdown",
   "id": "79c7d587",
   "metadata": {},
   "source": [
    "The loop is executed twice: by the time the loop finishes processing element 8, elements 9 and 10 from the list will have already been deleted, there will be no unprocessed items left in the list and the loop will stop.\n",
    "\n",
    "You can guess what will happen only by looking at the code very carefully. This means that the code is not very good: by looking at good code, you can figure out what it will do."
   ]
  },
  {
   "cell_type": "markdown",
   "id": "other-mortality",
   "metadata": {},
   "source": [
    "The situation is different with dictionaries."
   ]
  },
  {
   "cell_type": "code",
   "execution_count": 17,
   "id": "544b31a4",
   "metadata": {},
   "outputs": [
    {
     "name": "stdout",
     "output_type": "stream",
     "text": [
      "1 2\n"
     ]
    },
    {
     "ename": "RuntimeError",
     "evalue": "dictionary changed size during iteration",
     "output_type": "error",
     "traceback": [
      "\u001b[1;31m---------------------------------------------------------------------------\u001b[0m",
      "\u001b[1;31mRuntimeError\u001b[0m                              Traceback (most recent call last)",
      "Cell \u001b[1;32mIn[17], line 2\u001b[0m\n\u001b[0;32m      1\u001b[0m d \u001b[38;5;241m=\u001b[39m {\u001b[38;5;241m1\u001b[39m:\u001b[38;5;241m2\u001b[39m, \u001b[38;5;241m3\u001b[39m:\u001b[38;5;241m4\u001b[39m}          \u001b[38;5;66;03m# create a dictionary          \u001b[39;00m\n\u001b[1;32m----> 2\u001b[0m \u001b[38;5;28;01mfor\u001b[39;00m k, v \u001b[38;5;129;01min\u001b[39;00m d\u001b[38;5;241m.\u001b[39mitems():  \u001b[38;5;66;03m# iterate dictionary by it's items\u001b[39;00m\n\u001b[0;32m      3\u001b[0m     \u001b[38;5;28;01mdel\u001b[39;00m d[\u001b[38;5;241m3\u001b[39m]            \u001b[38;5;66;03m# try to delete item from dictionary while processing (creates error)\u001b[39;00m\n\u001b[0;32m      4\u001b[0m     \u001b[38;5;28mprint\u001b[39m(k, v)\n",
      "\u001b[1;31mRuntimeError\u001b[0m: dictionary changed size during iteration"
     ]
    }
   ],
   "source": [
    "d = {1:2, 3:4}          # create a dictionary          \n",
    "for k, v in d.items():  # iterate dictionary by it's items\n",
    "    del d[3]            # try to delete item from dictionary while processing (creates error)\n",
    "    print(k, v)"
   ]
  },
  {
   "cell_type": "markdown",
   "id": "7b7f0630",
   "metadata": {},
   "source": [
    "Here, the command `del d[3]` removes the element with key `3` from the dictionary. Since the order of iterating of dictionary elements is not defined, no one knows how to correctly continue iterating after the dictionary size has been changed. Therefore, such operation is forbidden."
   ]
  },
  {
   "cell_type": "markdown",
   "id": "da949650",
   "metadata": {},
   "source": [
    "However, this does not mean that it is forbidden to change the dictionary value when executing a loop. For example,\n",
    "we want to add the number 1 to all the values. The following naive method expectantly won't work:"
   ]
  },
  {
   "cell_type": "code",
   "execution_count": 18,
   "id": "6f2dc984",
   "metadata": {},
   "outputs": [
    {
     "name": "stdout",
     "output_type": "stream",
     "text": [
      "{1: 2, 3: 4}\n"
     ]
    }
   ],
   "source": [
    "d = {1:2, 3:4}          # create a dictionary          \n",
    "for k, v in d.items():  # iterate dictionary by it's items\n",
    "    v = v + 1           # try to increment iterated item\n",
    "print(d)                # print \"updated\" dictionary"
   ]
  },
  {
   "cell_type": "markdown",
   "id": "lesbian-alias",
   "metadata": {},
   "source": [
    "In fact, this problem should be solved in the following way:"
   ]
  },
  {
   "cell_type": "code",
   "execution_count": 19,
   "id": "57a72b78",
   "metadata": {},
   "outputs": [
    {
     "ename": "TypeError",
     "evalue": "cannot unpack non-iterable int object",
     "output_type": "error",
     "traceback": [
      "\u001b[1;31m---------------------------------------------------------------------------\u001b[0m",
      "\u001b[1;31mTypeError\u001b[0m                                 Traceback (most recent call last)",
      "Cell \u001b[1;32mIn[19], line 2\u001b[0m\n\u001b[0;32m      1\u001b[0m d \u001b[38;5;241m=\u001b[39m {\u001b[38;5;241m1\u001b[39m:\u001b[38;5;241m2\u001b[39m, \u001b[38;5;241m3\u001b[39m:\u001b[38;5;241m4\u001b[39m}        \u001b[38;5;66;03m# create a dictionary          \u001b[39;00m\n\u001b[1;32m----> 2\u001b[0m \u001b[38;5;28;01mfor\u001b[39;00m k, \u001b[38;5;129;01min\u001b[39;00m d:          \u001b[38;5;66;03m# iterate dictionary by keys\u001b[39;00m\n\u001b[0;32m      3\u001b[0m     d[k] \u001b[38;5;241m=\u001b[39m d[k] \u001b[38;5;241m+\u001b[39m \u001b[38;5;241m1\u001b[39m   \u001b[38;5;66;03m# increment value by key\u001b[39;00m\n\u001b[0;32m      4\u001b[0m \u001b[38;5;28mprint\u001b[39m(d)\n",
      "\u001b[1;31mTypeError\u001b[0m: cannot unpack non-iterable int object"
     ]
    }
   ],
   "source": [
    "d = {1:2, 3:4}        # create a dictionary          \n",
    "for k, in d:          # iterate dictionary by keys\n",
    "    d[k] = d[k] + 1   # increment value by key\n",
    "print(d)              # print updated dictionary"
   ]
  },
  {
   "cell_type": "markdown",
   "id": "3b34ab8d",
   "metadata": {},
   "source": [
    "## Sets"
   ]
  },
  {
   "cell_type": "markdown",
   "id": "42d50124",
   "metadata": {},
   "source": [
    "Another basic data type in Python is a set. It matches to the mathematical concept of a set - that is, a collection of some elements. Each element can either be part of set, or not."
   ]
  },
  {
   "cell_type": "markdown",
   "id": "disabled-module",
   "metadata": {},
   "source": [
    "*If you are currently enrolled in our Python course, you are belong to a set of students. You can't be \"twice in the course\": each element can only belong to a set once.*"
   ]
  },
  {
   "cell_type": "code",
   "execution_count": 20,
   "id": "ee6d91a7",
   "metadata": {},
   "outputs": [],
   "source": [
    "my_set = {6, 9, 11, 11, 9, 'hello'} # create a set (mentioning identical values)"
   ]
  },
  {
   "cell_type": "code",
   "execution_count": 21,
   "id": "cb3ec715",
   "metadata": {},
   "outputs": [
    {
     "data": {
      "text/plain": [
       "{11, 6, 9, 'hello'}"
      ]
     },
     "execution_count": 21,
     "metadata": {},
     "output_type": "execute_result"
    }
   ],
   "source": [
    "my_set # print created set (no dublicates in the set)"
   ]
  },
  {
   "cell_type": "markdown",
   "id": "0aa110d8",
   "metadata": {},
   "source": [
    "As can be seen from this simple example, the elements of the set are also not ordered."
   ]
  },
  {
   "cell_type": "code",
   "execution_count": 22,
   "id": "fc2c8c47",
   "metadata": {},
   "outputs": [
    {
     "data": {
      "text/plain": [
       "True"
      ]
     },
     "execution_count": 22,
     "metadata": {},
     "output_type": "execute_result"
    }
   ],
   "source": [
    "{6, 9, 11, 11, 9, 'hello'} == {9, 'hello', 11, 6} # comparing sets (order of elements means nothing)"
   ]
  },
  {
   "cell_type": "markdown",
   "id": "fabulous-radical",
   "metadata": {},
   "source": [
    "This is how you can check whether an element lies in the set."
   ]
  },
  {
   "cell_type": "code",
   "execution_count": 23,
   "id": "liberal-pantyhose",
   "metadata": {},
   "outputs": [
    {
     "data": {
      "text/plain": [
       "True"
      ]
     },
     "execution_count": 23,
     "metadata": {},
     "output_type": "execute_result"
    }
   ],
   "source": [
    "9 in my_set   # check element in set (True)"
   ]
  },
  {
   "cell_type": "code",
   "execution_count": 24,
   "id": "1c5b7579",
   "metadata": {},
   "outputs": [
    {
     "data": {
      "text/plain": [
       "False"
      ]
     },
     "execution_count": 24,
     "metadata": {},
     "output_type": "execute_result"
    }
   ],
   "source": [
    "10 in my_set  # check element in set (False)"
   ]
  },
  {
   "cell_type": "markdown",
   "id": "8673530b",
   "metadata": {},
   "source": [
    "Of course, the `in` operator doesn't work only for sets. For example, `4 in [2, 4, 8, 10]` will return `True`. However, for lists this operation is slow - or rather, *massive*: the larger the list, the more comparison operations are needed to see if a particular element is in it. In the case of sets, the time for checking practically does not grow with the increase of the number of elements of the set. the number of elements of the set."
   ]
  },
  {
   "cell_type": "markdown",
   "id": "ba106b35",
   "metadata": {},
   "source": [
    "You can do different operations with sets — we are familiar with them in math courses. For example, the union and intersection of two sets gives a new set."
   ]
  },
  {
   "cell_type": "code",
   "execution_count": 25,
   "id": "30b5deda",
   "metadata": {},
   "outputs": [
    {
     "data": {
      "text/plain": [
       "{6, 7, 8, 9, 11}"
      ]
     },
     "execution_count": 25,
     "metadata": {},
     "output_type": "execute_result"
    }
   ],
   "source": [
    "{6, 8, 9} | {6, 11, 7}  # union of two sets"
   ]
  },
  {
   "cell_type": "code",
   "execution_count": 26,
   "id": "8faff35a",
   "metadata": {},
   "outputs": [
    {
     "data": {
      "text/plain": [
       "{6}"
      ]
     },
     "execution_count": 26,
     "metadata": {},
     "output_type": "execute_result"
    }
   ],
   "source": [
    "{6, 8, 9} & {6, 11, 7}  # intersection of two sets"
   ]
  },
  {
   "cell_type": "markdown",
   "id": "ddd07e31",
   "metadata": {},
   "source": [
    "*Note again: the order of the elements in the set is undefined. If you need output the elements of the set in some predefined order, you can turn it into a sorted list using the `sorted()` function.*"
   ]
  },
  {
   "cell_type": "code",
   "execution_count": 27,
   "id": "c0ba6ff3",
   "metadata": {},
   "outputs": [
    {
     "name": "stdout",
     "output_type": "stream",
     "text": [
      "{'World', 'Aaaaa', 'Test', 'Zzzzz', 'Zz', 'Q', 'Guest', 'Hello'}\n",
      "['Aaaaa', 'Guest', 'Hello', 'Q', 'Test', 'World', 'Zz', 'Zzzzz']\n"
     ]
    }
   ],
   "source": [
    "s = {\"Hello\", \"World\", \"Aaaaa\", \"Test\", \"Guest\", \"Aaaaa\", \"Zzzzz\",\"Zz\",\"Q\"} # creating a set\n",
    "print(s)                                                                    # print the set\n",
    "print(sorted(s))  # here the output is no longer a set, but a list: note the square brackets"
   ]
  },
  {
   "cell_type": "markdown",
   "id": "e8646e9f",
   "metadata": {},
   "source": [
    "## Example of using sets"
   ]
  },
  {
   "cell_type": "markdown",
   "id": "362f93ef",
   "metadata": {},
   "source": [
    "Let's say we ask a user to enter a command, but we want to give the user the ability to enter the same command in different ways. For example, to stop a program the user could enter the word `stop` or `STOP` or `Stop` or just the letter `s` or `S`. We can handle this case by with several conditions connected by `or`:"
   ]
  },
  {
   "cell_type": "code",
   "execution_count": 28,
   "id": "ede92101",
   "metadata": {},
   "outputs": [
    {
     "name": "stdout",
     "output_type": "stream",
     "text": [
      "Okay, stopping\n"
     ]
    }
   ],
   "source": [
    "s = 'stop'\n",
    "\n",
    "# check a variable for equality to one of the values\n",
    "if s == 'stop' or s == 'Stop' or s == 'STOP' or s == 'S' or s == 's':\n",
    "    print(\"Okay, stopping\")"
   ]
  },
  {
   "cell_type": "markdown",
   "id": "e07f415b",
   "metadata": {},
   "source": [
    "Or we can create a set for all possible variations of the `stop` command and check if our command is included in this set:"
   ]
  },
  {
   "cell_type": "code",
   "execution_count": 29,
   "id": "5e002ca1",
   "metadata": {},
   "outputs": [
    {
     "name": "stdout",
     "output_type": "stream",
     "text": [
      "Okay, stopping\n"
     ]
    }
   ],
   "source": [
    "s = 'stop'\n",
    "\n",
    "# check a variable for equality to one of the set elements\n",
    "STOPS = {'stop', 'Stop', 'STOP', 'S', 's'}\n",
    "if s in STOPS:\n",
    "    print(\"Okay, stopping\")"
   ]
  },
  {
   "cell_type": "markdown",
   "id": "2676b719",
   "metadata": {},
   "source": [
    "However, in this place, probably, instead of a set, it would be possible to use just a list."
   ]
  },
  {
   "cell_type": "markdown",
   "id": "80460f68",
   "metadata": {},
   "source": [
    "## A little more about the strings"
   ]
  },
  {
   "cell_type": "markdown",
   "id": "a8b38724",
   "metadata": {},
   "source": [
    "I was going to tell you about methods for working with strings for a long time. In general, there are a lot of methods and I won't tell you about all of them, but we will discuss some of them now."
   ]
  },
  {
   "cell_type": "code",
   "execution_count": 30,
   "id": "c523b95c",
   "metadata": {},
   "outputs": [
    {
     "name": "stdout",
     "output_type": "stream",
     "text": [
      "Hi world, Hi\n",
      "hello world, hello\n"
     ]
    }
   ],
   "source": [
    "s = \"hello world, hello\"\n",
    "new_s = s.replace(\"hello\", \"Hi\") # replace one substring with another\n",
    "print(new_s)                     # updated string\n",
    "print(s)                         # original string"
   ]
  },
  {
   "cell_type": "markdown",
   "id": "2f3d5a1e",
   "metadata": {},
   "source": [
    "This is how, for example, you can replace a substring in a string. Note: string is an immutable data type, so, unlike list methods like `append()`, string methods never change the string itself (this is not possible at all), but instead create a new string and return the result.\n",
    "\n",
    "If you wanted to replace only the first few occurrences (that is, only the first word `hello`, but not the second one), you could add a third argument to the `replace` method - it shows how many times the replacement should be done."
   ]
  },
  {
   "cell_type": "code",
   "execution_count": 31,
   "id": "a2c040f6",
   "metadata": {},
   "outputs": [
    {
     "data": {
      "text/plain": [
       "'Hi world, hello'"
      ]
     },
     "execution_count": 31,
     "metadata": {},
     "output_type": "execute_result"
    }
   ],
   "source": [
    "# replace \"hello\" with \"Hi\" in the line only 1 time\n",
    "\"hello world, hello\".replace(\"hello\", \"Hi\", 1)"
   ]
  },
  {
   "cell_type": "markdown",
   "id": "0f9ca8b7",
   "metadata": {},
   "source": [
    "This is how you can find a substring in a string:"
   ]
  },
  {
   "cell_type": "code",
   "execution_count": 32,
   "id": "46a42c80",
   "metadata": {},
   "outputs": [
    {
     "data": {
      "text/plain": [
       "6"
      ]
     },
     "execution_count": 32,
     "metadata": {},
     "output_type": "execute_result"
    }
   ],
   "source": [
    "# index() function returns the index of the first character of the substring in the string\n",
    "s.index(\"world\")"
   ]
  },
  {
   "cell_type": "code",
   "execution_count": 33,
   "id": "aaabeaf8",
   "metadata": {},
   "outputs": [
    {
     "data": {
      "text/plain": [
       "6"
      ]
     },
     "execution_count": 33,
     "metadata": {},
     "output_type": "execute_result"
    }
   ],
   "source": [
    "# find() function does the same\n",
    "s.find(\"world\")"
   ]
  },
  {
   "cell_type": "markdown",
   "id": "37dd072e",
   "metadata": {},
   "source": [
    "Both methods return the index of the first character of the substring. The difference is that if `index()` cannot find the substring at all, it will generate an exception, and if `find()` has the same problem, it will return `-1` as the index.\n",
    "\n",
    "By the way, you can also check if a substring is included in a string with this way:"
   ]
  },
  {
   "cell_type": "code",
   "execution_count": 34,
   "id": "96016b67",
   "metadata": {},
   "outputs": [
    {
     "data": {
      "text/plain": [
       "True"
      ]
     },
     "execution_count": 34,
     "metadata": {},
     "output_type": "execute_result"
    }
   ],
   "source": [
    "# check substring in the string with \"in\" operation\n",
    "\"world\" in s"
   ]
  },
  {
   "cell_type": "markdown",
   "id": "91ba6074",
   "metadata": {},
   "source": [
    "And this is how you can calculate how many substrings occur in a string:"
   ]
  },
  {
   "cell_type": "code",
   "execution_count": 35,
   "id": "602c392d",
   "metadata": {},
   "outputs": [
    {
     "data": {
      "text/plain": [
       "3"
      ]
     },
     "execution_count": 35,
     "metadata": {},
     "output_type": "execute_result"
    }
   ],
   "source": [
    "# count() function counts all occurrences of substring \n",
    "s.count(\"o\")"
   ]
  },
  {
   "cell_type": "markdown",
   "id": "5056632c",
   "metadata": {},
   "source": [
    "## File input-output"
   ]
  },
  {
   "cell_type": "markdown",
   "id": "fdee9d69",
   "metadata": {},
   "source": [
    "We are starting to work with files. Now we will discuss only reading and writing. How to run files for execution is a separate story - there is a `subprocess` method for that, we will get to it someday (maybe). Also, for beginning, we'll talk about text or text-like files (for example, a Python code or CSV file are all text). There are also binary files which are useless to read \"with your eyes\" - we will talk about some of them separately.\n",
    "\n",
    "Let's say we want to read a file."
   ]
  },
  {
   "cell_type": "code",
   "execution_count": 36,
   "id": "58f897fa",
   "metadata": {},
   "outputs": [
    {
     "name": "stdout",
     "output_type": "stream",
     "text": [
      "Hello, world!\n",
      "Welcome to func.txt file!\n",
      "Nice to see you there!\n",
      "\n"
     ]
    }
   ],
   "source": [
    "f = open(\"func.txt\") # open a text file \"func.txt\" for reading\n",
    "s = f.read()         # read text from the file\n",
    "f.close()            # close the file\n",
    "print(s)             # print what was read in the file"
   ]
  },
  {
   "cell_type": "markdown",
   "id": "8b334e67",
   "metadata": {},
   "source": [
    "What happened here? First, we opened for reading a `func.txt` file, lying in our current working directory. To find out which directory is working, you can do the following:"
   ]
  },
  {
   "cell_type": "code",
   "execution_count": 37,
   "id": "cb68437e",
   "metadata": {},
   "outputs": [
    {
     "data": {
      "text/plain": [
       "'C:\\\\Users\\\\kosta\\\\Documents\\\\Учёба\\\\СДЕЛАНО\\\\5 семестр\\\\ИТ'"
      ]
     },
     "execution_count": 37,
     "metadata": {},
     "output_type": "execute_result"
    }
   ],
   "source": [
    "import os\n",
    "os.getcwd() # print the curret directory adress"
   ]
  },
  {
   "cell_type": "markdown",
   "id": "a20503ef",
   "metadata": {},
   "source": [
    "The `open()` function returned an object of `file` type - a variable that can be used to work with the file. Then we read the contents of the file into a line `s`, after that we closed the file. Closing files is very useful: if you forget to close a file, another application will not be able to open it (for example, to write something to it).\n",
    "\n",
    "The `read()` function counts the entire file into one big string variable. This is not always convenient (given that strings in Python are immutable and therefore not always work efficiently), so there are various other scenarios for working with files. For example, you can read the contents of a file into a list, broken down by line."
   ]
  },
  {
   "cell_type": "code",
   "execution_count": 38,
   "id": "cbc49d5f",
   "metadata": {},
   "outputs": [],
   "source": [
    "f = open(\"func.txt\")   # open a text file \"func.txt\" for reading\n",
    "lines = f.readlines()  # read text from file, broken down by lines\n",
    "f.close()              # close the file "
   ]
  },
  {
   "cell_type": "code",
   "execution_count": 39,
   "id": "76876b70",
   "metadata": {},
   "outputs": [
    {
     "name": "stdout",
     "output_type": "stream",
     "text": [
      "['Hello, world!\\n', 'Welcome to func.txt file!\\n', 'Nice to see you there!\\n']\n"
     ]
    }
   ],
   "source": [
    "print(lines)           # print what was read in the file"
   ]
  },
  {
   "cell_type": "markdown",
   "id": "9e6a8e88",
   "metadata": {},
   "source": [
    "Note that each of the lines is wrapped with a newline character `\\n` — they were present in the file and we honestly read them from it. This is how you can output a file by lines, numbering them:"
   ]
  },
  {
   "cell_type": "code",
   "execution_count": 40,
   "id": "4ea7493c",
   "metadata": {},
   "outputs": [
    {
     "name": "stdout",
     "output_type": "stream",
     "text": [
      "1 Hello, world!\n",
      "2 Welcome to func.txt file!\n",
      "3 Nice to see you there!\n"
     ]
    }
   ],
   "source": [
    "# output lines of the file, numbering them\n",
    "for i, line in enumerate(lines, 1):\n",
    "    print(i, line, end=\"\")"
   ]
  },
  {
   "cell_type": "markdown",
   "id": "d6d1c874",
   "metadata": {},
   "source": [
    "Another way to do this is not to create a separate list, but to iterate a file object right away."
   ]
  },
  {
   "cell_type": "code",
   "execution_count": 41,
   "id": "2bae5df5",
   "metadata": {},
   "outputs": [
    {
     "name": "stdout",
     "output_type": "stream",
     "text": [
      "1 Hello, world!\n",
      "2 Welcome to func.txt file!\n",
      "3 Nice to see you there!\n"
     ]
    }
   ],
   "source": [
    "f = open(\"func.txt\")             # open a text file \"func.txt\" for reading\n",
    "for i, line in enumerate(f, 1):  # iterate the file by its lines\n",
    "    print(i, line, end=\"\")       # print the line with it's number\n",
    "f.close()                        # close the file "
   ]
  },
  {
   "cell_type": "markdown",
   "id": "06c3f657",
   "metadata": {},
   "source": [
    "This method is more preferable if the file is large. In this case it may not be possible to read the whole file into memory, but it is quite possible to process it one line at a time.\n",
    "\n",
    "There are, however, some tricks here. Consider, for example, the following code:"
   ]
  },
  {
   "cell_type": "code",
   "execution_count": 42,
   "id": "48d9773c",
   "metadata": {},
   "outputs": [
    {
     "name": "stdout",
     "output_type": "stream",
     "text": [
      "Hello, world!\n",
      "Welcome to func.txt file!\n",
      "Nice to see you there!\n",
      "----The next one----\n"
     ]
    }
   ],
   "source": [
    "f = open(\"func.txt\")           # open a text file \"func.txt\" for reading\n",
    "for line in f:                 # print the file's content by lines\n",
    "    print(line, end=\"\")       \n",
    "print(\"----The next one----\")\n",
    "for line in f:                 # try to iterate file's lines again\n",
    "    print(line, end=\"\")  \n",
    "f.close()                      # close the file "
   ]
  },
  {
   "cell_type": "markdown",
   "id": "2b02ba6f",
   "metadata": {},
   "source": [
    "What happened here? Why didn't the second loop execute at all (nothing is printed after the line `----The next one----`)? Very simple: the variable `f`, although it pretends to be a list of lines when we iterate it, is actually not. In fact, when we open a file, we remember the position at which we read the file. Initially it points to the very beginning of the file, but it shifts with each iteration. When we read the whole file, further attempts to read something from it will lead to nothing: the pointer of the current position has moved to the very end and the file is over.\n",
    "\n",
    "However, it is possible to go back to the beginning: to do this, you need to use the `seek()` method."
   ]
  },
  {
   "cell_type": "code",
   "execution_count": 43,
   "id": "f19904bc",
   "metadata": {},
   "outputs": [
    {
     "name": "stdout",
     "output_type": "stream",
     "text": [
      "Hello, world!\n",
      "Welcome to func.txt file!\n",
      "Nice to see you there!\n",
      "----The next one----\n",
      "Hello, world!\n",
      "Welcome to func.txt file!\n",
      "Nice to see you there!\n"
     ]
    }
   ],
   "source": [
    "f = open(\"func.txt\")           # open a text file \"func.txt\" for reading\n",
    "for line in f:                 # print the file's content by lines\n",
    "    print(line, end=\"\")       \n",
    "print(\"----The next one----\")\n",
    "f.seek(0)                      # return the pointer of the file reading to the beginning\n",
    "for line in f:                 # print the file's content by lines again\n",
    "    print(line, end=\"\")  \n",
    "f.close()                      # close the file "
   ]
  },
  {
   "cell_type": "markdown",
   "id": "17838a23",
   "metadata": {},
   "source": [
    "## Writing to files"
   ]
  },
  {
   "cell_type": "markdown",
   "id": "de19532c",
   "metadata": {},
   "source": [
    "To create a file and write something to it, you need to open it *for recording*. This is done by passing the second argument to the `open` function — here you need to write the line \"w\" (from *write*)."
   ]
  },
  {
   "cell_type": "markdown",
   "id": "c5888515",
   "metadata": {},
   "source": [
    "***Attention!** If the file you are trying to open for writing already exists, it **will be deleted without any warning.***"
   ]
  },
  {
   "cell_type": "markdown",
   "id": "f2bdff0b",
   "metadata": {},
   "source": [
    "You can write information to a file that is open for writing, for example, using the `write()` method."
   ]
  },
  {
   "cell_type": "code",
   "execution_count": 44,
   "id": "9f6a0d58",
   "metadata": {},
   "outputs": [],
   "source": [
    "f = open(\"other.txt\", \"w\")  # open a text file for recording\n",
    "f.write(\"Hello\\n\")          # write to a file string \"Hello\\n\"\n",
    "f.close()                   # close the file"
   ]
  },
  {
   "cell_type": "markdown",
   "id": "cc10fd6f",
   "metadata": {},
   "source": [
    "Let's check what happened:"
   ]
  },
  {
   "cell_type": "code",
   "execution_count": 45,
   "id": "3431278e",
   "metadata": {},
   "outputs": [
    {
     "data": {
      "text/plain": [
       "'Hello\\n'"
      ]
     },
     "execution_count": 45,
     "metadata": {},
     "output_type": "execute_result"
    }
   ],
   "source": [
    "f = open(\"other.txt\")\n",
    "f.read()"
   ]
  },
  {
   "cell_type": "markdown",
   "id": "8843dd8a",
   "metadata": {},
   "source": [
    "We see that we have indeed written the line `Hello\\n` to the file `other.txt`. Note that here we opened the file for writing and didn't assign the file object to any variable, but immediately called the `read()` method from it. In this case, the file will be closed automatically some time after this command is executed (the system gives a warning that we have not closed the file explicitly - in some cases this may cause some problems)."
   ]
  }
 ],
 "metadata": {
  "kernelspec": {
   "display_name": "Python 3 (ipykernel)",
   "language": "python",
   "name": "python3"
  },
  "language_info": {
   "codemirror_mode": {
    "name": "ipython",
    "version": 3
   },
   "file_extension": ".py",
   "mimetype": "text/x-python",
   "name": "python",
   "nbconvert_exporter": "python",
   "pygments_lexer": "ipython3",
   "version": "3.11.4"
  }
 },
 "nbformat": 4,
 "nbformat_minor": 5
}
