{
 "cells": [
  {
   "cell_type": "markdown",
   "id": "d4611fc9",
   "metadata": {},
   "source": [
    "# Notebook №10. Information Technologies"
   ]
  },
  {
   "cell_type": "markdown",
   "id": "ed67ba95",
   "metadata": {},
   "source": [
    "Performed by Movenko Konstantin, IS/b-21-2-o"
   ]
  },
  {
   "cell_type": "markdown",
   "id": "03c12ea8",
   "metadata": {},
   "source": [
    "## Numpy and matplotlib libraries"
   ]
  },
  {
   "cell_type": "markdown",
   "id": "ed8146d6",
   "metadata": {},
   "source": [
    "### Numpy library: efficient arrays"
   ]
  },
  {
   "cell_type": "markdown",
   "id": "b8aa9686",
   "metadata": {},
   "source": [
    "Writing Python programs is easy and enjoyable. Much easier and more enjoyable than in low-level programming languages such as C or C++. But, alas, there are no miracles: for the simplicity of writing code we pay for the speed of its execution."
   ]
  },
  {
   "cell_type": "code",
   "execution_count": 1,
   "id": "f8ffb886",
   "metadata": {},
   "outputs": [
    {
     "data": {
      "text/plain": [
       "[1.2, 1.2, 1.2, 1.2, 1.2, 1.2, 1.2, 1.2, 1.2, 1.2]"
      ]
     },
     "execution_count": 1,
     "metadata": {},
     "output_type": "execute_result"
    }
   ],
   "source": [
    "numbers = [1.2] * 10000  # multiply the list of real numbers by 10000\n",
    "numbers[:10]             # output the first 10 elements"
   ]
  },
  {
   "cell_type": "markdown",
   "id": "562b90db",
   "metadata": {},
   "source": [
    "It is useful to use the magic word %%timeit to check the speed at which a certain piece of code is executed. It says that the cell needs to be executed several times and note how much time it took."
   ]
  },
  {
   "cell_type": "code",
   "execution_count": 2,
   "id": "348b807b",
   "metadata": {},
   "outputs": [
    {
     "name": "stdout",
     "output_type": "stream",
     "text": [
      "1.39 ms ± 5.41 µs per loop (mean ± std. dev. of 7 runs, 1,000 loops each)\n"
     ]
    }
   ],
   "source": [
    "%%timeit\n",
    "squares = [x**2 for x in numbers]  # square each element of the list"
   ]
  },
  {
   "cell_type": "markdown",
   "id": "60f60b2d",
   "metadata": {},
   "source": [
    "More than a millisecond per pass! (By the way, x\\*x will be twice as fast — try it!) Not very fast, actually. For \"heavy\" math, which often occurs when processing large amounts of data, we want to use all the capabilities of a computer."
   ]
  },
  {
   "cell_type": "code",
   "execution_count": 3,
   "id": "75ac7295",
   "metadata": {},
   "outputs": [
    {
     "name": "stdout",
     "output_type": "stream",
     "text": [
      "325 µs ± 6.59 µs per loop (mean ± std. dev. of 7 runs, 1,000 loops each)\n"
     ]
    }
   ],
   "source": [
    "%%timeit\n",
    "# square each element of the list in a different way\n",
    "squares = [x*x for x in numbers]"
   ]
  },
  {
   "cell_type": "markdown",
   "id": "53bff7b7",
   "metadata": {},
   "source": [
    "Do not despair: there are special libraries for fast work with numbers, and the main one is `numpy`."
   ]
  },
  {
   "cell_type": "code",
   "execution_count": 4,
   "id": "2b603985",
   "metadata": {},
   "outputs": [],
   "source": [
    "# import the numpy library\n",
    "import numpy as np"
   ]
  },
  {
   "cell_type": "markdown",
   "id": "30eccf32",
   "metadata": {},
   "source": [
    "The main object we will work with is `np.array` (actually it is called `np.ndarray`):"
   ]
  },
  {
   "cell_type": "code",
   "execution_count": 5,
   "id": "7f1a58e8",
   "metadata": {},
   "outputs": [
    {
     "data": {
      "text/plain": [
       "array([1.2, 1.2, 1.2, ..., 1.2, 1.2, 1.2])"
      ]
     },
     "execution_count": 5,
     "metadata": {},
     "output_type": "execute_result"
    }
   ],
   "source": [
    "# convert a list to a numpy array\n",
    "np_numbers = np.array(numbers)\n",
    "np_numbers"
   ]
  },
  {
   "cell_type": "markdown",
   "id": "fa1ec2d8",
   "metadata": {},
   "source": [
    "`np.array` is a special data type, similar to a list, but containing data of only one type (in this case, only real numbers)."
   ]
  },
  {
   "cell_type": "code",
   "execution_count": 6,
   "id": "053ede36",
   "metadata": {},
   "outputs": [
    {
     "data": {
      "text/plain": [
       "1.2"
      ]
     },
     "execution_count": 6,
     "metadata": {},
     "output_type": "execute_result"
    }
   ],
   "source": [
    "# output the fourth element of the array\n",
    "np_numbers[3]"
   ]
  },
  {
   "cell_type": "code",
   "execution_count": 7,
   "id": "4256f916",
   "metadata": {},
   "outputs": [
    {
     "data": {
      "text/plain": [
       "10000"
      ]
     },
     "execution_count": 7,
     "metadata": {},
     "output_type": "execute_result"
    }
   ],
   "source": [
    "# output length of the array\n",
    "len(np_numbers)"
   ]
  },
  {
   "cell_type": "markdown",
   "id": "70a44e52",
   "metadata": {},
   "source": [
    "From a mathematical point of view, `np.array` is something similar to a vector. But almost all operations are performed piecemeal. For example, squaring each element can be implemented as `np_numbers**2`."
   ]
  },
  {
   "cell_type": "code",
   "execution_count": 8,
   "id": "5fd5962b",
   "metadata": {},
   "outputs": [
    {
     "data": {
      "text/plain": [
       "array([1.44, 1.44, 1.44, ..., 1.44, 1.44, 1.44])"
      ]
     },
     "execution_count": 8,
     "metadata": {},
     "output_type": "execute_result"
    }
   ],
   "source": [
    "# square each array element\n",
    "np_squares = np_numbers**2\n",
    "np_squares"
   ]
  },
  {
   "cell_type": "markdown",
   "id": "dbeea65b",
   "metadata": {},
   "source": [
    "Let's see how fast this operation works:"
   ]
  },
  {
   "cell_type": "code",
   "execution_count": 9,
   "id": "27e09b1e",
   "metadata": {},
   "outputs": [
    {
     "name": "stdout",
     "output_type": "stream",
     "text": [
      "2.47 µs ± 10.7 ns per loop (mean ± std. dev. of 7 runs, 100,000 loops each)\n"
     ]
    }
   ],
   "source": [
    "%%timeit\n",
    "# square each array element\n",
    "np_squares = np_numbers**2"
   ]
  },
  {
   "cell_type": "markdown",
   "id": "02dc17cd",
   "metadata": {},
   "source": [
    "Here are 2 microseconds, 600 times faster! True, we are warned that this may be the consequences of caching — but in any case, working with arrays of numbers using `numpy` is much faster than using regular lists and loops.\n",
    "\n",
    "Let's look at `np.array` in more detail."
   ]
  },
  {
   "cell_type": "markdown",
   "id": "042410f2",
   "metadata": {},
   "source": [
    "### Arrays are similar to lists"
   ]
  },
  {
   "cell_type": "code",
   "execution_count": 10,
   "id": "292bbaa2",
   "metadata": {},
   "outputs": [],
   "source": [
    "# import arrays from the numpy library\n",
    "from numpy import array"
   ]
  },
  {
   "cell_type": "code",
   "execution_count": 11,
   "id": "65082755",
   "metadata": {},
   "outputs": [],
   "source": [
    "# create an array\n",
    "q = array([4, 5, 8, 9])"
   ]
  },
  {
   "cell_type": "markdown",
   "id": "ed30ac30",
   "metadata": {},
   "source": [
    "We will continue to call `np.array` arrays (unlike lists, which we don't call like this in Python). So, you can access the array elements by indexes, as well as lists."
   ]
  },
  {
   "cell_type": "code",
   "execution_count": 12,
   "id": "49c435bf",
   "metadata": {},
   "outputs": [
    {
     "data": {
      "text/plain": [
       "4"
      ]
     },
     "execution_count": 12,
     "metadata": {},
     "output_type": "execute_result"
    }
   ],
   "source": [
    "# access an array element by index\n",
    "q[0]"
   ]
  },
  {
   "cell_type": "markdown",
   "id": "458deefe",
   "metadata": {},
   "source": [
    "You can change them too"
   ]
  },
  {
   "cell_type": "code",
   "execution_count": 13,
   "id": "b8b5ff45",
   "metadata": {},
   "outputs": [
    {
     "data": {
      "text/plain": [
       "array([54,  5,  8,  9])"
      ]
     },
     "execution_count": 13,
     "metadata": {},
     "output_type": "execute_result"
    }
   ],
   "source": [
    "# change element of the array accessing it by index\n",
    "q[0] = 54\n",
    "q"
   ]
  },
  {
   "cell_type": "markdown",
   "id": "2d4a475c",
   "metadata": {},
   "source": [
    "It is possible to iterate list items, although this should be avoided if possible — `numpy` arrays are needed just to avoid using loops to perform mass operations. It will be clear below how this can be done."
   ]
  },
  {
   "cell_type": "code",
   "execution_count": 14,
   "id": "318be851",
   "metadata": {},
   "outputs": [
    {
     "name": "stdout",
     "output_type": "stream",
     "text": [
      "54\n",
      "5\n",
      "8\n",
      "9\n"
     ]
    }
   ],
   "source": [
    "# iterate array elements\n",
    "for x in q:\n",
    "    print(x)"
   ]
  },
  {
   "cell_type": "markdown",
   "id": "b5536651",
   "metadata": {},
   "source": [
    "You can make slices (but there are also tricks with them, more on that below)."
   ]
  },
  {
   "cell_type": "code",
   "execution_count": 15,
   "id": "ace5e4fd",
   "metadata": {},
   "outputs": [
    {
     "data": {
      "text/plain": [
       "array([5, 8])"
      ]
     },
     "execution_count": 15,
     "metadata": {},
     "output_type": "execute_result"
    }
   ],
   "source": [
    "# slice of array\n",
    "q[1:3]"
   ]
  },
  {
   "cell_type": "markdown",
   "id": "506b65b9",
   "metadata": {},
   "source": [
    "Let's create another array."
   ]
  },
  {
   "cell_type": "code",
   "execution_count": 16,
   "id": "77febf19",
   "metadata": {},
   "outputs": [],
   "source": [
    "# create an array\n",
    "w = array([69, 54, 6, 10])"
   ]
  },
  {
   "cell_type": "markdown",
   "id": "cb9a1833",
   "metadata": {},
   "source": [
    "All arithmetic operations on arrays are performed piecemeal. Therefore, `+` means addition, not concatenation. Unlike regular lists."
   ]
  },
  {
   "cell_type": "code",
   "execution_count": 17,
   "id": "5b70cfc6",
   "metadata": {},
   "outputs": [
    {
     "data": {
      "text/plain": [
       "array([123,  59,  14,  19])"
      ]
     },
     "execution_count": 17,
     "metadata": {},
     "output_type": "execute_result"
    }
   ],
   "source": [
    "# piecemeal addition of arrays\n",
    "q + w"
   ]
  },
  {
   "cell_type": "markdown",
   "id": "0724b948",
   "metadata": {},
   "source": [
    "If you wanted to make a concatenation, then you need to use a special function instead of an addition operator."
   ]
  },
  {
   "cell_type": "code",
   "execution_count": 18,
   "id": "93b36c25",
   "metadata": {},
   "outputs": [
    {
     "data": {
      "text/plain": [
       "array([54,  5,  8,  9, 69, 54,  6, 10])"
      ]
     },
     "execution_count": 18,
     "metadata": {},
     "output_type": "execute_result"
    }
   ],
   "source": [
    "# concatenation of arrays\n",
    "np.concatenate( [q, w] )"
   ]
  },
  {
   "cell_type": "markdown",
   "id": "6ce3554d",
   "metadata": {},
   "source": [
    "Other operations work similarly to addition. For example, multiplication:"
   ]
  },
  {
   "cell_type": "code",
   "execution_count": 19,
   "id": "47680460",
   "metadata": {},
   "outputs": [
    {
     "data": {
      "text/plain": [
       "array([3726,  270,   48,   90])"
      ]
     },
     "execution_count": 19,
     "metadata": {},
     "output_type": "execute_result"
    }
   ],
   "source": [
    "# multiplication of arrays\n",
    "q * w"
   ]
  },
  {
   "cell_type": "markdown",
   "id": "d82582b1",
   "metadata": {},
   "source": [
    "If the arrays have different lengths, then nothing will work:"
   ]
  },
  {
   "cell_type": "code",
   "execution_count": 20,
   "id": "67b4edcc",
   "metadata": {},
   "outputs": [
    {
     "ename": "ValueError",
     "evalue": "operands could not be broadcast together with shapes (4,) (3,) ",
     "output_type": "error",
     "traceback": [
      "\u001b[1;31m---------------------------------------------------------------------------\u001b[0m",
      "\u001b[1;31mValueError\u001b[0m                                Traceback (most recent call last)",
      "Cell \u001b[1;32mIn[20], line 4\u001b[0m\n\u001b[0;32m      2\u001b[0m q \u001b[38;5;241m=\u001b[39m np\u001b[38;5;241m.\u001b[39marray([\u001b[38;5;241m14\u001b[39m, \u001b[38;5;241m8\u001b[39m, \u001b[38;5;241m14\u001b[39m, \u001b[38;5;241m9\u001b[39m])\n\u001b[0;32m      3\u001b[0m w \u001b[38;5;241m=\u001b[39m np\u001b[38;5;241m.\u001b[39marray([\u001b[38;5;241m1\u001b[39m, \u001b[38;5;241m3\u001b[39m, \u001b[38;5;241m4\u001b[39m])\n\u001b[1;32m----> 4\u001b[0m q \u001b[38;5;241m+\u001b[39m w\n",
      "\u001b[1;31mValueError\u001b[0m: operands could not be broadcast together with shapes (4,) (3,) "
     ]
    }
   ],
   "source": [
    "# ERROR: attempt to add up elements of arrays with different lengths\n",
    "q = np.array([14, 8, 14, 9])\n",
    "w = np.array([1, 3, 4])\n",
    "q + w"
   ]
  },
  {
   "cell_type": "markdown",
   "id": "c3d5f190",
   "metadata": {},
   "source": [
    "You can apply various math operations to arrays."
   ]
  },
  {
   "cell_type": "code",
   "execution_count": 21,
   "id": "ee291e66",
   "metadata": {},
   "outputs": [],
   "source": [
    "# create two arrays\n",
    "x = array([1, 2, 3, 4, 5])\n",
    "y = array([4, 5, 6, 2, 1])"
   ]
  },
  {
   "cell_type": "code",
   "execution_count": 22,
   "id": "a0c62a90",
   "metadata": {},
   "outputs": [
    {
     "data": {
      "text/plain": [
       "array([  2.71828183,   7.3890561 ,  20.08553692,  54.59815003,\n",
       "       148.4131591 ])"
      ]
     },
     "execution_count": 22,
     "metadata": {},
     "output_type": "execute_result"
    }
   ],
   "source": [
    "# use exp() to each x element\n",
    "np.exp(x)"
   ]
  },
  {
   "cell_type": "markdown",
   "id": "ef339b71",
   "metadata": {},
   "source": [
    "Note that we had to use the `exp` function from `numpy`, not from regular `math`. If we had taken this function from `math`, nothing would have worked."
   ]
  },
  {
   "cell_type": "code",
   "execution_count": 23,
   "id": "cb9f0bfb",
   "metadata": {},
   "outputs": [
    {
     "ename": "TypeError",
     "evalue": "only size-1 arrays can be converted to Python scalars",
     "output_type": "error",
     "traceback": [
      "\u001b[1;31m---------------------------------------------------------------------------\u001b[0m",
      "\u001b[1;31mTypeError\u001b[0m                                 Traceback (most recent call last)",
      "Cell \u001b[1;32mIn[23], line 3\u001b[0m\n\u001b[0;32m      1\u001b[0m \u001b[38;5;28;01mimport\u001b[39;00m \u001b[38;5;21;01mmath\u001b[39;00m\n\u001b[0;32m      2\u001b[0m \u001b[38;5;66;03m# ERROR: attempt to use a function from the math library to an array\u001b[39;00m\n\u001b[1;32m----> 3\u001b[0m math\u001b[38;5;241m.\u001b[39msqrt(x)\n",
      "\u001b[1;31mTypeError\u001b[0m: only size-1 arrays can be converted to Python scalars"
     ]
    }
   ],
   "source": [
    "import math\n",
    "# ERROR: attempt to use a function from the math library to an array\n",
    "math.sqrt(x)"
   ]
  },
  {
   "cell_type": "markdown",
   "id": "42e6100d",
   "metadata": {},
   "source": [
    "In general, `numpy` has a lot of mathematical functions. Here, for example, is the square root:"
   ]
  },
  {
   "cell_type": "code",
   "execution_count": 24,
   "id": "826c49b0",
   "metadata": {},
   "outputs": [
    {
     "data": {
      "text/plain": [
       "array([1.        , 1.41421356, 1.73205081, 2.        , 2.23606798])"
      ]
     },
     "execution_count": 24,
     "metadata": {},
     "output_type": "execute_result"
    }
   ],
   "source": [
    "# square root of each array elements\n",
    "np.sqrt(x)"
   ]
  },
  {
   "cell_type": "markdown",
   "id": "75e1440e",
   "metadata": {},
   "source": [
    "### Types of elements in arrays"
   ]
  },
  {
   "cell_type": "markdown",
   "id": "5e477584",
   "metadata": {},
   "source": [
    "In general, arrays can store not only numbers."
   ]
  },
  {
   "cell_type": "code",
   "execution_count": 25,
   "id": "93db54d4",
   "metadata": {},
   "outputs": [],
   "source": [
    "# array with different data types\n",
    "mixed_array = np.array([1, 2, 3, \"Hello\"])"
   ]
  },
  {
   "cell_type": "markdown",
   "id": "8592d0fd",
   "metadata": {},
   "source": [
    "However, all elements lying in the same array must be of the same type."
   ]
  },
  {
   "cell_type": "code",
   "execution_count": 26,
   "id": "4c5bb92d",
   "metadata": {},
   "outputs": [
    {
     "data": {
      "text/plain": [
       "array(['1', '2', '3', 'Hello'], dtype='<U11')"
      ]
     },
     "execution_count": 26,
     "metadata": {},
     "output_type": "execute_result"
    }
   ],
   "source": [
    "# output array (all integers were converted to strings)\n",
    "mixed_array"
   ]
  },
  {
   "cell_type": "markdown",
   "id": "21e1f541",
   "metadata": {},
   "source": [
    "Here you can see that the numbers `1 , 2 , 3` have turned into lines `'1' , '2' , '3'`. The `dtype` parameter contains information about the type of objects stored in the array. `<U11` means a unicode string with a maximum length of 11 bytes. If you try to write a longer string, it will be truncated."
   ]
  },
  {
   "cell_type": "code",
   "execution_count": 27,
   "id": "4a0a2b84",
   "metadata": {},
   "outputs": [
    {
     "data": {
      "text/plain": [
       "'Hello, Worl'"
      ]
     },
     "execution_count": 27,
     "metadata": {},
     "output_type": "execute_result"
    }
   ],
   "source": [
    "# attempt to write a longer string to the array\n",
    "mixed_array[0] = 'Hello, World, This is a Test'\n",
    "mixed_array[0]"
   ]
  },
  {
   "cell_type": "markdown",
   "id": "1b14f1d6",
   "metadata": {},
   "source": [
    "In general, `numpy` tries not to lose information when creating an array and chooses the most \"capacious\" type."
   ]
  },
  {
   "cell_type": "code",
   "execution_count": 28,
   "id": "741d6c14",
   "metadata": {},
   "outputs": [
    {
     "data": {
      "text/plain": [
       "array([1, 2, 3])"
      ]
     },
     "execution_count": 28,
     "metadata": {},
     "output_type": "execute_result"
    }
   ],
   "source": [
    "# array of integers\n",
    "np.array([1, 2, 3])"
   ]
  },
  {
   "cell_type": "code",
   "execution_count": 29,
   "id": "d9769f32",
   "metadata": {},
   "outputs": [
    {
     "data": {
      "text/plain": [
       "array([1., 2., 3., 5.])"
      ]
     },
     "execution_count": 29,
     "metadata": {},
     "output_type": "execute_result"
    }
   ],
   "source": [
    "# array of real numbers\n",
    "array([1, 2, 3, 5.])"
   ]
  },
  {
   "cell_type": "markdown",
   "id": "8a125c61",
   "metadata": {},
   "source": [
    "All the numbers have turned into real numbers, because there is a real number in the original list from which the\n",
    "array is made."
   ]
  },
  {
   "cell_type": "markdown",
   "id": "0c5fb6d2",
   "metadata": {},
   "source": [
    "### Slices"
   ]
  },
  {
   "cell_type": "markdown",
   "id": "e9e63772",
   "metadata": {},
   "source": [
    "Let's look closely at the slices."
   ]
  },
  {
   "cell_type": "code",
   "execution_count": 30,
   "id": "88cbb2fc",
   "metadata": {},
   "outputs": [
    {
     "data": {
      "text/plain": [
       "array([2.2, 3.3])"
      ]
     },
     "execution_count": 30,
     "metadata": {},
     "output_type": "execute_result"
    }
   ],
   "source": [
    "x = array([1.1, 2.2, 3.3, 4.4, 5.5]) # create array\n",
    "s = x[1:3]                           # make slice of the array\n",
    "s                                    # outpit the slice"
   ]
  },
  {
   "cell_type": "markdown",
   "id": "9b24515c",
   "metadata": {},
   "source": [
    "So far, everything is going as usual: we have created a slice starting with an element with index 1 (that is, the second element, numbering from zero) and ending with an element with index 3 (the last element is always not included).\n",
    "\n",
    "Now let's try to change the value of the element in *the slice*:"
   ]
  },
  {
   "cell_type": "code",
   "execution_count": 31,
   "id": "f1f276b5",
   "metadata": {},
   "outputs": [
    {
     "data": {
      "text/plain": [
       "array([100. ,   3.3])"
      ]
     },
     "execution_count": 31,
     "metadata": {},
     "output_type": "execute_result"
    }
   ],
   "source": [
    "# change element of slice and output it\n",
    "s[0] = 100\n",
    "s"
   ]
  },
  {
   "cell_type": "markdown",
   "id": "09f0f34e",
   "metadata": {},
   "source": [
    "What do you think happened to the original array `x`?"
   ]
  },
  {
   "cell_type": "code",
   "execution_count": 32,
   "id": "8f6faf0b",
   "metadata": {},
   "outputs": [
    {
     "data": {
      "text/plain": [
       "array([  1.1, 100. ,   3.3,   4.4,   5.5])"
      ]
     },
     "execution_count": 32,
     "metadata": {},
     "output_type": "execute_result"
    }
   ],
   "source": [
    "# output original array (it has changed)\n",
    "x"
   ]
  },
  {
   "cell_type": "markdown",
   "id": "f264cfc7",
   "metadata": {},
   "source": [
    "It's changed too! We used to see a similar thing in situations where one list had several names (that is, several variables referred to it), but creating a slice earlier led to copying information. It turns out that in `numpy`, creating a slice does not copy anything: a slice is not a new array containing the same elements as the old one, but a so-called *view*, that is, a kind of interface to the old array. Roughly speaking, our `s` slice just remembers that \"its\" element with index 0 is actually an element with index 1 from the original array `x`, and its element with index 1 is actually an element with index 2 from the original array, and it has no other elements. You can think of the slice as such special glasses through which we look at the source array.\n",
    "\n",
    "There are two advantages of this approach: firstly, the uninitiated ones will break their heads trying to understand what is going on here, and secondly, if we have a huge array of data, then we will not have to spend resources to copy it if we need to make a slice. There are disadvantages too, but they are a continuation of the first of the advantages.\n",
    "\n",
    "If you still need to make a copy of the array, you need to use the `copy()` method."
   ]
  },
  {
   "cell_type": "code",
   "execution_count": 33,
   "id": "087dc753",
   "metadata": {},
   "outputs": [
    {
     "data": {
      "text/plain": [
       "array([  1.1, 100. ,   3.3,   4.4,   5.5])"
      ]
     },
     "execution_count": 33,
     "metadata": {},
     "output_type": "execute_result"
    }
   ],
   "source": [
    "y = x.copy() # copy array x to array y\n",
    "y            # output the y array"
   ]
  },
  {
   "cell_type": "code",
   "execution_count": 34,
   "id": "6a3a7a54",
   "metadata": {},
   "outputs": [
    {
     "data": {
      "text/plain": [
       "array([  1.1, 100. ,   3.3,   4.4,   5.5])"
      ]
     },
     "execution_count": 34,
     "metadata": {},
     "output_type": "execute_result"
    }
   ],
   "source": [
    "x            # output the x array"
   ]
  },
  {
   "cell_type": "code",
   "execution_count": 35,
   "id": "3ac2c613",
   "metadata": {},
   "outputs": [],
   "source": [
    "y[0] = 12    # change the first element of the y array"
   ]
  },
  {
   "cell_type": "code",
   "execution_count": 36,
   "id": "8cc9b9d2",
   "metadata": {},
   "outputs": [
    {
     "data": {
      "text/plain": [
       "array([ 12. , 100. ,   3.3,   4.4,   5.5])"
      ]
     },
     "execution_count": 36,
     "metadata": {},
     "output_type": "execute_result"
    }
   ],
   "source": [
    "y            # output updated y array"
   ]
  },
  {
   "cell_type": "code",
   "execution_count": 37,
   "id": "91aff766",
   "metadata": {},
   "outputs": [
    {
     "data": {
      "text/plain": [
       "array([  1.1, 100. ,   3.3,   4.4,   5.5])"
      ]
     },
     "execution_count": 37,
     "metadata": {},
     "output_type": "execute_result"
    }
   ],
   "source": [
    "x            # output x array (it has not changed)"
   ]
  },
  {
   "cell_type": "markdown",
   "id": "de459396",
   "metadata": {},
   "source": [
    "### Advanced indexing"
   ]
  },
  {
   "cell_type": "markdown",
   "id": "6f269db4",
   "metadata": {},
   "source": [
    "In addition to insidious slices, there are still some possibilities for creating new arrays from old ones. For example, you can select elements with the necessary numbers from the array like this:"
   ]
  },
  {
   "cell_type": "code",
   "execution_count": 38,
   "id": "2aecd386",
   "metadata": {},
   "outputs": [
    {
     "data": {
      "text/plain": [
       "array([  1.1, 100. ,   3.3,   4.4,   5.5])"
      ]
     },
     "execution_count": 38,
     "metadata": {},
     "output_type": "execute_result"
    }
   ],
   "source": [
    "# output the x array\n",
    "x"
   ]
  },
  {
   "cell_type": "code",
   "execution_count": 39,
   "id": "b95ef937",
   "metadata": {},
   "outputs": [
    {
     "data": {
      "text/plain": [
       "array([100. ,   4.4,   5.5])"
      ]
     },
     "execution_count": 39,
     "metadata": {},
     "output_type": "execute_result"
    }
   ],
   "source": [
    "# select elements from array x to array y by their indexes\n",
    "y = x[ [1, 3, 4] ]\n",
    "y"
   ]
  },
  {
   "cell_type": "markdown",
   "id": "091db394",
   "metadata": {},
   "source": [
    "You can even use the same numbers."
   ]
  },
  {
   "cell_type": "code",
   "execution_count": 40,
   "id": "c8223962",
   "metadata": {},
   "outputs": [
    {
     "data": {
      "text/plain": [
       "array([100., 100., 100.])"
      ]
     },
     "execution_count": 40,
     "metadata": {},
     "output_type": "execute_result"
    }
   ],
   "source": [
    "# select one element from array x multiple times\n",
    "y = x[ [1, 1, 1] ]\n",
    "y"
   ]
  },
  {
   "cell_type": "markdown",
   "id": "6ceb1f3f",
   "metadata": {},
   "source": [
    "By the way, the object created in this way is already an honest copy of the original one, and not some insidious kind."
   ]
  },
  {
   "cell_type": "code",
   "execution_count": 41,
   "id": "1c5c8c8c",
   "metadata": {},
   "outputs": [
    {
     "data": {
      "text/plain": [
       "array([123., 100., 100.])"
      ]
     },
     "execution_count": 41,
     "metadata": {},
     "output_type": "execute_result"
    }
   ],
   "source": [
    "# change the first element of the y array\n",
    "y[0] = 123\n",
    "y"
   ]
  },
  {
   "cell_type": "code",
   "execution_count": 42,
   "id": "00734964",
   "metadata": {},
   "outputs": [
    {
     "data": {
      "text/plain": [
       "array([  1.1, 100. ,   3.3,   4.4,   5.5])"
      ]
     },
     "execution_count": 42,
     "metadata": {},
     "output_type": "execute_result"
    }
   ],
   "source": [
    "# x array has not changed\n",
    "x"
   ]
  },
  {
   "cell_type": "markdown",
   "id": "6fdf5352",
   "metadata": {},
   "source": [
    "There is another tricky way to select elements from an array. Let's say we want to select only those elements that have some characteristic - say, less than 50. It would be possible to use a loop with a condition or a similar list comprehension, but `numpy` uses a different syntax."
   ]
  },
  {
   "cell_type": "code",
   "execution_count": 43,
   "id": "5bc02b87",
   "metadata": {},
   "outputs": [
    {
     "data": {
      "text/plain": [
       "array([1.1, 3.3, 4.4, 5.5])"
      ]
     },
     "execution_count": 43,
     "metadata": {},
     "output_type": "execute_result"
    }
   ],
   "source": [
    "# select only those elements which are < 50\n",
    "y = x[ x < 50 ]\n",
    "y"
   ]
  },
  {
   "cell_type": "code",
   "execution_count": 44,
   "id": "75536d8b",
   "metadata": {},
   "outputs": [
    {
     "data": {
      "text/plain": [
       "array([  1.1, 100. ,   3.3,   4.4,   5.5])"
      ]
     },
     "execution_count": 44,
     "metadata": {},
     "output_type": "execute_result"
    }
   ],
   "source": [
    "# x array has not changed\n",
    "x"
   ]
  },
  {
   "cell_type": "markdown",
   "id": "aa0ebbac",
   "metadata": {},
   "source": [
    "How does it work? Very simple. (OK, not really.) To begin with, what is `x < 50`? This is the result of applying the \"compare with 50\" operation to each element of the array. That is, it is a new array."
   ]
  },
  {
   "cell_type": "code",
   "execution_count": 45,
   "id": "d061f171",
   "metadata": {},
   "outputs": [
    {
     "data": {
      "text/plain": [
       "array([ True, False,  True,  True,  True])"
      ]
     },
     "execution_count": 45,
     "metadata": {},
     "output_type": "execute_result"
    }
   ],
   "source": [
    "# new array of boolean values\n",
    "x < 50"
   ]
  },
  {
   "cell_type": "markdown",
   "id": "1a2fb5de",
   "metadata": {},
   "source": [
    "If there is `True` in some place, it means that there is an element in the corresponding place in `x` that satisfies the condition, and if `False`, it does not satisfy.\n",
    "\n",
    "Now you can try substituting an array of `True` and `False` as an index in `x`."
   ]
  },
  {
   "cell_type": "code",
   "execution_count": 46,
   "id": "a6366a45",
   "metadata": {},
   "outputs": [
    {
     "data": {
      "text/plain": [
       "array([  1.1, 100. ,   5.5])"
      ]
     },
     "execution_count": 46,
     "metadata": {},
     "output_type": "execute_result"
    }
   ],
   "source": [
    "# output array with a logic mask\n",
    "x[ array([True, True, False, False, True]) ]"
   ]
  },
  {
   "cell_type": "markdown",
   "id": "7e11c455",
   "metadata": {},
   "source": [
    "This thing selects exactly those elements whose places are `True` — that is, exactly those for which the condition was met. What we need!\n",
    "\n",
    "And this is how you can check several conditions at the same time:"
   ]
  },
  {
   "cell_type": "code",
   "execution_count": 47,
   "id": "098cf96d",
   "metadata": {},
   "outputs": [
    {
     "data": {
      "text/plain": [
       "array([3.3, 4.4, 5.5])"
      ]
     },
     "execution_count": 47,
     "metadata": {},
     "output_type": "execute_result"
    }
   ],
   "source": [
    "# output array with a logic mask of two conditions\n",
    "x[ (x < 50) & (x > 2) ]"
   ]
  },
  {
   "cell_type": "markdown",
   "id": "f7ce8833",
   "metadata": {},
   "source": [
    "Parentheses are very important, otherwise nothing will work. The `&` operation corresponds to the logical AND and again is performed piecemeal."
   ]
  },
  {
   "cell_type": "code",
   "execution_count": 48,
   "id": "4eac4e02",
   "metadata": {},
   "outputs": [
    {
     "data": {
      "text/plain": [
       "array([False, False,  True,  True,  True])"
      ]
     },
     "execution_count": 48,
     "metadata": {},
     "output_type": "execute_result"
    }
   ],
   "source": [
    "# logic mask of two conditions (using logical and)\n",
    "(x < 50) & (x > 2)"
   ]
  },
  {
   "cell_type": "markdown",
   "id": "ce94fe1a",
   "metadata": {},
   "source": [
    "For logical OR we would use `|`, and for negation `~`."
   ]
  },
  {
   "cell_type": "code",
   "execution_count": 49,
   "id": "dc9ffe80",
   "metadata": {},
   "outputs": [
    {
     "data": {
      "text/plain": [
       "array([ True,  True,  True,  True,  True])"
      ]
     },
     "execution_count": 49,
     "metadata": {},
     "output_type": "execute_result"
    }
   ],
   "source": [
    "# logic mask of two conditions (using logical or)\n",
    "(x < 50) | (x > 2)"
   ]
  },
  {
   "cell_type": "code",
   "execution_count": 50,
   "id": "39c7bf5f",
   "metadata": {},
   "outputs": [
    {
     "data": {
      "text/plain": [
       "array([False,  True, False, False, False])"
      ]
     },
     "execution_count": 50,
     "metadata": {},
     "output_type": "execute_result"
    }
   ],
   "source": [
    "# logic mask (using logical not)\n",
    "~ (x < 50)"
   ]
  },
  {
   "cell_type": "markdown",
   "id": "6fc89b3f",
   "metadata": {},
   "source": [
    "The result of such a choice is again a *view*, and this is very convenient, because it allows you to replace some elements with others depending on the conditions and thus get rid of if statements."
   ]
  },
  {
   "cell_type": "code",
   "execution_count": 51,
   "id": "ec88cef3",
   "metadata": {},
   "outputs": [
    {
     "data": {
      "text/plain": [
       "array([  1.1, 100. ,   3.3,   4.4,   5.5])"
      ]
     },
     "execution_count": 51,
     "metadata": {},
     "output_type": "execute_result"
    }
   ],
   "source": [
    "# output original array\n",
    "x"
   ]
  },
  {
   "cell_type": "code",
   "execution_count": 52,
   "id": "01c74fdb",
   "metadata": {},
   "outputs": [
    {
     "data": {
      "text/plain": [
       "array([1.1, 0. , 3.3, 4.4, 5.5])"
      ]
     },
     "execution_count": 52,
     "metadata": {},
     "output_type": "execute_result"
    }
   ],
   "source": [
    "# replace all elements larger than 50 with 0\n",
    "x[ x>50 ] = 0\n",
    "x"
   ]
  },
  {
   "cell_type": "markdown",
   "id": "d8f6d69d",
   "metadata": {},
   "source": [
    "By the way, to find out if it is true that two arrays are equal (including that they consist of the same elements in the same order), you can no longer use `==` — after all, this is also an piecemeal operation!"
   ]
  },
  {
   "cell_type": "code",
   "execution_count": 53,
   "id": "bdfbc564",
   "metadata": {},
   "outputs": [
    {
     "data": {
      "text/plain": [
       "array([ True,  True,  True])"
      ]
     },
     "execution_count": 53,
     "metadata": {},
     "output_type": "execute_result"
    }
   ],
   "source": [
    "# piecemeal comparison of arrays elements\n",
    "np.array([1, 2, 3]) == np.array([1, 2, 3])"
   ]
  },
  {
   "cell_type": "markdown",
   "id": "d93a5ef7",
   "metadata": {},
   "source": [
    "To understand whether it is true that arrays are equal, you can use the following syntax:"
   ]
  },
  {
   "cell_type": "code",
   "execution_count": 54,
   "id": "6bd11b57",
   "metadata": {},
   "outputs": [
    {
     "data": {
      "text/plain": [
       "True"
      ]
     },
     "execution_count": 54,
     "metadata": {},
     "output_type": "execute_result"
    }
   ],
   "source": [
    "# strict comparison of arrays\n",
    "(np.array([1, 2, 3]) == np.array([1, 2, 3])).all()"
   ]
  },
  {
   "cell_type": "markdown",
   "id": "321b214e",
   "metadata": {},
   "source": [
    "Here we first compare arrays piecemeal, and then apply the `all()` method to the result, which returns true only if all elements are true. This approach is often used, although it has its pitfalls (read on [stackoverflow](http://stackoverflow.com/questions/10580676/comparing-two-numpy-arrays-for-equality-element-wise)). There is also a specialized function for checking for equality:"
   ]
  },
  {
   "cell_type": "code",
   "execution_count": 55,
   "id": "c2eaa02b",
   "metadata": {},
   "outputs": [
    {
     "data": {
      "text/plain": [
       "True"
      ]
     },
     "execution_count": 55,
     "metadata": {},
     "output_type": "execute_result"
    }
   ],
   "source": [
    "# function for checking arrays for equality\n",
    "np.array_equal(np.array([1, 2, 3]), np.array([1, 2, 3]))"
   ]
  },
  {
   "cell_type": "markdown",
   "id": "70d9c9eb",
   "metadata": {},
   "source": [
    "### Plotting in matplotlib"
   ]
  },
  {
   "cell_type": "markdown",
   "id": "9df8641b",
   "metadata": {},
   "source": [
    "There are many ways to build graphs in Python. We will now look at the simplest of them, and later we will talk about more complex ones. To do this, we need the `matplotlib` library, or rather its part called `pyplot`. The standard way to import it looks like this:"
   ]
  },
  {
   "cell_type": "code",
   "execution_count": 56,
   "id": "21b8215a",
   "metadata": {},
   "outputs": [],
   "source": [
    "# importing the pyplot module of matplotlib library\n",
    "import matplotlib.pyplot as plt"
   ]
  },
  {
   "cell_type": "markdown",
   "id": "ece92137",
   "metadata": {},
   "source": [
    "In order for the graphs to be drawn directly in the laptop, you need to give this magic command:"
   ]
  },
  {
   "cell_type": "code",
   "execution_count": 57,
   "id": "c86d6c99",
   "metadata": {},
   "outputs": [],
   "source": [
    "%matplotlib inline"
   ]
  },
  {
   "cell_type": "markdown",
   "id": "b6d38f85",
   "metadata": {},
   "source": [
    "The simplest drawing is the `plot` function, it takes as input a list of x-coordinates, a list of y-coordinates and draws the corresponding picture either in the form of a polyline:"
   ]
  },
  {
   "cell_type": "code",
   "execution_count": 58,
   "id": "58b23cfd",
   "metadata": {},
   "outputs": [
    {
     "data": {
      "text/plain": [
       "[<matplotlib.lines.Line2D at 0x1e41a190310>]"
      ]
     },
     "execution_count": 58,
     "metadata": {},
     "output_type": "execute_result"
    },
    {
     "data": {
      "image/png": "[encoded data removed]",
      "text/plain": [
       "<Figure size 640x480 with 1 Axes>"
      ]
     },
     "metadata": {},
     "output_type": "display_data"
    }
   ],
   "source": [
    "# plotting a graph defined by two lists of coordinates\n",
    "plt.plot([1, 2, 3, 4], [1, 4, 9, 16])"
   ]
  },
  {
   "cell_type": "markdown",
   "id": "811874e8",
   "metadata": {},
   "source": [
    "or as individual dots:"
   ]
  },
  {
   "cell_type": "code",
   "execution_count": 59,
   "id": "f7345611",
   "metadata": {},
   "outputs": [
    {
     "data": {
      "text/plain": [
       "[<matplotlib.lines.Line2D at 0x1e41a369dd0>]"
      ]
     },
     "execution_count": 59,
     "metadata": {},
     "output_type": "execute_result"
    },
    {
     "data": {
      "image/png": "[encoded data removed]",
      "text/plain": [
       "<Figure size 640x480 with 1 Axes>"
      ]
     },
     "metadata": {},
     "output_type": "display_data"
    }
   ],
   "source": [
    "# plotting a graph in the form of distinct points\n",
    "plt.plot([1, 2, 3, 4], [1, 4, 9, 16], 'o')"
   ]
  },
  {
   "cell_type": "markdown",
   "id": "baadf333",
   "metadata": {},
   "source": [
    "Or a bunch of other ways."
   ]
  },
  {
   "cell_type": "code",
   "execution_count": 60,
   "id": "4a37df5e",
   "metadata": {},
   "outputs": [
    {
     "data": {
      "text/plain": [
       "[<matplotlib.lines.Line2D at 0x1e41a254490>]"
      ]
     },
     "execution_count": 60,
     "metadata": {},
     "output_type": "execute_result"
    },
    {
     "data": {
      "image/png": "[encoded data removed]",
      "text/plain": [
       "<Figure size 640x480 with 1 Axes>"
      ]
     },
     "metadata": {},
     "output_type": "display_data"
    }
   ],
   "source": [
    "# plotting a graph in the form of points connected by lines\n",
    "plt.plot([1, 2, 3, 4], [1, 4, 9, 16], '-o')"
   ]
  },
  {
   "cell_type": "markdown",
   "id": "9bf9b2ca",
   "metadata": {},
   "source": [
    "Let's see how `numpy` works in conjunction with `matplotlib.pyplot`. In general, it's all very similar to *MATLAB*."
   ]
  },
  {
   "cell_type": "code",
   "execution_count": 61,
   "id": "a382bf42",
   "metadata": {},
   "outputs": [],
   "source": [
    "# array of 200 real numbers in [-5; 5] range\n",
    "x = np.linspace(-5, 5, 200)"
   ]
  },
  {
   "cell_type": "code",
   "execution_count": 62,
   "id": "df1f0e52",
   "metadata": {},
   "outputs": [
    {
     "data": {
      "text/plain": [
       "200"
      ]
     },
     "execution_count": 62,
     "metadata": {},
     "output_type": "execute_result"
    }
   ],
   "source": [
    "# length of new array\n",
    "len(x)"
   ]
  },
  {
   "cell_type": "code",
   "execution_count": 63,
   "id": "5e7c7d2f",
   "metadata": {},
   "outputs": [
    {
     "data": {
      "text/plain": [
       "array([-5.        , -4.94974874, -4.89949749, -4.84924623, -4.79899497])"
      ]
     },
     "execution_count": 63,
     "metadata": {},
     "output_type": "execute_result"
    }
   ],
   "source": [
    "# the first 5 elements of the array x\n",
    "x[:5]"
   ]
  },
  {
   "cell_type": "markdown",
   "id": "5ec1f873",
   "metadata": {},
   "source": [
    "That's how you can draw a parabola:"
   ]
  },
  {
   "cell_type": "code",
   "execution_count": 64,
   "id": "ed0cf961",
   "metadata": {},
   "outputs": [
    {
     "data": {
      "text/plain": [
       "[<matplotlib.lines.Line2D at 0x1e41b5d1e50>]"
      ]
     },
     "execution_count": 64,
     "metadata": {},
     "output_type": "execute_result"
    },
    {
     "data": {
      "image/png": "[encoded data removed]",
      "text/plain": [
       "<Figure size 640x480 with 1 Axes>"
      ]
     },
     "metadata": {},
     "output_type": "display_data"
    }
   ],
   "source": [
    "# draw a f(x)=x**2 graph\n",
    "plt.plot(x, x*x)"
   ]
  },
  {
   "cell_type": "markdown",
   "id": "7f2bd9e6",
   "metadata": {},
   "source": [
    "Indeed, `x**2` is an array whose elements are the squares of the numbers lying in `x`. So, by constructing a graph consisting of points whose x-coordinates are written in `x`, and y-coordinates with `x*x`, we will construct a graph of the function `y=x^2`.\n",
    "\n",
    "And here, for example, is a sine wave:"
   ]
  },
  {
   "cell_type": "code",
   "execution_count": 65,
   "id": "e53d2f84",
   "metadata": {},
   "outputs": [
    {
     "data": {
      "text/plain": [
       "[<matplotlib.lines.Line2D at 0x1e41b66ff10>]"
      ]
     },
     "execution_count": 65,
     "metadata": {},
     "output_type": "execute_result"
    },
    {
     "data": {
      "image/png": "[encoded data removed]",
      "text/plain": [
       "<Figure size 640x480 with 1 Axes>"
      ]
     },
     "metadata": {},
     "output_type": "display_data"
    }
   ],
   "source": [
    "# draw a f(x)=sin(x) graph\n",
    "plt.plot(x, np.sin(x))"
   ]
  },
  {
   "cell_type": "markdown",
   "id": "79e5e8d9",
   "metadata": {},
   "source": [
    "And here something more complicated:"
   ]
  },
  {
   "cell_type": "code",
   "execution_count": 66,
   "id": "e9cfc630",
   "metadata": {},
   "outputs": [
    {
     "data": {
      "text/plain": [
       "[<matplotlib.lines.Line2D at 0x1e41b6f1150>]"
      ]
     },
     "execution_count": 66,
     "metadata": {},
     "output_type": "execute_result"
    },
    {
     "data": {
      "image/png": "[encoded data removed]",
      "text/plain": [
       "<Figure size 640x480 with 1 Axes>"
      ]
     },
     "metadata": {},
     "output_type": "display_data"
    }
   ],
   "source": [
    "# draw a f(x)=sin(x**2) graph\n",
    "plt.plot(x, np.sin(x**2))"
   ]
  },
  {
   "cell_type": "markdown",
   "id": "a18aedda",
   "metadata": {},
   "source": [
    "This is how you can build several graphs and make signatures."
   ]
  },
  {
   "cell_type": "code",
   "execution_count": 67,
   "id": "fef02378",
   "metadata": {},
   "outputs": [
    {
     "data": {
      "text/plain": [
       "<matplotlib.legend.Legend at 0x1e41b721950>"
      ]
     },
     "execution_count": 67,
     "metadata": {},
     "output_type": "execute_result"
    },
    {
     "data": {
      "image/png": "[encoded data removed]",
      "text/plain": [
       "<Figure size 640x480 with 1 Axes>"
      ]
     },
     "metadata": {},
     "output_type": "display_data"
    }
   ],
   "source": [
    "# print multiple graphs in one window\n",
    "x = np.linspace(-1,1,201)\n",
    "plt.plot(x,x**2, label = '$y = x^2$')\n",
    "plt.plot(x,x**3, label = '$y = x^3$')\n",
    "plt.legend(loc='best')"
   ]
  },
  {
   "cell_type": "markdown",
   "id": "4a362122",
   "metadata": {},
   "source": [
    "The `$` sign in `label` is used to write formulas — this is done in [LaTeX](https://en.wikibooks.org/wiki/LaTeX/Mathematics)-notation and dollars there denote the beginning and end of the formula. (By the way, in IPython Notebook, you can also write\n",
    "formulas in LaTeX notation in `Markdown` type cells.)\n",
    "\n",
    "Of course, we could get `x` and `y` not as a result of calculating the values of some function, but from somewhere outside. Let's take random numbers as an example."
   ]
  },
  {
   "cell_type": "code",
   "execution_count": 68,
   "id": "e8de7c90",
   "metadata": {},
   "outputs": [
    {
     "data": {
      "text/plain": [
       "[<matplotlib.lines.Line2D at 0x1e41b910b10>]"
      ]
     },
     "execution_count": 68,
     "metadata": {},
     "output_type": "execute_result"
    },
    {
     "data": {
      "image/png": "[encoded data removed]",
      "text/plain": [
       "<Figure size 640x480 with 1 Axes>"
      ]
     },
     "metadata": {},
     "output_type": "display_data"
    }
   ],
   "source": [
    "x = np.random.random(100)  # generate 100 random numbers in x and y arrays\n",
    "y = np.random.random(100)\n",
    "plt.plot(x, y, 'o')        # plotting graph by (x, y) points "
   ]
  },
  {
   "cell_type": "markdown",
   "id": "603391c5",
   "metadata": {},
   "source": [
    "There is also a specialized function for creating a *scatter plot*."
   ]
  },
  {
   "cell_type": "code",
   "execution_count": 69,
   "id": "8c83db9d",
   "metadata": {},
   "outputs": [
    {
     "data": {
      "text/plain": [
       "<matplotlib.collections.PathCollection at 0x1e41b9422d0>"
      ]
     },
     "execution_count": 69,
     "metadata": {},
     "output_type": "execute_result"
    },
    {
     "data": {
      "image/png": "[encoded data removed]",
      "text/plain": [
       "<Figure size 640x480 with 1 Axes>"
      ]
     },
     "metadata": {},
     "output_type": "display_data"
    }
   ],
   "source": [
    "# print graph of distinct dots\n",
    "plt.scatter(x,y)"
   ]
  },
  {
   "cell_type": "markdown",
   "id": "9029523b",
   "metadata": {},
   "source": [
    "You can also build a histogram."
   ]
  },
  {
   "cell_type": "code",
   "execution_count": 70,
   "id": "14c54dbf",
   "metadata": {},
   "outputs": [
    {
     "data": {
      "text/plain": [
       "(array([18.,  9.,  9.,  9., 12.,  8.,  7.,  8., 10., 10.]),\n",
       " array([0.00316628, 0.10237129, 0.20157629, 0.30078129, 0.39998629,\n",
       "        0.4991913 , 0.5983963 , 0.6976013 , 0.79680631, 0.89601131,\n",
       "        0.99521631]),\n",
       " <BarContainer object of 10 artists>)"
      ]
     },
     "execution_count": 70,
     "metadata": {},
     "output_type": "execute_result"
    },
    {
     "data": {
      "image/png": "[encoded data removed]",
      "text/plain": [
       "<Figure size 640x480 with 1 Axes>"
      ]
     },
     "metadata": {},
     "output_type": "display_data"
    }
   ],
   "source": [
    "# build a histogram of x\n",
    "plt.hist(x)"
   ]
  },
  {
   "cell_type": "markdown",
   "id": "d5537041",
   "metadata": {},
   "source": [
    "You can build three-dimensional pictures, but magic is already needed here and I won't go into details."
   ]
  },
  {
   "cell_type": "code",
   "execution_count": 71,
   "id": "a1ccee5c",
   "metadata": {},
   "outputs": [
    {
     "data": {
      "text/plain": [
       "<Figure size 640x480 with 0 Axes>"
      ]
     },
     "metadata": {},
     "output_type": "display_data"
    }
   ],
   "source": [
    "import matplotlib.pyplot as plt\n",
    "from mpl_toolkits.mplot3d import Axes3D\n",
    "fig = plt.figure()"
   ]
  },
  {
   "cell_type": "code",
   "execution_count": 72,
   "id": "c990ed87",
   "metadata": {},
   "outputs": [
    {
     "data": {
      "image/png": "[encoded data removed]",
      "text/plain": [
       "<Figure size 640x480 with 1 Axes>"
      ]
     },
     "execution_count": 72,
     "metadata": {},
     "output_type": "execute_result"
    }
   ],
   "source": [
    "%matplotlib inline\n",
    "x,y = np.mgrid[-1:1:0.01, -1:1:0.01]\n",
    "ax = fig.add_subplot(111, projection='3d')\n",
    "ax.plot_surface(x,y,x**2+y**2)\n",
    "fig"
   ]
  },
  {
   "cell_type": "markdown",
   "id": "372b1402",
   "metadata": {},
   "source": [
    "Finally, you can build interactive pictures!"
   ]
  },
  {
   "cell_type": "code",
   "execution_count": 73,
   "id": "9980f9a2",
   "metadata": {},
   "outputs": [],
   "source": [
    "from ipywidgets import interact, interactive, fixed\n",
    "import ipywidgets as widgets\n",
    "import numpy as np\n",
    "import matplotlib.pyplot as plt"
   ]
  },
  {
   "cell_type": "code",
   "execution_count": 74,
   "id": "707bd2b5",
   "metadata": {},
   "outputs": [],
   "source": [
    "%matplotlib inline"
   ]
  },
  {
   "cell_type": "code",
   "execution_count": 75,
   "id": "b4bd988e",
   "metadata": {},
   "outputs": [],
   "source": [
    "#create interactive graph\n",
    "def plot_pic(a, b):\n",
    "    x = np.linspace(-3,3,200)\n",
    "    plt.plot(x, np.sin(x*a+b))"
   ]
  },
  {
   "cell_type": "code",
   "execution_count": 76,
   "id": "400de74a",
   "metadata": {},
   "outputs": [
    {
     "data": {
      "application/vnd.jupyter.widget-view+json": {
       "model_id": "a13653d5c88447ea9b1c49fb5cff7560",
       "version_major": 2,
       "version_minor": 0
      },
      "text/plain": [
       "interactive(children=(Dropdown(description='a', options=(0, 3, 0.1), value=0), Dropdown(description='b', optio…"
      ]
     },
     "metadata": {},
     "output_type": "display_data"
    },
    {
     "data": {
      "text/plain": [
       "<function __main__.plot_pic(a, b)>"
      ]
     },
     "execution_count": 76,
     "metadata": {},
     "output_type": "execute_result"
    }
   ],
   "source": [
    "# set two sliders for interactive graph\n",
    "interact(plot_pic, a=[0, 3, 0.1], b=[0, 3, 0.1])"
   ]
  },
  {
   "cell_type": "markdown",
   "id": "fc764831",
   "metadata": {},
   "source": [
    "The `interact` function creates several sliders and allows you to use them to set parameters for the function (in this case `plot_pic`) that builds the graph."
   ]
  },
  {
   "cell_type": "markdown",
   "id": "1392b8a5",
   "metadata": {},
   "source": [
    "*This picture will not be interactive when viewing IPython Notebook, but if you download it and run it on your computer, it will be there.*"
   ]
  },
  {
   "cell_type": "markdown",
   "id": "fc911901",
   "metadata": {},
   "source": [
    "You can also call `interact` like this:"
   ]
  },
  {
   "cell_type": "code",
   "execution_count": 77,
   "id": "050a098b",
   "metadata": {},
   "outputs": [
    {
     "data": {
      "application/vnd.jupyter.widget-view+json": {
       "model_id": "e0aa3c9dde1e4311ab6c4cf29c4b7933",
       "version_major": 2,
       "version_minor": 0
      },
      "text/plain": [
       "interactive(children=(Dropdown(description='a', options=(0, 3, 0.1), value=0), Dropdown(description='b', optio…"
      ]
     },
     "metadata": {},
     "output_type": "display_data"
    }
   ],
   "source": [
    "# create interactive graph with sliders\n",
    "@interact(a=[0, 3, 0.1], b=[0, 3, 0.1])\n",
    "def plot_pic(a, b):\n",
    "    x = np.linspace(-3,3,200)\n",
    "    plt.plot(x, np.sin(x*a+b))"
   ]
  }
 ],
 "metadata": {
  "kernelspec": {
   "display_name": "Python 3 (ipykernel)",
   "language": "python",
   "name": "python3"
  },
  "language_info": {
   "codemirror_mode": {
    "name": "ipython",
    "version": 3
   },
   "file_extension": ".py",
   "mimetype": "text/x-python",
   "name": "python",
   "nbconvert_exporter": "python",
   "pygments_lexer": "ipython3",
   "version": "3.11.4"
  }
 },
 "nbformat": 4,
 "nbformat_minor": 5
}
