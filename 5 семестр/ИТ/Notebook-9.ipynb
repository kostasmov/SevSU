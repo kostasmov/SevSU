{
 "cells": [
  {
   "cell_type": "markdown",
   "id": "d4611fc9",
   "metadata": {},
   "source": [
    "# Notebook №9. Information Technologies"
   ]
  },
  {
   "cell_type": "markdown",
   "id": "ed67ba95",
   "metadata": {},
   "source": [
    "Performed by Movenko Konstantin, IS/b-21-2-o"
   ]
  },
  {
   "cell_type": "markdown",
   "id": "90c3bf83",
   "metadata": {},
   "source": [
    "## Working with the Web Resources API using XML"
   ]
  },
  {
   "cell_type": "code",
   "execution_count": 1,
   "id": "08f3e776",
   "metadata": {},
   "outputs": [],
   "source": [
    "from bs4 import BeautifulSoup"
   ]
  },
  {
   "cell_type": "markdown",
   "id": "89afe912",
   "metadata": {},
   "source": [
    "### API and XML"
   ]
  },
  {
   "cell_type": "markdown",
   "id": "0db37670",
   "metadata": {},
   "source": [
    "Analyzing web pages and extracting information from them, we are trying to write a program that would act like a person. It can be difficult. Fortunately, more and more often various sites offer information that can be easily processed not only by a person, but also by another program. This is called the API — application program interface. A normal interface is a way for a person to interact with a program, and an API is a way for one program to interact with another. For example, your Python script with a remote web server.\n",
    "\n",
    "HTML is used to store web pages that people read. To store arbitrary structured data exchanged between programs, other languages are used — in particular, the XML language, similar to HTML. It would be more accurate to say that XML is a *metalanguage*, that is, a way of describing languages. Unlike HTML, the set of tags in an XML document can be arbitrary (and is determined by the developer of a specific XML dialect). For example, if we wanted to describe in XML some student group, it might look like this:\n",
    "\n",
    "<pre>\n",
    "&lt;group&gt;\n",
    "    &lt;number&gt;IS/b-21-2-о&lt;/number&gt;\n",
    "    &lt;student&gt;\n",
    "        &lt;firstname&gt;Konstantin&lt;/firstname&gt;\n",
    "        &lt;lastname&gt;Movenko&lt;/lastname&gt;\n",
    "    &lt;/student&gt;\n",
    "    &lt;student&gt;\n",
    "        &lt;firstname&gt;Anastasia&lt;/firstname&gt;\n",
    "        &lt;lastname&gt;Olkhovskaya&lt;/lastname&gt;\n",
    "    &lt;/student&gt;\n",
    "&lt;/group&gt;\n",
    "</pre>\n",
    "\n",
    "To process XML files, you can use the same *Beautiful Soup* package that we have already used to work with HTML. The only difference is that you need to specify an additional parameter `features=\"xml\"` when calling the `BeautifulSoup` function — so that it does not search in the document HTML tags.\n",
    "\n",
    "If the `features=\"xml\"` parameter leads to an error, then you need to install the `lxml` package. To do this, open the Anaconda Prompt window and run the `pip install lxml` command."
   ]
  },
  {
   "cell_type": "code",
   "execution_count": 2,
   "id": "68b403a9",
   "metadata": {},
   "outputs": [],
   "source": [
    "# assign a string with xml data to the variable \n",
    "group = \"\"\"\n",
    "<group>\n",
    "    <number>IS/b-21-2-о</number>\n",
    "    <student>\n",
    "        <firstname>Konstantin</firstname>\n",
    "        <lastname>Movenko</lastname>\n",
    "    </student>\n",
    "    <student>\n",
    "        <firstname>Anastasia</firstname>\n",
    "        <lastname>Olkhovskaya</lastname>\n",
    "    </student>\n",
    "</group>\n",
    "\"\"\""
   ]
  },
  {
   "cell_type": "code",
   "execution_count": 3,
   "id": "57725f71",
   "metadata": {},
   "outputs": [
    {
     "name": "stdout",
     "output_type": "stream",
     "text": [
      "<?xml version=\"1.0\" encoding=\"utf-8\"?>\n",
      "<group>\n",
      " <number>\n",
      "  IS/b-21-2-о\n",
      " </number>\n",
      " <student>\n",
      "  <firstname>\n",
      "   Konstantin\n",
      "  </firstname>\n",
      "  <lastname>\n",
      "   Movenko\n",
      "  </lastname>\n",
      " </student>\n",
      " <student>\n",
      "  <firstname>\n",
      "   Anastasia\n",
      "  </firstname>\n",
      "  <lastname>\n",
      "   Olkhovskaya\n",
      "  </lastname>\n",
      " </student>\n",
      "</group>\n",
      "\n"
     ]
    }
   ],
   "source": [
    "obj = BeautifulSoup(group, features=\"xml\") # parse the string as xml\n",
    "print(obj.prettify())                      # print parsed string with formatting"
   ]
  },
  {
   "cell_type": "markdown",
   "id": "1253caa2",
   "metadata": {},
   "source": [
    "This is how we can find the group number in our XML document:"
   ]
  },
  {
   "cell_type": "code",
   "execution_count": 4,
   "id": "54a2df9d",
   "metadata": {},
   "outputs": [
    {
     "data": {
      "text/plain": [
       "'IS/b-21-2-о'"
      ]
     },
     "execution_count": 4,
     "metadata": {},
     "output_type": "execute_result"
    }
   ],
   "source": [
    "# print string content in <number> tag\n",
    "obj.group.number.string"
   ]
  },
  {
   "cell_type": "markdown",
   "id": "a9a859dd",
   "metadata": {},
   "source": [
    "This means \"find the `group` tag in the `obj` object, find the `number` tag in it and output as a string what it contains.\n",
    "\n",
    "And this is how you can list all the students:"
   ]
  },
  {
   "cell_type": "code",
   "execution_count": 5,
   "id": "f4be4afb",
   "metadata": {},
   "outputs": [
    {
     "name": "stdout",
     "output_type": "stream",
     "text": [
      "Movenko Konstantin\n",
      "Olkhovskaya Anastasia\n"
     ]
    }
   ],
   "source": [
    "# find all <student> tags and list their content\n",
    "for student in obj.group.findAll('student'):\n",
    "    print(student.lastname.string, student.firstname.string)"
   ]
  },
  {
   "cell_type": "markdown",
   "id": "3fb11f3b",
   "metadata": {},
   "source": [
    "### Getting a list of articles from the category in Wikipedia"
   ]
  },
  {
   "cell_type": "markdown",
   "id": "396f798b",
   "metadata": {},
   "source": [
    "Let's say we needed to get a list of all articles from some category in Wikipedia. We could open this category in the browser and continue to use the methods discussed above. However, Wikipedia has a convenient API. To learn how to work with it, you will have to read the [documentation](https://www.mediawiki.org/wiki/API:Main_page) (this will be the case with any API), but it seems complicated only the first time."
   ]
  },
  {
   "cell_type": "markdown",
   "id": "1ccc9852",
   "metadata": {},
   "source": [
    "So, let's get started. Interaction with the server using the API occurs by sending specially generated requests and receiving a response in one of the machine-readable formats. We will be interested in the XML format, although there are others (later we will get acquainted with JSON). But we can send such a request:\n",
    "\n",
    "https://en.wikipedia.org/w/api.php?action=query&list=categorymembers&cmtitle=Category:Physics&cmsort=timestamp&cmdir=desc&format=xmlfm"
   ]
  },
  {
   "cell_type": "markdown",
   "id": "15dcb933",
   "metadata": {},
   "source": [
    "String `https://en.wikipedia.org/w/api.php` (before the question mark) is the API *entry point*. Everything that comes after the question mark is, in fact, a request. It is something like a dictionary and consists of \"key=value\" pairs separated by an ampersand `&`. Some characters have to be encoded in a special way."
   ]
  },
  {
   "cell_type": "markdown",
   "id": "5daf9304",
   "metadata": {},
   "source": [
    "For example, the address above says that we want to make a query (`action=query`), list the elements of the category `list=categorymembers`, as the category that interests us is indicated `Category:Physics` (`cmtitle=Category:Physics`) and some other parameters are specified. If you click on this link, something like this will open:\n",
    "\n",
    "<pre>\n",
    "&lt;?xml version=\"1.0\"?&gt;\n",
    "&lt;api batchcomplete=\"\"&gt;\n",
    "  &lt;continue cmcontinue=\"2015-05-30 19:37:50|1653925\" continue=\"-||\" /&gt;\n",
    "  &lt;query&gt;\n",
    "    &lt;categorymembers&gt;\n",
    "      &lt;cm pageid=\"24293838\" ns=\"0\" title=\"Wigner rotation\" /&gt;\n",
    "      &lt;cm pageid=\"48583145\" ns=\"0\" title=\"Northwest Nuclear Consortium\" /&gt;\n",
    "      &lt;cm pageid=\"48407923\" ns=\"0\" title=\"Hume Feldman\" /&gt;\n",
    "      &lt;cm pageid=\"48249441\" ns=\"0\" title=\"Phase Stretch Transform\" /&gt;\n",
    "      &lt;cm pageid=\"47723069\" ns=\"0\" title=\"Epicatalysis\" /&gt;\n",
    "      &lt;cm pageid=\"2237966\" ns=\"14\" title=\"Category:Surface science\" /&gt;\n",
    "      &lt;cm pageid=\"2143601\" ns=\"14\" title=\"Category:Interaction\" /&gt;\n",
    "      &lt;cm pageid=\"10844347\" ns=\"14\" title=\"Category:Physical systems\" /&gt;\n",
    "      &lt;cm pageid=\"18726608\" ns=\"14\" title=\"Category:Physical quantities\" /&gt;\n",
    "      &lt;cm pageid=\"22688097\" ns=\"0\" title=\"Branches of physics\" /&gt;\n",
    "    &lt;/categorymembers&gt;\n",
    "  &lt;/query&gt;\n",
    "&lt;/api&gt;\n",
    "</pre>"
   ]
  },
  {
   "cell_type": "markdown",
   "id": "812c8923",
   "metadata": {},
   "source": [
    "We see different tags here, and we see that we are interested in the `<cm>` tags that are inside the tag `<categorymembers>`.\n",
    "\n",
    "Let's make the appropriate request using Python. To do this, we will need the already familiar `requests` module."
   ]
  },
  {
   "cell_type": "code",
   "execution_count": 6,
   "id": "e889e095",
   "metadata": {},
   "outputs": [],
   "source": [
    "import requests"
   ]
  },
  {
   "cell_type": "code",
   "execution_count": 7,
   "id": "050f3003",
   "metadata": {},
   "outputs": [],
   "source": [
    "# URL string and parameters dictionary\n",
    "url = \"https://en.wikipedia.org/w/api.php\"\n",
    "params = {\n",
    "    'action':'query',\n",
    "    'list':'categorymembers',\n",
    "    'cmtitle': 'Category:Physics',\n",
    "    'format': 'xml'\n",
    "}\n",
    "\n",
    "# perform a GET query and assign the result to the variable\n",
    "g = requests.get(url, params=params)"
   ]
  },
  {
   "cell_type": "markdown",
   "id": "dfbca8ea",
   "metadata": {},
   "source": [
    "As you can see, we pass the list of parameters in the form of a regular dictionary. Let's see what happened."
   ]
  },
  {
   "cell_type": "code",
   "execution_count": 8,
   "id": "8f0049c3",
   "metadata": {},
   "outputs": [
    {
     "data": {
      "text/plain": [
       "True"
      ]
     },
     "execution_count": 8,
     "metadata": {},
     "output_type": "execute_result"
    }
   ],
   "source": [
    "# check request result\n",
    "g.ok"
   ]
  },
  {
   "cell_type": "markdown",
   "id": "4fc45586",
   "metadata": {},
   "source": [
    "It's all good. Now we use *Beautiful Soup* to process this XML."
   ]
  },
  {
   "cell_type": "code",
   "execution_count": 9,
   "id": "f333391a",
   "metadata": {},
   "outputs": [],
   "source": [
    "# parse an XML document\n",
    "data = BeautifulSoup(g.text, features='xml')"
   ]
  },
  {
   "cell_type": "code",
   "execution_count": 10,
   "id": "1e1a63e5",
   "metadata": {},
   "outputs": [
    {
     "name": "stdout",
     "output_type": "stream",
     "text": [
      "<?xml version=\"1.0\" encoding=\"utf-8\"?>\n",
      "<api batchcomplete=\"\">\n",
      " <continue cmcontinue=\"subcat|0a8048385a4e3a2e3a4e504e030648385a4e3a2e3a4e504e011a01c5dcbcdc0d|694942\" continue=\"-||\"/>\n",
      " <query>\n",
      "  <categorymembers>\n",
      "   <cm ns=\"0\" pageid=\"22939\" title=\"Physics\"/>\n",
      "   <cm ns=\"100\" pageid=\"1653925\" title=\"Portal:Physics\"/>\n",
      "   <cm ns=\"0\" pageid=\"74985603\" title=\"Edge states\"/>\n",
      "   <cm ns=\"0\" pageid=\"74535315\" title=\"Emily Fairfax\"/>\n",
      "   <cm ns=\"0\" pageid=\"74609356\" title=\"Force control\"/>\n",
      "   <cm ns=\"0\" pageid=\"72041443\" title=\"Overlap fermion\"/>\n",
      "   <cm ns=\"0\" pageid=\"74170779\" title=\"Toroidal solenoid\"/>\n",
      "   <cm ns=\"0\" pageid=\"74786976\" title=\"Trajectoid\"/>\n",
      "   <cm ns=\"14\" pageid=\"70983414\" title=\"Category:Physics by country\"/>\n",
      "   <cm ns=\"14\" pageid=\"49740128\" title=\"Category:Subfields of physics\"/>\n",
      "  </categorymembers>\n",
      " </query>\n",
      "</api>\n",
      "\n"
     ]
    }
   ],
   "source": [
    "# print a parsed document with formatting\n",
    "print(data.prettify())"
   ]
  },
  {
   "cell_type": "markdown",
   "id": "bc7b5dfc",
   "metadata": {},
   "source": [
    "Find all occurrences of the `<cm>` tag and output their `title` attribute:"
   ]
  },
  {
   "cell_type": "code",
   "execution_count": 11,
   "id": "8cb28e54",
   "metadata": {},
   "outputs": [
    {
     "name": "stdout",
     "output_type": "stream",
     "text": [
      "Physics\n",
      "Portal:Physics\n",
      "Edge states\n",
      "Emily Fairfax\n",
      "Force control\n",
      "Overlap fermion\n",
      "Toroidal solenoid\n",
      "Trajectoid\n",
      "Category:Physics by country\n",
      "Category:Subfields of physics\n"
     ]
    }
   ],
   "source": [
    "# print title of each article found\n",
    "for cm in data.api.query.categorymembers(\"cm\"):\n",
    "    print(cm['title'])"
   ]
  },
  {
   "cell_type": "markdown",
   "id": "2a59a868",
   "metadata": {},
   "source": [
    "It was possible to simplify the search for `<cm>` without specifying the \"full path\" to them:"
   ]
  },
  {
   "cell_type": "code",
   "execution_count": 12,
   "id": "95fc9f7a",
   "metadata": {},
   "outputs": [
    {
     "name": "stdout",
     "output_type": "stream",
     "text": [
      "Physics\n",
      "Portal:Physics\n",
      "Edge states\n",
      "Emily Fairfax\n",
      "Force control\n",
      "Overlap fermion\n",
      "Toroidal solenoid\n",
      "Trajectoid\n",
      "Category:Physics by country\n",
      "Category:Subfields of physics\n"
     ]
    }
   ],
   "source": [
    "# short form of same commands\n",
    "for cm in data(\"cm\"):\n",
    "    print(cm['title'])"
   ]
  },
  {
   "cell_type": "markdown",
   "id": "b8a0b52b",
   "metadata": {},
   "source": [
    "By default, the server returned us a list of 10 items. If we want more, we need to use the `continue` element — this is a kind of hyperlink to the next 10 elements."
   ]
  },
  {
   "cell_type": "code",
   "execution_count": 13,
   "id": "c287a831",
   "metadata": {},
   "outputs": [
    {
     "data": {
      "text/plain": [
       "'subcat|0a8048385a4e3a2e3a4e504e030648385a4e3a2e3a4e504e011a01c5dcbcdc0d|694942'"
      ]
     },
     "execution_count": 13,
     "metadata": {},
     "output_type": "execute_result"
    }
   ],
   "source": [
    "# hyperlink to next 10 items\n",
    "data.find(\"continue\")['cmcontinue']"
   ]
  },
  {
   "cell_type": "markdown",
   "id": "99f06b1f",
   "metadata": {},
   "source": [
    "We had to use the `find()` method instead of just writing `data.continue`, because `continue` in Python has a special meaning.\n",
    "\n",
    "Now let's add `cmcontinue` to our request and execute it again:"
   ]
  },
  {
   "cell_type": "code",
   "execution_count": 14,
   "id": "927beee1",
   "metadata": {},
   "outputs": [],
   "source": [
    "# add new continue parameter\n",
    "params['cmcontinue'] = data.api(\"continue\")[0]['cmcontinue']"
   ]
  },
  {
   "cell_type": "code",
   "execution_count": 15,
   "id": "f5bad742",
   "metadata": {},
   "outputs": [
    {
     "name": "stdout",
     "output_type": "stream",
     "text": [
      "Category:Physicists\n",
      "Category:Concepts in physics\n",
      "Category:Eponyms in physics\n",
      "Category:Physics-related lists\n",
      "Category:Physical modeling\n",
      "Category:Physics in society\n",
      "Category:Works about physics\n",
      "Category:Physics stubs\n"
     ]
    }
   ],
   "source": [
    "# make request to web page witn next 10 items and print them\n",
    "g = requests.get(url, params=params)\n",
    "data = BeautifulSoup(g.text, features='xml')\n",
    "for cm in data.api.query.categorymembers(\"cm\"):\n",
    "    print(cm['title'])"
   ]
  },
  {
   "cell_type": "markdown",
   "id": "b7262b41",
   "metadata": {},
   "source": [
    "We got the following 10 items from the category. Continuing in this way, you can even pump it out completely (although it will take a lot of time).\n",
    "\n",
    "Similarly, work with a variety of other APIs available on different sites is implemented. Somewhere the API is completely open (as in Wikipedia), somewhere you will need to register and get an application id and some key to access the API, somewhere you will even be asked to pay (for example, an automatic Google search costs something like $5 per 100 requests). There are APIs that only allow you to read information, and there are also those that allow you to edit it. For example, you can write a script that will automatically save some information in Google Spreadsheets. Whenever you use the API, you will have to study its documentation, but in any case it is easier than processing HTML code. Sometimes it is possible to simplify API access by using special libraries."
   ]
  }
 ],
 "metadata": {
  "kernelspec": {
   "display_name": "Python 3 (ipykernel)",
   "language": "python",
   "name": "python3"
  },
  "language_info": {
   "codemirror_mode": {
    "name": "ipython",
    "version": 3
   },
   "file_extension": ".py",
   "mimetype": "text/x-python",
   "name": "python",
   "nbconvert_exporter": "python",
   "pygments_lexer": "ipython3",
   "version": "3.11.4"
  }
 },
 "nbformat": 4,
 "nbformat_minor": 5
}
