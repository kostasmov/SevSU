{
 "cells": [
  {
   "cell_type": "markdown",
   "id": "c61f6fc2",
   "metadata": {},
   "source": [
    "# Notepad №3. Information technologies"
   ]
  },
  {
   "cell_type": "markdown",
   "id": "33adc1e5",
   "metadata": {},
   "source": [
    "Performed by Movenko Konstatin, IS/b-21-2-o"
   ]
  },
  {
   "cell_type": "markdown",
   "id": "27425741",
   "metadata": {},
   "source": [
    "## List input/output"
   ]
  },
  {
   "cell_type": "markdown",
   "id": "c5e01be4",
   "metadata": {},
   "source": [
    "### Turning string into a list"
   ]
  },
  {
   "cell_type": "markdown",
   "id": "3b8f4a5e",
   "metadata": {},
   "source": [
    "Let's take a string consisting of words separated by spaces (maybe more than one) and end-of-line characters."
   ]
  },
  {
   "cell_type": "code",
   "execution_count": 1,
   "id": "5c6ec18d",
   "metadata": {},
   "outputs": [
    {
     "name": "stdout",
     "output_type": "stream",
     "text": [
      "hello world this is a\n",
      "test\n"
     ]
    }
   ],
   "source": [
    "s = \"hello world this is a\\ntest\" #create the string\n",
    "print(s) # print the string"
   ]
  },
  {
   "cell_type": "markdown",
   "id": "673d7614",
   "metadata": {},
   "source": [
    "If we want to work with individual words included in this string, then it needs to be divided into separate words — that is, to get a list consisting of words that are included in this string. To do this, you can use the `split()` method."
   ]
  },
  {
   "cell_type": "code",
   "execution_count": 2,
   "id": "a65bdfca",
   "metadata": {},
   "outputs": [
    {
     "data": {
      "text/plain": [
       "['hello', 'world', 'this', 'is', 'a', 'test']"
      ]
     },
     "execution_count": 2,
     "metadata": {},
     "output_type": "execute_result"
    }
   ],
   "source": [
    "s.split() # split the string"
   ]
  },
  {
   "cell_type": "markdown",
   "id": "7988af35",
   "metadata": {},
   "source": [
    "So, we got exactly what we wanted. Note that spaces (one or more) were used as a separator in this case, as well as any whitespace characters, which include the tab character (we did not have it) and the newline character `\\n`. Separators do not fall into the elements of the resulting list."
   ]
  },
  {
   "cell_type": "markdown",
   "id": "747269b6",
   "metadata": {},
   "source": [
    "**Attention!** The `split()` method does not change the string (generally speaking, the string cannot be changed in principle):"
   ]
  },
  {
   "cell_type": "code",
   "execution_count": 3,
   "id": "e6eff04c",
   "metadata": {},
   "outputs": [
    {
     "name": "stdout",
     "output_type": "stream",
     "text": [
      "hello world    this is a\n",
      "test\n"
     ]
    }
   ],
   "source": [
    "s = \"hello world    this is a\\ntest\" # create the string\n",
    "s.split() # split the string\n",
    "print(s) # print string"
   ]
  },
  {
   "cell_type": "markdown",
   "id": "08736c2f",
   "metadata": {},
   "source": [
    "In the code above, the second line does not lead to any effect — you created a list and instantly forgot it, but the line remained unchanged. If you want to do something further with the list obtained as a result of using `split()`, and not just admire it and forget it forever, then you need, for example, to save it as some kind of variable:"
   ]
  },
  {
   "cell_type": "code",
   "execution_count": 4,
   "id": "0b7811ef",
   "metadata": {},
   "outputs": [
    {
     "name": "stdout",
     "output_type": "stream",
     "text": [
      "hello\n",
      "world\n",
      "this\n",
      "is\n",
      "a\n",
      "test\n"
     ]
    }
   ],
   "source": [
    "words = s.split() # split the string and assign result in list\n",
    "for word in words: # iterating the list\n",
    "    print(word) # print list's element"
   ]
  },
  {
   "cell_type": "markdown",
   "id": "5dd9dadb",
   "metadata": {},
   "source": [
    "The `split()` method has an optional separator parameter. If it is specified, then the line it is split according to the separator that was passed to it."
   ]
  },
  {
   "cell_type": "code",
   "execution_count": 5,
   "id": "15d314c7",
   "metadata": {},
   "outputs": [
    {
     "data": {
      "text/plain": [
       "['hello world', 'this is a\\ntest']"
      ]
     },
     "execution_count": 5,
     "metadata": {},
     "output_type": "execute_result"
    }
   ],
   "source": [
    "s.split(\"    \") # split the string s by four spaces"
   ]
  },
  {
   "cell_type": "markdown",
   "id": "5c84c759",
   "metadata": {},
   "source": [
    "We passed four spaces as a separator and now the string is separated by them, and one space or a newline character is not perceived as a separator."
   ]
  },
  {
   "cell_type": "markdown",
   "id": "66a43e27",
   "metadata": {},
   "source": [
    "Let's say we want to enter several numbers separated by commas and output each of them increased by 1. Let's try that code:"
   ]
  },
  {
   "cell_type": "code",
   "execution_count": 6,
   "id": "cb426cf9",
   "metadata": {},
   "outputs": [
    {
     "name": "stdout",
     "output_type": "stream",
     "text": [
      "Enter a few numbers divided by commas: 1,2,4,8\n"
     ]
    },
    {
     "ename": "TypeError",
     "evalue": "can only concatenate str (not \"int\") to str",
     "output_type": "error",
     "traceback": [
      "\u001b[1;31m---------------------------------------------------------------------------\u001b[0m",
      "\u001b[1;31mTypeError\u001b[0m                                 Traceback (most recent call last)",
      "Cell \u001b[1;32mIn[6], line 4\u001b[0m\n\u001b[0;32m      2\u001b[0m elements \u001b[38;5;241m=\u001b[39m s\u001b[38;5;241m.\u001b[39msplit(\u001b[38;5;124m\"\u001b[39m\u001b[38;5;124m,\u001b[39m\u001b[38;5;124m\"\u001b[39m) \u001b[38;5;66;03m# split string by ',' sign\u001b[39;00m\n\u001b[0;32m      3\u001b[0m \u001b[38;5;28;01mfor\u001b[39;00m n \u001b[38;5;129;01min\u001b[39;00m elements: \u001b[38;5;66;03m# iterating the list\u001b[39;00m\n\u001b[1;32m----> 4\u001b[0m     \u001b[38;5;28mprint\u001b[39m(n\u001b[38;5;241m+\u001b[39m\u001b[38;5;241m1\u001b[39m)\n",
      "\u001b[1;31mTypeError\u001b[0m: can only concatenate str (not \"int\") to str"
     ]
    }
   ],
   "source": [
    "s = input(\"Enter a few numbers divided by commas: \") # get string from user\n",
    "elements = s.split(\",\") # split string by ',' sign\n",
    "for n in elements: # iterating the list\n",
    "    print(n+1) # error: can't cast string variable to integer"
   ]
  },
  {
   "cell_type": "markdown",
   "id": "c34873ea",
   "metadata": {},
   "source": [
    "As you might guess, it doesn't work: after splitting a string, a list consisting of strings is obtained. To turn these strings into numbers, you need to use `int`. Generally speaking, there are methods that make it quite easy to turn all the elements of the list into numbers, but until we get to them, we will process each element separately in a loop."
   ]
  },
  {
   "cell_type": "code",
   "execution_count": 7,
   "id": "52aa83c4",
   "metadata": {},
   "outputs": [
    {
     "name": "stdout",
     "output_type": "stream",
     "text": [
      "Enter a few numbers divided by commas: 1,2,4,8\n",
      "2\n",
      "3\n",
      "5\n",
      "9\n"
     ]
    }
   ],
   "source": [
    "s = input(\"Enter a few numbers divided by commas: \") # get string from user\n",
    "elements = s.split(\",\") # split string by ',' sign\n",
    "for n in elements: # iterating the list\n",
    "    print(int(n)+1) # cast element to integer and print it incremented"
   ]
  },
  {
   "cell_type": "markdown",
   "id": "cfa2eab4",
   "metadata": {},
   "source": [
    "Now it works!"
   ]
  },
  {
   "cell_type": "markdown",
   "id": "15d02393",
   "metadata": {},
   "source": [
    "### Displaying the list in a row"
   ]
  },
  {
   "cell_type": "markdown",
   "id": "7e74812a",
   "metadata": {},
   "source": [
    "Now let's solve the inverse problem: there is a list, we want to output it in some form. There are different ways to do this. For example, you can simply print:"
   ]
  },
  {
   "cell_type": "code",
   "execution_count": 8,
   "id": "6c13404b",
   "metadata": {},
   "outputs": [
    {
     "name": "stdout",
     "output_type": "stream",
     "text": [
      "['one', 'two', 'three']\n"
     ]
    }
   ],
   "source": [
    "elements = [\"one\", \"two\", \"three\"] # create the list\n",
    "print(elements) # print list"
   ]
  },
  {
   "cell_type": "markdown",
   "id": "06d6047f",
   "metadata": {},
   "source": [
    "There the list items are enclosed in brackets, and each line is additionally enclosed in quotation marks. You can print it in a loop element by element, as in the example above:"
   ]
  },
  {
   "cell_type": "code",
   "execution_count": 9,
   "id": "02f13bbb",
   "metadata": {},
   "outputs": [
    {
     "name": "stdout",
     "output_type": "stream",
     "text": [
      "one\n",
      "two\n",
      "three\n"
     ]
    }
   ],
   "source": [
    "for el in elements: # iterating the list\n",
    "    print(el) # print list's element"
   ]
  },
  {
   "cell_type": "markdown",
   "id": "5e4f26ad",
   "metadata": {},
   "source": [
    "This prints it in a column because `print()` by default adds a newline character `\\n` at the end of each output line. If we want to display the elements of the list in some other way, for example, in a line, but without brackets, commas and quotes, then we need to use other methods."
   ]
  },
  {
   "cell_type": "markdown",
   "id": "ed6924aa",
   "metadata": {},
   "source": [
    "The first of these is the use of the `join()` method."
   ]
  },
  {
   "cell_type": "code",
   "execution_count": 10,
   "id": "33497354",
   "metadata": {},
   "outputs": [
    {
     "name": "stdout",
     "output_type": "stream",
     "text": [
      "one two three\n"
     ]
    }
   ],
   "source": [
    "print(\" \".join(elements)) # join list's elements with space and print result"
   ]
  },
  {
   "cell_type": "code",
   "execution_count": 11,
   "id": "11ae7468",
   "metadata": {},
   "outputs": [
    {
     "name": "stdout",
     "output_type": "stream",
     "text": [
      "one:two:three\n"
     ]
    }
   ],
   "source": [
    "print(\":\".join(elements)) # join list's elements with colon and print result"
   ]
  },
  {
   "cell_type": "code",
   "execution_count": 12,
   "id": "16fabcd9",
   "metadata": {},
   "outputs": [
    {
     "name": "stdout",
     "output_type": "stream",
     "text": [
      "one----two----three\n"
     ]
    }
   ],
   "source": [
    "print(\"----\".join(elements)) # join list's elements with 4 dashes and print result"
   ]
  },
  {
   "cell_type": "markdown",
   "id": "3cd2c104",
   "metadata": {},
   "source": [
    "This is a convenient method, but it has a limitation: it requires that the list it is served on input, consisted of lines. If there are other objects among its elements, it breaks."
   ]
  },
  {
   "cell_type": "code",
   "execution_count": 13,
   "id": "2b3bff21",
   "metadata": {},
   "outputs": [
    {
     "ename": "TypeError",
     "evalue": "sequence item 0: expected str instance, int found",
     "output_type": "error",
     "traceback": [
      "\u001b[1;31m---------------------------------------------------------------------------\u001b[0m",
      "\u001b[1;31mTypeError\u001b[0m                                 Traceback (most recent call last)",
      "Cell \u001b[1;32mIn[13], line 2\u001b[0m\n\u001b[0;32m      1\u001b[0m numbers \u001b[38;5;241m=\u001b[39m [\u001b[38;5;241m6\u001b[39m, \u001b[38;5;241m9\u001b[39m, \u001b[38;5;241m10\u001b[39m] \u001b[38;5;66;03m# create the list of integers\u001b[39;00m\n\u001b[1;32m----> 2\u001b[0m \u001b[38;5;124m\"\u001b[39m\u001b[38;5;124m, \u001b[39m\u001b[38;5;124m\"\u001b[39m\u001b[38;5;241m.\u001b[39mjoin(numbers)\n",
      "\u001b[1;31mTypeError\u001b[0m: sequence item 0: expected str instance, int found"
     ]
    }
   ],
   "source": [
    "numbers = [6, 9, 10] # create the list of integers\n",
    "\", \".join(numbers) # error: can't cast integers to strings"
   ]
  },
  {
   "cell_type": "markdown",
   "id": "4b2fe6cf",
   "metadata": {},
   "source": [
    "This problem can be worked around (we'll talk about `map()` and list comprehensions later), but for now we'll discuss a different approach to list output based on the `print()` function."
   ]
  },
  {
   "cell_type": "markdown",
   "id": "95128d0c",
   "metadata": {},
   "source": [
    "Recall that if you pass a list to the `print` function, then it will print it in square brackets, separated by commas."
   ]
  },
  {
   "cell_type": "code",
   "execution_count": 14,
   "id": "745a279e",
   "metadata": {},
   "outputs": [
    {
     "name": "stdout",
     "output_type": "stream",
     "text": [
      "[6, 9, 10]\n"
     ]
    }
   ],
   "source": [
    "print(numbers) # print list in brackets"
   ]
  },
  {
   "cell_type": "markdown",
   "id": "1bd592c3",
   "metadata": {},
   "source": [
    "And if you pass individual elements of the list, then it will print them without brackets and separated by a space (generally speaking, by any character - this is configured using the `sep` parameter)."
   ]
  },
  {
   "cell_type": "code",
   "execution_count": 15,
   "id": "d6603a3e",
   "metadata": {},
   "outputs": [
    {
     "name": "stdout",
     "output_type": "stream",
     "text": [
      "6 9 10\n"
     ]
    }
   ],
   "source": [
    "print(numbers[0], numbers[1], numbers[2]) # print list items"
   ]
  },
  {
   "cell_type": "markdown",
   "id": "ef02aa6c",
   "metadata": {},
   "source": [
    "The line above gives the result we wanted, but it will only work if there are exactly three elements in the list: if there are more elements, only three will be displayed, if there are less, then an error will occur. Fortunately, Python has a construct that allows you to strip a list by passing all its elements to some function separated by commas. This is done with an asterisk ( * )."
   ]
  },
  {
   "cell_type": "code",
   "execution_count": 16,
   "id": "326b4075",
   "metadata": {},
   "outputs": [
    {
     "name": "stdout",
     "output_type": "stream",
     "text": [
      "6 9 10\n"
     ]
    }
   ],
   "source": [
    "print(*numbers) # print the stripped list"
   ]
  },
  {
   "cell_type": "markdown",
   "id": "4eb86a81",
   "metadata": {},
   "source": [
    "The asterisk, as it were, removes the square brackets around the elements of the list. Compare:"
   ]
  },
  {
   "cell_type": "code",
   "execution_count": 17,
   "id": "225a8e0e",
   "metadata": {},
   "outputs": [
    {
     "name": "stdout",
     "output_type": "stream",
     "text": [
      "5 8 9 11 Hello\n"
     ]
    }
   ],
   "source": [
    "print(*[5, 8, 9, 11, \"Hello\"]) # print stripped list of integers and strings"
   ]
  },
  {
   "cell_type": "code",
   "execution_count": 18,
   "id": "dc493ac9",
   "metadata": {},
   "outputs": [
    {
     "name": "stdout",
     "output_type": "stream",
     "text": [
      "5 8 9 11 Hello\n"
     ]
    }
   ],
   "source": [
    "print(5, 8, 9, 11, \"Hello\") # print integers and strings"
   ]
  },
  {
   "cell_type": "markdown",
   "id": "66ec01a3",
   "metadata": {},
   "source": [
    "If you want to use not a space, but some kind of separator, then this is also possible:"
   ]
  },
  {
   "cell_type": "code",
   "execution_count": 19,
   "id": "702de9e5",
   "metadata": {},
   "outputs": [
    {
     "name": "stdout",
     "output_type": "stream",
     "text": [
      "6, 9, 10\n"
     ]
    }
   ],
   "source": [
    "print(*numbers, sep = ', ') # use custom separator and print stripped list"
   ]
  },
  {
   "cell_type": "markdown",
   "id": "07e6405b",
   "metadata": {},
   "source": [
    "### Strings and slices"
   ]
  },
  {
   "cell_type": "markdown",
   "id": "e80689fe",
   "metadata": {},
   "source": [
    "Strings can behave almost like lists. For example, you can access individual elements of a string (individual characters) or make slices."
   ]
  },
  {
   "cell_type": "code",
   "execution_count": 20,
   "id": "4a726824",
   "metadata": {},
   "outputs": [],
   "source": [
    "s = \"This is a test\" # create the string"
   ]
  },
  {
   "cell_type": "code",
   "execution_count": 21,
   "id": "566f6f7d",
   "metadata": {},
   "outputs": [
    {
     "data": {
      "text/plain": [
       "'s'"
      ]
     },
     "execution_count": 21,
     "metadata": {},
     "output_type": "execute_result"
    }
   ],
   "source": [
    "s[6] # get specific character (seventh one)"
   ]
  },
  {
   "cell_type": "code",
   "execution_count": 22,
   "id": "552eb7b0",
   "metadata": {},
   "outputs": [
    {
     "data": {
      "text/plain": [
       "'i'"
      ]
     },
     "execution_count": 22,
     "metadata": {},
     "output_type": "execute_result"
    }
   ],
   "source": [
    "s[5] # get specific character (sixth one)"
   ]
  },
  {
   "cell_type": "code",
   "execution_count": 23,
   "id": "940c7430",
   "metadata": {},
   "outputs": [
    {
     "data": {
      "text/plain": [
       "'s is '"
      ]
     },
     "execution_count": 23,
     "metadata": {},
     "output_type": "execute_result"
    }
   ],
   "source": [
    "s[3:8] # make slice of string"
   ]
  },
  {
   "cell_type": "markdown",
   "id": "f16aed67",
   "metadata": {},
   "source": [
    "Later we will talk more about strings (this is a separate big story)."
   ]
  },
  {
   "cell_type": "markdown",
   "id": "7a4f3e2b",
   "metadata": {},
   "source": [
    "## Algorithms with loops"
   ]
  },
  {
   "cell_type": "markdown",
   "id": "9f1ca1b6",
   "metadata": {},
   "source": [
    "Consider an example of an algorithm that uses a loop."
   ]
  },
  {
   "cell_type": "markdown",
   "id": "b966b03b",
   "metadata": {},
   "source": [
    "Recall how last time we looked for Fibonacci numbers."
   ]
  },
  {
   "cell_type": "markdown",
   "id": "a2bd5316",
   "metadata": {},
   "source": [
    "First, we perform *initialization* - we set the initial values  of the variables that we will need in the future. Initially, we know the values of the first two Fibonacci numbers (these are units); we will write them into variables $a$ and $b$ in the future we will store the next two found Fibonacci numbers needed to find the next number."
   ]
  },
  {
   "cell_type": "code",
   "execution_count": 24,
   "id": "53c30b72",
   "metadata": {},
   "outputs": [],
   "source": [
    "# initialization (executed only once at the beginning of the algorithm)\n",
    "a = 1 # first number\n",
    "b = 1 # second number"
   ]
  },
  {
   "cell_type": "markdown",
   "id": "7742d8da",
   "metadata": {},
   "source": [
    "Then we write code that moves to the next number. We will execute it several times, each time getting a new Fibonacci number."
   ]
  },
  {
   "cell_type": "code",
   "execution_count": 25,
   "id": "6646d56d",
   "metadata": {},
   "outputs": [
    {
     "name": "stdout",
     "output_type": "stream",
     "text": [
      "2\n"
     ]
    }
   ],
   "source": [
    "c = a + b # find next number\n",
    "a = b # update previous number value\n",
    "b = c # store performed number\n",
    "print(b) # print number"
   ]
  },
  {
   "cell_type": "markdown",
   "id": "6772cc9a",
   "metadata": {},
   "source": [
    "By executing this cell several times, we will get consecutive Fibonacci numbers."
   ]
  },
  {
   "cell_type": "markdown",
   "id": "e8f2fbdd",
   "metadata": {},
   "source": [
    "This approach works pretty well, but if we needed to find the 115th Fibonacci number, we would be tormented by restarting the cell. Instead, we use a `for` loop, which will automatically execute the piece of code that calculates the next number, as many times as we need. For example, 10:"
   ]
  },
  {
   "cell_type": "code",
   "execution_count": 26,
   "id": "1d71861e",
   "metadata": {},
   "outputs": [
    {
     "name": "stdout",
     "output_type": "stream",
     "text": [
      "0 2\n",
      "1 3\n",
      "2 5\n",
      "3 8\n",
      "4 13\n",
      "5 21\n",
      "6 34\n",
      "7 55\n",
      "8 89\n",
      "9 144\n"
     ]
    }
   ],
   "source": [
    "a = 1 # first number\n",
    "b = 1 # second number\n",
    "for i in range(10): # iterate the range\n",
    "    c = a + b # find next number\n",
    "    a = b # update previous number value\n",
    "    b = c # store performed number\n",
    "    print(i, c) # print performed number and its index"
   ]
  },
  {
   "cell_type": "markdown",
   "id": "7191d69a",
   "metadata": {},
   "source": [
    "Another example: let's say we would like not to display the found Fibonacci numbers on the screen, but write them to some list. To do this, we slightly modify the code above: instead of the command `print()` you need to substitute a command that will add the found number to some list. However, in order to have something to add, this list must be created in advance. Initially, it can be empty - such a list is indicated by empty square brackets."
   ]
  },
  {
   "cell_type": "code",
   "execution_count": 27,
   "id": "9618547b",
   "metadata": {},
   "outputs": [
    {
     "name": "stdout",
     "output_type": "stream",
     "text": [
      "[2, 3, 5, 8, 13, 21, 34, 55, 89, 144, 233, 377, 610, 987, 1597, 2584, 4181, 6765, 10946, 17711, 28657, 46368, 75025, 121393, 196418]\n"
     ]
    }
   ],
   "source": [
    "a = 1 # first number\n",
    "b = 1 # second number\n",
    "fib = [] # create empty list\n",
    "for i in range(25): # iterate the range 25 times\n",
    "    c = a + b # find next number\n",
    "    a = b # update previous number value\n",
    "    b = c # store performed number\n",
    "    fib.append(b) # append perfomed number to list\n",
    "\n",
    "print(fib) # print the list"
   ]
  },
  {
   "cell_type": "markdown",
   "id": "3838fd65",
   "metadata": {},
   "source": [
    "## Checking conditions"
   ]
  },
  {
   "cell_type": "markdown",
   "id": "b7957d08",
   "metadata": {},
   "source": [
    "During the execution of the program, sometimes it is required, depending on some conditions, to execute one or another piece of code. For example, if the user entered the wrong data that was asked of him (they wanted a positive number, but received a negative one), then you need to display an error and ask to enter the data again. The solution to this problem is divided into several steps: first you need to check a certain condition, and then, depending on the result of this check, choose which code to execute. Let's start by checking the conditions."
   ]
  },
  {
   "cell_type": "code",
   "execution_count": 28,
   "id": "a17fe4d0",
   "metadata": {},
   "outputs": [
    {
     "data": {
      "text/plain": [
       "True"
      ]
     },
     "execution_count": 28,
     "metadata": {},
     "output_type": "execute_result"
    }
   ],
   "source": [
    "6 < 8 # check if one number is less than other"
   ]
  },
  {
   "cell_type": "markdown",
   "id": "bf6397d7",
   "metadata": {},
   "source": [
    "Here we asked \"Is it true that 6 is less than 8?\". “Indeed so,” replied Python in his overseas language. The word True , which he gave out, is not just a word meaning \"true\", but a special boolean value. It is also called \"Boolean\" (after one of the founders of mathematical logic, [George Boole](https://ru.wikipedia.org/wiki/Буль,_Джордж)]. It comes in only two forms: either true ( `True` ) or false ( `False` ). There is no third."
   ]
  },
  {
   "cell_type": "code",
   "execution_count": 29,
   "id": "ef3522e6",
   "metadata": {},
   "outputs": [
    {
     "data": {
      "text/plain": [
       "False"
      ]
     },
     "execution_count": 29,
     "metadata": {},
     "output_type": "execute_result"
    }
   ],
   "source": [
    "8 > 9 # check if one number is greater than other"
   ]
  },
  {
   "cell_type": "markdown",
   "id": "b57d2c45",
   "metadata": {},
   "source": [
    "The result of the check can be written to a variable."
   ]
  },
  {
   "cell_type": "code",
   "execution_count": 30,
   "id": "f154e942",
   "metadata": {},
   "outputs": [],
   "source": [
    "condition = 6 < 8 # store the result of compare into the variable"
   ]
  },
  {
   "cell_type": "code",
   "execution_count": 31,
   "id": "f1e15a5f",
   "metadata": {},
   "outputs": [
    {
     "data": {
      "text/plain": [
       "True"
      ]
     },
     "execution_count": 31,
     "metadata": {},
     "output_type": "execute_result"
    }
   ],
   "source": [
    "condition # get the stored value"
   ]
  },
  {
   "cell_type": "markdown",
   "id": "8efc0dc2",
   "metadata": {},
   "source": [
    "The `condition` variable is said to be a boolean (`bool`) now."
   ]
  },
  {
   "cell_type": "code",
   "execution_count": 32,
   "id": "13692992",
   "metadata": {},
   "outputs": [
    {
     "data": {
      "text/plain": [
       "bool"
      ]
     },
     "execution_count": 32,
     "metadata": {},
     "output_type": "execute_result"
    }
   ],
   "source": [
    "type(condition) # get variable's type"
   ]
  },
  {
   "cell_type": "markdown",
   "id": "0b3afdb2",
   "metadata": {},
   "source": [
    "You can check if two values are equal. Is it true that 7 equals 7?"
   ]
  },
  {
   "cell_type": "code",
   "execution_count": 33,
   "id": "ad29ae85",
   "metadata": {},
   "outputs": [
    {
     "data": {
      "text/plain": [
       "True"
      ]
     },
     "execution_count": 33,
     "metadata": {},
     "output_type": "execute_result"
    }
   ],
   "source": [
    "7 == 7 # compare number to itself"
   ]
  },
  {
   "cell_type": "markdown",
   "id": "77b1289e",
   "metadata": {},
   "source": [
    "Please note that you need to write the singularity symbol twice here, because one equals sign is an assignment operation (“assign what is on the right, what is on the left”), and the check power operation is a completely different thing. For example:"
   ]
  },
  {
   "cell_type": "code",
   "execution_count": 34,
   "id": "5f335110",
   "metadata": {},
   "outputs": [],
   "source": [
    "a = 5 # assign value to a variable"
   ]
  },
  {
   "cell_type": "markdown",
   "id": "21fa3f7c",
   "metadata": {},
   "source": [
    "We put the number 5 in `a`. This operation did not return anything."
   ]
  },
  {
   "cell_type": "code",
   "execution_count": 35,
   "id": "ab4541ba",
   "metadata": {},
   "outputs": [],
   "source": [
    "a = 7 # assign other value to a variable"
   ]
  },
  {
   "cell_type": "markdown",
   "id": "acde5578",
   "metadata": {},
   "source": [
    "Now put the number 7 in `a`."
   ]
  },
  {
   "cell_type": "code",
   "execution_count": 36,
   "id": "6ab70f7a",
   "metadata": {},
   "outputs": [
    {
     "data": {
      "text/plain": [
       "False"
      ]
     },
     "execution_count": 36,
     "metadata": {},
     "output_type": "execute_result"
    }
   ],
   "source": [
    "a == 5 # compare value of variable with a number"
   ]
  },
  {
   "cell_type": "markdown",
   "id": "6a97c236",
   "metadata": {},
   "source": [
    "Now they asked whether it is true that a equals five. Got `False`."
   ]
  },
  {
   "cell_type": "markdown",
   "id": "4be466d1",
   "metadata": {},
   "source": [
    "It should be said that the comparison works in a reasonable enough way. For example, the number 7 and the number 7.0 are, strictly speaking, different objects (the first is an integer, the second is a floating-point number), but it is clear that as numbers they are the same object. So the comparison will return `True`."
   ]
  },
  {
   "cell_type": "code",
   "execution_count": 37,
   "id": "6212c70b",
   "metadata": {},
   "outputs": [
    {
     "data": {
      "text/plain": [
       "True"
      ]
     },
     "execution_count": 37,
     "metadata": {},
     "output_type": "execute_result"
    }
   ],
   "source": [
    "7 == 7.0 #compare integer to it's floating point analogue"
   ]
  },
  {
   "cell_type": "markdown",
   "id": "068af2ba",
   "metadata": {},
   "source": [
    "## `if` operator"
   ]
  },
  {
   "cell_type": "code",
   "execution_count": 39,
   "id": "48a5481a",
   "metadata": {},
   "outputs": [
    {
     "name": "stdout",
     "output_type": "stream",
     "text": [
      "Enter positive number: -7\n",
      "Error!\n",
      "Number isn't positive!\n",
      "You entered -7\n"
     ]
    }
   ],
   "source": [
    "a = int(input(\"Enter positive number: \")) # get integer from user\n",
    "if a < 0: # check if it's negative\n",
    "    # actions if it is less than zero\n",
    "    print(\"Error!\") # error message\n",
    "    print(\"Number isn't positive!\") # error message\n",
    "print(\"You entered\", a) # print entered number (in any case)"
   ]
  },
  {
   "cell_type": "markdown",
   "id": "fc5a7c22",
   "metadata": {},
   "source": [
    "You need to pay attention to several things: firstly, after `if` a condition is indicated, and after the condition a colon is required (as in loops), then there is a block of commands that are executed if the condition is true (that is, it is `True`). As with loops, this block of commands must be marked with indents. Commands that are not included in the block (in this case, this is the last line) are executed anyway."
   ]
  },
  {
   "cell_type": "markdown",
   "id": "df8f0d3b",
   "metadata": {},
   "source": [
    "Let's say we want to process separately both situations: when a condition is met and when it is not met. To do this, you need to use the `else` keyword."
   ]
  },
  {
   "cell_type": "code",
   "execution_count": 40,
   "id": "37d6d52f",
   "metadata": {},
   "outputs": [
    {
     "name": "stdout",
     "output_type": "stream",
     "text": [
      "Enter positive number: 7\n",
      "All right!\n",
      "You entered positive number!\n",
      "You entered 7\n"
     ]
    }
   ],
   "source": [
    "a = int(input(\"Enter positive number: \")) # get integer from user\n",
    "if a < 0: # check if it's negative\n",
    "     # error messages if it is less than zero\n",
    "    print(\"Error!\")\n",
    "    print(\"Number isn't positive!\")\n",
    "else:\n",
    "    # messages if it is positive\n",
    "    print(\"All right!\")\n",
    "    print(\"You entered positive number!\")\n",
    "print(\"You entered\", a) # print entered number (anyway)"
   ]
  },
  {
   "cell_type": "markdown",
   "id": "e8975dc4",
   "metadata": {},
   "source": [
    "The `if-else` construct works as an alternative: either one piece of code is executed (after if - if the condition is true), or another (after `else` - if it is false). Sometimes you need to check multiple conditions in a row."
   ]
  },
  {
   "cell_type": "code",
   "execution_count": 42,
   "id": "a869a57d",
   "metadata": {},
   "outputs": [
    {
     "name": "stdout",
     "output_type": "stream",
     "text": [
      "Enter some number: -100\n",
      "It's small number.\n"
     ]
    }
   ],
   "source": [
    "a = int(input(\"Enter some number: \")) # get integer from user\n",
    "if a > 100: # check if it's greater then 100\n",
    "    print(\"It's too large number!\") # print message number 1\n",
    "elif a > 10: # if it isn't check if it's greater then 10\n",
    "    print(\"It's large number.\") # print message number 2\n",
    "else: # otherwise print message number 3\n",
    "    print(\"It's small number.\")"
   ]
  },
  {
   "cell_type": "markdown",
   "id": "8de7bab2",
   "metadata": {},
   "source": [
    "The `elif` keyword is used here, which is a concatenation of `else` and `if` . Conditions are checked in turn, starting from the first; as soon as one of the conditions is true, the corresponding block is executed and the other conditions are not checked."
   ]
  },
  {
   "cell_type": "markdown",
   "id": "37aa0b03",
   "metadata": {},
   "source": [
    "## Complex conditions"
   ]
  },
  {
   "cell_type": "markdown",
   "id": "7323b1b4",
   "metadata": {},
   "source": [
    "Let's say we need to check the fulfillment of several conditions. Let's say we want to get a number from $0$ to $100$ - numbers less than $0$ or more than $100$ do not suit us. This could be done with multiple nested `if` statements like so."
   ]
  },
  {
   "cell_type": "code",
   "execution_count": 43,
   "id": "8246c5fe",
   "metadata": {},
   "outputs": [
    {
     "name": "stdout",
     "output_type": "stream",
     "text": [
      "Please enter number from 0 to 100: 77\n",
      "Thank you, I like your number.\n"
     ]
    }
   ],
   "source": [
    "a = int(input(\"Please enter number from 0 to 100: \")) # get integer from user\n",
    "if a <= 100: # check if it's less or equal to 100\n",
    "    if a >= 0: # check if it's more or equal to 0\n",
    "        print(\"Thank you, I like your number.\") # print \"all-right\" message \n",
    "    else: # otherwise print mistake message\n",
    "        print(\"You made a mistake, it's not a number from 0 to 100.\")\n",
    "else: # otherwise print mistake message\n",
    "    print(\"You made a mistake, it's not a number from 0 to 100.\")"
   ]
  },
  {
   "cell_type": "markdown",
   "id": "2f682d68",
   "metadata": {},
   "source": [
    "This code is quite cumbersome, the line with the error message had to be copied twice. Not very good. It turns out that the same functionality can be implemented in a simpler way."
   ]
  },
  {
   "cell_type": "code",
   "execution_count": 44,
   "id": "a4e46720",
   "metadata": {},
   "outputs": [
    {
     "name": "stdout",
     "output_type": "stream",
     "text": [
      "Please enter number from 0 to 100: -6\n",
      "You made a mistake, it's not a number from 0 to 100.\n"
     ]
    }
   ],
   "source": [
    "a = int(input(\"Please enter number from 0 to 100: \")) # get integer from user\n",
    "if a <= 100 and a >= 0: # check if it's in [0; 100] interval\n",
    "    print(\"Thank you, I like your number.\") # then print \"all-right\" message \n",
    "else: # otherwise print mistake message\n",
    "    print(\"You made a mistake, it's not a number from 0 to 100.\")"
   ]
  },
  {
   "cell_type": "markdown",
   "id": "9a44d379",
   "metadata": {},
   "source": [
    "This uses the `and` keyword, which stands for a *logical AND* operation. It does the following: tests the left condition (in this case, `a <= 100`), tests the right condition (`a >= 100`), and if both of these conditions are true (that is, they are `True`), then the result of executing and turns out to be `True`; if at least one of them is not executed (that is, it has the value `False`), then the result of executing and is `False`. Thus, we can check exactly the condition we are interested in."
   ]
  },
  {
   "cell_type": "markdown",
   "id": "d34550e3",
   "metadata": {},
   "source": [
    "Strictly speaking, if the left argument of `and` turns out to be false, then the right one is not even evaluated: why waste time if it is already clear that you need to return false?"
   ]
  },
  {
   "cell_type": "markdown",
   "id": "d4a67baa",
   "metadata": {},
   "source": [
    "One could rewrite this code in a different way, using a logical OR (`or`):"
   ]
  },
  {
   "cell_type": "code",
   "execution_count": 45,
   "id": "26950a36",
   "metadata": {},
   "outputs": [
    {
     "name": "stdout",
     "output_type": "stream",
     "text": [
      "Please enter number from 0 to 100: 77\n",
      "Thank you, I like your number.\n"
     ]
    }
   ],
   "source": [
    "a = int(input(\"Please enter number from 0 to 100: \")) # get integer from user\n",
    "if a > 100 or a < 0: # check if it's NOT in [0; 100] interval\n",
    "    print(\"You made a mistake, it's not a number from 0 to 100.\") # then print mistake message\n",
    "else:\n",
    "    print(\"Thank you, I like your number.\") # otherwise print \"all-right\" message "
   ]
  },
  {
   "cell_type": "markdown",
   "id": "082f8e6b",
   "metadata": {},
   "source": [
    "The result of executing `or` is true if at least one argument is true. Finally, there is a third logical operator - this is negation (`not`). It has only one argument and returns true if that argument is false and vice versa."
   ]
  },
  {
   "cell_type": "code",
   "execution_count": 48,
   "id": "fdb3a9cb",
   "metadata": {},
   "outputs": [
    {
     "name": "stdout",
     "output_type": "stream",
     "text": [
      "Please enter number from 0 to 100: 8\n",
      "Thank you, I like your number.\n"
     ]
    }
   ],
   "source": [
    "a = int(input(\"Please enter number from 0 to 100: \")) # get integer from user\n",
    "if not (a <= 100 and a >= 0): # check if it's NOT in [0; 100] interval\n",
    "    print(\"You made a mistake, it's not a number from 0 to 100.\") # then print mistake message\n",
    "else:\n",
    "    print(\"Thank you, I like your number.\") # otherwise print \"all-right\" message "
   ]
  },
  {
   "cell_type": "markdown",
   "id": "eb6e3b7c",
   "metadata": {},
   "source": [
    "You can test how boolean commands work by simply substituting `True` or `False` as arguments:"
   ]
  },
  {
   "cell_type": "code",
   "execution_count": 49,
   "id": "c7412720",
   "metadata": {},
   "outputs": [
    {
     "data": {
      "text/plain": [
       "True"
      ]
     },
     "execution_count": 49,
     "metadata": {},
     "output_type": "execute_result"
    }
   ],
   "source": [
    "True or False # OR command test"
   ]
  },
  {
   "cell_type": "code",
   "execution_count": 50,
   "id": "e2857d37",
   "metadata": {},
   "outputs": [
    {
     "data": {
      "text/plain": [
       "False"
      ]
     },
     "execution_count": 50,
     "metadata": {},
     "output_type": "execute_result"
    }
   ],
   "source": [
    "False and True # AND command test"
   ]
  },
  {
   "cell_type": "markdown",
   "id": "d16b3437",
   "metadata": {},
   "source": [
    "To be or not to be?"
   ]
  },
  {
   "cell_type": "code",
   "execution_count": 51,
   "id": "ab26404b",
   "metadata": {},
   "outputs": [
    {
     "data": {
      "text/plain": [
       "True"
      ]
     },
     "execution_count": 51,
     "metadata": {},
     "output_type": "execute_result"
    }
   ],
   "source": [
    "to_be = False # assign boolean variable\n",
    "to_be or not to_be # logic expression"
   ]
  },
  {
   "cell_type": "markdown",
   "id": "854b76d7",
   "metadata": {},
   "source": [
    "What happens if `to_be` is set to `True`?"
   ]
  },
  {
   "cell_type": "markdown",
   "id": "7a73a2da",
   "metadata": {},
   "source": [
    "## `while` loop"
   ]
  },
  {
   "cell_type": "code",
   "execution_count": 52,
   "id": "94bb08c9",
   "metadata": {},
   "outputs": [
    {
     "name": "stdout",
     "output_type": "stream",
     "text": [
      "Enter number from 0 to 100: 66\n",
      "All right.\n"
     ]
    }
   ],
   "source": [
    "a = int(input(\"Enter number from 0 to 100: \")) # get integer from user\n",
    "# continue getting integer from user while it's not in the specified boundaries\n",
    "while a > 100 or a < 0:\n",
    "    print(\"Wrong! It's not a number between 0 and 100.\") # message if user entered wrong number\n",
    "    a = int(input(\"Enter number from 0 to 100: \")) # try to get other number from user\n",
    "print(\"All right.\") # print message when loop ended"
   ]
  },
  {
   "cell_type": "markdown",
   "id": "e45a4721",
   "metadata": {},
   "source": [
    "Another example: password checking."
   ]
  },
  {
   "cell_type": "code",
   "execution_count": 53,
   "id": "8473de16",
   "metadata": {},
   "outputs": [
    {
     "name": "stdout",
     "output_type": "stream",
     "text": [
      "Please, enter password: 150\n",
      "Access denied\n",
      "Please, enter password: ;ugliugliug\n",
      "Access granted\n"
     ]
    }
   ],
   "source": [
    "correct_passwd = ';ugliugliug' # set up the right password\n",
    "passwd = input(\"Please, enter password: \") # read password from user\n",
    "# do while given from user password not equal to right password\n",
    "while passwd != correct_passwd:\n",
    "    print(\"Access denied\") # print error message\n",
    "    passwd = input(\"Please, enter password: \") # try to get password from user again\n",
    "print(\"Access granted\") # print message when loop ended"
   ]
  },
  {
   "cell_type": "markdown",
   "id": "81d741b5",
   "metadata": {},
   "source": [
    "This code is not very elegant because we have to write the string twice with `input()`. The situation in which we have to copy some lines of code usually means that a design error has been made. You can do this more gracefully with the `break` command - it allows you to exit the loop. The following example also demonstrates an infinite loop: in principle, `while True`: should be executed as long as `True` is `True`, that is, forever. But we will exit early with `break`."
   ]
  },
  {
   "cell_type": "code",
   "execution_count": 54,
   "id": "f87413b0",
   "metadata": {},
   "outputs": [
    {
     "name": "stdout",
     "output_type": "stream",
     "text": [
      "Please, enter password: ooonga\n",
      "Access denied\n",
      "Please, enter password: boonga\n",
      "Access denied\n",
      "Please, enter password: ;ugliugliug\n",
      "Access granted\n"
     ]
    }
   ],
   "source": [
    "correct_passwd = ';ugliugliug' # set up the right password\n",
    "while True: # forever loop\n",
    "    passwd = input(\"Please, enter password: \") # get password from user\n",
    "    if passwd == correct_passwd: # if passsword is right ...\n",
    "        print(\"Access granted\") # ... then praise the user\n",
    "        break # break loop\n",
    "    else:\n",
    "        print(\"Access denied\") # ... otherwise block the user"
   ]
  },
  {
   "cell_type": "markdown",
   "id": "7b61b63e",
   "metadata": {},
   "source": [
    "The `break` command can be used to exit any loop. Here is an example for a `for` loop:"
   ]
  },
  {
   "cell_type": "code",
   "execution_count": 55,
   "id": "6d469fb1",
   "metadata": {},
   "outputs": [
    {
     "name": "stdout",
     "output_type": "stream",
     "text": [
      "7\n",
      "9\n",
      "10\n",
      "7\n",
      "Negative number detected!\n"
     ]
    }
   ],
   "source": [
    "numbers = [6, 8, 9, 6, -7, 9] # create list of numbers\n",
    "for i in numbers: # iterate the list\n",
    "    if i < 0: # check list element\n",
    "        print(\"Negative number detected!\") # if element is negative print message and break the loop\n",
    "        break\n",
    "    print(i + 1) # else print it incremented"
   ]
  },
  {
   "cell_type": "markdown",
   "id": "66a0b51a",
   "metadata": {},
   "source": [
    "## List item numbering"
   ]
  },
  {
   "cell_type": "markdown",
   "id": "09322acc",
   "metadata": {},
   "source": [
    "As a small digression, let's discuss the following problem: there is a list, you need to display its elements and their indices. This problem could be solved like this:"
   ]
  },
  {
   "cell_type": "code",
   "execution_count": 56,
   "id": "0a02e538",
   "metadata": {},
   "outputs": [
    {
     "name": "stdout",
     "output_type": "stream",
     "text": [
      "0 7\n",
      "1 8\n",
      "2 9\n",
      "3 43\n"
     ]
    }
   ],
   "source": [
    "numbers = [7, 8, 9, 43] # create the list\n",
    "i = 0 # counter\n",
    "for n in numbers: # iterate the list\n",
    "    print(i, n) # print index and number\n",
    "    i += 1 # increment the counter"
   ]
  },
  {
   "cell_type": "markdown",
   "id": "0969f932",
   "metadata": {},
   "source": [
    "Not the most elegant solution - you have to enter some kind of variable `i`, initialize it before entering the loop and remember to add one to it inside the loop"
   ]
  },
  {
   "cell_type": "markdown",
   "id": "c69c6eaf",
   "metadata": {},
   "source": [
    "Another option:"
   ]
  },
  {
   "cell_type": "code",
   "execution_count": 57,
   "id": "c1fcc6f4",
   "metadata": {},
   "outputs": [
    {
     "name": "stdout",
     "output_type": "stream",
     "text": [
      "0 7\n",
      "1 8\n",
      "2 9\n",
      "3 43\n"
     ]
    }
   ],
   "source": [
    "numbers = [7, 8, 9, 43] # create the list of numbers\n",
    "for i in range(len(numbers)): # iterate the list by indexes\n",
    "    print (i, numbers[i]) # print index and it's number"
   ]
  },
  {
   "cell_type": "markdown",
   "id": "e2d2aaf6",
   "metadata": {},
   "source": [
    "This is also not the height of elegance: here we have to write `numbers[i]` every time and in general understandability suffers: looking at the `for` loop, it is not clear that we are going to iterate over the elements of the numbers list."
   ]
  },
  {
   "cell_type": "markdown",
   "id": "f0a56b2c",
   "metadata": {},
   "source": [
    "The correct Python approach looks like this:"
   ]
  },
  {
   "cell_type": "code",
   "execution_count": 58,
   "id": "dc6c39da",
   "metadata": {},
   "outputs": [
    {
     "name": "stdout",
     "output_type": "stream",
     "text": [
      "2 7\n",
      "3 8\n",
      "4 9\n",
      "5 43\n"
     ]
    }
   ],
   "source": [
    "numbers = [7, 8, 9, 43] # create the list\n",
    "for i, n in enumerate(numbers, 2): # iterate the list elements enumerated\n",
    "    print(i,n) # print index and number"
   ]
  },
  {
   "cell_type": "markdown",
   "id": "27497c63",
   "metadata": {},
   "source": [
    "What happened here. The main magic lies in the `enumerate()` command. Let's see how it works:"
   ]
  },
  {
   "cell_type": "code",
   "execution_count": 59,
   "id": "a862b9ba",
   "metadata": {},
   "outputs": [],
   "source": [
    " enum = list(enumerate(numbers)) # create enumeration from the list"
   ]
  },
  {
   "cell_type": "code",
   "execution_count": 60,
   "id": "887b4f7c",
   "metadata": {},
   "outputs": [
    {
     "data": {
      "text/plain": [
       "[(0, 7), (1, 8), (2, 9), (3, 43)]"
      ]
     },
     "execution_count": 60,
     "metadata": {},
     "output_type": "execute_result"
    }
   ],
   "source": [
    "enum # print enum"
   ]
  },
  {
   "cell_type": "markdown",
   "id": "4e8f13fe",
   "metadata": {},
   "source": [
    "As a result of executing `enumerate`, a thing is returned that behaves like a list, the elements of which are pairs of numbers (actually, these are tuples, `tuple`, that is, immutable lists). In each pair, the first number is the index, and the second is the element of the original list."
   ]
  },
  {
   "cell_type": "markdown",
   "id": "a42596a6",
   "metadata": {},
   "source": [
    "Further, when executing the `for` loop, the list assignment mechanism is used. It works like this."
   ]
  },
  {
   "cell_type": "code",
   "execution_count": 61,
   "id": "37d6f2fb",
   "metadata": {},
   "outputs": [],
   "source": [
    "a, b = (7, 9) # assign values"
   ]
  },
  {
   "cell_type": "code",
   "execution_count": 62,
   "id": "b5d67d23",
   "metadata": {},
   "outputs": [
    {
     "name": "stdout",
     "output_type": "stream",
     "text": [
      "7\n",
      "9\n"
     ]
    }
   ],
   "source": [
    "print(a) # print value of a\n",
    "print(b) # print value of b"
   ]
  },
  {
   "cell_type": "markdown",
   "id": "294b576e",
   "metadata": {},
   "source": [
    "If on the left side of the equal sign there are several variables separated by commas, and on the right side there is some object that behaves like a list, and the number of its elements is equal to the number of variables, then the assignment goes element by element: the first element of the list into the first variable, the second into second, etc."
   ]
  },
  {
   "cell_type": "code",
   "execution_count": 63,
   "id": "cdaba5dc",
   "metadata": {},
   "outputs": [
    {
     "name": "stdout",
     "output_type": "stream",
     "text": [
      "3\n"
     ]
    }
   ],
   "source": [
    "a, b, c = (1, 2, 3) # assign values\n",
    "print(c) # print value of the third variable"
   ]
  },
  {
   "cell_type": "markdown",
   "id": "935d9b94",
   "metadata": {},
   "source": [
    "Now notice that in the `for` loop, we have two variables specified as a loop variable (separated by commas). What happens when we get into the loop `for` the first time? for will take the first element from enumerate(`numbers`). This is a couple of numbers:"
   ]
  },
  {
   "cell_type": "code",
   "execution_count": 64,
   "id": "981a539b",
   "metadata": {},
   "outputs": [
    {
     "data": {
      "text/plain": [
       "(0, 7)"
      ]
     },
     "execution_count": 64,
     "metadata": {},
     "output_type": "execute_result"
    }
   ],
   "source": [
    "enum[0] # print first pair"
   ]
  },
  {
   "cell_type": "markdown",
   "id": "32fe4271",
   "metadata": {},
   "source": [
    "Now he will equate this pair of numbers with a pair of variables: `i` and `n`:"
   ]
  },
  {
   "cell_type": "code",
   "execution_count": 65,
   "id": "270f97e2",
   "metadata": {},
   "outputs": [],
   "source": [
    "i, n = enum[0] # assign value of a pair"
   ]
  },
  {
   "cell_type": "markdown",
   "id": "eda88586",
   "metadata": {},
   "source": [
    "Now `i` contains 0 (the index of the first element of numbers, and `n` contains the first element of numbers itself. And so on, at each step, i will have the corresponding index, and `n` will have the corresponding number."
   ]
  },
  {
   "cell_type": "markdown",
   "id": "cfe46b0e",
   "metadata": {},
   "source": [
    "In this case, the result is much more elegant than the previous ones: there is no need to somehow explicitly describe what is happening with `i`, and the meaning of what is happening is clear when looking at the line with `for`."
   ]
  },
  {
   "cell_type": "markdown",
   "id": "ef254814",
   "metadata": {},
   "source": [
    "That's all."
   ]
  }
 ],
 "metadata": {
  "kernelspec": {
   "display_name": "Python 3 (ipykernel)",
   "language": "python",
   "name": "python3"
  },
  "language_info": {
   "codemirror_mode": {
    "name": "ipython",
    "version": 3
   },
   "file_extension": ".py",
   "mimetype": "text/x-python",
   "name": "python",
   "nbconvert_exporter": "python",
   "pygments_lexer": "ipython3",
   "version": "3.11.4"
  }
 },
 "nbformat": 4,
 "nbformat_minor": 5
}
