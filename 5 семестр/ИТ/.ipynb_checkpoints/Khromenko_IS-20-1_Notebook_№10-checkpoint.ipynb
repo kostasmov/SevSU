{
 "cells": [
  {
   "cell_type": "markdown",
   "id": "d4611fc9",
   "metadata": {},
   "source": [
    "# Notebook №10. Information Technologies."
   ]
  },
  {
   "cell_type": "markdown",
   "id": "ed67ba95",
   "metadata": {},
   "source": [
    "Performed by Movenko Konstantin, IS/b-21-2-o"
   ]
  },
  {
   "cell_type": "markdown",
   "id": "03c12ea8",
   "metadata": {},
   "source": [
    "## Numpy and matplotlib libraries"
   ]
  },
  {
   "cell_type": "markdown",
   "id": "ed8146d6",
   "metadata": {},
   "source": [
    "### Numpy library: efficient arrays"
   ]
  },
  {
   "cell_type": "markdown",
   "id": "b8aa9686",
   "metadata": {},
   "source": [
    "Writing Python programs is easy and enjoyable. Much easier and more enjoyable than in low\n",
    "-level programming languages such as C or C++. But, alas, there are no miracles: for the simplicity of writing\n",
    "when we pay for the speed of its execution."
   ]
  },
  {
   "cell_type": "code",
   "execution_count": 1,
   "id": "f8ffb886",
   "metadata": {},
   "outputs": [
    {
     "data": {
      "text/plain": [
       "[1.2, 1.2, 1.2, 1.2, 1.2, 1.2, 1.2, 1.2, 1.2, 1.2]"
      ]
     },
     "execution_count": 1,
     "metadata": {},
     "output_type": "execute_result"
    }
   ],
   "source": [
    "#multiply the list of real numbers by 10000\n",
    "numbers = [1.2] * 10000\n",
    "#output the first 10 elements\n",
    "numbers[:10]"
   ]
  },
  {
   "cell_type": "markdown",
   "id": "562b90db",
   "metadata": {},
   "source": [
    "It is useful to use\n",
    "the magic word %%timeit to check the speed at which a certain piece of code is executed. It says that the cell needs to be executed several times and note\n",
    "how much time it took."
   ]
  },
  {
   "cell_type": "code",
   "execution_count": 2,
   "id": "348b807b",
   "metadata": {},
   "outputs": [
    {
     "name": "stdout",
     "output_type": "stream",
     "text": [
      "1.29 ms ± 13.2 µs per loop (mean ± std. dev. of 7 runs, 1000 loops each)\n"
     ]
    }
   ],
   "source": [
    "%%timeit\n",
    "#square each element of the list\n",
    "squares = [x**2 for x in numbers]"
   ]
  },
  {
   "cell_type": "markdown",
   "id": "60f60b2d",
   "metadata": {},
   "source": [
    "More than a millisecond per pass! (By the way, x*x will be twice as fast — try it!) Not\n",
    "very fast, actually. For \"heavy\" mathematics, which often occurs when processing\n",
    "large amounts of data, I want to use all the capabilities of a computer."
   ]
  },
  {
   "cell_type": "code",
   "execution_count": 4,
   "id": "75ac7295",
   "metadata": {},
   "outputs": [
    {
     "name": "stdout",
     "output_type": "stream",
     "text": [
      "463 µs ± 8.11 µs per loop (mean ± std. dev. of 7 runs, 1000 loops each)\n"
     ]
    }
   ],
   "source": [
    "%%timeit\n",
    "#each element of the list is squared in a different way\n",
    "squares = [x*x for x in numbers]"
   ]
  },
  {
   "cell_type": "markdown",
   "id": "53bff7b7",
   "metadata": {},
   "source": [
    "Do not despair: there are special libraries for fast work with numbers, and the main one\n",
    "is numpy."
   ]
  },
  {
   "cell_type": "code",
   "execution_count": 5,
   "id": "2b603985",
   "metadata": {},
   "outputs": [],
   "source": [
    "#importing the numpy library\n",
    "import numpy as np"
   ]
  },
  {
   "cell_type": "markdown",
   "id": "30eccf32",
   "metadata": {},
   "source": [
    "The main object we will work with is np.array (actually it is called\n",
    "np.ndarray):"
   ]
  },
  {
   "cell_type": "code",
   "execution_count": 6,
   "id": "7f1a58e8",
   "metadata": {},
   "outputs": [
    {
     "data": {
      "text/plain": [
       "array([1.2, 1.2, 1.2, ..., 1.2, 1.2, 1.2])"
      ]
     },
     "execution_count": 6,
     "metadata": {},
     "output_type": "execute_result"
    }
   ],
   "source": [
    "#converting a list to a numpy array\n",
    "np_numbers = np.array(numbers)\n",
    "np_numbers"
   ]
  },
  {
   "cell_type": "markdown",
   "id": "fa1ec2d8",
   "metadata": {},
   "source": [
    "np.array is a special data type, similar to a list, but containing data of only\n",
    "one type (in this case, only real numbers)."
   ]
  },
  {
   "cell_type": "code",
   "execution_count": 8,
   "id": "053ede36",
   "metadata": {},
   "outputs": [
    {
     "data": {
      "text/plain": [
       "1.2"
      ]
     },
     "execution_count": 8,
     "metadata": {},
     "output_type": "execute_result"
    }
   ],
   "source": [
    "#output of the fourth element of the array\n",
    "np_numbers[3]"
   ]
  },
  {
   "cell_type": "code",
   "execution_count": 9,
   "id": "4256f916",
   "metadata": {},
   "outputs": [
    {
     "data": {
      "text/plain": [
       "10000"
      ]
     },
     "execution_count": 9,
     "metadata": {},
     "output_type": "execute_result"
    }
   ],
   "source": [
    "#array length\n",
    "len(np_numbers)"
   ]
  },
  {
   "cell_type": "markdown",
   "id": "70a44e52",
   "metadata": {},
   "source": [
    "From a mathematical point of view, np.array is something similar to a vector. But almost all operations are performed piecemeal. For example, squaring each element can be implemented as np_numbers**2."
   ]
  },
  {
   "cell_type": "code",
   "execution_count": 10,
   "id": "5fd5962b",
   "metadata": {},
   "outputs": [
    {
     "data": {
      "text/plain": [
       "array([1.44, 1.44, 1.44, ..., 1.44, 1.44, 1.44])"
      ]
     },
     "execution_count": 10,
     "metadata": {},
     "output_type": "execute_result"
    }
   ],
   "source": [
    "#squaring array elements\n",
    "np_squares = np_numbers**2\n",
    "np_squares"
   ]
  },
  {
   "cell_type": "code",
   "execution_count": 11,
   "id": "27e09b1e",
   "metadata": {},
   "outputs": [
    {
     "name": "stdout",
     "output_type": "stream",
     "text": [
      "3.38 µs ± 16.5 ns per loop (mean ± std. dev. of 7 runs, 100000 loops each)\n"
     ]
    }
   ],
   "source": [
    "%%timeit\n",
    "#Let's see how fast this operation works:\n",
    "np_squares = np_numbers**2"
   ]
  },
  {
   "cell_type": "markdown",
   "id": "02dc17cd",
   "metadata": {},
   "source": [
    "Here are 4 microseconds, 250+ times faster! True, we are warned that this may be\n",
    "the consequences of caching — but in any case, working with arrays of numbers using numpy\n",
    "is much faster than using regular lists and loops.\n",
    "\n",
    "Let's look at np.array in more detail."
   ]
  },
  {
   "cell_type": "markdown",
   "id": "042410f2",
   "metadata": {},
   "source": [
    "### Arrays are similar to lists"
   ]
  },
  {
   "cell_type": "code",
   "execution_count": 13,
   "id": "292bbaa2",
   "metadata": {},
   "outputs": [],
   "source": [
    "#import arrays from the numpy library\n",
    "from numpy import array"
   ]
  },
  {
   "cell_type": "code",
   "execution_count": 14,
   "id": "65082755",
   "metadata": {},
   "outputs": [],
   "source": [
    "#creating an array\n",
    "q = array([4, 5, 8, 9])"
   ]
  },
  {
   "cell_type": "markdown",
   "id": "ed30ac30",
   "metadata": {},
   "source": [
    "We will continue to call np.array arrays (unlike lists, which we don't\n",
    "call that in Python). So, you can access the array elements by indexes, as well as lists."
   ]
  },
  {
   "cell_type": "code",
   "execution_count": 15,
   "id": "49c435bf",
   "metadata": {},
   "outputs": [
    {
     "data": {
      "text/plain": [
       "4"
      ]
     },
     "execution_count": 15,
     "metadata": {},
     "output_type": "execute_result"
    }
   ],
   "source": [
    "#accessing an array element by index\n",
    "q[0]"
   ]
  },
  {
   "cell_type": "code",
   "execution_count": 16,
   "id": "b8b5ff45",
   "metadata": {},
   "outputs": [
    {
     "data": {
      "text/plain": [
       "array([54,  5,  8,  9])"
      ]
     },
     "execution_count": 16,
     "metadata": {},
     "output_type": "execute_result"
    }
   ],
   "source": [
    "#you can change the array when accessing it by index too\n",
    "q[0] = 54\n",
    "q"
   ]
  },
  {
   "cell_type": "markdown",
   "id": "2d4a475c",
   "metadata": {},
   "source": [
    "It is possible to iterate list items, although this should be avoided if possible — arrays\n",
    "numpy is needed just to avoid using loops to perform bulk operations.\n",
    "It will be clear below how this can be done."
   ]
  },
  {
   "cell_type": "code",
   "execution_count": 17,
   "id": "318be851",
   "metadata": {},
   "outputs": [
    {
     "name": "stdout",
     "output_type": "stream",
     "text": [
      "54\n",
      "5\n",
      "8\n",
      "9\n"
     ]
    }
   ],
   "source": [
    "#iterating array elements\n",
    "for x in q:\n",
    "    print(x)"
   ]
  },
  {
   "cell_type": "markdown",
   "id": "b5536651",
   "metadata": {},
   "source": [
    "You can make slices (but there are also tricks with them, more on that below)."
   ]
  },
  {
   "cell_type": "code",
   "execution_count": 18,
   "id": "ace5e4fd",
   "metadata": {},
   "outputs": [
    {
     "data": {
      "text/plain": [
       "array([5, 8])"
      ]
     },
     "execution_count": 18,
     "metadata": {},
     "output_type": "execute_result"
    }
   ],
   "source": [
    "#array slice\n",
    "q[1:3]"
   ]
  },
  {
   "cell_type": "code",
   "execution_count": 19,
   "id": "77febf19",
   "metadata": {},
   "outputs": [],
   "source": [
    "#let's create another array\n",
    "w = array([69, 54, 6, 10])"
   ]
  },
  {
   "cell_type": "markdown",
   "id": "cb9a1833",
   "metadata": {},
   "source": [
    "All arithmetic operations on arrays are performed piecemeal. Therefore, + means\n",
    "addition, not concatenation. Unlike regular lists."
   ]
  },
  {
   "cell_type": "code",
   "execution_count": 21,
   "id": "5b70cfc6",
   "metadata": {},
   "outputs": [
    {
     "data": {
      "text/plain": [
       "array([123,  59,  14,  19])"
      ]
     },
     "execution_count": 21,
     "metadata": {},
     "output_type": "execute_result"
    }
   ],
   "source": [
    "#the addition of arrays is piecemeal\n",
    "q + w"
   ]
  },
  {
   "cell_type": "markdown",
   "id": "0724b948",
   "metadata": {},
   "source": [
    "If you wanted to make a concatenation, then you need to use a\n",
    "special function instead of an addition operator."
   ]
  },
  {
   "cell_type": "code",
   "execution_count": 22,
   "id": "93b36c25",
   "metadata": {},
   "outputs": [
    {
     "data": {
      "text/plain": [
       "array([54,  5,  8,  9, 69, 54,  6, 10])"
      ]
     },
     "execution_count": 22,
     "metadata": {},
     "output_type": "execute_result"
    }
   ],
   "source": [
    "#concatenation of arrays\n",
    "np.concatenate( [q, w] )"
   ]
  },
  {
   "cell_type": "code",
   "execution_count": 23,
   "id": "47680460",
   "metadata": {},
   "outputs": [
    {
     "data": {
      "text/plain": [
       "array([3726,  270,   48,   90])"
      ]
     },
     "execution_count": 23,
     "metadata": {},
     "output_type": "execute_result"
    }
   ],
   "source": [
    "#Other operations work similarly to addition. For example, multiplication:\n",
    "q * w"
   ]
  },
  {
   "cell_type": "code",
   "execution_count": 24,
   "id": "67b4edcc",
   "metadata": {},
   "outputs": [
    {
     "ename": "ValueError",
     "evalue": "operands could not be broadcast together with shapes (4,) (3,) ",
     "output_type": "error",
     "traceback": [
      "\u001b[1;31m---------------------------------------------------------------------------\u001b[0m",
      "\u001b[1;31mValueError\u001b[0m                                Traceback (most recent call last)",
      "\u001b[1;32m~\\AppData\\Local\\Temp\\ipykernel_12980\\1594583004.py\u001b[0m in \u001b[0;36m<module>\u001b[1;34m\u001b[0m\n\u001b[0;32m      2\u001b[0m \u001b[0mq\u001b[0m \u001b[1;33m=\u001b[0m \u001b[0mnp\u001b[0m\u001b[1;33m.\u001b[0m\u001b[0marray\u001b[0m\u001b[1;33m(\u001b[0m\u001b[1;33m[\u001b[0m\u001b[1;36m14\u001b[0m\u001b[1;33m,\u001b[0m \u001b[1;36m8\u001b[0m\u001b[1;33m,\u001b[0m \u001b[1;36m14\u001b[0m\u001b[1;33m,\u001b[0m \u001b[1;36m9\u001b[0m\u001b[1;33m]\u001b[0m\u001b[1;33m)\u001b[0m\u001b[1;33m\u001b[0m\u001b[1;33m\u001b[0m\u001b[0m\n\u001b[0;32m      3\u001b[0m \u001b[0mw\u001b[0m \u001b[1;33m=\u001b[0m \u001b[0mnp\u001b[0m\u001b[1;33m.\u001b[0m\u001b[0marray\u001b[0m\u001b[1;33m(\u001b[0m\u001b[1;33m[\u001b[0m\u001b[1;36m1\u001b[0m\u001b[1;33m,\u001b[0m \u001b[1;36m3\u001b[0m\u001b[1;33m,\u001b[0m \u001b[1;36m4\u001b[0m\u001b[1;33m]\u001b[0m\u001b[1;33m)\u001b[0m\u001b[1;33m\u001b[0m\u001b[1;33m\u001b[0m\u001b[0m\n\u001b[1;32m----> 4\u001b[1;33m \u001b[0mq\u001b[0m \u001b[1;33m+\u001b[0m \u001b[0mw\u001b[0m\u001b[1;33m\u001b[0m\u001b[1;33m\u001b[0m\u001b[0m\n\u001b[0m",
      "\u001b[1;31mValueError\u001b[0m: operands could not be broadcast together with shapes (4,) (3,) "
     ]
    }
   ],
   "source": [
    "#If the arrays have different lengths, then nothing will work\n",
    "#ERROR: attempt to add up elements of arrays (different lengths) piecemeal\n",
    "q = np.array([14, 8, 14, 9])\n",
    "w = np.array([1, 3, 4])\n",
    "q + w"
   ]
  },
  {
   "cell_type": "markdown",
   "id": "c3d5f190",
   "metadata": {},
   "source": [
    "You can apply various mathematical operations to arrays."
   ]
  },
  {
   "cell_type": "code",
   "execution_count": 25,
   "id": "ee291e66",
   "metadata": {},
   "outputs": [],
   "source": [
    "x = array([1,2,3,4,5])\n",
    "y = array([4, 5, 6, 2, 1])"
   ]
  },
  {
   "cell_type": "code",
   "execution_count": 27,
   "id": "a0c62a90",
   "metadata": {},
   "outputs": [
    {
     "data": {
      "text/plain": [
       "array([  2.71828183,   7.3890561 ,  20.08553692,  54.59815003,\n",
       "       148.4131591 ])"
      ]
     },
     "execution_count": 27,
     "metadata": {},
     "output_type": "execute_result"
    }
   ],
   "source": [
    "#using exp()\n",
    "np.exp(x)"
   ]
  },
  {
   "cell_type": "markdown",
   "id": "ef339b71",
   "metadata": {},
   "source": [
    "Note that we had to use the exp function from numpy, not from regular math.\n",
    "If we had taken this function from math, nothing would have worked."
   ]
  },
  {
   "cell_type": "code",
   "execution_count": 30,
   "id": "cb9f0bfb",
   "metadata": {},
   "outputs": [
    {
     "ename": "TypeError",
     "evalue": "only size-1 arrays can be converted to Python scalars",
     "output_type": "error",
     "traceback": [
      "\u001b[1;31m---------------------------------------------------------------------------\u001b[0m",
      "\u001b[1;31mTypeError\u001b[0m                                 Traceback (most recent call last)",
      "\u001b[1;32m~\\AppData\\Local\\Temp\\ipykernel_12980\\4282621121.py\u001b[0m in \u001b[0;36m<module>\u001b[1;34m\u001b[0m\n\u001b[0;32m      1\u001b[0m \u001b[1;32mimport\u001b[0m \u001b[0mmath\u001b[0m\u001b[1;33m\u001b[0m\u001b[1;33m\u001b[0m\u001b[0m\n\u001b[0;32m      2\u001b[0m \u001b[1;31m#ERROR: attempt to use a function from the math library to an array\u001b[0m\u001b[1;33m\u001b[0m\u001b[1;33m\u001b[0m\u001b[0m\n\u001b[1;32m----> 3\u001b[1;33m \u001b[0mmath\u001b[0m\u001b[1;33m.\u001b[0m\u001b[0msqrt\u001b[0m\u001b[1;33m(\u001b[0m\u001b[0mx\u001b[0m\u001b[1;33m)\u001b[0m\u001b[1;33m\u001b[0m\u001b[1;33m\u001b[0m\u001b[0m\n\u001b[0m",
      "\u001b[1;31mTypeError\u001b[0m: only size-1 arrays can be converted to Python scalars"
     ]
    }
   ],
   "source": [
    "import math\n",
    "#ERROR: attempt to use a function from the math library to an array\n",
    "math.sqrt(x)"
   ]
  },
  {
   "cell_type": "markdown",
   "id": "42e6100d",
   "metadata": {},
   "source": [
    "In general, numpy has a lot of mathematical functions. Here, for example, is the square root:"
   ]
  },
  {
   "cell_type": "code",
   "execution_count": 31,
   "id": "826c49b0",
   "metadata": {},
   "outputs": [
    {
     "data": {
      "text/plain": [
       "array([1.        , 1.41421356, 1.73205081, 2.        , 2.23606798])"
      ]
     },
     "execution_count": 31,
     "metadata": {},
     "output_type": "execute_result"
    }
   ],
   "source": [
    "#extracting array elements from the square root\n",
    "np.sqrt(x)"
   ]
  },
  {
   "cell_type": "markdown",
   "id": "75e1440e",
   "metadata": {},
   "source": [
    "### Types of elements in arrays"
   ]
  },
  {
   "cell_type": "markdown",
   "id": "5e477584",
   "metadata": {},
   "source": [
    "In general, arrays can store not only numbers."
   ]
  },
  {
   "cell_type": "code",
   "execution_count": 33,
   "id": "93db54d4",
   "metadata": {},
   "outputs": [],
   "source": [
    "#an array not only with numbers\n",
    "mixed_array = np.array([1, 2, 3, \"Hello\"])"
   ]
  },
  {
   "cell_type": "markdown",
   "id": "8592d0fd",
   "metadata": {},
   "source": [
    "However, all elements lying in the same array must be of the same type."
   ]
  },
  {
   "cell_type": "code",
   "execution_count": 34,
   "id": "4c5bb92d",
   "metadata": {},
   "outputs": [
    {
     "data": {
      "text/plain": [
       "array(['1', '2', '3', 'Hello'], dtype='<U11')"
      ]
     },
     "execution_count": 34,
     "metadata": {},
     "output_type": "execute_result"
    }
   ],
   "source": [
    "#in fact, the array elements must be of the same type, so numbers are also strings\n",
    "mixed_array"
   ]
  },
  {
   "cell_type": "markdown",
   "id": "21e1f541",
   "metadata": {},
   "source": [
    "Here you can see that the numbers 1 , 2 , 3 have turned into lines '1' , '2' , '3' . The dtype parameter\n",
    "contains information about the type of objects stored in the array. <U11 means a unicode string\n",
    "with a maximum length of 11 bytes. If you try to write a longer string, it will be truncated."
   ]
  },
  {
   "cell_type": "code",
   "execution_count": 36,
   "id": "4a0a2b84",
   "metadata": {},
   "outputs": [
    {
     "data": {
      "text/plain": [
       "'Hello, Worl'"
      ]
     },
     "execution_count": 36,
     "metadata": {},
     "output_type": "execute_result"
    }
   ],
   "source": [
    "#attempt to write a longer string\n",
    "mixed_array[0] = 'Hello, World, This is a Test'\n",
    "mixed_array[0]"
   ]
  },
  {
   "cell_type": "markdown",
   "id": "1b14f1d6",
   "metadata": {},
   "source": [
    "In general, numpy tries not to lose information when creating an array and chooses the most\n",
    "\"capacious\" type."
   ]
  },
  {
   "cell_type": "code",
   "execution_count": 37,
   "id": "741d6c14",
   "metadata": {},
   "outputs": [
    {
     "data": {
      "text/plain": [
       "array([1, 2, 3])"
      ]
     },
     "execution_count": 37,
     "metadata": {},
     "output_type": "execute_result"
    }
   ],
   "source": [
    "#array of integers\n",
    "np.array([1,2,3])"
   ]
  },
  {
   "cell_type": "code",
   "execution_count": 39,
   "id": "d9769f32",
   "metadata": {},
   "outputs": [
    {
     "data": {
      "text/plain": [
       "array([1., 2., 3., 5.])"
      ]
     },
     "execution_count": 39,
     "metadata": {},
     "output_type": "execute_result"
    }
   ],
   "source": [
    "#array of real numbers\n",
    "array([1,2,3, 5.])"
   ]
  },
  {
   "cell_type": "markdown",
   "id": "8a125c61",
   "metadata": {},
   "source": [
    "All the numbers have turned into real numbers, because there is a real number in the original list from which the\n",
    "array is made."
   ]
  },
  {
   "cell_type": "markdown",
   "id": "0c5fb6d2",
   "metadata": {},
   "source": [
    "### Slices"
   ]
  },
  {
   "cell_type": "markdown",
   "id": "e9e63772",
   "metadata": {},
   "source": [
    "Let's look closely at the slices."
   ]
  },
  {
   "cell_type": "code",
   "execution_count": 90,
   "id": "88cbb2fc",
   "metadata": {},
   "outputs": [
    {
     "data": {
      "text/plain": [
       "array([2.2, 3.3])"
      ]
     },
     "execution_count": 90,
     "metadata": {},
     "output_type": "execute_result"
    }
   ],
   "source": [
    "#simple operation of slices\n",
    "x = array([1.1, 2.2, 3.3, 4.4, 5.5])\n",
    "s = x[1:3]\n",
    "s"
   ]
  },
  {
   "cell_type": "markdown",
   "id": "9b24515c",
   "metadata": {},
   "source": [
    "So far, everything is going as usual: we have created a slice starting with an element with index 1 (that is, the second\n",
    "element, numbering from zero) and ending with an element with index 3 (the last element is always\n",
    "not included)."
   ]
  },
  {
   "cell_type": "code",
   "execution_count": 91,
   "id": "f1f276b5",
   "metadata": {},
   "outputs": [
    {
     "data": {
      "text/plain": [
       "array([100. ,   3.3])"
      ]
     },
     "execution_count": 91,
     "metadata": {},
     "output_type": "execute_result"
    }
   ],
   "source": [
    "#Now let's try to change the value of the element in the slice:\n",
    "s[0] = 100\n",
    "s"
   ]
  },
  {
   "cell_type": "code",
   "execution_count": 92,
   "id": "8f6faf0b",
   "metadata": {},
   "outputs": [
    {
     "data": {
      "text/plain": [
       "array([  1.1, 100. ,   3.3,   4.4,   5.5])"
      ]
     },
     "execution_count": 92,
     "metadata": {},
     "output_type": "execute_result"
    }
   ],
   "source": [
    "#what happened to the original array x?\n",
    "x"
   ]
  },
  {
   "cell_type": "markdown",
   "id": "f264cfc7",
   "metadata": {},
   "source": [
    "He's changed too! We used to see a similar thing in situations where one list had\n",
    "several names (that is, several variables referred to it), but creating a slice earlier\n",
    "led to copying information. It turns out that in numpy, creating a slice does not copy anything:\n",
    "a slice is not a new array containing the same elements as the old one, but a so—called view,\n",
    "that is, a kind of interface to the old array. Roughly speaking, our slice s just remembers that\n",
    "\"its\" element with index 0 is actually an element with index 1 from the original array x, and\n",
    "its element with index 1 is actually an element with index 2 from the original array, and\n",
    "it has no other elements. You can think of the slice as such special glasses through which we\n",
    "look at the source array.\n",
    "\n",
    "There are two advantages of this approach: firstly, the uninitiated will break their heads trying to understand what\n",
    "is going on here, and secondly, if we have a huge array of data, then we will not have to spend\n",
    "resources to copy it if we need to make a slice. There are disadvantages too, but they\n",
    "are a continuation of the first of the advantages.\n",
    "\n",
    "If you still need to make a copy of the array, you need to use the copy() method."
   ]
  },
  {
   "cell_type": "code",
   "execution_count": 93,
   "id": "087dc753",
   "metadata": {},
   "outputs": [
    {
     "data": {
      "text/plain": [
       "array([  1.1, 100. ,   3.3,   4.4,   5.5])"
      ]
     },
     "execution_count": 93,
     "metadata": {},
     "output_type": "execute_result"
    }
   ],
   "source": [
    "#copying array x to array y\n",
    "y = x.copy()\n",
    "#output of the y array\n",
    "y"
   ]
  },
  {
   "cell_type": "code",
   "execution_count": 94,
   "id": "6a3a7a54",
   "metadata": {},
   "outputs": [
    {
     "data": {
      "text/plain": [
       "array([  1.1, 100. ,   3.3,   4.4,   5.5])"
      ]
     },
     "execution_count": 94,
     "metadata": {},
     "output_type": "execute_result"
    }
   ],
   "source": [
    "#output of the x array\n",
    "x"
   ]
  },
  {
   "cell_type": "code",
   "execution_count": 95,
   "id": "3ac2c613",
   "metadata": {},
   "outputs": [],
   "source": [
    "#changing the first element of the y array\n",
    "y[0] = 12"
   ]
  },
  {
   "cell_type": "code",
   "execution_count": 96,
   "id": "8cc9b9d2",
   "metadata": {},
   "outputs": [
    {
     "data": {
      "text/plain": [
       "array([ 12. , 100. ,   3.3,   4.4,   5.5])"
      ]
     },
     "execution_count": 96,
     "metadata": {},
     "output_type": "execute_result"
    }
   ],
   "source": [
    "#y array has changed\n",
    "y"
   ]
  },
  {
   "cell_type": "code",
   "execution_count": 97,
   "id": "91aff766",
   "metadata": {},
   "outputs": [
    {
     "data": {
      "text/plain": [
       "array([  1.1, 100. ,   3.3,   4.4,   5.5])"
      ]
     },
     "execution_count": 97,
     "metadata": {},
     "output_type": "execute_result"
    }
   ],
   "source": [
    "#x array has not changed\n",
    "x"
   ]
  },
  {
   "cell_type": "markdown",
   "id": "de459396",
   "metadata": {},
   "source": [
    "### Advanced indexing"
   ]
  },
  {
   "cell_type": "markdown",
   "id": "6f269db4",
   "metadata": {},
   "source": [
    "In addition to insidious slices, there are still some possibilities for creating new arrays from old ones.\n",
    "For example, you can select elements with the necessary numbers from the array like this:"
   ]
  },
  {
   "cell_type": "code",
   "execution_count": 98,
   "id": "2aecd386",
   "metadata": {},
   "outputs": [
    {
     "data": {
      "text/plain": [
       "array([  1.1, 100. ,   3.3,   4.4,   5.5])"
      ]
     },
     "execution_count": 98,
     "metadata": {},
     "output_type": "execute_result"
    }
   ],
   "source": [
    "#output of the x array\n",
    "x"
   ]
  },
  {
   "cell_type": "code",
   "execution_count": 99,
   "id": "b95ef937",
   "metadata": {},
   "outputs": [
    {
     "data": {
      "text/plain": [
       "array([100. ,   4.4,   5.5])"
      ]
     },
     "execution_count": 99,
     "metadata": {},
     "output_type": "execute_result"
    }
   ],
   "source": [
    "#selecting elements from array x to array y\n",
    "y = x[ [1, 3, 4] ]\n",
    "y"
   ]
  },
  {
   "cell_type": "code",
   "execution_count": 100,
   "id": "c8223962",
   "metadata": {},
   "outputs": [
    {
     "data": {
      "text/plain": [
       "array([100., 100., 100.])"
      ]
     },
     "execution_count": 100,
     "metadata": {},
     "output_type": "execute_result"
    }
   ],
   "source": [
    "#You can even use the same numbers\n",
    "y = x[ [1, 1, 1] ]\n",
    "y"
   ]
  },
  {
   "cell_type": "markdown",
   "id": "6ceb1f3f",
   "metadata": {},
   "source": [
    "By the way, the object created in this way is already an honest copy of the original one, and not some insidious kind."
   ]
  },
  {
   "cell_type": "code",
   "execution_count": 101,
   "id": "1c5c8c8c",
   "metadata": {},
   "outputs": [
    {
     "data": {
      "text/plain": [
       "array([123., 100., 100.])"
      ]
     },
     "execution_count": 101,
     "metadata": {},
     "output_type": "execute_result"
    }
   ],
   "source": [
    "#change the first element of the array y\n",
    "y[0] = 123\n",
    "y"
   ]
  },
  {
   "cell_type": "code",
   "execution_count": 102,
   "id": "00734964",
   "metadata": {},
   "outputs": [
    {
     "data": {
      "text/plain": [
       "array([  1.1, 100. ,   3.3,   4.4,   5.5])"
      ]
     },
     "execution_count": 102,
     "metadata": {},
     "output_type": "execute_result"
    }
   ],
   "source": [
    "#x array has not changed\n",
    "x"
   ]
  },
  {
   "cell_type": "markdown",
   "id": "6fdf5352",
   "metadata": {},
   "source": [
    "There is another tricky way to select elements from an array. Let's say we want to select only those\n",
    "elements that have some property - say, less than 50. It would be possible to\n",
    "use a loop with a condition or a similar list comprehension, but numpy uses\n",
    "a different syntax."
   ]
  },
  {
   "cell_type": "code",
   "execution_count": 103,
   "id": "5bc02b87",
   "metadata": {},
   "outputs": [
    {
     "data": {
      "text/plain": [
       "array([1.1, 3.3, 4.4, 5.5])"
      ]
     },
     "execution_count": 103,
     "metadata": {},
     "output_type": "execute_result"
    }
   ],
   "source": [
    "#select only those elements that are < 50\n",
    "y = x[ x < 50 ]\n",
    "y"
   ]
  },
  {
   "cell_type": "code",
   "execution_count": 104,
   "id": "75536d8b",
   "metadata": {},
   "outputs": [
    {
     "data": {
      "text/plain": [
       "array([  1.1, 100. ,   3.3,   4.4,   5.5])"
      ]
     },
     "execution_count": 104,
     "metadata": {},
     "output_type": "execute_result"
    }
   ],
   "source": [
    "#x array has not changed\n",
    "x"
   ]
  },
  {
   "cell_type": "markdown",
   "id": "aa0ebbac",
   "metadata": {},
   "source": [
    "How does it work? Very simple. (OK, not really.) To begin with, what is x < 50 ? This is the result\n",
    "of applying the \"compare with 50\" operation to each element of the array. That is, it is a new array."
   ]
  },
  {
   "cell_type": "code",
   "execution_count": 105,
   "id": "d061f171",
   "metadata": {},
   "outputs": [
    {
     "data": {
      "text/plain": [
       "array([ True, False,  True,  True,  True])"
      ]
     },
     "execution_count": 105,
     "metadata": {},
     "output_type": "execute_result"
    }
   ],
   "source": [
    "#new array of boolean values\n",
    "x < 50"
   ]
  },
  {
   "cell_type": "markdown",
   "id": "1a2fb5de",
   "metadata": {},
   "source": [
    "If there is True in some place, it means that there is an element in the corresponding place in x\n",
    "that satisfies the condition, and if False, it does not satisfy.\n",
    "\n",
    "Now you can try substituting an array of True and False as an index in x ."
   ]
  },
  {
   "cell_type": "code",
   "execution_count": 106,
   "id": "a6366a45",
   "metadata": {},
   "outputs": [
    {
     "data": {
      "text/plain": [
       "array([  1.1, 100. ,   5.5])"
      ]
     },
     "execution_count": 106,
     "metadata": {},
     "output_type": "execute_result"
    }
   ],
   "source": [
    "x[ array([True, True, False, False, True]) ]"
   ]
  },
  {
   "cell_type": "markdown",
   "id": "7e11c455",
   "metadata": {},
   "source": [
    "This thing selects exactly those elements whose places are True — that is, exactly those for\n",
    "which the condition was met. What we need!"
   ]
  },
  {
   "cell_type": "code",
   "execution_count": 107,
   "id": "098cf96d",
   "metadata": {},
   "outputs": [
    {
     "data": {
      "text/plain": [
       "array([3.3, 4.4, 5.5])"
      ]
     },
     "execution_count": 107,
     "metadata": {},
     "output_type": "execute_result"
    }
   ],
   "source": [
    "#And this is how you can check several conditions at the same time:\n",
    "x[ (x < 50) & (x > 2) ]"
   ]
  },
  {
   "cell_type": "markdown",
   "id": "f7ce8833",
   "metadata": {},
   "source": [
    "Parentheses are very important, otherwise nothing will work. The & operation corresponds to the logical And and\n",
    "is again performed piecemeal"
   ]
  },
  {
   "cell_type": "code",
   "execution_count": 108,
   "id": "d0ae8194",
   "metadata": {},
   "outputs": [
    {
     "data": {
      "text/plain": [
       "array([  1.1, 100. ,   3.3,   4.4,   5.5])"
      ]
     },
     "execution_count": 108,
     "metadata": {},
     "output_type": "execute_result"
    }
   ],
   "source": [
    "x"
   ]
  },
  {
   "cell_type": "code",
   "execution_count": 109,
   "id": "4eac4e02",
   "metadata": {},
   "outputs": [
    {
     "data": {
      "text/plain": [
       "array([False, False,  True,  True,  True])"
      ]
     },
     "execution_count": 109,
     "metadata": {},
     "output_type": "execute_result"
    }
   ],
   "source": [
    "#new array of boolean values (using logical and)\n",
    "(x < 50) & (x > 2)"
   ]
  },
  {
   "cell_type": "markdown",
   "id": "ce94fe1a",
   "metadata": {},
   "source": [
    "For logical OR we would use | , and for negation ~ ."
   ]
  },
  {
   "cell_type": "code",
   "execution_count": 110,
   "id": "dc9ffe80",
   "metadata": {},
   "outputs": [
    {
     "data": {
      "text/plain": [
       "array([ True,  True,  True,  True,  True])"
      ]
     },
     "execution_count": 110,
     "metadata": {},
     "output_type": "execute_result"
    }
   ],
   "source": [
    "#new array of boolean values (using logical or)\n",
    "(x < 50) | (x > 2)"
   ]
  },
  {
   "cell_type": "code",
   "execution_count": 111,
   "id": "39c7bf5f",
   "metadata": {},
   "outputs": [
    {
     "data": {
      "text/plain": [
       "array([False,  True, False, False, False])"
      ]
     },
     "execution_count": 111,
     "metadata": {},
     "output_type": "execute_result"
    }
   ],
   "source": [
    "#new array of boolean values (using logical not)\n",
    "~ (x < 50)"
   ]
  },
  {
   "cell_type": "markdown",
   "id": "6fc89b3f",
   "metadata": {},
   "source": [
    "The result of such a choice is again a view, and this is very convenient, because it allows you to replace\n",
    "some elements with others depending on the conditions and thus get rid of\n",
    "if statements."
   ]
  },
  {
   "cell_type": "code",
   "execution_count": 112,
   "id": "ec88cef3",
   "metadata": {},
   "outputs": [
    {
     "data": {
      "text/plain": [
       "array([  1.1, 100. ,   3.3,   4.4,   5.5])"
      ]
     },
     "execution_count": 112,
     "metadata": {},
     "output_type": "execute_result"
    }
   ],
   "source": [
    "x"
   ]
  },
  {
   "cell_type": "code",
   "execution_count": 113,
   "id": "01c74fdb",
   "metadata": {},
   "outputs": [],
   "source": [
    "#replace all elements larger than 50 with 0\n",
    "x[ x>50 ] = 0"
   ]
  },
  {
   "cell_type": "code",
   "execution_count": 114,
   "id": "71ff2458",
   "metadata": {},
   "outputs": [
    {
     "data": {
      "text/plain": [
       "array([1.1, 0. , 3.3, 4.4, 5.5])"
      ]
     },
     "execution_count": 114,
     "metadata": {},
     "output_type": "execute_result"
    }
   ],
   "source": [
    "x"
   ]
  },
  {
   "cell_type": "markdown",
   "id": "d8f6d69d",
   "metadata": {},
   "source": [
    "By the way, to find out if it is true that two arrays are equal (including that they consist of the same\n",
    "elements in the same order), you can no longer use == — after all, this\n",
    "is also an element-by-element operation!"
   ]
  },
  {
   "cell_type": "code",
   "execution_count": 116,
   "id": "bdfbc564",
   "metadata": {},
   "outputs": [
    {
     "data": {
      "text/plain": [
       "array([ True,  True,  True])"
      ]
     },
     "execution_count": 116,
     "metadata": {},
     "output_type": "execute_result"
    }
   ],
   "source": [
    "#comparison of array elements element by element\n",
    "np.array([1, 2, 3]) == np.array([1, 2, 3])"
   ]
  },
  {
   "cell_type": "code",
   "execution_count": 117,
   "id": "6bd11b57",
   "metadata": {},
   "outputs": [
    {
     "data": {
      "text/plain": [
       "True"
      ]
     },
     "execution_count": 117,
     "metadata": {},
     "output_type": "execute_result"
    }
   ],
   "source": [
    "#To understand whether it is true that arrays are equal, you can use the following syntax:\n",
    "(np.array([1, 2, 3]) == np.array([1,2,3])).all()"
   ]
  },
  {
   "cell_type": "markdown",
   "id": "321b214e",
   "metadata": {},
   "source": [
    "Here we first compare arrays element by element, and then apply\n",
    "the all() method to the result, which returns true only if all elements are true. This approach is often\n",
    "used, although it has its pitfalls.\n",
    "\n",
    "There is also a specialized function for checking for equality:"
   ]
  },
  {
   "cell_type": "code",
   "execution_count": 118,
   "id": "c2eaa02b",
   "metadata": {},
   "outputs": [
    {
     "data": {
      "text/plain": [
       "True"
      ]
     },
     "execution_count": 118,
     "metadata": {},
     "output_type": "execute_result"
    }
   ],
   "source": [
    "#function for checking arrays for equality\n",
    "np.array_equal(np.array([1, 2, 3]), np.array([1, 2, 3]))"
   ]
  },
  {
   "cell_type": "markdown",
   "id": "70d9c9eb",
   "metadata": {},
   "source": [
    "### Plotting in matplotlib"
   ]
  },
  {
   "cell_type": "markdown",
   "id": "9df8641b",
   "metadata": {},
   "source": [
    "There are many ways to build graphs in Python. We will now look at the simplest of them,\n",
    "and later we will talk about more complex ones. To do this , we need the matplotlib library ,\n",
    "or rather its part called pyplot."
   ]
  },
  {
   "cell_type": "code",
   "execution_count": 119,
   "id": "21b8215a",
   "metadata": {},
   "outputs": [],
   "source": [
    "#importing part of the matplotlib library: pyplot\n",
    "import matplotlib.pyplot as plt"
   ]
  },
  {
   "cell_type": "markdown",
   "id": "ece92137",
   "metadata": {},
   "source": [
    "In order for the graphs to be drawn directly in the laptop, you need to give this magic command:"
   ]
  },
  {
   "cell_type": "code",
   "execution_count": 120,
   "id": "c86d6c99",
   "metadata": {},
   "outputs": [],
   "source": [
    "%matplotlib inline"
   ]
  },
  {
   "cell_type": "markdown",
   "id": "b6d38f85",
   "metadata": {},
   "source": [
    "The simplest drawing is the plot function, it takes as input a list of x-coordinates, a list of y-coordinates and draws the corresponding picture either in the form of a polyline:"
   ]
  },
  {
   "cell_type": "code",
   "execution_count": 121,
   "id": "58b23cfd",
   "metadata": {},
   "outputs": [
    {
     "data": {
      "text/plain": [
       "[<matplotlib.lines.Line2D at 0x1b5629c3d60>]"
      ]
     },
     "execution_count": 121,
     "metadata": {},
     "output_type": "execute_result"
    },
    {
     "data": {
      "image/png": "[encoded data removed]",
      "text/plain": [
       "<Figure size 640x480 with 1 Axes>"
      ]
     },
     "metadata": {},
     "output_type": "display_data"
    }
   ],
   "source": [
    "#plotting by a list of coordinates in the form of two lists\n",
    "plt.plot([1, 2, 3, 4], [1, 4, 9, 16])"
   ]
  },
  {
   "cell_type": "code",
   "execution_count": 122,
   "id": "f7345611",
   "metadata": {},
   "outputs": [
    {
     "data": {
      "text/plain": [
       "[<matplotlib.lines.Line2D at 0x1b5630b27c0>]"
      ]
     },
     "execution_count": 122,
     "metadata": {},
     "output_type": "execute_result"
    },
    {
     "data": {
      "image/png": "[encoded data removed]",
      "text/plain": [
       "<Figure size 640x480 with 1 Axes>"
      ]
     },
     "metadata": {},
     "output_type": "display_data"
    }
   ],
   "source": [
    "#plotting a graph in the form of points\n",
    "plt.plot([1, 2, 3, 4], [1, 4, 9, 16], 'o')"
   ]
  },
  {
   "cell_type": "markdown",
   "id": "baadf333",
   "metadata": {},
   "source": [
    "There are still a bunch of ways to build a graph."
   ]
  },
  {
   "cell_type": "code",
   "execution_count": 124,
   "id": "4a37df5e",
   "metadata": {},
   "outputs": [
    {
     "data": {
      "text/plain": [
       "[<matplotlib.lines.Line2D at 0x1b5631940a0>]"
      ]
     },
     "execution_count": 124,
     "metadata": {},
     "output_type": "execute_result"
    },
    {
     "data": {
      "image/png": "[encoded data removed]",
      "text/plain": [
       "<Figure size 640x480 with 1 Axes>"
      ]
     },
     "metadata": {},
     "output_type": "display_data"
    }
   ],
   "source": [
    "#plotting a graph in the form of points connected by lines\n",
    "plt.plot([1, 2, 3, 4], [1, 4, 9, 16], '-o')"
   ]
  },
  {
   "cell_type": "markdown",
   "id": "9bf9b2ca",
   "metadata": {},
   "source": [
    "Let's see how numpy works in conjunction with matplotlib.pyplot . In general, it's all very similar to MATLAB."
   ]
  },
  {
   "cell_type": "code",
   "execution_count": 125,
   "id": "a382bf42",
   "metadata": {},
   "outputs": [],
   "source": [
    "#this is an array of 200 elements consisting of evenly scattered numbers from -5 to 5\n",
    "x = np.linspace(-5, 5, 200)"
   ]
  },
  {
   "cell_type": "code",
   "execution_count": 127,
   "id": "df1f0e52",
   "metadata": {},
   "outputs": [
    {
     "data": {
      "text/plain": [
       "200"
      ]
     },
     "execution_count": 127,
     "metadata": {},
     "output_type": "execute_result"
    }
   ],
   "source": [
    "#there are really 200 elements in the array\n",
    "len(x)"
   ]
  },
  {
   "cell_type": "code",
   "execution_count": 129,
   "id": "5e7c7d2f",
   "metadata": {},
   "outputs": [
    {
     "data": {
      "text/plain": [
       "array([-5.        , -4.94974874, -4.89949749, -4.84924623, -4.79899497])"
      ]
     },
     "execution_count": 129,
     "metadata": {},
     "output_type": "execute_result"
    }
   ],
   "source": [
    "#the first 5 elements of the array x\n",
    "x[:5]"
   ]
  },
  {
   "cell_type": "code",
   "execution_count": 130,
   "id": "ed0cf961",
   "metadata": {},
   "outputs": [
    {
     "data": {
      "text/plain": [
       "[<matplotlib.lines.Line2D at 0x1b5632c0250>]"
      ]
     },
     "execution_count": 130,
     "metadata": {},
     "output_type": "execute_result"
    },
    {
     "data": {
      "image/png": "[encoded data removed]",
      "text/plain": [
       "<Figure size 640x480 with 1 Axes>"
      ]
     },
     "metadata": {},
     "output_type": "display_data"
    }
   ],
   "source": [
    "#That's how you can draw a parabola:\n",
    "plt.plot(x, x*x)"
   ]
  },
  {
   "cell_type": "markdown",
   "id": "7f2bd9e6",
   "metadata": {},
   "source": [
    "Indeed, x\\*x is an array whose elements are the squares of the numbers lying in x. So, by constructing a graph consisting of points whose x-coordinates are written in x, and y-coordinates with x\\*x, we will construct a graph of the function y=x^2."
   ]
  },
  {
   "cell_type": "code",
   "execution_count": 131,
   "id": "e53d2f84",
   "metadata": {},
   "outputs": [
    {
     "data": {
      "text/plain": [
       "[<matplotlib.lines.Line2D at 0x1b5632d8b50>]"
      ]
     },
     "execution_count": 131,
     "metadata": {},
     "output_type": "execute_result"
    },
    {
     "data": {
      "image/png": "[encoded data removed]",
      "text/plain": [
       "<Figure size 640x480 with 1 Axes>"
      ]
     },
     "metadata": {},
     "output_type": "display_data"
    }
   ],
   "source": [
    "#And here, for example, is a sine wave:\n",
    "plt.plot(x, np.sin(x))"
   ]
  },
  {
   "cell_type": "code",
   "execution_count": 132,
   "id": "e9cfc630",
   "metadata": {},
   "outputs": [
    {
     "data": {
      "text/plain": [
       "[<matplotlib.lines.Line2D at 0x1b563344730>]"
      ]
     },
     "execution_count": 132,
     "metadata": {},
     "output_type": "execute_result"
    },
    {
     "data": {
      "image/png": "[encoded data removed]",
      "text/plain": [
       "<Figure size 640x480 with 1 Axes>"
      ]
     },
     "metadata": {},
     "output_type": "display_data"
    }
   ],
   "source": [
    "#something more complicated:\n",
    "plt.plot(x, np.sin(x**2))"
   ]
  },
  {
   "cell_type": "code",
   "execution_count": 133,
   "id": "fef02378",
   "metadata": {},
   "outputs": [
    {
     "data": {
      "text/plain": [
       "<matplotlib.legend.Legend at 0x1b5633ab970>"
      ]
     },
     "execution_count": 133,
     "metadata": {},
     "output_type": "execute_result"
    },
    {
     "data": {
      "image/png": "[encoded data removed]",
      "text/plain": [
       "<Figure size 640x480 with 1 Axes>"
      ]
     },
     "metadata": {},
     "output_type": "display_data"
    }
   ],
   "source": [
    "#This is how you can build several graphs and make signatures\n",
    "x = np.linspace(-1,1,201)\n",
    "plt.plot(x,x**2, label = '$y = x^2$')\n",
    "plt.plot(x,x**3, label = '$y = x^3$')\n",
    "plt.legend(loc='best')"
   ]
  },
  {
   "cell_type": "markdown",
   "id": "4a362122",
   "metadata": {},
   "source": [
    "The $ sign in label is used to write formulas — this is done in LaTeX\n",
    "(https://en.wikibooks.org/wiki/LaTeX/Mathematics )-notation and dollars there denote the beginning and\n",
    "end of the formula. (By the way, in IPython Notebook, you can also write\n",
    "formulas in LaTeX notation in Markdown type cells.)\n",
    "\n",
    "Of course, we could get x and y not as a result of calculating the values of some function, but\n",
    "from somewhere outside. Let's take random numbers as an example."
   ]
  },
  {
   "cell_type": "code",
   "execution_count": 137,
   "id": "e8de7c90",
   "metadata": {},
   "outputs": [
    {
     "data": {
      "text/plain": [
       "[<matplotlib.lines.Line2D at 0x1b564651820>]"
      ]
     },
     "execution_count": 137,
     "metadata": {},
     "output_type": "execute_result"
    },
    {
     "data": {
      "image/png": "[encoded data removed]",
      "text/plain": [
       "<Figure size 640x480 with 1 Axes>"
      ]
     },
     "metadata": {},
     "output_type": "display_data"
    }
   ],
   "source": [
    "#generating 100 random numbers in each of the arrays\n",
    "x = np.random.random(100)\n",
    "y = np.random.random(100)\n",
    "#plotting by points\n",
    "plt.plot(x,y, 'o')"
   ]
  },
  {
   "cell_type": "code",
   "execution_count": 138,
   "id": "8c83db9d",
   "metadata": {},
   "outputs": [
    {
     "data": {
      "text/plain": [
       "<matplotlib.collections.PathCollection at 0x1b5646a4580>"
      ]
     },
     "execution_count": 138,
     "metadata": {},
     "output_type": "execute_result"
    },
    {
     "data": {
      "image/png": "[encoded data removed]",
      "text/plain": [
       "<Figure size 640x480 with 1 Axes>"
      ]
     },
     "metadata": {},
     "output_type": "display_data"
    }
   ],
   "source": [
    "#There is also a specialized function for creating a scatter plot\n",
    "plt.scatter(x,y)"
   ]
  },
  {
   "cell_type": "code",
   "execution_count": 139,
   "id": "14c54dbf",
   "metadata": {},
   "outputs": [
    {
     "data": {
      "text/plain": [
       "(array([10.,  8., 11., 10., 11., 10.,  9.,  5., 12., 14.]),\n",
       " array([0.03200319, 0.12531229, 0.21862138, 0.31193047, 0.40523956,\n",
       "        0.49854865, 0.59185775, 0.68516684, 0.77847593, 0.87178502,\n",
       "        0.96509412]),\n",
       " <BarContainer object of 10 artists>)"
      ]
     },
     "execution_count": 139,
     "metadata": {},
     "output_type": "execute_result"
    },
    {
     "data": {
      "image/png": "[encoded data removed]",
      "text/plain": [
       "<Figure size 640x480 with 1 Axes>"
      ]
     },
     "metadata": {},
     "output_type": "display_data"
    }
   ],
   "source": [
    "#You can also build a histogram\n",
    "plt.hist(x)"
   ]
  },
  {
   "cell_type": "markdown",
   "id": "d5537041",
   "metadata": {},
   "source": [
    "You can build three-dimensional pictures, but magic is already needed here and I won't go into details."
   ]
  },
  {
   "cell_type": "code",
   "execution_count": 140,
   "id": "a1ccee5c",
   "metadata": {},
   "outputs": [
    {
     "data": {
      "text/plain": [
       "<Figure size 640x480 with 0 Axes>"
      ]
     },
     "metadata": {},
     "output_type": "display_data"
    }
   ],
   "source": [
    "import matplotlib.pyplot as plt\n",
    "from mpl_toolkits.mplot3d import Axes3D\n",
    "fig = plt.figure()"
   ]
  },
  {
   "cell_type": "code",
   "execution_count": 141,
   "id": "c990ed87",
   "metadata": {},
   "outputs": [
    {
     "data": {
      "image/png": "[encoded data removed]",
      "text/plain": [
       "<Figure size 640x480 with 1 Axes>"
      ]
     },
     "execution_count": 141,
     "metadata": {},
     "output_type": "execute_result"
    }
   ],
   "source": [
    "%matplotlib inline\n",
    "x,y = np.mgrid[-1:1:0.01, -1:1:0.01]\n",
    "ax = fig.add_subplot(111, projection='3d')\n",
    "ax.plot_surface(x,y,x**2+y**2)\n",
    "fig"
   ]
  },
  {
   "cell_type": "markdown",
   "id": "372b1402",
   "metadata": {},
   "source": [
    "Finally, you can build interactive pictures!"
   ]
  },
  {
   "cell_type": "code",
   "execution_count": 142,
   "id": "9980f9a2",
   "metadata": {},
   "outputs": [],
   "source": [
    "from ipywidgets import interact, interactive, fixed\n",
    "import ipywidgets as widgets\n",
    "import numpy as np\n",
    "import matplotlib.pyplot as plt"
   ]
  },
  {
   "cell_type": "code",
   "execution_count": 143,
   "id": "707bd2b5",
   "metadata": {},
   "outputs": [],
   "source": [
    "%matplotlib inline"
   ]
  },
  {
   "cell_type": "code",
   "execution_count": 144,
   "id": "b4bd988e",
   "metadata": {},
   "outputs": [],
   "source": [
    "def plot_pic(a, b):\n",
    "    x = np.linspace(-3,3,200)\n",
    "    plt.plot(x, np.sin(x*a+b))"
   ]
  },
  {
   "cell_type": "code",
   "execution_count": 145,
   "id": "400de74a",
   "metadata": {},
   "outputs": [
    {
     "data": {
      "application/vnd.jupyter.widget-view+json": {
       "model_id": "dcbacbe75e7f4f709f0eb19cf3abfffc",
       "version_major": 2,
       "version_minor": 0
      },
      "text/plain": [
       "interactive(children=(Dropdown(description='a', options=(0, 3, 0.1), value=0), Dropdown(description='b', optio…"
      ]
     },
     "metadata": {},
     "output_type": "display_data"
    },
    {
     "data": {
      "text/plain": [
       "<function __main__.plot_pic(a, b)>"
      ]
     },
     "execution_count": 145,
     "metadata": {},
     "output_type": "execute_result"
    }
   ],
   "source": [
    "interact(plot_pic, a=[0, 3, 0.1], b=[0, 3, 0.1])"
   ]
  },
  {
   "cell_type": "markdown",
   "id": "fc764831",
   "metadata": {},
   "source": [
    "The interact function creates several sliders and allows you to use them to set parameters for the\n",
    "function (in this case plot_pic) that builds the graph.\n",
    "\n",
    "*This picture will not be interactive when viewing IPython Notebook, but if you\n",
    "download it and run it on your computer, it will be there.*\n",
    "\n",
    "You can also call interact like this:"
   ]
  },
  {
   "cell_type": "code",
   "execution_count": 146,
   "id": "050a098b",
   "metadata": {},
   "outputs": [
    {
     "data": {
      "application/vnd.jupyter.widget-view+json": {
       "model_id": "2d3d8712cba5482699252bb544da4089",
       "version_major": 2,
       "version_minor": 0
      },
      "text/plain": [
       "interactive(children=(Dropdown(description='a', options=(0, 3, 0.1), value=0), Dropdown(description='b', optio…"
      ]
     },
     "metadata": {},
     "output_type": "display_data"
    }
   ],
   "source": [
    "@interact(a=[0, 3, 0.1], b=[0, 3, 0.1])\n",
    "def plot_pic(a, b):\n",
    "    x = np.linspace(-3,3,200)\n",
    "    plt.plot(x, np.sin(x*a+b))"
   ]
  }
 ],
 "metadata": {
  "kernelspec": {
   "display_name": "Python 3 (ipykernel)",
   "language": "python",
   "name": "python3"
  },
  "language_info": {
   "codemirror_mode": {
    "name": "ipython",
    "version": 3
   },
   "file_extension": ".py",
   "mimetype": "text/x-python",
   "name": "python",
   "nbconvert_exporter": "python",
   "pygments_lexer": "ipython3",
   "version": "3.11.4"
  }
 },
 "nbformat": 4,
 "nbformat_minor": 5
}
