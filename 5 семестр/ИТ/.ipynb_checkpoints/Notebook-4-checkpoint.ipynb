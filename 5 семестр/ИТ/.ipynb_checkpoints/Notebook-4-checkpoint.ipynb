{
 "cells": [
  {
   "cell_type": "markdown",
   "id": "ac5768f4",
   "metadata": {},
   "source": [
    "# Notepad 4. Information Technologies"
   ]
  },
  {
   "cell_type": "markdown",
   "id": "952c05a8",
   "metadata": {},
   "source": [
    "Performed by Movenko Konstatin, IS/b-21-2-o"
   ]
  },
  {
   "cell_type": "markdown",
   "id": "64511d6a",
   "metadata": {},
   "source": [
    "## Example of function definition"
   ]
  },
  {
   "cell_type": "markdown",
   "id": "80c84a58",
   "metadata": {},
   "source": [
    "For example:"
   ]
  },
  {
   "cell_type": "code",
   "execution_count": 1,
   "id": "120b88bd",
   "metadata": {},
   "outputs": [
    {
     "data": {
      "text/plain": [
       "8.0"
      ]
     },
     "execution_count": 1,
     "metadata": {},
     "output_type": "execute_result"
    }
   ],
   "source": [
    "# import specific function from module\n",
    "from math import sqrt\n",
    "sqrt(25)+sqrt(9) # sum and print a result of calling imported function"
   ]
  },
  {
   "cell_type": "markdown",
   "id": "df236897",
   "metadata": {},
   "source": [
    "Functions in programming are similar to functions in mathematics but they have their own specifics. For example, let's try the *factorial*. Recall that the factorial of a natural number `n` is the product of all natural numbers (starting from 1) to `n`."
   ]
  },
  {
   "cell_type": "markdown",
   "id": "72624883",
   "metadata": {},
   "source": [
    " $factorial(n) = 1 \\times 2 \\times ... \\times n$"
   ]
  },
  {
   "cell_type": "markdown",
   "id": "6eddeaf0",
   "metadata": {},
   "source": [
    "Let's first write a program to calculate the factorial of some number. It will look like this:"
   ]
  },
  {
   "cell_type": "code",
   "execution_count": 2,
   "id": "2f2df6c0",
   "metadata": {},
   "outputs": [
    {
     "name": "stdout",
     "output_type": "stream",
     "text": [
      "120\n"
     ]
    }
   ],
   "source": [
    "n = 5 # number of factorial\n",
    "f = 1 # result variable\n",
    "for i in range(2, n+1):  # perform calculations\n",
    "    f = f * i\n",
    "print(f) # print result"
   ]
  },
  {
   "cell_type": "markdown",
   "id": "5af40577",
   "metadata": {},
   "source": [
    "In this case, we need to write a function that calculates the factorial. It looks like this:"
   ]
  },
  {
   "cell_type": "code",
   "execution_count": 3,
   "id": "fbb9be8c",
   "metadata": {},
   "outputs": [],
   "source": [
    "# define the function that find the factorial of its argument\n",
    "def factorial(n):\n",
    "    f = 1\n",
    "    for i in range(2, n+1):\n",
    "        f = f * i   \n",
    "    return f"
   ]
  },
  {
   "cell_type": "markdown",
   "id": "b0b29779",
   "metadata": {},
   "source": [
    "Let's try calling of the `factorial` function"
   ]
  },
  {
   "cell_type": "code",
   "execution_count": 4,
   "id": "627726ea",
   "metadata": {},
   "outputs": [
    {
     "data": {
      "text/plain": [
       "720"
      ]
     },
     "execution_count": 4,
     "metadata": {},
     "output_type": "execute_result"
    }
   ],
   "source": [
    "factorial(6) # print the factorial of the number"
   ]
  },
  {
   "cell_type": "markdown",
   "id": "40ddee22",
   "metadata": {},
   "source": [
    "And even use it in more complex expressions:"
   ]
  },
  {
   "cell_type": "code",
   "execution_count": 5,
   "id": "2aa738c8",
   "metadata": {},
   "outputs": [
    {
     "data": {
      "text/plain": [
       "840"
      ]
     },
     "execution_count": 5,
     "metadata": {},
     "output_type": "execute_result"
    }
   ],
   "source": [
    "factorial(5) + factorial(6)  # print a sum of two factorials"
   ]
  },
  {
   "cell_type": "markdown",
   "id": "98f3d1f5",
   "metadata": {},
   "source": [
    "Let's take a closer look at what happens when Python calculates the value of the expression `factorial(6)`. First of all, he looks at the first line of the function definition (this is the so-called *signature*):"
   ]
  },
  {
   "cell_type": "markdown",
   "id": "0665da2a",
   "metadata": {},
   "source": [
    "`def factorial(n):`"
   ]
  },
  {
   "cell_type": "markdown",
   "id": "b06fd254",
   "metadata": {},
   "source": [
    "Here he see that the `factorial()` function has an argument called `n`. Python remembers that we called `factorial(6)`, so the value of the argument should be 6. Because of this, he executes the line (which we did not write):"
   ]
  },
  {
   "cell_type": "markdown",
   "id": "7a446200",
   "metadata": {},
   "source": [
    "`n = 6`"
   ]
  },
  {
   "cell_type": "markdown",
   "id": "767e96d7",
   "metadata": {},
   "source": [
    "Then executes the remaining lines from the *function body*:"
   ]
  },
  {
   "cell_type": "code",
   "execution_count": 6,
   "id": "fa533407",
   "metadata": {},
   "outputs": [],
   "source": [
    "# body of function, that calculates factorial\n",
    "f = 1\n",
    "for i in range(2, n+1):\n",
    "    f = f * i"
   ]
  },
  {
   "cell_type": "markdown",
   "id": "888e60fb",
   "metadata": {},
   "source": [
    "Finally it gets to the line:"
   ]
  },
  {
   "cell_type": "markdown",
   "id": "e17381fd",
   "metadata": {},
   "source": [
    "`return f`"
   ]
  },
  {
   "cell_type": "markdown",
   "id": "54f47596",
   "metadata": {},
   "source": [
    "At this point, the variable `f` has the value 24. The word `return` means that Python should return to the line in which `factorial(6)` was called, and replace `factorial(6)` with 24 there (what is written after `return`). This completes the function call."
   ]
  },
  {
   "cell_type": "markdown",
   "id": "3b515f19",
   "metadata": {},
   "source": [
    "## Return values"
   ]
  },
  {
   "cell_type": "markdown",
   "id": "a2b347d9",
   "metadata": {},
   "source": [
    "Let's look at the example, what is the difference between the return value and the side effect. Let's write a function that welcomes the user."
   ]
  },
  {
   "cell_type": "code",
   "execution_count": 7,
   "id": "a1767314",
   "metadata": {},
   "outputs": [],
   "source": [
    "# define function that returns a given name with greetings\n",
    "def hello(name):\n",
    "    return \"Hello, \" + name + \"!\""
   ]
  },
  {
   "cell_type": "code",
   "execution_count": 8,
   "id": "bc95aa6f",
   "metadata": {},
   "outputs": [],
   "source": [
    "s = hello(\"World\") # assign the result to the variable"
   ]
  },
  {
   "cell_type": "code",
   "execution_count": 9,
   "id": "c46801ce",
   "metadata": {},
   "outputs": [
    {
     "data": {
      "text/plain": [
       "'Hello, World!'"
      ]
     },
     "execution_count": 9,
     "metadata": {},
     "output_type": "execute_result"
    }
   ],
   "source": [
    "s # print that variable"
   ]
  },
  {
   "cell_type": "markdown",
   "id": "57020cd0",
   "metadata": {},
   "source": [
    "The s variable now contains the result of executing the `hello()` function, which was passed the `name` argument equal to \"World\" as input."
   ]
  },
  {
   "cell_type": "markdown",
   "id": "7b641c2a",
   "metadata": {},
   "source": [
    "Let's write another function that does not *return* a line, but prints it."
   ]
  },
  {
   "cell_type": "code",
   "execution_count": 10,
   "id": "60bccc3b",
   "metadata": {},
   "outputs": [],
   "source": [
    "# define function that prints a given name with greetings\n",
    "def say_hello(name):\n",
    "    print(\"Hello, \" + name + \"!\")"
   ]
  },
  {
   "cell_type": "markdown",
   "id": "aaf41694",
   "metadata": {},
   "source": [
    "There is no `return` command in this function at all, Python will understand that it is necessary to return from the function to the main program at the moment when the lines in the function have ended. In this case, there is only one line in the function."
   ]
  },
  {
   "cell_type": "code",
   "execution_count": 11,
   "id": "a7fc8c8c",
   "metadata": {},
   "outputs": [
    {
     "name": "stdout",
     "output_type": "stream",
     "text": [
      "Hello, Harry!\n"
     ]
    }
   ],
   "source": [
    "s = say_hello(\"Harry\") # call function and assign result to the variable"
   ]
  },
  {
   "cell_type": "markdown",
   "id": "bc708e33",
   "metadata": {},
   "source": [
    "Please note: now when `s = say_hello(\"Harry\")` is executed, the line is printed. This is a *side effect* of executing the `say_hello` function. What lies in the variable `s`?"
   ]
  },
  {
   "cell_type": "code",
   "execution_count": 12,
   "id": "894c0702",
   "metadata": {},
   "outputs": [],
   "source": [
    "s # print result variable"
   ]
  },
  {
   "cell_type": "code",
   "execution_count": 13,
   "id": "9c8cb8dd",
   "metadata": {},
   "outputs": [
    {
     "name": "stdout",
     "output_type": "stream",
     "text": [
      "None\n"
     ]
    }
   ],
   "source": [
    "print(s) # print result variable by using print() function"
   ]
  },
  {
   "cell_type": "markdown",
   "id": "06ee94c8",
   "metadata": {},
   "source": [
    "There is *nothing* in it. This is a special `None` object that is used when some value needs to be assigned to a variable, but there is no value. In this case, it is not there, because the function did not return anything. `say_hello()` does not have a return value. It happens."
   ]
  },
  {
   "cell_type": "markdown",
   "id": "6407d55f",
   "metadata": {},
   "source": [
    "## Harder situations with functions"
   ]
  },
  {
   "cell_type": "markdown",
   "id": "8e1d650f",
   "metadata": {},
   "source": [
    "Functions can call other functions. For example, instead of copying the line `\"Hello,\" + name + \"!\"` from the `hello()` function to the `say_hello()` function, just call `hello()` from `say_hello()`."
   ]
  },
  {
   "cell_type": "code",
   "execution_count": 14,
   "id": "0310371f",
   "metadata": {},
   "outputs": [],
   "source": [
    "# define function that prints greetings given from another function\n",
    "def new_say_hello(name):\n",
    "    print(hello(name))"
   ]
  },
  {
   "cell_type": "code",
   "execution_count": 15,
   "id": "7fcaf89e",
   "metadata": {},
   "outputs": [
    {
     "name": "stdout",
     "output_type": "stream",
     "text": [
      "Hello, Harry!\n"
     ]
    }
   ],
   "source": [
    "new_say_hello(\"Harry\") # test it"
   ]
  },
  {
   "cell_type": "markdown",
   "id": "67f31c1d",
   "metadata": {},
   "source": [
    "For example, let's write a function that calculates *binomial coefficients*. Recall that the binomial coefficient $C_{n}^{k}$ is a number that shows how many ways $k$ objects can be selected from $n$. The great science of combinatorics teaches us that this number can be calculated as follows:"
   ]
  },
  {
   "cell_type": "markdown",
   "id": "861ef468",
   "metadata": {},
   "source": [
    "$C_{n}^{k} = \\frac {n!} {k!(n-k)!}$"
   ]
  },
  {
   "cell_type": "markdown",
   "id": "e479000a",
   "metadata": {},
   "source": [
    "Here, exclamation marks denote factorials. Let's write a function that calculates the binomial coefficient. We use the `factorial` function written earlier for this ."
   ]
  },
  {
   "cell_type": "code",
   "execution_count": 16,
   "id": "bb3a3b7c",
   "metadata": {},
   "outputs": [],
   "source": [
    "# define function that calculates binomial coefficients\n",
    "def binom(k, n):\n",
    "    \"\"\"\n",
    "    calculates binomial coeffs: k from n\n",
    "    k, n are integers\n",
    "    retuns C_n^k\n",
    "    \"\"\"\n",
    "    return factorial(n) // (factorial(k) * factorial(n-k))"
   ]
  },
  {
   "cell_type": "markdown",
   "id": "bcef7bef",
   "metadata": {},
   "source": [
    "How many ways can you choose two duty officers from three participants of the campaign? Three — because choosing two people on duty is the same as choosing one person who is not on duty."
   ]
  },
  {
   "cell_type": "code",
   "execution_count": 17,
   "id": "5e845e2e",
   "metadata": {},
   "outputs": [
    {
     "data": {
      "text/plain": [
       "3"
      ]
     },
     "execution_count": 17,
     "metadata": {},
     "output_type": "execute_result"
    }
   ],
   "source": [
    "binom(2, 3) # test function"
   ]
  },
  {
   "cell_type": "markdown",
   "id": "d753b3bc",
   "metadata": {},
   "source": [
    "In triple quotes, immediately after the signature of the function, its description is usually given (the so-called `docstring`). This is a comment for people who will use your feature in the future. To look at this help, you can type the name of your function, the opening bracket and press *Shift+Tab+Tab*."
   ]
  },
  {
   "cell_type": "markdown",
   "id": "276f1b81",
   "metadata": {},
   "source": [
    "After executing the `return` line, the function execution stops. Let's look at another example: calculate the modulus of some number."
   ]
  },
  {
   "cell_type": "code",
   "execution_count": 18,
   "id": "ef9a512f",
   "metadata": {},
   "outputs": [],
   "source": [
    "# define function that finds absolute value of a argument\n",
    "def my_abs(x):\n",
    "    if x > 0:\n",
    "        return x\n",
    "    else:\n",
    "        return -x"
   ]
  },
  {
   "cell_type": "code",
   "execution_count": 19,
   "id": "567ddb64",
   "metadata": {},
   "outputs": [
    {
     "data": {
      "text/plain": [
       "5"
      ]
     },
     "execution_count": 19,
     "metadata": {},
     "output_type": "execute_result"
    }
   ],
   "source": [
    "my_abs (-5) # test"
   ]
  },
  {
   "cell_type": "markdown",
   "id": "e137bcac",
   "metadata": {},
   "source": [
    "This is the simplest solution: if the number is positive, then it returns by itself, and if it is negative, then it returns with the opposite sign (-x). It would be possible to write this function in this way:"
   ]
  },
  {
   "cell_type": "code",
   "execution_count": 20,
   "id": "03a1200c",
   "metadata": {},
   "outputs": [],
   "source": [
    "# another implementation of the my_abs function\n",
    "# if there was already a function with this name, Python will forget about it and write a new function instead\n",
    "# just to make sure, I put this print here\n",
    "def my_abs(x):\n",
    "    print(\"New my_abs\")\n",
    "    if x > 0:\n",
    "        return x\n",
    "    return -x\n"
   ]
  },
  {
   "cell_type": "code",
   "execution_count": 21,
   "id": "94e3b874",
   "metadata": {},
   "outputs": [
    {
     "name": "stdout",
     "output_type": "stream",
     "text": [
      "New my_abs\n"
     ]
    },
    {
     "data": {
      "text/plain": [
       "6"
      ]
     },
     "execution_count": 21,
     "metadata": {},
     "output_type": "execute_result"
    }
   ],
   "source": [
    "my_abs(-6) # test it"
   ]
  },
  {
   "cell_type": "markdown",
   "id": "02dff18e",
   "metadata": {},
   "source": [
    "The following happens here: if the number is positive, then `return x` is triggered and after that the execution of the function stops, it does not reach the `return -x` line. And if the number is negative, then on the contrary, only the `return -x` line is triggered (because of the `if` operator)."
   ]
  },
  {
   "cell_type": "code",
   "execution_count": 22,
   "id": "1cf5b8ce",
   "metadata": {},
   "outputs": [],
   "source": [
    "%load_ext tutormagic"
   ]
  },
  {
   "cell_type": "markdown",
   "id": "beef594f",
   "metadata": {},
   "source": [
    "## Local and global variables "
   ]
  },
  {
   "cell_type": "markdown",
   "id": "e8c4c15a",
   "metadata": {},
   "source": [
    "Various variables can be created and used inside the function. So that this does not create problems, the variables defined inside the function are not visible from the outside. Let's look at an example:"
   ]
  },
  {
   "cell_type": "code",
   "execution_count": 23,
   "id": "5dad8683",
   "metadata": {},
   "outputs": [
    {
     "name": "stdout",
     "output_type": "stream",
     "text": [
      "10\n",
      "In the function, f = 40320\n",
      "40320\n",
      "Out of function\n",
      "10\n"
     ]
    }
   ],
   "source": [
    "f = 10 # assign value to global variable f\n",
    "\n",
    "# define function that finds factorial\n",
    "def factorial(n):\n",
    "    f = 1 # assign value to local variable f\n",
    "    for i in range(2, n+1):         \n",
    "        f = f * i\n",
    "    print(\"In the function, f =\", f) # print f\n",
    "    return f\n",
    "\n",
    "f = 10  # reassign value to global variable f\n",
    "print(f) # print global variable f\n",
    "print(factorial(8)) # print the factorial of 8\n",
    "print(\"Out of function\")\n",
    "print(f) # print variable again (it didn't change)"
   ]
  },
  {
   "cell_type": "markdown",
   "id": "6f0170f0",
   "metadata": {},
   "source": [
    "The same code running in the visualizer:"
   ]
  },
  {
   "cell_type": "code",
   "execution_count": 24,
   "id": "b8d38b3c",
   "metadata": {},
   "outputs": [
    {
     "data": {
      "text/html": [
       "\n",
       "        <iframe\n",
       "            width=\"100%\"\n",
       "            height=\"350\"\n",
       "            src=\"http://pythontutor.com/iframe-embed.html#code=f%20%3D%2010%20%23%20assign%20value%20to%20global%20variable%20f%0A%0A%23%20define%20function%20that%20finds%20factorial%0Adef%20factorial%28n%29%3A%0A%20%20%20%20f%20%3D%201%20%23%20assign%20value%20to%20local%20variable%20%0A%20%20%20%20for%20i%20in%20range%282%2C%20n%2B1%29%3A%20%20%20%20%20%20%20%20%20%0A%20%20%20%20%20%20%20%20f%20%3D%20f%20%2A%20i%0A%20%20%20%20print%28%22In%20the%20function%2C%20f%20%3D%22%2C%20f%29%20%23%20print%20f%0A%20%20%20%20return%20f%0A%0Af%20%3D%2010%20%20%23%20reassign%20value%20to%20global%20variable%20f%0Aprint%28f%29%20%23%20print%20global%20variable%20f%0Aprint%28factorial%288%29%29%20%23%20print%20the%20factorial%20of%208%0Aprint%28%22Out%20of%20function%22%29%0Aprint%28f%29%20%23%20print%20global%20variable%20f%20again%20%28it%20didn%27t%20change%29%0A&origin=opt-frontend.js&cumulative=false&heapPrimitives=false&textReferences=false&curInstr=0&&verticalStack=false&py=3&rawInputLstJSON=%5B%5D&codeDivWidth=50%25&codeDivHeight=100%25\"\n",
       "            frameborder=\"0\"\n",
       "            allowfullscreen\n",
       "            \n",
       "        ></iframe>\n",
       "        "
      ],
      "text/plain": [
       "<IPython.lib.display.IFrame at 0x13718d5b090>"
      ]
     },
     "metadata": {},
     "output_type": "display_data"
    }
   ],
   "source": [
    "%%tutor lang='python3'\n",
    "f = 10 # assign value to global variable f\n",
    "\n",
    "# define function that finds factorial\n",
    "def factorial(n):\n",
    "    f = 1 # assign value to local variable \n",
    "    for i in range(2, n+1):         \n",
    "        f = f * i\n",
    "    print(\"In the function, f =\", f) # print f\n",
    "    return f\n",
    "\n",
    "f = 10  # reassign value to global variable f\n",
    "print(f) # print global variable f\n",
    "print(factorial(8)) # print the factorial of 8\n",
    "print(\"Out of function\")\n",
    "print(f) # print global variable f again (it didn't change)"
   ]
  },
  {
   "cell_type": "markdown",
   "id": "719a7282",
   "metadata": {},
   "source": [
    "As can be seen from the result of executing this code, the variable `f` in the main program and the variable `f` inside the function are completely different variables (the `pythontutor` visualizer draws them in different *frames*). From the fact that we somehow change `f` inside the function, the value of the variable `f` outside of it has not changed, and vice versa. This is very convenient: if a function changed the value of an \"external\" variable, it could do it accidentally and this would lead to unpredictable consequences."
   ]
  },
  {
   "cell_type": "markdown",
   "id": "4ef78f88",
   "metadata": {},
   "source": [
    "Let's say we want to write a function that will greet the user using the language specified by him in the settings. She could look like this:"
   ]
  },
  {
   "cell_type": "code",
   "execution_count": 25,
   "id": "6c46dbb8",
   "metadata": {},
   "outputs": [],
   "source": [
    "def hello_i18n(name, lang): # define a function\n",
    "    if lang == 'ru':        #  if user's language is Russian then print \"Привет\"\n",
    "        print(\"Привет,\", name)       \n",
    "    else:                   # if else use English \"Hello\"\n",
    "        print(\"Hello,\", name)"
   ]
  },
  {
   "cell_type": "code",
   "execution_count": 26,
   "id": "5ad1ecce",
   "metadata": {},
   "outputs": [
    {
     "name": "stdout",
     "output_type": "stream",
     "text": [
      "Привет, Ivan\n"
     ]
    }
   ],
   "source": [
    "hello_i18n(\"Ivan\", 'ru') # test the function (russian)"
   ]
  },
  {
   "cell_type": "code",
   "execution_count": 27,
   "id": "bfe85bbe",
   "metadata": {},
   "outputs": [
    {
     "name": "stdout",
     "output_type": "stream",
     "text": [
      "Hello, Ivan\n"
     ]
    }
   ],
   "source": [
    "hello_i18n(\"Ivan\", 'en') # test the function (english)"
   ]
  },
  {
   "cell_type": "markdown",
   "id": "1f156da8",
   "metadata": {},
   "source": [
    "The problem is that there can be a lot of functions that need to know which language is selected, and each time it is quite painful to manually pass them the value of the `lang` variable by a separate parameter. It turns out that this can be avoided:"
   ]
  },
  {
   "cell_type": "code",
   "execution_count": 28,
   "id": "0f7117e8",
   "metadata": {},
   "outputs": [
    {
     "name": "stdout",
     "output_type": "stream",
     "text": [
      "Hello world\n",
      "Привет, Ivan\n",
      "Hello, John\n"
     ]
    }
   ],
   "source": [
    "def hello_i18n(name):  # define a function\n",
    "    if lang == 'ru':        #  if user's language is Russian then print \"Привет\"\n",
    "        print(\"Привет,\",name)\n",
    "    else:                   # if else use English \"Hello\"\n",
    "        print(\"Hello,\",name)\n",
    "\n",
    "# test the function\n",
    "lang = 'ru'          # assign global variable\n",
    "print(\"Hello world\")\n",
    "hello_i18n('Ivan')\n",
    "lang = 'en'          # reassign global variable\n",
    "hello_i18n('John')"
   ]
  },
  {
   "cell_type": "markdown",
   "id": "579a1d93",
   "metadata": {},
   "source": [
    "As you can see, now the behavior of the function depends on what the lang variable defined outside the function is equal to. Maybe in the `factorial()` function it was possible to refer to the variable `f` before we put the number $1$ in it? Let's try it:"
   ]
  },
  {
   "cell_type": "code",
   "execution_count": 29,
   "id": "4c37d32f",
   "metadata": {},
   "outputs": [],
   "source": [
    "# define function that finds factorial\n",
    "def factorial(n):\n",
    "    print(\"In the function, before assignment, f =\", f) # print global f value\n",
    "    f = 1\n",
    "    for i in range(2, n+1):\n",
    "        f = f * i\n",
    "    print(\"In the function, f =\", f) # print local f value\n",
    "    return f # return result"
   ]
  },
  {
   "cell_type": "code",
   "execution_count": 30,
   "id": "e8c8d3a4",
   "metadata": {},
   "outputs": [
    {
     "ename": "UnboundLocalError",
     "evalue": "cannot access local variable 'f' where it is not associated with a value",
     "output_type": "error",
     "traceback": [
      "\u001b[1;31m---------------------------------------------------------------------------\u001b[0m",
      "\u001b[1;31mUnboundLocalError\u001b[0m                         Traceback (most recent call last)",
      "Cell \u001b[1;32mIn[30], line 1\u001b[0m\n\u001b[1;32m----> 1\u001b[0m factorial(\u001b[38;5;241m2\u001b[39m)\n",
      "Cell \u001b[1;32mIn[29], line 3\u001b[0m, in \u001b[0;36mfactorial\u001b[1;34m(n)\u001b[0m\n\u001b[0;32m      2\u001b[0m \u001b[38;5;28;01mdef\u001b[39;00m \u001b[38;5;21mfactorial\u001b[39m(n):\n\u001b[1;32m----> 3\u001b[0m     \u001b[38;5;28mprint\u001b[39m(\u001b[38;5;124m\"\u001b[39m\u001b[38;5;124mIn the function, before assignment, f =\u001b[39m\u001b[38;5;124m\"\u001b[39m, f) \u001b[38;5;66;03m# print global f value\u001b[39;00m\n\u001b[0;32m      4\u001b[0m     f \u001b[38;5;241m=\u001b[39m \u001b[38;5;241m1\u001b[39m\n\u001b[0;32m      5\u001b[0m     \u001b[38;5;28;01mfor\u001b[39;00m i \u001b[38;5;129;01min\u001b[39;00m \u001b[38;5;28mrange\u001b[39m(\u001b[38;5;241m2\u001b[39m, n\u001b[38;5;241m+\u001b[39m\u001b[38;5;241m1\u001b[39m):\n",
      "\u001b[1;31mUnboundLocalError\u001b[0m: cannot access local variable 'f' where it is not associated with a value"
     ]
    }
   ],
   "source": [
    "factorial(2) # test function"
   ]
  },
  {
   "cell_type": "markdown",
   "id": "7eef00ac",
   "metadata": {},
   "source": [
    "In this case, Python throws an error: the local variable `f` was used before assigning the value. What is the difference between this code and the previous one?"
   ]
  },
  {
   "cell_type": "markdown",
   "id": "55a88b64",
   "metadata": {},
   "source": [
    "Python before executing a function, it analyzes its code and determines which of the variables is local and which is global. As global variables, by default, those that do not change in the body of the function are used (that is, those to which no equalization or `+=` operators are applied). In other words, by default, global variables are read-only, but not for modification from within the function."
   ]
  },
  {
   "cell_type": "markdown",
   "id": "22d09235",
   "metadata": {},
   "source": [
    "A situation in which a function modifies a global variable is usually not very desirable: functions must be isolated from the code that runs them, otherwise you will quickly stop understanding what your program is doing. However, sometimes modification of global variables is necessary. For example, we want to write a function that will set the value of the user's language. It may look something like this:"
   ]
  },
  {
   "cell_type": "code",
   "execution_count": 31,
   "id": "dc6a4220",
   "metadata": {},
   "outputs": [],
   "source": [
    "# define function that can set the lang variable depending on user input\n",
    "def set_lang():\n",
    "    useRussian = input(\"Would you like to speak Russian (Y/N): \")\n",
    "    if useRussian == 'Y':\n",
    "        lang = 'ru'\n",
    "    else:\n",
    "        lang = 'en'"
   ]
  },
  {
   "cell_type": "code",
   "execution_count": 33,
   "id": "dbfecaea",
   "metadata": {},
   "outputs": [
    {
     "name": "stdout",
     "output_type": "stream",
     "text": [
      "en\n",
      "Would you like to speak Russian (Y/N): Y\n",
      "en\n"
     ]
    }
   ],
   "source": [
    "lang = 'en' # set value of lang variable as 'en'\n",
    "print(lang) # print variable's value\n",
    "set_lang()  # change language\n",
    "print(lang) # print variable's value after changing"
   ]
  },
  {
   "cell_type": "markdown",
   "id": "16cd779b",
   "metadata": {},
   "source": [
    "As you can see, this function does not work — in fact, it should not. In order for the `set_lang` function to be able to change the value of the `lang` variable, it must be explicitly declared as global using the `global` keyword."
   ]
  },
  {
   "cell_type": "code",
   "execution_count": 34,
   "id": "6600fe47",
   "metadata": {},
   "outputs": [],
   "source": [
    "# define function that can set the lang variable depending on user input\n",
    "def set_lang():\n",
    "    global lang # but now use global variable lang\n",
    "    useRussian = input(\"Would you like to speak Russian (Y/N): \")\n",
    "    if useRussian == 'Y':\n",
    "        lang = 'ru'\n",
    "    else:\n",
    "        lang = 'en'"
   ]
  },
  {
   "cell_type": "code",
   "execution_count": 35,
   "id": "a103acde",
   "metadata": {},
   "outputs": [
    {
     "name": "stdout",
     "output_type": "stream",
     "text": [
      "en\n",
      "Would you like to speak Russian (Y/N): Y\n",
      "ru\n"
     ]
    }
   ],
   "source": [
    "lang = 'en' # set value of lang variable as 'en'\n",
    "print(lang) # print variable's value\n",
    "set_lang()  # change language\n",
    "print(lang) # print variable's value after changing"
   ]
  },
  {
   "cell_type": "markdown",
   "id": "9d5b3fa2",
   "metadata": {},
   "source": [
    "Now its working!"
   ]
  },
  {
   "cell_type": "markdown",
   "id": "3d0d8400",
   "metadata": {},
   "source": [
    "## Passing arguments"
   ]
  },
  {
   "cell_type": "markdown",
   "id": "2372fa11",
   "metadata": {},
   "source": [
    "There are different ways to pass arguments to a function:"
   ]
  },
  {
   "cell_type": "code",
   "execution_count": 36,
   "id": "77a86105",
   "metadata": {},
   "outputs": [],
   "source": [
    "# define the function that prints title and name with greetings\n",
    "def hello(name, title):\n",
    "    print(\"Hello\", title, name)"
   ]
  },
  {
   "cell_type": "code",
   "execution_count": 37,
   "id": "3faf0156",
   "metadata": {},
   "outputs": [
    {
     "name": "stdout",
     "output_type": "stream",
     "text": [
      "Hello Mr. Potter\n"
     ]
    }
   ],
   "source": [
    "hello(\"Potter\", \"Mr.\") # call the function with arguments"
   ]
  },
  {
   "cell_type": "markdown",
   "id": "a4ef1dbf",
   "metadata": {},
   "source": [
    "In some cases, we want some arguments to be omitted. Let's say we want to be able to call the `hello()` function defined above without specifying `title`. In this case, we will now be given an error:"
   ]
  },
  {
   "cell_type": "code",
   "execution_count": 38,
   "id": "a24a43ce",
   "metadata": {},
   "outputs": [
    {
     "ename": "TypeError",
     "evalue": "hello() missing 1 required positional argument: 'title'",
     "output_type": "error",
     "traceback": [
      "\u001b[1;31m---------------------------------------------------------------------------\u001b[0m",
      "\u001b[1;31mTypeError\u001b[0m                                 Traceback (most recent call last)",
      "Cell \u001b[1;32mIn[38], line 1\u001b[0m\n\u001b[1;32m----> 1\u001b[0m hello(\u001b[38;5;124m\"\u001b[39m\u001b[38;5;124mHarry\u001b[39m\u001b[38;5;124m\"\u001b[39m)\n",
      "\u001b[1;31mTypeError\u001b[0m: hello() missing 1 required positional argument: 'title'"
     ]
    }
   ],
   "source": [
    "hello(\"Harry\") #using the hello function without argument"
   ]
  },
  {
   "cell_type": "markdown",
   "id": "f2c65bb0",
   "metadata": {},
   "source": [
    "This is not surprising: we said that the `hello()` function should use the `title` argument, but we didn't pass it — what value should we use then? To overcome this difficulty, default values are used."
   ]
  },
  {
   "cell_type": "code",
   "execution_count": 39,
   "id": "ddc2f935",
   "metadata": {},
   "outputs": [
    {
     "name": "stdout",
     "output_type": "stream",
     "text": [
      "Hello  Harry\n"
     ]
    }
   ],
   "source": [
    "# define the function that prints title and name with greetings\n",
    "# one of the argument has default value\n",
    "def hello(name, title=\"\"):\n",
    "  print(\"Hello\", title, name)\n",
    "\n",
    "hello(\"Harry\") # test function (no title)"
   ]
  },
  {
   "cell_type": "code",
   "execution_count": 40,
   "id": "0408e87e",
   "metadata": {},
   "outputs": [
    {
     "name": "stdout",
     "output_type": "stream",
     "text": [
      "Hello Mrs. Smith\n"
     ]
    }
   ],
   "source": [
    "hello(\"Smith\", \"Mrs.\")  # test function (use title)"
   ]
  },
  {
   "cell_type": "markdown",
   "id": "a2ba7a21",
   "metadata": {},
   "source": [
    "Arguments can be passed by specifying their names."
   ]
  },
  {
   "cell_type": "code",
   "execution_count": 41,
   "id": "ca6e4927",
   "metadata": {},
   "outputs": [
    {
     "name": "stdout",
     "output_type": "stream",
     "text": [
      "Hello Mr. Smith\n"
     ]
    }
   ],
   "source": [
    "hello(\"Smith\", title = \"Mr.\")  # test function (use title and pass argument through name) "
   ]
  },
  {
   "cell_type": "code",
   "execution_count": 42,
   "id": "df292f25",
   "metadata": {},
   "outputs": [
    {
     "name": "stdout",
     "output_type": "stream",
     "text": [
      "Hello Mr. Smith\n"
     ]
    }
   ],
   "source": [
    "hello(name = \"Smith\", title= \"Mr.\")  # test function (use title and pass both arguments through names) "
   ]
  },
  {
   "cell_type": "markdown",
   "id": "bfbb9b7f",
   "metadata": {},
   "source": [
    "In this case, the order of arguments isn't important."
   ]
  },
  {
   "cell_type": "code",
   "execution_count": 43,
   "id": "7d68848c",
   "metadata": {},
   "outputs": [
    {
     "name": "stdout",
     "output_type": "stream",
     "text": [
      "Hello Mr. Smith\n"
     ]
    }
   ],
   "source": [
    "hello(title= \"Mr.\", name = \"Smith\")  #passing arguments through their names"
   ]
  },
  {
   "cell_type": "markdown",
   "id": "e195d605",
   "metadata": {},
   "source": [
    "There are also functions that take an unlimited number of arguments. For example, this is how the `print()` function behaves."
   ]
  },
  {
   "cell_type": "code",
   "execution_count": 44,
   "id": "8abe03b3",
   "metadata": {},
   "outputs": [
    {
     "name": "stdout",
     "output_type": "stream",
     "text": [
      "8 7 5 hello 8\n"
     ]
    }
   ],
   "source": [
    "print(8, 7, 5, 'hello', 8) "
   ]
  },
  {
   "cell_type": "markdown",
   "id": "628b940b",
   "metadata": {},
   "source": [
    "How does it work? Something like this:"
   ]
  },
  {
   "cell_type": "code",
   "execution_count": 45,
   "id": "131edfc9",
   "metadata": {},
   "outputs": [],
   "source": [
    "# define function that prints each call argument on new line\n",
    "def my_print(*args):\n",
    "    for x in args:\n",
    "        print(x)"
   ]
  },
  {
   "cell_type": "code",
   "execution_count": 46,
   "id": "a9de5825",
   "metadata": {},
   "outputs": [
    {
     "name": "stdout",
     "output_type": "stream",
     "text": [
      "6\n",
      "8\n",
      "9\n",
      "hello\n",
      "88\n",
      "55\n"
     ]
    }
   ],
   "source": [
    "my_print(6, 8, 9, 'hello', 88, 55) # test"
   ]
  },
  {
   "cell_type": "markdown",
   "id": "b1148259",
   "metadata": {},
   "source": [
    "Note the asterisk before `args` in the function signature. Let's take a closer look at how this code works:"
   ]
  },
  {
   "cell_type": "code",
   "execution_count": 47,
   "id": "e19decba",
   "metadata": {},
   "outputs": [
    {
     "name": "stdout",
     "output_type": "stream",
     "text": [
      "(1, 2, 3, 'hello')\n"
     ]
    }
   ],
   "source": [
    "# define function that prints its call arguments\n",
    "def test(*args):\n",
    "    print(args)\n",
    "    \n",
    "test(1, 2, 3, 'hello') # test"
   ]
  },
  {
   "cell_type": "markdown",
   "id": "19170182",
   "metadata": {},
   "source": [
    "It turns out that `args` now contains the so-called *tuple* consisting of the elements that we passed to the function."
   ]
  },
  {
   "cell_type": "markdown",
   "id": "116e6ac1",
   "metadata": {},
   "source": [
    "## Digression: tuples"
   ]
  },
  {
   "cell_type": "markdown",
   "id": "15b5529c",
   "metadata": {},
   "source": [
    "A `tuple` is the same as a list but its elements aren't changeable. It is denoted by parentheses."
   ]
  },
  {
   "cell_type": "code",
   "execution_count": 48,
   "id": "c4509306",
   "metadata": {},
   "outputs": [
    {
     "name": "stdout",
     "output_type": "stream",
     "text": [
      "3\n",
      "(2, 3)\n"
     ]
    }
   ],
   "source": [
    "t = (2, 3, 5, 1) # create a tuple of integers\n",
    "print(t[1]) # print second element\n",
    "print(t[0:2]) # print slice"
   ]
  },
  {
   "cell_type": "code",
   "execution_count": 49,
   "id": "b819a2b2",
   "metadata": {},
   "outputs": [
    {
     "name": "stdout",
     "output_type": "stream",
     "text": [
      "2\n",
      "3\n",
      "5\n",
      "1\n"
     ]
    }
   ],
   "source": [
    "for x in t: # iterate the tuple\n",
    "    print(x)  # print each element"
   ]
  },
  {
   "cell_type": "code",
   "execution_count": 50,
   "id": "4509b8d2",
   "metadata": {},
   "outputs": [
    {
     "ename": "TypeError",
     "evalue": "'tuple' object does not support item assignment",
     "output_type": "error",
     "traceback": [
      "\u001b[1;31m---------------------------------------------------------------------------\u001b[0m",
      "\u001b[1;31mTypeError\u001b[0m                                 Traceback (most recent call last)",
      "Cell \u001b[1;32mIn[50], line 1\u001b[0m\n\u001b[1;32m----> 1\u001b[0m t[\u001b[38;5;241m0\u001b[39m] \u001b[38;5;241m=\u001b[39m \u001b[38;5;241m10\u001b[39m\n",
      "\u001b[1;31mTypeError\u001b[0m: 'tuple' object does not support item assignment"
     ]
    }
   ],
   "source": [
    "t[0] = 10 # try to assign new value"
   ]
  },
  {
   "cell_type": "code",
   "execution_count": 51,
   "id": "cadbd25a",
   "metadata": {},
   "outputs": [
    {
     "ename": "AttributeError",
     "evalue": "'tuple' object has no attribute 'append'",
     "output_type": "error",
     "traceback": [
      "\u001b[1;31m---------------------------------------------------------------------------\u001b[0m",
      "\u001b[1;31mAttributeError\u001b[0m                            Traceback (most recent call last)",
      "Cell \u001b[1;32mIn[51], line 1\u001b[0m\n\u001b[1;32m----> 1\u001b[0m t\u001b[38;5;241m.\u001b[39mappend(\u001b[38;5;241m1\u001b[39m)\n",
      "\u001b[1;31mAttributeError\u001b[0m: 'tuple' object has no attribute 'append'"
     ]
    }
   ],
   "source": [
    "t.append(1) # try to append the value to the end of the tuple"
   ]
  },
  {
   "cell_type": "markdown",
   "id": "5462b29b",
   "metadata": {},
   "source": [
    "The fact that you cannot change the tuple does not mean that you cannot redefine the variable `t`:"
   ]
  },
  {
   "cell_type": "code",
   "execution_count": 52,
   "id": "b31bc29d",
   "metadata": {},
   "outputs": [],
   "source": [
    "t = (8, 1, 2, 3) # assign new tuple to the variable t"
   ]
  },
  {
   "cell_type": "code",
   "execution_count": 53,
   "id": "43f2b6ce",
   "metadata": {},
   "outputs": [
    {
     "data": {
      "text/plain": [
       "(8, 1, 2, 3)"
      ]
     },
     "execution_count": 53,
     "metadata": {},
     "output_type": "execute_result"
    }
   ],
   "source": [
    "t # print value of variable "
   ]
  },
  {
   "cell_type": "markdown",
   "id": "26c0e937",
   "metadata": {},
   "source": [
    "You can also convert lists to tuples and vice versa."
   ]
  },
  {
   "cell_type": "code",
   "execution_count": 54,
   "id": "7eb203b2",
   "metadata": {},
   "outputs": [
    {
     "name": "stdout",
     "output_type": "stream",
     "text": [
      "[1, 2, 3]\n",
      "(1, 2, 3)\n"
     ]
    }
   ],
   "source": [
    "print( list( (1, 2, 3) ) ) # tuple to list\n",
    "print( tuple( [1, 2, 3] ) ) # list to tuple"
   ]
  },
  {
   "cell_type": "markdown",
   "id": "2659f692",
   "metadata": {},
   "source": [
    "## Returning to the functions "
   ]
  },
  {
   "cell_type": "markdown",
   "id": "82af99b7",
   "metadata": {},
   "source": [
    "Thus, the asterisk in the signature seems to put additional brackets around the arguments. For example, the following two calls produce the same results."
   ]
  },
  {
   "cell_type": "code",
   "execution_count": 55,
   "id": "e042e747",
   "metadata": {},
   "outputs": [
    {
     "name": "stdout",
     "output_type": "stream",
     "text": [
      "(1, 2, 3)\n",
      "(1, 2, 3)\n"
     ]
    }
   ],
   "source": [
    "# define the function that prints all it's arguments\n",
    "def test1(*args):\n",
    "    print(args)\n",
    "test1(1, 2, 3) # test\n",
    "\n",
    "# define the function that prints it's one argument\n",
    "def test2(args):\n",
    "    print(args)\n",
    "test2( (1,2,3) ) # test"
   ]
  },
  {
   "cell_type": "markdown",
   "id": "c0dde064",
   "metadata": {},
   "source": [
    "You can combine list variables and regular variables (provided that there is only one variable with an asterisk):"
   ]
  },
  {
   "cell_type": "code",
   "execution_count": 56,
   "id": "bb0cc847",
   "metadata": {},
   "outputs": [],
   "source": [
    "# define function that prints each element in args and uses sep value as a separator\n",
    "def my_print(sep, *args):\n",
    "    for x in args:\n",
    "        print(x, end = sep)"
   ]
  },
  {
   "cell_type": "code",
   "execution_count": 57,
   "id": "b73d0ae1",
   "metadata": {},
   "outputs": [
    {
     "name": "stdout",
     "output_type": "stream",
     "text": [
      "7----8----9----hello----"
     ]
    }
   ],
   "source": [
    "my_print('----', 7, 8, 9, 'hello') # test the function above"
   ]
  },
  {
   "cell_type": "markdown",
   "id": "81043ed6",
   "metadata": {},
   "source": [
    "That's all for today :)"
   ]
  }
 ],
 "metadata": {
  "kernelspec": {
   "display_name": "Python 3 (ipykernel)",
   "language": "python",
   "name": "python3"
  },
  "language_info": {
   "codemirror_mode": {
    "name": "ipython",
    "version": 3
   },
   "file_extension": ".py",
   "mimetype": "text/x-python",
   "name": "python",
   "nbconvert_exporter": "python",
   "pygments_lexer": "ipython3",
   "version": "3.11.4"
  },
  "vscode": {
   "interpreter": {
    "hash": "e7370f93d1d0cde622a1f8e1c04877d8463912d04d973331ad4851f04de6915a"
   }
  }
 },
 "nbformat": 4,
 "nbformat_minor": 5
}
