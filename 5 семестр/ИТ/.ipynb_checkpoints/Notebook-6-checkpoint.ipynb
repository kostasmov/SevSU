{
 "cells": [
  {
   "cell_type": "markdown",
   "metadata": {},
   "source": [
    "# Notebook №6. Python programming for data collection and analysis"
   ]
  },
  {
   "cell_type": "markdown",
   "metadata": {},
   "source": [
    "Performed by Movenko Konstantin, IS/b-21-2-o"
   ]
  },
  {
   "cell_type": "markdown",
   "metadata": {},
   "source": [
    "## Sorting. String formatting"
   ]
  },
  {
   "cell_type": "markdown",
   "metadata": {},
   "source": [
    "### `**kwargs`"
   ]
  },
  {
   "cell_type": "markdown",
   "metadata": {},
   "source": [
    "Let's talk about one way to pass function arguments using dictionaries. Recall two how to pass arguments:"
   ]
  },
  {
   "cell_type": "code",
   "execution_count": 1,
   "metadata": {},
   "outputs": [],
   "source": [
    "# define function that prints it's arguments \n",
    "def myfunc(x=0, y=1):\n",
    "    print(\"x =\", x)\n",
    "    print(\"y =\", y)"
   ]
  },
  {
   "cell_type": "code",
   "execution_count": 2,
   "metadata": {},
   "outputs": [
    {
     "name": "stdout",
     "output_type": "stream",
     "text": [
      "x = 12\n",
      "y = 19\n"
     ]
    }
   ],
   "source": [
    "myfunc(12, 19) # test the function by calling it with specific arguments"
   ]
  },
  {
   "cell_type": "code",
   "execution_count": 3,
   "metadata": {},
   "outputs": [
    {
     "name": "stdout",
     "output_type": "stream",
     "text": [
      "x = 5\n",
      "y = 2\n"
     ]
    }
   ],
   "source": [
    "myfunc(y=2, x=5) # assigning function arguments by name"
   ]
  },
  {
   "cell_type": "markdown",
   "metadata": {},
   "source": [
    "As the second example shows, arguments can be passed by specifying their names. Let's say we want write a function that takes an indefinite number of named arguments (we don't even know which ones). This can be done like this:"
   ]
  },
  {
   "cell_type": "code",
   "execution_count": 4,
   "metadata": {},
   "outputs": [],
   "source": [
    "# define function that prints a indefinite number of arguments\n",
    "def new_func(**kwargs):\n",
    "    print(kwargs)"
   ]
  },
  {
   "cell_type": "code",
   "execution_count": 5,
   "metadata": {},
   "outputs": [
    {
     "name": "stdout",
     "output_type": "stream",
     "text": [
      "{'x': 1, 'y': 5, 'z': 8, 's': 'Some string'}\n"
     ]
    }
   ],
   "source": [
    "new_func(x=1, y=5, z=8, s=\"Some string\") # test the function"
   ]
  },
  {
   "cell_type": "markdown",
   "metadata": {},
   "source": [
    "The two asterisks in the definition of `new_func()` say the following: \"all named parameters, passed to this function should be placed in the `kwargs` dictionary.\" As you can see, this is exactly what works: for example, the parameter `x=1` turned into the entry `'x': 1` in the `kwargs` dictionary. However, this happens only with “ownerless” parameters: if the function had a separate parameter `x`, then it wouldn't hit `kwargs`. For example:"
   ]
  },
  {
   "cell_type": "code",
   "execution_count": 6,
   "metadata": {},
   "outputs": [
    {
     "name": "stdout",
     "output_type": "stream",
     "text": [
      "{'y': 5}\n"
     ]
    }
   ],
   "source": [
    "# define function that prints a dictionary of arguments. Also the function takes the param x\n",
    "def other_func(x, **kwargs):\n",
    "    print(kwargs)\n",
    "    \n",
    "other_func(x=10, y=5) # test the function"
   ]
  },
  {
   "cell_type": "markdown",
   "metadata": {},
   "source": [
    "### Sorting"
   ]
  },
  {
   "cell_type": "markdown",
   "metadata": {},
   "source": [
    "Sorting - that is, the arrangement of the elements of the list in some particular order - common programming task. There are two main tools to sort lists in Python. The first is the `sort()` method, which sorts *in place*, that is, inside the list. For example:"
   ]
  },
  {
   "cell_type": "code",
   "execution_count": 7,
   "metadata": {},
   "outputs": [],
   "source": [
    "my_list = [6, 9, 2, 7, 12, 8] # create a list of integers"
   ]
  },
  {
   "cell_type": "code",
   "execution_count": 8,
   "metadata": {},
   "outputs": [],
   "source": [
    "my_list.sort() # sort the list"
   ]
  },
  {
   "cell_type": "code",
   "execution_count": 9,
   "metadata": {},
   "outputs": [
    {
     "data": {
      "text/plain": [
       "[2, 6, 7, 8, 9, 12]"
      ]
     },
     "execution_count": 9,
     "metadata": {},
     "output_type": "execute_result"
    }
   ],
   "source": [
    "my_list # print sorted list"
   ]
  },
  {
   "cell_type": "markdown",
   "metadata": {},
   "source": [
    "The `sort()` method *changes* the original list (and therefore, by the way, can only work with lists - tuples do not have such a method). If you want to create a new list instead, you should use the `sorted()` function."
   ]
  },
  {
   "cell_type": "code",
   "execution_count": 10,
   "metadata": {},
   "outputs": [],
   "source": [
    "my_list = [6, 9, 2, 7, 12, 8] # create list of integers"
   ]
  },
  {
   "cell_type": "code",
   "execution_count": 11,
   "metadata": {},
   "outputs": [
    {
     "data": {
      "text/plain": [
       "[2, 6, 7, 8, 9, 12]"
      ]
     },
     "execution_count": 11,
     "metadata": {},
     "output_type": "execute_result"
    }
   ],
   "source": [
    "sorted_list = sorted(my_list) # create new sorted list\n",
    "sorted_list # print new sorted list"
   ]
  },
  {
   "cell_type": "markdown",
   "metadata": {},
   "source": [
    "So we created a new list. The old one remained unchanged."
   ]
  },
  {
   "cell_type": "code",
   "execution_count": 12,
   "metadata": {},
   "outputs": [
    {
     "data": {
      "text/plain": [
       "[6, 9, 2, 7, 12, 8]"
      ]
     },
     "execution_count": 12,
     "metadata": {},
     "output_type": "execute_result"
    }
   ],
   "source": [
    "my_list # print original list"
   ]
  },
  {
   "cell_type": "markdown",
   "metadata": {},
   "source": [
    "The `sorted()` function can be applied not only to lists, but also to immutable sequences, such as tuples. The output is always a list."
   ]
  },
  {
   "cell_type": "code",
   "execution_count": 13,
   "metadata": {},
   "outputs": [
    {
     "name": "stdout",
     "output_type": "stream",
     "text": [
      "[1, 2, 6, 7]\n"
     ]
    }
   ],
   "source": [
    "my_tuple = (7, 1, 2, 6) # create a tuple of integrers\n",
    "print(sorted(my_tuple)) # print sorted tuple as list"
   ]
  },
  {
   "cell_type": "markdown",
   "metadata": {},
   "source": [
    "### Sorting strings"
   ]
  },
  {
   "cell_type": "markdown",
   "metadata": {},
   "source": [
    "You can sort lists consisting not only of numbers, but also of more complex objects - if only they were able to compare them with each other. For example, strings can be compared with each other - they are ordered in *lexicographic order*, that is, “alphabetically” and the way they would go in a dictionary (meaning a regular paper dictionary, not a Python data type)."
   ]
  },
  {
   "cell_type": "code",
   "execution_count": 14,
   "metadata": {},
   "outputs": [
    {
     "data": {
      "text/plain": [
       "True"
      ]
     },
     "execution_count": 14,
     "metadata": {},
     "output_type": "execute_result"
    }
   ],
   "source": [
    "\"abcd\" < \"b\" # compare two strings"
   ]
  },
  {
   "cell_type": "code",
   "execution_count": 15,
   "metadata": {},
   "outputs": [
    {
     "data": {
      "text/plain": [
       "True"
      ]
     },
     "execution_count": 15,
     "metadata": {},
     "output_type": "execute_result"
    }
   ],
   "source": [
    "\"abcd\" < \"addd\" # compare two another strings"
   ]
  },
  {
   "cell_type": "code",
   "execution_count": 16,
   "metadata": {},
   "outputs": [
    {
     "data": {
      "text/plain": [
       "True"
      ]
     },
     "execution_count": 16,
     "metadata": {},
     "output_type": "execute_result"
    }
   ],
   "source": [
    "\"a\" < \"aa\" #  # compare two another strings"
   ]
  },
  {
   "cell_type": "markdown",
   "metadata": {},
   "source": [
    "This is how sorting a list of strings looks like:"
   ]
  },
  {
   "cell_type": "code",
   "execution_count": 17,
   "metadata": {},
   "outputs": [
    {
     "data": {
      "text/plain": [
       "['Alice', 'Bill', 'Bob', 'Weigu']"
      ]
     },
     "execution_count": 17,
     "metadata": {},
     "output_type": "execute_result"
    }
   ],
   "source": [
    "str_list = [\"Bob\", \"Alice\", \"Bill\", \"Weigu\"] # create a list of strings\n",
    "str_list.sort() # sort that list\n",
    "str_list # print whole sorted list"
   ]
  },
  {
   "cell_type": "markdown",
   "metadata": {},
   "source": [
    "### Sorting and loops"
   ]
  },
  {
   "cell_type": "markdown",
   "metadata": {},
   "source": [
    "You can use the `sorted()` function in conjunction with the `for` statement to process the elements of a list in some particular order. For example, we have a dictionary and we want to display its elements in ascending order of the key value. Then you must explicitly ask Python to do so, as the following example shows:"
   ]
  },
  {
   "cell_type": "code",
   "execution_count": 18,
   "metadata": {},
   "outputs": [
    {
     "name": "stdout",
     "output_type": "stream",
     "text": [
      "Bob 3\n",
      "Alice 5\n",
      "Weigu 4\n",
      "Bill 2\n"
     ]
    }
   ],
   "source": [
    "gradebook = {'Bob': 3, 'Alice': 5, 'Weigu': 4, 'Bill': 2} # create a dictionary\n",
    "# print each pair of key and value\n",
    "for k in gradebook:\n",
    "    print(k, gradebook[k])"
   ]
  },
  {
   "cell_type": "markdown",
   "metadata": {},
   "source": [
    "As you can see, the elements are not ordered. This is how they can be ordered when outputting:"
   ]
  },
  {
   "cell_type": "code",
   "execution_count": 19,
   "metadata": {},
   "outputs": [
    {
     "name": "stdout",
     "output_type": "stream",
     "text": [
      "Alice 5\n",
      "Bill 2\n",
      "Bob 3\n",
      "Weigu 4\n"
     ]
    }
   ],
   "source": [
    "# do the same but sort dictionary first (by key)\n",
    "for k in sorted(gradebook):\n",
    "    print(k, gradebook[k])"
   ]
  },
  {
   "cell_type": "markdown",
   "metadata": {},
   "source": [
    "### More complex sorting examples"
   ]
  },
  {
   "cell_type": "markdown",
   "metadata": {},
   "source": [
    "You can sort the list in reverse order (descending). For this, the `reverse` parameter is used."
   ]
  },
  {
   "cell_type": "code",
   "execution_count": 20,
   "metadata": {},
   "outputs": [
    {
     "data": {
      "text/plain": [
       "[8, 7, 4, 1]"
      ]
     },
     "execution_count": 20,
     "metadata": {},
     "output_type": "execute_result"
    }
   ],
   "source": [
    "sorted([4, 8, 1, 7], reverse=True) # sort the list of integers on descend"
   ]
  },
  {
   "cell_type": "markdown",
   "metadata": {},
   "source": [
    "You can sort not only numbers and strings, but also more complex objects. For example, consider such a table (implemented as a list of tuples), in which the names of students and their grades for several papers are recorded."
   ]
  },
  {
   "cell_type": "code",
   "execution_count": 21,
   "metadata": {},
   "outputs": [],
   "source": [
    "# create a list of tuples\n",
    "names = [(\"Bob\", 8, 4, 9),\n",
    "         (\"Alice\", 7, 8, 9),\n",
    "         (\"Weigu\", 7, 5, 3),\n",
    "         (\"Dan\", 6, 4, 3)]"
   ]
  },
  {
   "cell_type": "code",
   "execution_count": 22,
   "metadata": {},
   "outputs": [],
   "source": [
    "names.sort() # sort that list"
   ]
  },
  {
   "cell_type": "code",
   "execution_count": 23,
   "metadata": {},
   "outputs": [
    {
     "data": {
      "text/plain": [
       "[('Alice', 7, 8, 9), ('Bob', 8, 4, 9), ('Dan', 6, 4, 3), ('Weigu', 7, 5, 3)]"
      ]
     },
     "execution_count": 23,
     "metadata": {},
     "output_type": "execute_result"
    }
   ],
   "source": [
    "names # print sorted list"
   ]
  },
  {
   "cell_type": "markdown",
   "metadata": {},
   "source": [
    "Judging by the result, it is logical to assume that the sorting was performed by the first element — the student's name. Indeed, tuples are compared in much the same way as strings, lexicographically. First, the first elements are compared:"
   ]
  },
  {
   "cell_type": "code",
   "execution_count": 24,
   "metadata": {},
   "outputs": [
    {
     "data": {
      "text/plain": [
       "True"
      ]
     },
     "execution_count": 24,
     "metadata": {},
     "output_type": "execute_result"
    }
   ],
   "source": [
    "('a', 8) < ('b', 7) # compare tuples by first field"
   ]
  },
  {
   "cell_type": "markdown",
   "metadata": {},
   "source": [
    "If the first element matches, then the second elements are compared, and so on."
   ]
  },
  {
   "cell_type": "code",
   "execution_count": 25,
   "metadata": {},
   "outputs": [
    {
     "data": {
      "text/plain": [
       "False"
      ]
     },
     "execution_count": 25,
     "metadata": {},
     "output_type": "execute_result"
    }
   ],
   "source": [
    "('a', 8) < ('a', 7) # compare tuples by second field"
   ]
  },
  {
   "cell_type": "markdown",
   "metadata": {},
   "source": [
    "But what if we wanted to sort the tuples in the names list not by the first element, but by the second or something else? To do this, you must use the `key` parameter, which specifies the sort key. Before we do that, we need to say a few words about how you can pass another function as a parameter to one function."
   ]
  },
  {
   "cell_type": "markdown",
   "metadata": {},
   "source": [
    "### Digression: functions as function arguments"
   ]
  },
  {
   "cell_type": "markdown",
   "metadata": {},
   "source": [
    "Consider this function:"
   ]
  },
  {
   "cell_type": "code",
   "execution_count": 26,
   "metadata": {},
   "outputs": [],
   "source": [
    "# define the function that call the argument-function with argument '2'\n",
    "def superfunc(f):\n",
    "    return f(2)"
   ]
  },
  {
   "cell_type": "markdown",
   "metadata": {},
   "source": [
    "It takes some function `f` as an argument, calls this function, passes the number 2 to it as an argument, and returns the result that `f` returned."
   ]
  },
  {
   "cell_type": "markdown",
   "metadata": {},
   "source": [
    "For example:"
   ]
  },
  {
   "cell_type": "code",
   "execution_count": 27,
   "metadata": {},
   "outputs": [
    {
     "data": {
      "text/plain": [
       "1.4142135623730951"
      ]
     },
     "execution_count": 27,
     "metadata": {},
     "output_type": "execute_result"
    }
   ],
   "source": [
    "from math import sqrt # import specific function from module\n",
    "superfunc(sqrt) # call function with sqrt as parameter"
   ]
  },
  {
   "cell_type": "markdown",
   "metadata": {},
   "source": [
    "We imported the `sqrt()` function from the `math` module, and then passed the sqrt function as a parameter to the `superfunc()` function. Please note that there are no parentheses when passing after the `sqrt` function: this is because we do not *call* it, but *pass* it to another function. The `superfunc` function took our `sqrt` function and called it, passing it the number 2 as a parameter. That is, he calculated the root of two."
   ]
  },
  {
   "cell_type": "markdown",
   "metadata": {},
   "source": [
    "You can imagine that `sqrt` is a recipe written down on a piece of paper. We pass it in the form of such a piece of paper to the `superfunc` function and it somehow uses it. Let's hand over another piece of paper - she uses it. For example:"
   ]
  },
  {
   "cell_type": "code",
   "execution_count": 28,
   "metadata": {},
   "outputs": [],
   "source": [
    "# define the function that increases the value of the argument by 1\n",
    "def plusodin(x):\n",
    "    return x + 1"
   ]
  },
  {
   "cell_type": "code",
   "execution_count": 29,
   "metadata": {},
   "outputs": [
    {
     "data": {
      "text/plain": [
       "3"
      ]
     },
     "execution_count": 29,
     "metadata": {},
     "output_type": "execute_result"
    }
   ],
   "source": [
    "superfunc(plusodin) # pass it to other function"
   ]
  },
  {
   "cell_type": "markdown",
   "metadata": {},
   "source": [
    "If we try to pass something else to the `superfunc` function - for example, a string or a number - nothing will work (it expects a function)."
   ]
  },
  {
   "cell_type": "code",
   "execution_count": 30,
   "metadata": {},
   "outputs": [
    {
     "ename": "TypeError",
     "evalue": "'str' object is not callable",
     "output_type": "error",
     "traceback": [
      "\u001b[1;31m---------------------------------------------------------------------------\u001b[0m",
      "\u001b[1;31mTypeError\u001b[0m                                 Traceback (most recent call last)",
      "Cell \u001b[1;32mIn[30], line 1\u001b[0m\n\u001b[1;32m----> 1\u001b[0m superfunc(\u001b[38;5;124m\"\u001b[39m\u001b[38;5;124msqrt\u001b[39m\u001b[38;5;124m\"\u001b[39m)\n",
      "Cell \u001b[1;32mIn[26], line 3\u001b[0m, in \u001b[0;36msuperfunc\u001b[1;34m(f)\u001b[0m\n\u001b[0;32m      2\u001b[0m \u001b[38;5;28;01mdef\u001b[39;00m \u001b[38;5;21msuperfunc\u001b[39m(f):\n\u001b[1;32m----> 3\u001b[0m     \u001b[38;5;28;01mreturn\u001b[39;00m f(\u001b[38;5;241m2\u001b[39m)\n",
      "\u001b[1;31mTypeError\u001b[0m: 'str' object is not callable"
     ]
    }
   ],
   "source": [
    "superfunc(\"sqrt\") # call the function with incorrect argument type"
   ]
  },
  {
   "cell_type": "markdown",
   "metadata": {},
   "source": [
    "### Sort keys"
   ]
  },
  {
   "cell_type": "markdown",
   "metadata": {},
   "source": [
    "Let's return to the problem of sorting a table represented as a list of tuples. To sort such a list by the second element, you must first create a function that will return the second element of the tuple (or list) passed to it."
   ]
  },
  {
   "cell_type": "code",
   "execution_count": 31,
   "metadata": {},
   "outputs": [],
   "source": [
    "# define function that returns first element from collection as an argument\n",
    "def get_second_element(x):\n",
    "    return x[1]"
   ]
  },
  {
   "cell_type": "markdown",
   "metadata": {},
   "source": [
    "Let's see how it works:"
   ]
  },
  {
   "cell_type": "code",
   "execution_count": 32,
   "metadata": {},
   "outputs": [
    {
     "data": {
      "text/plain": [
       "8"
      ]
     },
     "execution_count": 32,
     "metadata": {},
     "output_type": "execute_result"
    }
   ],
   "source": [
    "get_second_element([7, 8, 4, 2]) # test the function"
   ]
  },
  {
   "cell_type": "markdown",
   "metadata": {},
   "source": [
    "We now pass this function as the `key` parameter to the `sort()` method (the `sorted()` function will also work):"
   ]
  },
  {
   "cell_type": "code",
   "execution_count": 33,
   "metadata": {},
   "outputs": [],
   "source": [
    "names.sort(key=get_second_element) # call the sort method with the key parameter"
   ]
  },
  {
   "cell_type": "code",
   "execution_count": 34,
   "metadata": {},
   "outputs": [
    {
     "data": {
      "text/plain": [
       "[('Dan', 6, 4, 3), ('Alice', 7, 8, 9), ('Weigu', 7, 5, 3), ('Bob', 8, 4, 9)]"
      ]
     },
     "execution_count": 34,
     "metadata": {},
     "output_type": "execute_result"
    }
   ],
   "source": [
    "names # print sorted list"
   ]
  },
  {
   "cell_type": "markdown",
   "metadata": {},
   "source": [
    "It can be seen that now the rows are sorted by the second column (the first score): `Dan` has the lowest (6), `Bob` has the highest (8), and `Alice` and `Weigu` have the same (7)."
   ]
  },
  {
   "cell_type": "markdown",
   "metadata": {},
   "source": [
    "A natural question arises: how are the lines corresponding to `Alice` and `Weigu` ordered in this case? Answer: in the order in which they appeared in the original list. This is handy if you want to sort first by one parameter and then by another: just sort sequentially, first by the *second* parameter, and then by the first."
   ]
  },
  {
   "cell_type": "markdown",
   "metadata": {},
   "source": [
    "In order not to define a function of type `get_second_element` each time, you can use a ready-made one: for this, you need to import the special `itemgetter` function:"
   ]
  },
  {
   "cell_type": "code",
   "execution_count": 35,
   "metadata": {},
   "outputs": [],
   "source": [
    "# import specific function from module\n",
    "from operator import itemgetter"
   ]
  },
  {
   "cell_type": "code",
   "execution_count": 36,
   "metadata": {},
   "outputs": [
    {
     "data": {
      "text/plain": [
       "[('Dan', 6, 4, 3), ('Bob', 8, 4, 9), ('Weigu', 7, 5, 3), ('Alice', 7, 8, 9)]"
      ]
     },
     "execution_count": 36,
     "metadata": {},
     "output_type": "execute_result"
    }
   ],
   "source": [
    "sorted(names, key=itemgetter(2)) # sort by third column and print a result"
   ]
  },
  {
   "cell_type": "code",
   "execution_count": 37,
   "metadata": {},
   "outputs": [
    {
     "data": {
      "text/plain": [
       "[('Dan', 6, 4, 3), ('Weigu', 7, 5, 3), ('Alice', 7, 8, 9), ('Bob', 8, 4, 9)]"
      ]
     },
     "execution_count": 37,
     "metadata": {},
     "output_type": "execute_result"
    }
   ],
   "source": [
    "sorted(names, key=itemgetter(3)) # sort by fourth column and print a result"
   ]
  },
  {
   "cell_type": "markdown",
   "metadata": {},
   "source": [
    "Let's say we want to sort by the third column, and if the third column gives the same rating, then alphabetically. This can be done like this: *first* we sort alphabetically, and *then* - by the third column."
   ]
  },
  {
   "cell_type": "code",
   "execution_count": 38,
   "metadata": {},
   "outputs": [
    {
     "name": "stdout",
     "output_type": "stream",
     "text": [
      "[('Dan', 6, 4, 3), ('Alice', 7, 8, 9), ('Weigu', 7, 5, 3), ('Bob', 8, 4, 9)]\n",
      "[('Alice', 7, 8, 9), ('Bob', 8, 4, 9), ('Dan', 6, 4, 3), ('Weigu', 7, 5, 3)]\n",
      "[('Bob', 8, 4, 9), ('Dan', 6, 4, 3), ('Weigu', 7, 5, 3), ('Alice', 7, 8, 9)]\n"
     ]
    }
   ],
   "source": [
    "print(names) # print the list\n",
    "names.sort(key=itemgetter(0)) # call the sort method with the key parameter\n",
    "print(names) # print sorted by first column list\n",
    "names.sort(key=itemgetter(2)) # call the sort method with the key parameter\n",
    "print(names) # print sorted by third column list"
   ]
  },
  {
   "cell_type": "markdown",
   "metadata": {},
   "source": [
    "More details about sorting can be found in the [official tutorial](https://docs.python.org/3/howto/sorting.html) and we'll move on to the next topic."
   ]
  },
  {
   "cell_type": "markdown",
   "metadata": {},
   "source": [
    "### String formating"
   ]
  },
  {
   "cell_type": "markdown",
   "metadata": {},
   "source": [
    "Often you need to insert the value of some variables into some line. An example that we have already met."
   ]
  },
  {
   "cell_type": "code",
   "execution_count": 39,
   "metadata": {},
   "outputs": [
    {
     "name": "stdout",
     "output_type": "stream",
     "text": [
      "Student Alice has grade 5\n"
     ]
    }
   ],
   "source": [
    "# create string and integer variables\n",
    "name = \"Alice\"\n",
    "grade = 5\n",
    "print(\"Student\", name, \"has grade\", grade) # print those variables"
   ]
  },
  {
   "cell_type": "markdown",
   "metadata": {},
   "source": [
    "Using `print()`, you can print such a string, but if we wanted to pass it to some other function, then we would have to come up with something else. And this is already something else"
   ]
  },
  {
   "cell_type": "markdown",
   "metadata": {},
   "source": [
    "There are two common ways to substitute the value of variables into a string (this is often called *interpolation*, although it has nothing to do with the mathematical operation of the same name). The first way is more classic."
   ]
  },
  {
   "cell_type": "code",
   "execution_count": 40,
   "metadata": {},
   "outputs": [
    {
     "name": "stdout",
     "output_type": "stream",
     "text": [
      "Student Alice has grade 5\n"
     ]
    }
   ],
   "source": [
    "new_str = \"Student %s has grade %i\" % (name, grade) # format the string by using placeholders %\n",
    "print(new_str) # print the result of formatting"
   ]
  },
  {
   "cell_type": "markdown",
   "metadata": {},
   "source": [
    "The `%` operator is used here, which performs the following operation for strings: it takes a string to the left of it, finds all the *“placeholders”* there - in this case it is `%s` and `%i`, after which it takes the variables listed to the right of it (it can be one variable or a tuple of several variables, as in this case) and substitutes them sequentially - the first variable in place of the first placeholder, the second in place of the second, etc."
   ]
  },
  {
   "cell_type": "markdown",
   "metadata": {},
   "source": [
    "The chars in placeholders indicate the type of the variable: in this case, `%s` is a string and `%i` is an integer. Here are some more examples:"
   ]
  },
  {
   "cell_type": "code",
   "execution_count": 41,
   "metadata": {},
   "outputs": [
    {
     "name": "stdout",
     "output_type": "stream",
     "text": [
      "The number is 2\n",
      "The number is 2.000000\n",
      "The number is 2.14\n",
      "The number is 0003\n"
     ]
    }
   ],
   "source": [
    "print(\"The number is %i\" % 2.3) # print the formatted string (i means integer)\n",
    "print(\"The number is %f\" % 2) # print the formatted string (f means float)\n",
    "print(\"The number is %.2f\" % 2.1393) # print the formatted string (two chars after dot)\n",
    "print(\"The number is %04i\" % 3) # print the formatted string (padded to four digits with zeros)"
   ]
  },
  {
   "cell_type": "markdown",
   "metadata": {},
   "source": [
    "When using the `%` operator, you need to be careful: it takes precedence over arithmetic operations, so you can get unexpected results if you do not include parentheses:"
   ]
  },
  {
   "cell_type": "code",
   "execution_count": 42,
   "metadata": {},
   "outputs": [
    {
     "name": "stdout",
     "output_type": "stream",
     "text": [
      "a = 3a = 3a = 3\n"
     ]
    }
   ],
   "source": [
    "print(\"a = %i\" % 3*3) # print formatted string (unexpected result)"
   ]
  },
  {
   "cell_type": "markdown",
   "metadata": {},
   "source": [
    "Here the following happened: first, the code `\"a = %i\" % 3` was executed, and then the result was multiplied by 3 (which is equivalent to repeating three times for strings). If you wanted to substitute the result of 3 * 3 execution, then you had to do this:"
   ]
  },
  {
   "cell_type": "code",
   "execution_count": 43,
   "metadata": {},
   "outputs": [
    {
     "name": "stdout",
     "output_type": "stream",
     "text": [
      "a = 9\n"
     ]
    }
   ],
   "source": [
    "print(\"a = %i\" % (3*3)) # print formatted string (expected result)"
   ]
  },
  {
   "cell_type": "markdown",
   "metadata": {},
   "source": [
    "The second way to format (the \"new\") is to use the `format()` method. It works like this:"
   ]
  },
  {
   "cell_type": "code",
   "execution_count": 44,
   "metadata": {},
   "outputs": [
    {
     "data": {
      "text/plain": [
       "'hello, 7, this is 9, again 7, test'"
      ]
     },
     "execution_count": 44,
     "metadata": {},
     "output_type": "execute_result"
    }
   ],
   "source": [
    "\"hello, {0}, this is {1}, again {0}, {var}\".format(7, 9, var=\"test\") # print formatted string by using format() method"
   ]
  },
  {
   "cell_type": "markdown",
   "metadata": {},
   "source": [
    "There is no need to explicitly specify data types here (the string representation of the variable is substituted). The same value can be used several times (they can be accessed by numbers and names. However, you can not explicitly specify the numbers - then the variables will be substituted in turn:"
   ]
  },
  {
   "cell_type": "code",
   "execution_count": 45,
   "metadata": {},
   "outputs": [
    {
     "data": {
      "text/plain": [
       "'Fist var: 8, the second one: 1'"
      ]
     },
     "execution_count": 45,
     "metadata": {},
     "output_type": "execute_result"
    }
   ],
   "source": [
    "\"Fist var: {}, the second one: {}\".format(8, 1) # print formatted string by using format() method without argument numbers"
   ]
  },
  {
   "cell_type": "markdown",
   "metadata": {},
   "source": [
    "Formatting can be quite complex and no one can remember all the details. Good documentation on this topic (both on the `%` operator and on the `format()` method) is collected [here](https://pyformat.info/)."
   ]
  },
  {
   "cell_type": "markdown",
   "metadata": {},
   "source": [
    "### Tricks with real numbers"
   ]
  },
  {
   "cell_type": "markdown",
   "metadata": {},
   "source": [
    "By the way:"
   ]
  },
  {
   "cell_type": "code",
   "execution_count": 46,
   "metadata": {},
   "outputs": [
    {
     "name": "stdout",
     "output_type": "stream",
     "text": [
      "0.300000\n"
     ]
    }
   ],
   "source": [
    "print(\"%f\" % (0.1+0.2)) # print formatted string"
   ]
  },
  {
   "cell_type": "markdown",
   "metadata": {},
   "source": [
    "It seems to be nothing unexpected, but let's increase the accuracy ..."
   ]
  },
  {
   "cell_type": "code",
   "execution_count": 47,
   "metadata": {},
   "outputs": [
    {
     "name": "stdout",
     "output_type": "stream",
     "text": [
      "0.300000000000000044\n"
     ]
    }
   ],
   "source": [
    "print(\"%.18f\" % (0.1+0.2)) # print formatted string (accuracy were increased)"
   ]
  },
  {
   "cell_type": "markdown",
   "metadata": {},
   "source": [
    "When we asked to display the result with an accuracy of $18$ decimal places, strange significant figures at the end came from somewhere. This is due to the fact that computers use binary number system, and in it numbers like $0.1$ are written as an *infinite* periodic fraction and cannot be represented as a finite fraction. During arithmetic operations, rounding errors occur, which lead to such effects."
   ]
  },
  {
   "cell_type": "markdown",
   "metadata": {},
   "source": [
    "Sometimes these effects become dangerous. Do you think `0.1 + 0.2` is `0.3`? Your computer has a different opinion on this matter:"
   ]
  },
  {
   "cell_type": "code",
   "execution_count": 48,
   "metadata": {},
   "outputs": [
    {
     "data": {
      "text/plain": [
       "False"
      ]
     },
     "execution_count": 48,
     "metadata": {},
     "output_type": "execute_result"
    }
   ],
   "source": [
    "0.1 + 0.2 == 0.3 # unexpected result"
   ]
  },
  {
   "cell_type": "markdown",
   "metadata": {},
   "source": [
    "However, don't despair: you can use common fractions or the special `decimal` module to work with decimals."
   ]
  },
  {
   "cell_type": "code",
   "execution_count": 49,
   "metadata": {},
   "outputs": [],
   "source": [
    "# import specific class from module\n",
    "from fractions import Fraction"
   ]
  },
  {
   "cell_type": "code",
   "execution_count": 50,
   "metadata": {},
   "outputs": [
    {
     "data": {
      "text/plain": [
       "Fraction(3, 10)"
      ]
     },
     "execution_count": 50,
     "metadata": {},
     "output_type": "execute_result"
    }
   ],
   "source": [
    "Fraction(1, 10) + Fraction(2, 10) # print a sum of two fractions"
   ]
  },
  {
   "cell_type": "code",
   "execution_count": 51,
   "metadata": {},
   "outputs": [
    {
     "data": {
      "text/plain": [
       "Fraction(5, 6)"
      ]
     },
     "execution_count": 51,
     "metadata": {},
     "output_type": "execute_result"
    }
   ],
   "source": [
    "Fraction(1, 3) + Fraction(1,2) # print a sum of two another fractions"
   ]
  },
  {
   "cell_type": "code",
   "execution_count": 52,
   "metadata": {},
   "outputs": [],
   "source": [
    "# import specific class from module\n",
    "from decimal import Decimal"
   ]
  },
  {
   "cell_type": "code",
   "execution_count": 53,
   "metadata": {},
   "outputs": [
    {
     "data": {
      "text/plain": [
       "Decimal('0.3')"
      ]
     },
     "execution_count": 53,
     "metadata": {},
     "output_type": "execute_result"
    }
   ],
   "source": [
    "Decimal(\"0.1\") + Decimal(\"0.2\") # print a sum of two decimal numbers by using Decimal class"
   ]
  },
  {
   "cell_type": "code",
   "execution_count": 54,
   "metadata": {},
   "outputs": [
    {
     "data": {
      "text/plain": [
       "True"
      ]
     },
     "execution_count": 54,
     "metadata": {},
     "output_type": "execute_result"
    }
   ],
   "source": [
    "Decimal(\"0.1\") + Decimal(\"0.2\") == Decimal(\"0.3\") # compare two decimal numbers"
   ]
  },
  {
   "cell_type": "markdown",
   "metadata": {},
   "source": [
    "You can read more about decimal and binary fractions in [the official documentation](https://docs.python.org/3/tutorial/floatingpoint.html#tut-fp-issues)."
   ]
  }
 ],
 "metadata": {
  "kernelspec": {
   "display_name": "Python 3 (ipykernel)",
   "language": "python",
   "name": "python3"
  },
  "language_info": {
   "codemirror_mode": {
    "name": "ipython",
    "version": 3
   },
   "file_extension": ".py",
   "mimetype": "text/x-python",
   "name": "python",
   "nbconvert_exporter": "python",
   "pygments_lexer": "ipython3",
   "version": "3.11.4"
  },
  "vscode": {
   "interpreter": {
    "hash": "e7370f93d1d0cde622a1f8e1c04877d8463912d04d973331ad4851f04de6915a"
   }
  }
 },
 "nbformat": 4,
 "nbformat_minor": 2
}
