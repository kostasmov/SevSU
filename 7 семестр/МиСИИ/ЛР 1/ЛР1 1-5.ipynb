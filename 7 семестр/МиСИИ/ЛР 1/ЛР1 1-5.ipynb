{
 "cells": [
  {
   "cell_type": "markdown",
   "id": "9202ad0b-acb8-42c5-927c-4875e894dfe1",
   "metadata": {},
   "source": [
    "<h1>ЛР 1 - ИССЛЕДОВАНИЕ БАЗОВЫХ ФУНКЦИЙ ЯЗЫКА PYTHON</h1>\n",
    "\n",
    "МиСИИ. Мовенко Константин, ИС/б-21-2-о"
   ]
  },
  {
   "cell_type": "markdown",
   "id": "c4cdc2cf-8dd5-4924-8df4-df3ae33627a7",
   "metadata": {
    "jp-MarkdownHeadingCollapsed": true
   },
   "source": [
    "<h2>Задание 1 - Методы строкового типа</h2>"
   ]
  },
  {
   "cell_type": "code",
   "execution_count": 3,
   "id": "2f0f1932-c7ca-4570-873b-c4777557c5db",
   "metadata": {},
   "outputs": [
    {
     "data": {
      "text/plain": [
       "['__add__',\n",
       " '__class__',\n",
       " '__contains__',\n",
       " '__delattr__',\n",
       " '__dir__',\n",
       " '__doc__',\n",
       " '__eq__',\n",
       " '__format__',\n",
       " '__ge__',\n",
       " '__getattribute__',\n",
       " '__getitem__',\n",
       " '__getnewargs__',\n",
       " '__getstate__',\n",
       " '__gt__',\n",
       " '__hash__',\n",
       " '__init__',\n",
       " '__init_subclass__',\n",
       " '__iter__',\n",
       " '__le__',\n",
       " '__len__',\n",
       " '__lt__',\n",
       " '__mod__',\n",
       " '__mul__',\n",
       " '__ne__',\n",
       " '__new__',\n",
       " '__reduce__',\n",
       " '__reduce_ex__',\n",
       " '__repr__',\n",
       " '__rmod__',\n",
       " '__rmul__',\n",
       " '__setattr__',\n",
       " '__sizeof__',\n",
       " '__str__',\n",
       " '__subclasshook__',\n",
       " 'capitalize',\n",
       " 'casefold',\n",
       " 'center',\n",
       " 'count',\n",
       " 'encode',\n",
       " 'endswith',\n",
       " 'expandtabs',\n",
       " 'find',\n",
       " 'format',\n",
       " 'format_map',\n",
       " 'index',\n",
       " 'isalnum',\n",
       " 'isalpha',\n",
       " 'isascii',\n",
       " 'isdecimal',\n",
       " 'isdigit',\n",
       " 'isidentifier',\n",
       " 'islower',\n",
       " 'isnumeric',\n",
       " 'isprintable',\n",
       " 'isspace',\n",
       " 'istitle',\n",
       " 'isupper',\n",
       " 'join',\n",
       " 'ljust',\n",
       " 'lower',\n",
       " 'lstrip',\n",
       " 'maketrans',\n",
       " 'partition',\n",
       " 'removeprefix',\n",
       " 'removesuffix',\n",
       " 'replace',\n",
       " 'rfind',\n",
       " 'rindex',\n",
       " 'rjust',\n",
       " 'rpartition',\n",
       " 'rsplit',\n",
       " 'rstrip',\n",
       " 'split',\n",
       " 'splitlines',\n",
       " 'startswith',\n",
       " 'strip',\n",
       " 'swapcase',\n",
       " 'title',\n",
       " 'translate',\n",
       " 'upper',\n",
       " 'zfill']"
      ]
     },
     "execution_count": 3,
     "metadata": {},
     "output_type": "execute_result"
    }
   ],
   "source": [
    "dir(str)"
   ]
  },
  {
   "cell_type": "markdown",
   "id": "17390308-b881-4293-b748-088b2d6bf777",
   "metadata": {},
   "source": [
    "<h3>format</h3>"
   ]
  },
  {
   "cell_type": "code",
   "execution_count": 5,
   "id": "66bed535-d638-4c0d-9da6-65bed2dd66c8",
   "metadata": {},
   "outputs": [
    {
     "name": "stdout",
     "output_type": "stream",
     "text": [
      "Help on method_descriptor:\n",
      "\n",
      "format(...)\n",
      "    S.format(*args, **kwargs) -> str\n",
      "    \n",
      "    Return a formatted version of S, using substitutions from args and kwargs.\n",
      "    The substitutions are identified by braces ('{' and '}').\n",
      "\n"
     ]
    }
   ],
   "source": [
    "help(str.format)"
   ]
  },
  {
   "cell_type": "code",
   "execution_count": 6,
   "id": "ff0dd2e7-a1e1-4ea6-94af-1d97aef3668f",
   "metadata": {},
   "outputs": [
    {
     "name": "stdout",
     "output_type": "stream",
     "text": [
      "Меня зовут Константин и я учусь на 4 курсе\n"
     ]
    }
   ],
   "source": [
    "name = \"Константин\"\n",
    "course = 4\n",
    "sentence = \"Меня зовут {} и я учусь на {} курсе\".format(name, course)\n",
    "print(sentence)"
   ]
  },
  {
   "cell_type": "markdown",
   "id": "e609a3ff-341c-446f-8c6d-58c5d5b95525",
   "metadata": {},
   "source": [
    "<h3>strip</h3>"
   ]
  },
  {
   "cell_type": "code",
   "execution_count": 8,
   "id": "421a8815-a9a2-4097-8ab6-eb0e4241b34b",
   "metadata": {},
   "outputs": [
    {
     "name": "stdout",
     "output_type": "stream",
     "text": [
      "Help on method_descriptor:\n",
      "\n",
      "strip(self, chars=None, /)\n",
      "    Return a copy of the string with leading and trailing whitespace removed.\n",
      "    \n",
      "    If chars is given and not None, remove characters in chars instead.\n",
      "\n"
     ]
    }
   ],
   "source": [
    "help(str.strip)"
   ]
  },
  {
   "cell_type": "code",
   "execution_count": 9,
   "id": "bac1839c-1daa-4128-a75d-43e712cdb247",
   "metadata": {},
   "outputs": [
    {
     "name": "stdout",
     "output_type": "stream",
     "text": [
      "  Hello, World!  \n",
      "Hello, World!\n"
     ]
    }
   ],
   "source": [
    "text = \"  Hello, World!  \"\n",
    "print(text)\n",
    "print(text.strip())"
   ]
  },
  {
   "cell_type": "markdown",
   "id": "c7219e60-eaaf-453d-bda0-22a21059f5ce",
   "metadata": {},
   "source": [
    "<h3>lstrip, rstrip</h3>"
   ]
  },
  {
   "cell_type": "code",
   "execution_count": 16,
   "id": "d928cace-f36a-4fa8-a8ca-ed2438e7257a",
   "metadata": {},
   "outputs": [
    {
     "name": "stdout",
     "output_type": "stream",
     "text": [
      "Help on method_descriptor:\n",
      "\n",
      "lstrip(self, chars=None, /)\n",
      "    Return a copy of the string with leading whitespace removed.\n",
      "    \n",
      "    If chars is given and not None, remove characters in chars instead.\n",
      "\n"
     ]
    }
   ],
   "source": [
    "help(str.lstrip)"
   ]
  },
  {
   "cell_type": "code",
   "execution_count": 18,
   "id": "dca6147c-3379-4bbd-9297-64314bf172c0",
   "metadata": {},
   "outputs": [
    {
     "name": "stdout",
     "output_type": "stream",
     "text": [
      "Help on method_descriptor:\n",
      "\n",
      "rstrip(self, chars=None, /)\n",
      "    Return a copy of the string with trailing whitespace removed.\n",
      "    \n",
      "    If chars is given and not None, remove characters in chars instead.\n",
      "\n"
     ]
    }
   ],
   "source": [
    "help(str.rstrip)"
   ]
  },
  {
   "cell_type": "code",
   "execution_count": 20,
   "id": "45d8289f-07d3-4a35-b4e1-c1adb25c46cf",
   "metadata": {},
   "outputs": [
    {
     "name": "stdout",
     "output_type": "stream",
     "text": [
      "HELLO_WORLD___\n",
      "___HELLO_WORLD\n"
     ]
    }
   ],
   "source": [
    "text = \"___HELLO_WORLD___\"\n",
    "print(text.lstrip('_'))\n",
    "print(text.rstrip('_'))"
   ]
  },
  {
   "cell_type": "markdown",
   "id": "ca65c35e-f724-44f6-878f-9222c41b2853",
   "metadata": {},
   "source": [
    "<h3>capitalize</h3>"
   ]
  },
  {
   "cell_type": "code",
   "execution_count": 23,
   "id": "cc098819-c14d-4ff5-bc34-70d3f715cc6e",
   "metadata": {},
   "outputs": [
    {
     "name": "stdout",
     "output_type": "stream",
     "text": [
      "Help on method_descriptor:\n",
      "\n",
      "capitalize(self, /)\n",
      "    Return a capitalized version of the string.\n",
      "    \n",
      "    More specifically, make the first character have upper case and the rest lower\n",
      "    case.\n",
      "\n"
     ]
    }
   ],
   "source": [
    "help(str.capitalize)"
   ]
  },
  {
   "cell_type": "code",
   "execution_count": 25,
   "id": "b0b08ffc-7590-43d3-9e21-2eb13219f9eb",
   "metadata": {},
   "outputs": [
    {
     "name": "stdout",
     "output_type": "stream",
     "text": [
      "Капитализация текста\n"
     ]
    }
   ],
   "source": [
    "text = \"капИТАЛИзаЦиЯ тЕКСта\" \n",
    "print(text.capitalize())"
   ]
  },
  {
   "cell_type": "markdown",
   "id": "ee6daaf1-faa1-4a4b-99f9-83276266cb99",
   "metadata": {},
   "source": [
    "<h3>title</h3>"
   ]
  },
  {
   "cell_type": "code",
   "execution_count": 28,
   "id": "36c4beab-efcf-4db4-8cb8-ba298c878519",
   "metadata": {},
   "outputs": [
    {
     "name": "stdout",
     "output_type": "stream",
     "text": [
      "Help on method_descriptor:\n",
      "\n",
      "title(self, /)\n",
      "    Return a version of the string where each word is titlecased.\n",
      "    \n",
      "    More specifically, words start with uppercased characters and all remaining\n",
      "    cased characters have lower case.\n",
      "\n"
     ]
    }
   ],
   "source": [
    "help(str.title)"
   ]
  },
  {
   "cell_type": "code",
   "execution_count": 30,
   "id": "e0c12f97-bb1e-4067-b230-2788609c070b",
   "metadata": {},
   "outputs": [
    {
     "name": "stdout",
     "output_type": "stream",
     "text": [
      "Sevastopol State University\n"
     ]
    }
   ],
   "source": [
    "text = \"sevastopol state university\"\n",
    "print(text.title())"
   ]
  },
  {
   "cell_type": "markdown",
   "id": "58739eb5-fc6e-433d-8439-98c8800f4799",
   "metadata": {},
   "source": [
    "<h3>count</h3>"
   ]
  },
  {
   "cell_type": "code",
   "execution_count": 33,
   "id": "faa85dd4-90fe-442f-a69c-8bf665c12545",
   "metadata": {},
   "outputs": [
    {
     "name": "stdout",
     "output_type": "stream",
     "text": [
      "Help on method_descriptor:\n",
      "\n",
      "count(...)\n",
      "    S.count(sub[, start[, end]]) -> int\n",
      "    \n",
      "    Return the number of non-overlapping occurrences of substring sub in\n",
      "    string S[start:end].  Optional arguments start and end are\n",
      "    interpreted as in slice notation.\n",
      "\n"
     ]
    }
   ],
   "source": [
    "help(str.count)"
   ]
  },
  {
   "cell_type": "code",
   "execution_count": 35,
   "id": "ead3716a-78a4-4e5c-9b7e-979f71e6cef5",
   "metadata": {},
   "outputs": [
    {
     "name": "stdout",
     "output_type": "stream",
     "text": [
      "4\n"
     ]
    }
   ],
   "source": [
    "text = \"шла саша по шоссе и сосала сушку\"\n",
    "print(text.count(\"ш\"))"
   ]
  },
  {
   "cell_type": "markdown",
   "id": "62025595-06d4-4280-800c-810959fb266e",
   "metadata": {},
   "source": [
    "<h3>index</h3>"
   ]
  },
  {
   "cell_type": "code",
   "execution_count": 38,
   "id": "e04ba19b-81bc-45ff-a529-e2d0eadf2708",
   "metadata": {},
   "outputs": [
    {
     "name": "stdout",
     "output_type": "stream",
     "text": [
      "Help on method_descriptor:\n",
      "\n",
      "index(...)\n",
      "    S.index(sub[, start[, end]]) -> int\n",
      "    \n",
      "    Return the lowest index in S where substring sub is found,\n",
      "    such that sub is contained within S[start:end].  Optional\n",
      "    arguments start and end are interpreted as in slice notation.\n",
      "    \n",
      "    Raises ValueError when the substring is not found.\n",
      "\n"
     ]
    }
   ],
   "source": [
    "help(str.index)"
   ]
  },
  {
   "cell_type": "code",
   "execution_count": 40,
   "id": "b438b5e1-7a49-4cef-9b56-d4b255bf2a66",
   "metadata": {},
   "outputs": [
    {
     "name": "stdout",
     "output_type": "stream",
     "text": [
      "2\n"
     ]
    }
   ],
   "source": [
    "text = \"дикобраз\"\n",
    "print(text.index(\"кобра\"))"
   ]
  },
  {
   "cell_type": "markdown",
   "id": "0a20b49c-3c41-430a-ae97-183c43e2dbdb",
   "metadata": {},
   "source": [
    "<h3>rindex</h3>"
   ]
  },
  {
   "cell_type": "code",
   "execution_count": 43,
   "id": "e199c466-6bfb-4b21-a2d9-542539d2e76c",
   "metadata": {},
   "outputs": [
    {
     "name": "stdout",
     "output_type": "stream",
     "text": [
      "Help on method_descriptor:\n",
      "\n",
      "rindex(...)\n",
      "    S.rindex(sub[, start[, end]]) -> int\n",
      "    \n",
      "    Return the highest index in S where substring sub is found,\n",
      "    such that sub is contained within S[start:end].  Optional\n",
      "    arguments start and end are interpreted as in slice notation.\n",
      "    \n",
      "    Raises ValueError when the substring is not found.\n",
      "\n"
     ]
    }
   ],
   "source": [
    "help(str.rindex)"
   ]
  },
  {
   "cell_type": "code",
   "execution_count": 45,
   "id": "9c67b2ce-c605-4b43-a046-5c7feb219fdd",
   "metadata": {},
   "outputs": [
    {
     "name": "stdout",
     "output_type": "stream",
     "text": [
      "4\n"
     ]
    }
   ],
   "source": [
    "text = \"колокол\"\n",
    "print(text.rindex(\"ко\"))"
   ]
  },
  {
   "cell_type": "markdown",
   "id": "d62e7a8b-57f2-461a-a040-d8e71aea9b28",
   "metadata": {},
   "source": [
    "<h3>startswith</h3>"
   ]
  },
  {
   "cell_type": "code",
   "execution_count": 48,
   "id": "f4569baf-2b8a-4769-a8e3-d0fa4d4a2fcf",
   "metadata": {},
   "outputs": [
    {
     "name": "stdout",
     "output_type": "stream",
     "text": [
      "Help on method_descriptor:\n",
      "\n",
      "startswith(...)\n",
      "    S.startswith(prefix[, start[, end]]) -> bool\n",
      "    \n",
      "    Return True if S starts with the specified prefix, False otherwise.\n",
      "    With optional start, test S beginning at that position.\n",
      "    With optional end, stop comparing S at that position.\n",
      "    prefix can also be a tuple of strings to try.\n",
      "\n"
     ]
    }
   ],
   "source": [
    "help(str.startswith)"
   ]
  },
  {
   "cell_type": "code",
   "execution_count": 50,
   "id": "dee4e284-6cf9-465b-929b-7a1618a8f66a",
   "metadata": {},
   "outputs": [
    {
     "name": "stdout",
     "output_type": "stream",
     "text": [
      "True\n",
      "False\n"
     ]
    }
   ],
   "source": [
    "text = \"привет, как дела?\"\n",
    "print(text.startswith(\"привет\"))\n",
    "print(text.startswith(\"пока\"))"
   ]
  },
  {
   "cell_type": "markdown",
   "id": "e653966f-88bd-44e2-af1d-8ef61617204e",
   "metadata": {},
   "source": [
    "<h3>endswith</h3>"
   ]
  },
  {
   "cell_type": "code",
   "execution_count": 53,
   "id": "67000a6d-d293-413b-88e3-e67dee6d562e",
   "metadata": {},
   "outputs": [
    {
     "name": "stdout",
     "output_type": "stream",
     "text": [
      "Help on method_descriptor:\n",
      "\n",
      "endswith(...)\n",
      "    S.endswith(suffix[, start[, end]]) -> bool\n",
      "    \n",
      "    Return True if S ends with the specified suffix, False otherwise.\n",
      "    With optional start, test S beginning at that position.\n",
      "    With optional end, stop comparing S at that position.\n",
      "    suffix can also be a tuple of strings to try.\n",
      "\n"
     ]
    }
   ],
   "source": [
    "help(str.endswith)"
   ]
  },
  {
   "cell_type": "code",
   "execution_count": 55,
   "id": "4a29a4c8-dfea-48e4-82fb-6756a5a7084e",
   "metadata": {},
   "outputs": [
    {
     "name": "stdout",
     "output_type": "stream",
     "text": [
      "True\n",
      "False\n"
     ]
    }
   ],
   "source": [
    "text = \"привет, как дела?\"\n",
    "print(text.endswith(\"?\"))\n",
    "print(text.endswith(\"!\"))"
   ]
  },
  {
   "cell_type": "markdown",
   "id": "641ba692-63e1-4f22-82d5-d6890658e073",
   "metadata": {},
   "source": [
    "<h3>replace</h3>"
   ]
  },
  {
   "cell_type": "code",
   "execution_count": 58,
   "id": "e16cd1f6-c361-4f6b-be7b-fc2e703aa28c",
   "metadata": {},
   "outputs": [
    {
     "name": "stdout",
     "output_type": "stream",
     "text": [
      "Help on method_descriptor:\n",
      "\n",
      "replace(self, old, new, count=-1, /)\n",
      "    Return a copy with all occurrences of substring old replaced by new.\n",
      "    \n",
      "      count\n",
      "        Maximum number of occurrences to replace.\n",
      "        -1 (the default value) means replace all occurrences.\n",
      "    \n",
      "    If the optional argument count is given, only the first count occurrences are\n",
      "    replaced.\n",
      "\n"
     ]
    }
   ],
   "source": [
    "help(str.replace)"
   ]
  },
  {
   "cell_type": "code",
   "execution_count": 60,
   "id": "49fd5101-98ef-478e-aeed-1e204197fc59",
   "metadata": {},
   "outputs": [
    {
     "name": "stdout",
     "output_type": "stream",
     "text": [
      "прототипист\n"
     ]
    }
   ],
   "source": [
    "text = \"программист\"\n",
    "print(text.replace(\"грамм\", \"тотип\"))"
   ]
  },
  {
   "cell_type": "markdown",
   "id": "b474c12f-0647-4bc5-95aa-71c428469b04",
   "metadata": {},
   "source": [
    "<h3>split</h3>"
   ]
  },
  {
   "cell_type": "code",
   "execution_count": 63,
   "id": "6df08c97-8504-4bee-a908-3ff45bd8ebd1",
   "metadata": {},
   "outputs": [
    {
     "name": "stdout",
     "output_type": "stream",
     "text": [
      "Help on method_descriptor:\n",
      "\n",
      "split(self, /, sep=None, maxsplit=-1)\n",
      "    Return a list of the substrings in the string, using sep as the separator string.\n",
      "    \n",
      "      sep\n",
      "        The separator used to split the string.\n",
      "    \n",
      "        When set to None (the default value), will split on any whitespace\n",
      "        character (including \\n \\r \\t \\f and spaces) and will discard\n",
      "        empty strings from the result.\n",
      "      maxsplit\n",
      "        Maximum number of splits.\n",
      "        -1 (the default value) means no limit.\n",
      "    \n",
      "    Splitting starts at the front of the string and works to the end.\n",
      "    \n",
      "    Note, str.split() is mainly useful for data that has been intentionally\n",
      "    delimited.  With natural text that includes punctuation, consider using\n",
      "    the regular expression module.\n",
      "\n"
     ]
    }
   ],
   "source": [
    "help(str.split)"
   ]
  },
  {
   "cell_type": "code",
   "execution_count": 65,
   "id": "3ca7b745-5c1b-4854-aec9-3cdc5cf3aabf",
   "metadata": {},
   "outputs": [
    {
     "name": "stdout",
     "output_type": "stream",
     "text": [
      "['яблоко', 'банан', 'манго', 'маракуйя']\n"
     ]
    }
   ],
   "source": [
    "text = \"яблоко, банан, манго, маракуйя\"\n",
    "print(text.split(\", \"))"
   ]
  },
  {
   "cell_type": "markdown",
   "id": "8d4a5c20-afda-4830-872b-4c1612c84c61",
   "metadata": {},
   "source": [
    "<h3>rsplit</h3>"
   ]
  },
  {
   "cell_type": "code",
   "execution_count": 68,
   "id": "b1ee3edc-7b12-4a2b-953b-0a4c003405a4",
   "metadata": {},
   "outputs": [
    {
     "name": "stdout",
     "output_type": "stream",
     "text": [
      "Help on method_descriptor:\n",
      "\n",
      "rsplit(self, /, sep=None, maxsplit=-1)\n",
      "    Return a list of the substrings in the string, using sep as the separator string.\n",
      "    \n",
      "      sep\n",
      "        The separator used to split the string.\n",
      "    \n",
      "        When set to None (the default value), will split on any whitespace\n",
      "        character (including \\n \\r \\t \\f and spaces) and will discard\n",
      "        empty strings from the result.\n",
      "      maxsplit\n",
      "        Maximum number of splits.\n",
      "        -1 (the default value) means no limit.\n",
      "    \n",
      "    Splitting starts at the end of the string and works to the front.\n",
      "\n"
     ]
    }
   ],
   "source": [
    "help(str.rsplit)"
   ]
  },
  {
   "cell_type": "code",
   "execution_count": 70,
   "id": "302dd4c6-3692-49a4-921e-d571dbe7f42c",
   "metadata": {},
   "outputs": [
    {
     "name": "stdout",
     "output_type": "stream",
     "text": [
      "['яблоко', 'банан', 'манго, маракуйя']\n",
      "['яблоко, банан', 'манго', 'маракуйя']\n"
     ]
    }
   ],
   "source": [
    "text = \"яблоко, банан, манго, маракуйя\"\n",
    "print(text.split(\", \", 2))\n",
    "print(text.rsplit(\", \", 2))"
   ]
  },
  {
   "cell_type": "markdown",
   "id": "72904d21-bf4f-473c-9689-8d54440e973b",
   "metadata": {},
   "source": [
    "<h3>join</h3>"
   ]
  },
  {
   "cell_type": "code",
   "execution_count": 73,
   "id": "4a853b0d-dd56-49ac-b4c1-7c8d7a573acb",
   "metadata": {},
   "outputs": [
    {
     "name": "stdout",
     "output_type": "stream",
     "text": [
      "Help on method_descriptor:\n",
      "\n",
      "join(self, iterable, /)\n",
      "    Concatenate any number of strings.\n",
      "    \n",
      "    The string whose method is called is inserted in between each given string.\n",
      "    The result is returned as a new string.\n",
      "    \n",
      "    Example: '.'.join(['ab', 'pq', 'rs']) -> 'ab.pq.rs'\n",
      "\n"
     ]
    }
   ],
   "source": [
    "help(str.join)"
   ]
  },
  {
   "cell_type": "code",
   "execution_count": 75,
   "id": "8138991d-95a8-41ef-97d8-de9d442ca1e6",
   "metadata": {},
   "outputs": [
    {
     "name": "stdout",
     "output_type": "stream",
     "text": [
      "МиСИИ, АИС, ИСИС, ТРСПВ, ТОПК\n"
     ]
    }
   ],
   "source": [
    "words = [\"МиСИИ\", \"АИС\", \"ИСИС\", \"ТРСПВ\", \"ТОПК\"]\n",
    "print(\", \".join(words))"
   ]
  },
  {
   "cell_type": "markdown",
   "id": "940d4d89-dab0-4448-a096-92d8144c147f",
   "metadata": {},
   "source": [
    "<h3>partition</h3>"
   ]
  },
  {
   "cell_type": "code",
   "execution_count": 78,
   "id": "0fef32cc-69ba-4e63-80d7-5f0fc01c2d7f",
   "metadata": {},
   "outputs": [
    {
     "name": "stdout",
     "output_type": "stream",
     "text": [
      "Help on method_descriptor:\n",
      "\n",
      "partition(self, sep, /)\n",
      "    Partition the string into three parts using the given separator.\n",
      "    \n",
      "    This will search for the separator in the string.  If the separator is found,\n",
      "    returns a 3-tuple containing the part before the separator, the separator\n",
      "    itself, and the part after it.\n",
      "    \n",
      "    If the separator is not found, returns a 3-tuple containing the original string\n",
      "    and two empty strings.\n",
      "\n"
     ]
    }
   ],
   "source": [
    "help(str.partition)"
   ]
  },
  {
   "cell_type": "code",
   "execution_count": 80,
   "id": "f28cf181-0404-4f38-9048-c18fe7174676",
   "metadata": {},
   "outputs": [
    {
     "name": "stdout",
     "output_type": "stream",
     "text": [
      "('бедные', '-', 'несчастные')\n"
     ]
    }
   ],
   "source": [
    "text = \"бедные-несчастные\"\n",
    "print(text.partition(\"-\"))"
   ]
  },
  {
   "cell_type": "markdown",
   "id": "e3ce3388-6724-493f-93e3-56a2d55393a8",
   "metadata": {},
   "source": [
    "<h3>rpartition</h3>"
   ]
  },
  {
   "cell_type": "code",
   "execution_count": 83,
   "id": "325e7667-01e3-4c87-94e8-edb223b03190",
   "metadata": {},
   "outputs": [
    {
     "name": "stdout",
     "output_type": "stream",
     "text": [
      "Help on method_descriptor:\n",
      "\n",
      "rpartition(self, sep, /)\n",
      "    Partition the string into three parts using the given separator.\n",
      "    \n",
      "    This will search for the separator in the string, starting at the end. If\n",
      "    the separator is found, returns a 3-tuple containing the part before the\n",
      "    separator, the separator itself, and the part after it.\n",
      "    \n",
      "    If the separator is not found, returns a 3-tuple containing two empty strings\n",
      "    and the original string.\n",
      "\n"
     ]
    }
   ],
   "source": [
    "help(str.rpartition)"
   ]
  },
  {
   "cell_type": "code",
   "execution_count": 85,
   "id": "506ee019-1df8-4225-bbbf-7795d6a3cb4c",
   "metadata": {},
   "outputs": [
    {
     "name": "stdout",
     "output_type": "stream",
     "text": [
      "('Гипер-Мега-Супер', '-', 'Хорош')\n"
     ]
    }
   ],
   "source": [
    "text = \"Гипер-Мега-Супер-Хорош\"\n",
    "print(text.rpartition(\"-\"))"
   ]
  },
  {
   "cell_type": "markdown",
   "id": "c9b699f2-47a8-4dfd-95b0-594b5b3fb421",
   "metadata": {},
   "source": [
    "<h2>Задание 2 - Методы работы со строками</h2>"
   ]
  },
  {
   "cell_type": "code",
   "execution_count": 88,
   "id": "e8f8d0a5-54ec-45ee-9595-a7045b008640",
   "metadata": {},
   "outputs": [
    {
     "data": {
      "text/plain": [
       "['__add__',\n",
       " '__class__',\n",
       " '__class_getitem__',\n",
       " '__contains__',\n",
       " '__delattr__',\n",
       " '__delitem__',\n",
       " '__dir__',\n",
       " '__doc__',\n",
       " '__eq__',\n",
       " '__format__',\n",
       " '__ge__',\n",
       " '__getattribute__',\n",
       " '__getitem__',\n",
       " '__getstate__',\n",
       " '__gt__',\n",
       " '__hash__',\n",
       " '__iadd__',\n",
       " '__imul__',\n",
       " '__init__',\n",
       " '__init_subclass__',\n",
       " '__iter__',\n",
       " '__le__',\n",
       " '__len__',\n",
       " '__lt__',\n",
       " '__mul__',\n",
       " '__ne__',\n",
       " '__new__',\n",
       " '__reduce__',\n",
       " '__reduce_ex__',\n",
       " '__repr__',\n",
       " '__reversed__',\n",
       " '__rmul__',\n",
       " '__setattr__',\n",
       " '__setitem__',\n",
       " '__sizeof__',\n",
       " '__str__',\n",
       " '__subclasshook__',\n",
       " 'append',\n",
       " 'clear',\n",
       " 'copy',\n",
       " 'count',\n",
       " 'extend',\n",
       " 'index',\n",
       " 'insert',\n",
       " 'pop',\n",
       " 'remove',\n",
       " 'reverse',\n",
       " 'sort']"
      ]
     },
     "execution_count": 88,
     "metadata": {},
     "output_type": "execute_result"
    }
   ],
   "source": [
    "dir(list)"
   ]
  },
  {
   "cell_type": "markdown",
   "id": "e0fa531d-db04-404a-b6b5-e08969cafb8e",
   "metadata": {},
   "source": [
    "<h3>append</h3>"
   ]
  },
  {
   "cell_type": "code",
   "execution_count": 91,
   "id": "cea3498f-3e73-42ba-ac52-71c4d897a7a1",
   "metadata": {},
   "outputs": [
    {
     "name": "stdout",
     "output_type": "stream",
     "text": [
      "Help on method_descriptor:\n",
      "\n",
      "append(self, object, /)\n",
      "    Append object to the end of the list.\n",
      "\n"
     ]
    }
   ],
   "source": [
    "help(list.append)"
   ]
  },
  {
   "cell_type": "code",
   "execution_count": 93,
   "id": "016e2215-8d6b-4a6f-b797-281c35e31d4a",
   "metadata": {},
   "outputs": [
    {
     "name": "stdout",
     "output_type": "stream",
     "text": [
      "[1, 3, 5, 7]\n"
     ]
    }
   ],
   "source": [
    "my_list = [1, 3, 5]\n",
    "my_list.append(7)\n",
    "print(my_list)"
   ]
  },
  {
   "cell_type": "markdown",
   "id": "46a03f33-f43f-42e6-82d8-424b073c041c",
   "metadata": {},
   "source": [
    "<h3>count</h3>"
   ]
  },
  {
   "cell_type": "code",
   "execution_count": 96,
   "id": "f2a7ed56-27fe-4439-a629-3b410f89a701",
   "metadata": {},
   "outputs": [
    {
     "name": "stdout",
     "output_type": "stream",
     "text": [
      "Help on method_descriptor:\n",
      "\n",
      "count(self, value, /)\n",
      "    Return number of occurrences of value.\n",
      "\n"
     ]
    }
   ],
   "source": [
    "help(list.count)"
   ]
  },
  {
   "cell_type": "code",
   "execution_count": 98,
   "id": "c1631116-6742-455c-bcc2-6f6054d01589",
   "metadata": {},
   "outputs": [
    {
     "name": "stdout",
     "output_type": "stream",
     "text": [
      "3\n"
     ]
    }
   ],
   "source": [
    "my_list = ['один', 'два', 'три', 'два', 'два']\n",
    "print(my_list.count('два'))"
   ]
  },
  {
   "cell_type": "markdown",
   "id": "f32a6d94-9503-474a-a55f-a6fea5a27e0e",
   "metadata": {},
   "source": [
    "<h3>extend</h3>"
   ]
  },
  {
   "cell_type": "code",
   "execution_count": 101,
   "id": "786239b5-dc37-4167-ace4-26b8040bfdd6",
   "metadata": {},
   "outputs": [
    {
     "name": "stdout",
     "output_type": "stream",
     "text": [
      "Help on method_descriptor:\n",
      "\n",
      "extend(self, iterable, /)\n",
      "    Extend list by appending elements from the iterable.\n",
      "\n"
     ]
    }
   ],
   "source": [
    "help(list.extend)"
   ]
  },
  {
   "cell_type": "code",
   "execution_count": 103,
   "id": "5df71667-8be2-497b-b553-d3fe94bffb3a",
   "metadata": {},
   "outputs": [
    {
     "name": "stdout",
     "output_type": "stream",
     "text": [
      "['ноль', 'целковый', 'полушка', 'четвертушка', 'осьмушка']\n"
     ]
    }
   ],
   "source": [
    "my_list = ['ноль', 'целковый', 'полушка']\n",
    "my_list.extend(['четвертушка', 'осьмушка'])\n",
    "print(my_list)"
   ]
  },
  {
   "cell_type": "markdown",
   "id": "6a9bae0b-97c1-4f4b-8505-ae444260c8a3",
   "metadata": {},
   "source": [
    "<h3>index</h3>"
   ]
  },
  {
   "cell_type": "code",
   "execution_count": 106,
   "id": "50614bca-cdc4-41c0-a5bb-64b95f3e4d30",
   "metadata": {},
   "outputs": [
    {
     "name": "stdout",
     "output_type": "stream",
     "text": [
      "Help on method_descriptor:\n",
      "\n",
      "index(self, value, start=0, stop=9223372036854775807, /)\n",
      "    Return first index of value.\n",
      "    \n",
      "    Raises ValueError if the value is not present.\n",
      "\n"
     ]
    }
   ],
   "source": [
    "help(list.index)"
   ]
  },
  {
   "cell_type": "code",
   "execution_count": 108,
   "id": "95685c29-a70f-4263-b2dc-15531a36d419",
   "metadata": {},
   "outputs": [
    {
     "name": "stdout",
     "output_type": "stream",
     "text": [
      "2\n"
     ]
    }
   ],
   "source": [
    "my_list = [1, 2, 3, 4, 5] \n",
    "print(my_list.index(3))"
   ]
  },
  {
   "cell_type": "markdown",
   "id": "fffcf38d-0450-4377-8977-31c0623eb9cb",
   "metadata": {},
   "source": [
    "<h3>insert</h3>"
   ]
  },
  {
   "cell_type": "code",
   "execution_count": 111,
   "id": "de0f64cf-9e3a-4191-ae27-47323c51fc96",
   "metadata": {},
   "outputs": [
    {
     "name": "stdout",
     "output_type": "stream",
     "text": [
      "Help on method_descriptor:\n",
      "\n",
      "insert(self, index, object, /)\n",
      "    Insert object before index.\n",
      "\n"
     ]
    }
   ],
   "source": [
    "help(list.insert)"
   ]
  },
  {
   "cell_type": "code",
   "execution_count": 113,
   "id": "75d50dc3-d48a-4619-bba8-b9ace184ea46",
   "metadata": {},
   "outputs": [
    {
     "name": "stdout",
     "output_type": "stream",
     "text": [
      "['тираннозавр', 'трицератопс', 77, 'велоцираптор']\n"
     ]
    }
   ],
   "source": [
    "my_list = ['тираннозавр', 'трицератопс', 'велоцираптор']\n",
    "my_list.insert(2, 77)\n",
    "print(my_list)"
   ]
  },
  {
   "cell_type": "markdown",
   "id": "ddc870b5-785a-48f5-9bf4-20c53133ed47",
   "metadata": {},
   "source": [
    "<h3>pop</h3>"
   ]
  },
  {
   "cell_type": "code",
   "execution_count": 116,
   "id": "bb691f09-f0fb-4e75-82f1-011f98b299d4",
   "metadata": {},
   "outputs": [
    {
     "name": "stdout",
     "output_type": "stream",
     "text": [
      "Help on method_descriptor:\n",
      "\n",
      "pop(self, index=-1, /)\n",
      "    Remove and return item at index (default last).\n",
      "    \n",
      "    Raises IndexError if list is empty or index is out of range.\n",
      "\n"
     ]
    }
   ],
   "source": [
    "help(list.pop)"
   ]
  },
  {
   "cell_type": "code",
   "execution_count": 118,
   "id": "9600fd04-5936-470e-9bb1-7aed72ecdf1b",
   "metadata": {},
   "outputs": [
    {
     "name": "stdout",
     "output_type": "stream",
     "text": [
      "ВКР\n",
      "['АИС', 'МиСИИ', 'ТОПК']\n"
     ]
    }
   ],
   "source": [
    "my_list = ['АИС', 'МиСИИ', 'ВКР', 'ТОПК'] \n",
    "print(my_list.pop(2))\n",
    "print(my_list)"
   ]
  },
  {
   "cell_type": "markdown",
   "id": "80888816-f70b-4d0f-9ae5-c4d821166c4f",
   "metadata": {},
   "source": [
    "<h3>remove</h3>"
   ]
  },
  {
   "cell_type": "code",
   "execution_count": 121,
   "id": "0fb4f605-4d08-4e3a-b310-a2689aee9a60",
   "metadata": {},
   "outputs": [
    {
     "name": "stdout",
     "output_type": "stream",
     "text": [
      "Help on method_descriptor:\n",
      "\n",
      "remove(self, value, /)\n",
      "    Remove first occurrence of value.\n",
      "    \n",
      "    Raises ValueError if the value is not present.\n",
      "\n"
     ]
    }
   ],
   "source": [
    "help(list.remove)"
   ]
  },
  {
   "cell_type": "code",
   "execution_count": 123,
   "id": "d431b909-8307-4f2f-a267-c9ae2842d7f1",
   "metadata": {},
   "outputs": [
    {
     "name": "stdout",
     "output_type": "stream",
     "text": [
      "['АИС', 'МиСИИ', 'ТОПК']\n"
     ]
    }
   ],
   "source": [
    "my_list = ['АИС', 'МиСИИ', 'ВКР', 'ТОПК'] \n",
    "my_list.remove('ВКР')\n",
    "print(my_list)"
   ]
  },
  {
   "cell_type": "markdown",
   "id": "48ea640e-25ce-47b0-be4a-59b93db27d62",
   "metadata": {},
   "source": [
    "<h3>reverse</h3>"
   ]
  },
  {
   "cell_type": "code",
   "execution_count": 126,
   "id": "4ff4d5ae-141d-437c-84ea-9be736985614",
   "metadata": {},
   "outputs": [
    {
     "name": "stdout",
     "output_type": "stream",
     "text": [
      "Help on method_descriptor:\n",
      "\n",
      "reverse(self, /)\n",
      "    Reverse *IN PLACE*.\n",
      "\n"
     ]
    }
   ],
   "source": [
    "help(list.reverse)"
   ]
  },
  {
   "cell_type": "code",
   "execution_count": 128,
   "id": "c96a68ae-7321-49f2-98cc-e9dd15af17e5",
   "metadata": {},
   "outputs": [
    {
     "name": "stdout",
     "output_type": "stream",
     "text": [
      "['Печь', 'Рассвет', 'Семнадцать', 'Ржавый', 'Желание']\n"
     ]
    }
   ],
   "source": [
    "my_list = ['Желание', 'Ржавый', 'Семнадцать', 'Рассвет', 'Печь']\n",
    "my_list.reverse()\n",
    "print(my_list)"
   ]
  },
  {
   "cell_type": "markdown",
   "id": "ee5d46d1-1442-436c-9a6a-724245322b16",
   "metadata": {},
   "source": [
    "<h3>sort</h3>"
   ]
  },
  {
   "cell_type": "code",
   "execution_count": 131,
   "id": "ceff57a3-45ce-4d22-97b9-2f79e0d30f9d",
   "metadata": {},
   "outputs": [
    {
     "name": "stdout",
     "output_type": "stream",
     "text": [
      "Help on method_descriptor:\n",
      "\n",
      "sort(self, /, *, key=None, reverse=False)\n",
      "    Sort the list in ascending order and return None.\n",
      "    \n",
      "    The sort is in-place (i.e. the list itself is modified) and stable (i.e. the\n",
      "    order of two equal elements is maintained).\n",
      "    \n",
      "    If a key function is given, apply it once to each list item and sort them,\n",
      "    ascending or descending, according to their function values.\n",
      "    \n",
      "    The reverse flag can be set to sort in descending order.\n",
      "\n"
     ]
    }
   ],
   "source": [
    "help(list.sort)"
   ]
  },
  {
   "cell_type": "code",
   "execution_count": 133,
   "id": "4203706f-9623-41ec-9613-826d92034c3d",
   "metadata": {},
   "outputs": [
    {
     "name": "stdout",
     "output_type": "stream",
     "text": [
      "['E', 'H', 'L', 'L', 'O']\n",
      "['O', 'L', 'L', 'H', 'E']\n"
     ]
    }
   ],
   "source": [
    "my_list = ['H', 'E', 'L', 'L', 'O']\n",
    "\n",
    "my_list.sort()\n",
    "print(my_list)\n",
    "\n",
    "my_list.sort(reverse=True)\n",
    "print(my_list)"
   ]
  },
  {
   "cell_type": "markdown",
   "id": "89aa9565-9e8a-4350-bf3a-01490a16e22a",
   "metadata": {
    "jp-MarkdownHeadingCollapsed": true
   },
   "source": [
    "<h2>Задание 3 - Методы работы со словарями</h2>"
   ]
  },
  {
   "cell_type": "code",
   "execution_count": 136,
   "id": "d9f00257-9865-41fe-a8f2-5cef9b32b5c6",
   "metadata": {},
   "outputs": [
    {
     "data": {
      "text/plain": [
       "['__class__',\n",
       " '__class_getitem__',\n",
       " '__contains__',\n",
       " '__delattr__',\n",
       " '__delitem__',\n",
       " '__dir__',\n",
       " '__doc__',\n",
       " '__eq__',\n",
       " '__format__',\n",
       " '__ge__',\n",
       " '__getattribute__',\n",
       " '__getitem__',\n",
       " '__getstate__',\n",
       " '__gt__',\n",
       " '__hash__',\n",
       " '__init__',\n",
       " '__init_subclass__',\n",
       " '__ior__',\n",
       " '__iter__',\n",
       " '__le__',\n",
       " '__len__',\n",
       " '__lt__',\n",
       " '__ne__',\n",
       " '__new__',\n",
       " '__or__',\n",
       " '__reduce__',\n",
       " '__reduce_ex__',\n",
       " '__repr__',\n",
       " '__reversed__',\n",
       " '__ror__',\n",
       " '__setattr__',\n",
       " '__setitem__',\n",
       " '__sizeof__',\n",
       " '__str__',\n",
       " '__subclasshook__',\n",
       " 'clear',\n",
       " 'copy',\n",
       " 'fromkeys',\n",
       " 'get',\n",
       " 'items',\n",
       " 'keys',\n",
       " 'pop',\n",
       " 'popitem',\n",
       " 'setdefault',\n",
       " 'update',\n",
       " 'values']"
      ]
     },
     "execution_count": 136,
     "metadata": {},
     "output_type": "execute_result"
    }
   ],
   "source": [
    "dir(dict)"
   ]
  },
  {
   "cell_type": "markdown",
   "id": "a66ff1c1-46c0-49f3-b1d3-3206f6935610",
   "metadata": {},
   "source": [
    "<h3>clear</h3>"
   ]
  },
  {
   "cell_type": "code",
   "execution_count": 139,
   "id": "8135f2dc-be8a-4b0a-8bd7-15ecca7c2793",
   "metadata": {},
   "outputs": [
    {
     "name": "stdout",
     "output_type": "stream",
     "text": [
      "Help on method_descriptor:\n",
      "\n",
      "clear(...)\n",
      "    D.clear() -> None.  Remove all items from D.\n",
      "\n"
     ]
    }
   ],
   "source": [
    "help(dict.clear)"
   ]
  },
  {
   "cell_type": "code",
   "execution_count": 141,
   "id": "2135e7a5-efe5-4d6e-846f-09c02b6ba5bc",
   "metadata": {},
   "outputs": [
    {
     "name": "stdout",
     "output_type": "stream",
     "text": [
      "{}\n"
     ]
    }
   ],
   "source": [
    "my_dict = {1: 'красный', 2: 'жёлтый', 3: 'синий'}\n",
    "my_dict.clear()\n",
    "print(my_dict)"
   ]
  },
  {
   "cell_type": "markdown",
   "id": "96d6f459-c252-43f9-ba88-3f7c5e621447",
   "metadata": {},
   "source": [
    "<h3>copy</h3>"
   ]
  },
  {
   "cell_type": "code",
   "execution_count": 144,
   "id": "87bb7b27-cdf1-483b-9771-b0f6ef6e1b2a",
   "metadata": {},
   "outputs": [
    {
     "name": "stdout",
     "output_type": "stream",
     "text": [
      "Help on method_descriptor:\n",
      "\n",
      "copy(...)\n",
      "    D.copy() -> a shallow copy of D\n",
      "\n"
     ]
    }
   ],
   "source": [
    "help(dict.copy)"
   ]
  },
  {
   "cell_type": "code",
   "execution_count": 146,
   "id": "ee98ff89-1f4f-4550-94b9-f4fcb6d68f92",
   "metadata": {},
   "outputs": [
    {
     "name": "stdout",
     "output_type": "stream",
     "text": [
      "Оригинальный словарь - {1: 'красный', 2: 'жёлтый', 3: 'синий'}\n",
      "Изменённая копия - {1: 'красный', 2: 'зелёный', 3: 'синий'}\n"
     ]
    }
   ],
   "source": [
    "my_dict = {1: 'красный', 2: 'жёлтый', 3: 'синий'}\n",
    "new_dict = my_dict.copy()\n",
    "new_dict[2] = 'зелёный'\n",
    "print('Оригинальный словарь -', my_dict)\n",
    "print('Изменённая копия -', new_dict)"
   ]
  },
  {
   "cell_type": "markdown",
   "id": "9056476b-a8e5-4372-b862-f47647a0a873",
   "metadata": {},
   "source": [
    "<h3>fromkeys</h3>"
   ]
  },
  {
   "cell_type": "code",
   "execution_count": 149,
   "id": "f10aa394-a7ab-4a53-b53d-871d3f202aa0",
   "metadata": {},
   "outputs": [
    {
     "name": "stdout",
     "output_type": "stream",
     "text": [
      "Help on built-in function fromkeys:\n",
      "\n",
      "fromkeys(iterable, value=None, /) method of builtins.type instance\n",
      "    Create a new dictionary with keys from iterable and values set to value.\n",
      "\n"
     ]
    }
   ],
   "source": [
    "help(dict.fromkeys)"
   ]
  },
  {
   "cell_type": "code",
   "execution_count": 151,
   "id": "9ccee57e-c691-40d5-9cfe-374825142bea",
   "metadata": {},
   "outputs": [
    {
     "name": "stdout",
     "output_type": "stream",
     "text": [
      "{1: 'не установлено', 2: 'не установлено', 3: 'не установлено'}\n"
     ]
    }
   ],
   "source": [
    "keys = [1, 2, 3]\n",
    "new_dict = dict.fromkeys(keys, 'не установлено')\n",
    "print(new_dict)"
   ]
  },
  {
   "cell_type": "markdown",
   "id": "1ece4f54-46c5-4fa1-bc8a-950cbda05f98",
   "metadata": {},
   "source": [
    "<h3>get</h3>"
   ]
  },
  {
   "cell_type": "code",
   "execution_count": 154,
   "id": "24de0b36-5fe0-4356-a7f3-66a006d4a4a1",
   "metadata": {},
   "outputs": [
    {
     "name": "stdout",
     "output_type": "stream",
     "text": [
      "Help on method_descriptor:\n",
      "\n",
      "get(self, key, default=None, /)\n",
      "    Return the value for key if key is in the dictionary, else default.\n",
      "\n"
     ]
    }
   ],
   "source": [
    "help(dict.get)"
   ]
  },
  {
   "cell_type": "code",
   "execution_count": 156,
   "id": "dd139842-dc84-48f3-9c42-3be4bd4f7d29",
   "metadata": {},
   "outputs": [
    {
     "name": "stdout",
     "output_type": "stream",
     "text": [
      "красный\n",
      "не найдено\n"
     ]
    }
   ],
   "source": [
    "my_dict = {1: 'красный', 2: 'жёлтый', 3: 'синий'} \n",
    "print(my_dict.get(1, 'не найдено'))\n",
    "print(my_dict.get(0, 'не найдено'))"
   ]
  },
  {
   "cell_type": "markdown",
   "id": "b106c5b1-3e87-4f7e-8049-85b92122c39f",
   "metadata": {},
   "source": [
    "<h3>items</h3>"
   ]
  },
  {
   "cell_type": "code",
   "execution_count": 159,
   "id": "7f481f6b-48e1-40e7-90cb-a664b6e32947",
   "metadata": {},
   "outputs": [
    {
     "name": "stdout",
     "output_type": "stream",
     "text": [
      "Help on method_descriptor:\n",
      "\n",
      "items(...)\n",
      "    D.items() -> a set-like object providing a view on D's items\n",
      "\n"
     ]
    }
   ],
   "source": [
    "help(dict.items)"
   ]
  },
  {
   "cell_type": "code",
   "execution_count": 161,
   "id": "267f1e02-fb14-44b3-aaf3-664249809e37",
   "metadata": {},
   "outputs": [
    {
     "name": "stdout",
     "output_type": "stream",
     "text": [
      "1 красный\n",
      "2 жёлтый\n",
      "3 синий\n"
     ]
    }
   ],
   "source": [
    "my_dict = {1: 'красный', 2: 'жёлтый', 3: 'синий'} \n",
    "for key, value in my_dict.items():\n",
    "    print(key, value)"
   ]
  },
  {
   "cell_type": "markdown",
   "id": "da6dd5a3-c46d-44cb-bb8f-9c39c0fe7b9d",
   "metadata": {},
   "source": [
    "<h3>keys</h3>"
   ]
  },
  {
   "cell_type": "code",
   "execution_count": 164,
   "id": "e2f27567-f33a-47b1-8c24-6943725a1043",
   "metadata": {},
   "outputs": [
    {
     "name": "stdout",
     "output_type": "stream",
     "text": [
      "Help on method_descriptor:\n",
      "\n",
      "keys(...)\n",
      "    D.keys() -> a set-like object providing a view on D's keys\n",
      "\n"
     ]
    }
   ],
   "source": [
    "help(dict.keys)"
   ]
  },
  {
   "cell_type": "code",
   "execution_count": 166,
   "id": "49d9e2ec-354c-4675-a887-6514c069118a",
   "metadata": {},
   "outputs": [
    {
     "name": "stdout",
     "output_type": "stream",
     "text": [
      "1\n",
      "2\n",
      "3\n"
     ]
    }
   ],
   "source": [
    "my_dict = {1: 'красный', 2: 'жёлтый', 3: 'синий'} \n",
    "for key in my_dict.keys():\n",
    "    print(key)"
   ]
  },
  {
   "cell_type": "markdown",
   "id": "0abdeb58-0303-469a-9a15-376b7fdd5d84",
   "metadata": {},
   "source": [
    "<h3>pop</h3>"
   ]
  },
  {
   "cell_type": "code",
   "execution_count": 169,
   "id": "a3876f6e-9c8c-4539-90c6-77c3f2ee5d1a",
   "metadata": {},
   "outputs": [
    {
     "name": "stdout",
     "output_type": "stream",
     "text": [
      "Help on method_descriptor:\n",
      "\n",
      "pop(...)\n",
      "    D.pop(k[,d]) -> v, remove specified key and return the corresponding value.\n",
      "    \n",
      "    If the key is not found, return the default if given; otherwise,\n",
      "    raise a KeyError.\n",
      "\n"
     ]
    }
   ],
   "source": [
    "help(dict.pop)"
   ]
  },
  {
   "cell_type": "code",
   "execution_count": 171,
   "id": "aa6b534d-e59d-40b7-82a6-04b0cfc3a923",
   "metadata": {},
   "outputs": [
    {
     "name": "stdout",
     "output_type": "stream",
     "text": [
      "жёлтый\n",
      "нет ключа\n",
      "{1: 'красный', 3: 'синий'}\n"
     ]
    }
   ],
   "source": [
    "my_dict = {1: 'красный', 2: 'жёлтый', 3: 'синий'} \n",
    "print(my_dict.pop(2, 'нет ключа'))\n",
    "print(my_dict.pop(0, 'нет ключа'))\n",
    "print(my_dict)"
   ]
  },
  {
   "cell_type": "markdown",
   "id": "c0a432f5-38ed-4836-af59-1463fe70a64b",
   "metadata": {},
   "source": [
    "<h3>popitem</h3>"
   ]
  },
  {
   "cell_type": "code",
   "execution_count": 174,
   "id": "e5cd058c-9553-419f-8fa2-bb39057c1e98",
   "metadata": {},
   "outputs": [
    {
     "name": "stdout",
     "output_type": "stream",
     "text": [
      "Help on method_descriptor:\n",
      "\n",
      "popitem(self, /)\n",
      "    Remove and return a (key, value) pair as a 2-tuple.\n",
      "    \n",
      "    Pairs are returned in LIFO (last-in, first-out) order.\n",
      "    Raises KeyError if the dict is empty.\n",
      "\n"
     ]
    }
   ],
   "source": [
    "help(dict.popitem)"
   ]
  },
  {
   "cell_type": "code",
   "execution_count": 176,
   "id": "9924e1c5-8921-48d5-90f6-9f828c744faf",
   "metadata": {},
   "outputs": [
    {
     "name": "stdout",
     "output_type": "stream",
     "text": [
      "(3, 'синий')\n",
      "{1: 'красный', 2: 'жёлтый'}\n"
     ]
    }
   ],
   "source": [
    "my_dict = {1: 'красный', 2: 'жёлтый', 3: 'синий'} \n",
    "print(my_dict.popitem())\n",
    "print(my_dict)"
   ]
  },
  {
   "cell_type": "markdown",
   "id": "004209b3-fc07-4d16-940c-224455dec86c",
   "metadata": {},
   "source": [
    "<h3>setdefault</h3>"
   ]
  },
  {
   "cell_type": "code",
   "execution_count": 179,
   "id": "2d187480-31ee-4351-a0e1-639638cfd20d",
   "metadata": {},
   "outputs": [
    {
     "name": "stdout",
     "output_type": "stream",
     "text": [
      "Help on method_descriptor:\n",
      "\n",
      "setdefault(self, key, default=None, /)\n",
      "    Insert key with a value of default if key is not in the dictionary.\n",
      "    \n",
      "    Return the value for key if key is in the dictionary, else default.\n",
      "\n"
     ]
    }
   ],
   "source": [
    "help(dict.setdefault)"
   ]
  },
  {
   "cell_type": "code",
   "execution_count": 181,
   "id": "e8efade0-03a9-4592-9b54-7216f232fc25",
   "metadata": {},
   "outputs": [
    {
     "name": "stdout",
     "output_type": "stream",
     "text": [
      "зелёный\n",
      "жёлтый\n",
      "{1: 'красный', 2: 'жёлтый', 3: 'синий', 4: 'зелёный'}\n"
     ]
    }
   ],
   "source": [
    "my_dict = {1: 'красный', 2: 'жёлтый', 3: 'синий'} \n",
    "print(my_dict.setdefault(4, 'зелёный'))\n",
    "print(my_dict.setdefault(2, 'розовый'))\n",
    "print(my_dict)"
   ]
  },
  {
   "cell_type": "markdown",
   "id": "3522138a-9c34-424f-881b-72294bbd696b",
   "metadata": {},
   "source": [
    "<h3>update</h3>"
   ]
  },
  {
   "cell_type": "code",
   "execution_count": 184,
   "id": "74a24df2-bf3a-438e-9a14-4e6115fefeef",
   "metadata": {},
   "outputs": [
    {
     "name": "stdout",
     "output_type": "stream",
     "text": [
      "Help on method_descriptor:\n",
      "\n",
      "update(...)\n",
      "    D.update([E, ]**F) -> None.  Update D from dict/iterable E and F.\n",
      "    If E is present and has a .keys() method, then does:  for k in E: D[k] = E[k]\n",
      "    If E is present and lacks a .keys() method, then does:  for k, v in E: D[k] = v\n",
      "    In either case, this is followed by: for k in F:  D[k] = F[k]\n",
      "\n"
     ]
    }
   ],
   "source": [
    "help(dict.update)"
   ]
  },
  {
   "cell_type": "code",
   "execution_count": 186,
   "id": "82e89bee-5785-4f63-a1b9-e2ed57ea17b8",
   "metadata": {},
   "outputs": [
    {
     "name": "stdout",
     "output_type": "stream",
     "text": [
      "{1: 'красный', 2: 'жёлтый', 3: 'синий', 0: 'чёрный', 10: 'белый'}\n"
     ]
    }
   ],
   "source": [
    "my_dict = {1: 'красный', 2: 'жёлтый', 3: 'синий'} \n",
    "my_dict.update({0: 'чёрный', 10: 'белый'})\n",
    "print(my_dict)"
   ]
  },
  {
   "cell_type": "markdown",
   "id": "681d49d0-05f3-4d61-8b53-daa42e41a300",
   "metadata": {},
   "source": [
    "<h3>values</h3>"
   ]
  },
  {
   "cell_type": "code",
   "execution_count": 189,
   "id": "0f3aba8c-3884-4953-9622-dcd783a87354",
   "metadata": {},
   "outputs": [
    {
     "name": "stdout",
     "output_type": "stream",
     "text": [
      "Help on method_descriptor:\n",
      "\n",
      "values(...)\n",
      "    D.values() -> an object providing a view on D's values\n",
      "\n"
     ]
    }
   ],
   "source": [
    "help(dict.values)"
   ]
  },
  {
   "cell_type": "code",
   "execution_count": 191,
   "id": "e518ffeb-615e-452a-a311-43145339f3d9",
   "metadata": {},
   "outputs": [
    {
     "name": "stdout",
     "output_type": "stream",
     "text": [
      "красный\n",
      "жёлтый\n",
      "синий\n"
     ]
    }
   ],
   "source": [
    "my_dict = {1: 'красный', 2: 'жёлтый', 3: 'синий'} \n",
    "for value in my_dict.values():\n",
    "    print(value)"
   ]
  },
  {
   "cell_type": "markdown",
   "id": "7f6bb15d-25d5-4555-b9cc-ae59c96d3fbb",
   "metadata": {
    "jp-MarkdownHeadingCollapsed": true
   },
   "source": [
    "<h2>Задание 4 - Списковое включение</h2>"
   ]
  },
  {
   "cell_type": "code",
   "execution_count": 14,
   "id": "670b11ad-8afc-408f-997c-6e20ea281071",
   "metadata": {},
   "outputs": [
    {
     "name": "stdout",
     "output_type": "stream",
     "text": [
      "['some string', 'artificial intelligence']\n"
     ]
    }
   ],
   "source": [
    "strings = ['Some String', 'Art', 'Music', 'Artificial Intelligence']\n",
    "print([x.lower() for x in strings if len(x) > 5])"
   ]
  },
  {
   "cell_type": "code",
   "execution_count": 2,
   "id": "12e9406b-afd3-4085-a63b-3123d73ee111",
   "metadata": {},
   "outputs": [
    {
     "name": "stdout",
     "output_type": "stream",
     "text": [
      "['some string', 'artificial intelligence']\n"
     ]
    }
   ],
   "source": [
    "%run LAB_1/listcomp2.py"
   ]
  },
  {
   "cell_type": "markdown",
   "id": "4aacbbf4-831c-44ac-91ec-1e2ac5be0079",
   "metadata": {
    "jp-MarkdownHeadingCollapsed": true
   },
   "source": [
    "<h2>Задание 5 - Быстрая сортировка</h2>"
   ]
  },
  {
   "cell_type": "code",
   "execution_count": 3,
   "id": "8a98e728-3671-4f08-922e-64730b0a12bd",
   "metadata": {},
   "outputs": [
    {
     "name": "stdout",
     "output_type": "stream",
     "text": [
      "[1, 2, 4, 5]\n"
     ]
    }
   ],
   "source": [
    "def quickSort(lst):\n",
    "    if len(lst) <= 1:\n",
    "        return lst\n",
    "    left = [x for x in lst[1:] if x < lst[0]]\n",
    "    right = [x for x in lst[1:] if x >= lst[0]]\n",
    "    return quickSort(left) + [lst[0]] + quickSort(right)\n",
    "\n",
    "\n",
    "lst = [2, 4, 5, 1]\n",
    "print(quickSort(lst))"
   ]
  },
  {
   "cell_type": "code",
   "execution_count": 5,
   "id": "1b7f486c-8891-4b22-90e8-9e6e2cf2bf48",
   "metadata": {},
   "outputs": [
    {
     "name": "stdout",
     "output_type": "stream",
     "text": [
      "[1, 2, 4, 5]\n"
     ]
    }
   ],
   "source": [
    "%run LAB_1/quickSort.py"
   ]
  }
 ],
 "metadata": {
  "kernelspec": {
   "display_name": "Python 3 (ipykernel)",
   "language": "python",
   "name": "python3"
  },
  "language_info": {
   "codemirror_mode": {
    "name": "ipython",
    "version": 3
   },
   "file_extension": ".py",
   "mimetype": "text/x-python",
   "name": "python",
   "nbconvert_exporter": "python",
   "pygments_lexer": "ipython3",
   "version": "3.11.8"
  }
 },
 "nbformat": 4,
 "nbformat_minor": 5
}
